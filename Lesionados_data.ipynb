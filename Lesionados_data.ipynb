{
 "cells": [
  {
   "cell_type": "code",
   "execution_count": 42,
   "metadata": {},
   "outputs": [],
   "source": [
    "import pandas as pd \n",
    "import seaborn as sb \n",
    "import numpy as np \n",
    "import matplotlib.pyplot as plt \n",
    "import requests\n",
    "%matplotlib inline"
   ]
  },
  {
   "cell_type": "code",
   "execution_count": 43,
   "metadata": {},
   "outputs": [
    {
     "name": "stdout",
     "output_type": "stream",
     "text": [
      "Datos obtenidos exitosamente\n"
     ]
    }
   ],
   "source": [
    "# URL de la API\n",
    "url = \"https://sig.simur.gov.co/arcgis/rest/services/Accidentalidad/AccidentalidadAnalisis/FeatureServer/1/query?where=1%3D1&outFields=*&outSR=4326&f=json\"\n",
    "\n",
    "# Hacer la solicitud GET\n",
    "response = requests.get(url)\n",
    "\n",
    "# Verificar si la solicitud fue exitosa\n",
    "if response.status_code == 200:\n",
    "    # Convertir la respuesta a JSON\n",
    "    data = response.json()\n",
    "    print(\"Datos obtenidos exitosamente\")"
   ]
  },
  {
   "cell_type": "code",
   "execution_count": 44,
   "metadata": {},
   "outputs": [],
   "source": [
    "features = data.get('features', [])  # Obtener la lista de features\n",
    "rows = []  # Lista para almacenar los datos\n",
    "\n",
    "# Recorrer cada feature y extraer los atributos\n",
    "for feature in features:\n",
    "    attributes = feature.get('attributes', {})  # Obtener el diccionario de atributos\n",
    "    rows.append(attributes)  # Agregar los atributos a la lista"
   ]
  },
  {
   "cell_type": "code",
   "execution_count": 45,
   "metadata": {},
   "outputs": [
    {
     "data": {
      "text/html": [
       "<div>\n",
       "<style scoped>\n",
       "    .dataframe tbody tr th:only-of-type {\n",
       "        vertical-align: middle;\n",
       "    }\n",
       "\n",
       "    .dataframe tbody tr th {\n",
       "        vertical-align: top;\n",
       "    }\n",
       "\n",
       "    .dataframe thead th {\n",
       "        text-align: right;\n",
       "    }\n",
       "</style>\n",
       "<table border=\"1\" class=\"dataframe\">\n",
       "  <thead>\n",
       "    <tr style=\"text-align: right;\">\n",
       "      <th></th>\n",
       "      <th>OBJECTID</th>\n",
       "      <th>CODIGO_ACCIDENTADO</th>\n",
       "      <th>FORMULARIO</th>\n",
       "      <th>FECHA_OCURRENCIA_ACC</th>\n",
       "      <th>HORA_OCURRENCIA_ACC</th>\n",
       "      <th>ANO_OCURRENCIA_ACC</th>\n",
       "      <th>MES_OCURRENCIA_ACC</th>\n",
       "      <th>DIA_OCURRENCIA_ACC</th>\n",
       "      <th>FECHA_HORA_ACC</th>\n",
       "      <th>DIRECCION</th>\n",
       "      <th>CLASE_ACC</th>\n",
       "      <th>LOCALIDAD</th>\n",
       "      <th>CODIGO_VEHICULO</th>\n",
       "      <th>CONDICION</th>\n",
       "      <th>GENERO</th>\n",
       "      <th>EDAD</th>\n",
       "      <th>CONDICION_A</th>\n",
       "    </tr>\n",
       "  </thead>\n",
       "  <tbody>\n",
       "    <tr>\n",
       "      <th>0</th>\n",
       "      <td>1681468</td>\n",
       "      <td>12905655</td>\n",
       "      <td>A001677559</td>\n",
       "      <td>1725253200000</td>\n",
       "      <td>23:05:00</td>\n",
       "      <td>2024.0</td>\n",
       "      <td>SEPTIEMBRE</td>\n",
       "      <td>LUNES</td>\n",
       "      <td>1725336300000</td>\n",
       "      <td>CL 6 - KR 27  02</td>\n",
       "      <td>CHOQUE</td>\n",
       "      <td>LOS MARTIRES</td>\n",
       "      <td>2.0</td>\n",
       "      <td>MOTOCICLISTA</td>\n",
       "      <td>MASCULINO</td>\n",
       "      <td>33.0</td>\n",
       "      <td>MOTOCICLISTA</td>\n",
       "    </tr>\n",
       "    <tr>\n",
       "      <th>1</th>\n",
       "      <td>1681469</td>\n",
       "      <td>12905658</td>\n",
       "      <td>A001677559</td>\n",
       "      <td>1725253200000</td>\n",
       "      <td>23:05:00</td>\n",
       "      <td>2024.0</td>\n",
       "      <td>SEPTIEMBRE</td>\n",
       "      <td>LUNES</td>\n",
       "      <td>1725336300000</td>\n",
       "      <td>CL 6 - KR 27  02</td>\n",
       "      <td>CHOQUE</td>\n",
       "      <td>LOS MARTIRES</td>\n",
       "      <td>2.0</td>\n",
       "      <td>PASAJERO</td>\n",
       "      <td>MASCULINO</td>\n",
       "      <td>33.0</td>\n",
       "      <td>MOTOCICLISTA</td>\n",
       "    </tr>\n",
       "    <tr>\n",
       "      <th>2</th>\n",
       "      <td>1697696</td>\n",
       "      <td>12907702</td>\n",
       "      <td>A001678224</td>\n",
       "      <td>1727067600000</td>\n",
       "      <td>07:50:00</td>\n",
       "      <td>2024.0</td>\n",
       "      <td>SEPTIEMBRE</td>\n",
       "      <td>LUNES</td>\n",
       "      <td>1727095800000</td>\n",
       "      <td>KR 3 E- CL 22 BIS S 02</td>\n",
       "      <td>ATROPELLO</td>\n",
       "      <td>SAN CRISTOBAL</td>\n",
       "      <td>NaN</td>\n",
       "      <td>PEATON</td>\n",
       "      <td>FEMENINO</td>\n",
       "      <td>67.0</td>\n",
       "      <td>PEATON</td>\n",
       "    </tr>\n",
       "    <tr>\n",
       "      <th>3</th>\n",
       "      <td>98139</td>\n",
       "      <td>24887</td>\n",
       "      <td>833879800</td>\n",
       "      <td>1201755600000</td>\n",
       "      <td>09:30:00</td>\n",
       "      <td>2008.0</td>\n",
       "      <td>ENERO</td>\n",
       "      <td>JUEVES</td>\n",
       "      <td>1201789800000</td>\n",
       "      <td>KR 97-18 2</td>\n",
       "      <td>VOLCAMIENTO</td>\n",
       "      <td>FONTIBON</td>\n",
       "      <td>1.0</td>\n",
       "      <td>MOTOCICLISTA</td>\n",
       "      <td>MASCULINO</td>\n",
       "      <td>43.0</td>\n",
       "      <td>MOTOCICLISTA</td>\n",
       "    </tr>\n",
       "    <tr>\n",
       "      <th>4</th>\n",
       "      <td>1225208</td>\n",
       "      <td>2315877</td>\n",
       "      <td>A1247721</td>\n",
       "      <td>1362546000000</td>\n",
       "      <td>15:45:00</td>\n",
       "      <td>2013.0</td>\n",
       "      <td>MARZO</td>\n",
       "      <td>MIERCOLES</td>\n",
       "      <td>1362602700000</td>\n",
       "      <td>KR 88D-CL36 S 02</td>\n",
       "      <td>CHOQUE</td>\n",
       "      <td>KENNEDY</td>\n",
       "      <td>2.0</td>\n",
       "      <td>CONDUCTOR</td>\n",
       "      <td>MASCULINO</td>\n",
       "      <td>14.0</td>\n",
       "      <td>CONDUCTOR</td>\n",
       "    </tr>\n",
       "  </tbody>\n",
       "</table>\n",
       "</div>"
      ],
      "text/plain": [
       "   OBJECTID CODIGO_ACCIDENTADO  FORMULARIO  FECHA_OCURRENCIA_ACC  \\\n",
       "0   1681468           12905655  A001677559         1725253200000   \n",
       "1   1681469           12905658  A001677559         1725253200000   \n",
       "2   1697696           12907702  A001678224         1727067600000   \n",
       "3     98139              24887   833879800         1201755600000   \n",
       "4   1225208            2315877    A1247721         1362546000000   \n",
       "\n",
       "  HORA_OCURRENCIA_ACC  ANO_OCURRENCIA_ACC MES_OCURRENCIA_ACC  \\\n",
       "0            23:05:00              2024.0         SEPTIEMBRE   \n",
       "1            23:05:00              2024.0         SEPTIEMBRE   \n",
       "2            07:50:00              2024.0         SEPTIEMBRE   \n",
       "3            09:30:00              2008.0              ENERO   \n",
       "4            15:45:00              2013.0              MARZO   \n",
       "\n",
       "  DIA_OCURRENCIA_ACC  FECHA_HORA_ACC               DIRECCION    CLASE_ACC  \\\n",
       "0              LUNES   1725336300000        CL 6 - KR 27  02       CHOQUE   \n",
       "1              LUNES   1725336300000        CL 6 - KR 27  02       CHOQUE   \n",
       "2              LUNES   1727095800000  KR 3 E- CL 22 BIS S 02    ATROPELLO   \n",
       "3             JUEVES   1201789800000              KR 97-18 2  VOLCAMIENTO   \n",
       "4          MIERCOLES   1362602700000        KR 88D-CL36 S 02       CHOQUE   \n",
       "\n",
       "       LOCALIDAD  CODIGO_VEHICULO     CONDICION     GENERO  EDAD   CONDICION_A  \n",
       "0   LOS MARTIRES              2.0  MOTOCICLISTA  MASCULINO  33.0  MOTOCICLISTA  \n",
       "1   LOS MARTIRES              2.0      PASAJERO  MASCULINO  33.0  MOTOCICLISTA  \n",
       "2  SAN CRISTOBAL              NaN        PEATON   FEMENINO  67.0        PEATON  \n",
       "3       FONTIBON              1.0  MOTOCICLISTA  MASCULINO  43.0  MOTOCICLISTA  \n",
       "4        KENNEDY              2.0     CONDUCTOR  MASCULINO  14.0     CONDUCTOR  "
      ]
     },
     "execution_count": 45,
     "metadata": {},
     "output_type": "execute_result"
    }
   ],
   "source": [
    "# Convertir la lista de diccionarios a DataFrame\n",
    "lesionados_data = pd.DataFrame(rows)\n",
    "lesionados_data.head(5)"
   ]
  },
  {
   "cell_type": "code",
   "execution_count": 46,
   "metadata": {},
   "outputs": [
    {
     "name": "stdout",
     "output_type": "stream",
     "text": [
      "<class 'pandas.core.frame.DataFrame'>\n",
      "RangeIndex: 2000 entries, 0 to 1999\n",
      "Data columns (total 17 columns):\n",
      " #   Column                Non-Null Count  Dtype  \n",
      "---  ------                --------------  -----  \n",
      " 0   OBJECTID              2000 non-null   int64  \n",
      " 1   CODIGO_ACCIDENTADO    2000 non-null   object \n",
      " 2   FORMULARIO            2000 non-null   object \n",
      " 3   FECHA_OCURRENCIA_ACC  2000 non-null   int64  \n",
      " 4   HORA_OCURRENCIA_ACC   2000 non-null   object \n",
      " 5   ANO_OCURRENCIA_ACC    2000 non-null   float64\n",
      " 6   MES_OCURRENCIA_ACC    2000 non-null   object \n",
      " 7   DIA_OCURRENCIA_ACC    2000 non-null   object \n",
      " 8   FECHA_HORA_ACC        2000 non-null   int64  \n",
      " 9   DIRECCION             2000 non-null   object \n",
      " 10  CLASE_ACC             2000 non-null   object \n",
      " 11  LOCALIDAD             2000 non-null   object \n",
      " 12  CODIGO_VEHICULO       1630 non-null   float64\n",
      " 13  CONDICION             2000 non-null   object \n",
      " 14  GENERO                1991 non-null   object \n",
      " 15  EDAD                  1989 non-null   float64\n",
      " 16  CONDICION_A           2000 non-null   object \n",
      "dtypes: float64(3), int64(3), object(11)\n",
      "memory usage: 265.8+ KB\n"
     ]
    }
   ],
   "source": [
    "lesionados_data.info()"
   ]
  },
  {
   "cell_type": "code",
   "execution_count": 47,
   "metadata": {},
   "outputs": [
    {
     "data": {
      "text/plain": [
       "OBJECTID                  0\n",
       "CODIGO_ACCIDENTADO        0\n",
       "FORMULARIO                0\n",
       "FECHA_OCURRENCIA_ACC      0\n",
       "HORA_OCURRENCIA_ACC       0\n",
       "ANO_OCURRENCIA_ACC        0\n",
       "MES_OCURRENCIA_ACC        0\n",
       "DIA_OCURRENCIA_ACC        0\n",
       "FECHA_HORA_ACC            0\n",
       "DIRECCION                 0\n",
       "CLASE_ACC                 0\n",
       "LOCALIDAD                 0\n",
       "CODIGO_VEHICULO         370\n",
       "CONDICION                 0\n",
       "GENERO                    9\n",
       "EDAD                     11\n",
       "CONDICION_A               0\n",
       "dtype: int64"
      ]
     },
     "execution_count": 47,
     "metadata": {},
     "output_type": "execute_result"
    }
   ],
   "source": [
    "lesionados_data.isna().sum()"
   ]
  },
  {
   "cell_type": "code",
   "execution_count": 48,
   "metadata": {},
   "outputs": [],
   "source": [
    "# Reemplazar cadenas vacías o espacios con NaN\n",
    "lesionados_data.replace([\"\", \"SIN INFORMACION\",\" \", \"NaN\", \"null\"], np.nan, inplace=True)\n",
    "\n",
    "# Ahora aplicar dropna()\n",
    "lesionados_data.dropna(inplace=True)"
   ]
  },
  {
   "cell_type": "code",
   "execution_count": 49,
   "metadata": {},
   "outputs": [
    {
     "name": "stdout",
     "output_type": "stream",
     "text": [
      "<class 'pandas.core.frame.DataFrame'>\n",
      "Index: 1625 entries, 0 to 1999\n",
      "Data columns (total 17 columns):\n",
      " #   Column                Non-Null Count  Dtype  \n",
      "---  ------                --------------  -----  \n",
      " 0   OBJECTID              1625 non-null   int64  \n",
      " 1   CODIGO_ACCIDENTADO    1625 non-null   object \n",
      " 2   FORMULARIO            1625 non-null   object \n",
      " 3   FECHA_OCURRENCIA_ACC  1625 non-null   int64  \n",
      " 4   HORA_OCURRENCIA_ACC   1625 non-null   object \n",
      " 5   ANO_OCURRENCIA_ACC    1625 non-null   float64\n",
      " 6   MES_OCURRENCIA_ACC    1625 non-null   object \n",
      " 7   DIA_OCURRENCIA_ACC    1625 non-null   object \n",
      " 8   FECHA_HORA_ACC        1625 non-null   int64  \n",
      " 9   DIRECCION             1625 non-null   object \n",
      " 10  CLASE_ACC             1625 non-null   object \n",
      " 11  LOCALIDAD             1625 non-null   object \n",
      " 12  CODIGO_VEHICULO       1625 non-null   float64\n",
      " 13  CONDICION             1625 non-null   object \n",
      " 14  GENERO                1625 non-null   object \n",
      " 15  EDAD                  1625 non-null   float64\n",
      " 16  CONDICION_A           1625 non-null   object \n",
      "dtypes: float64(3), int64(3), object(11)\n",
      "memory usage: 228.5+ KB\n"
     ]
    }
   ],
   "source": [
    "lesionados_data.info()\n",
    "# Obtenemos finalmente una tabla sin valores nulos"
   ]
  },
  {
   "cell_type": "code",
   "execution_count": 50,
   "metadata": {},
   "outputs": [
    {
     "data": {
      "text/plain": [
       "CLASE_ACC\n",
       "CHOQUE               1326\n",
       "ATROPELLO             142\n",
       "CAIDA DE OCUPANTE      88\n",
       "VOLCAMIENTO            40\n",
       "OTRO                   25\n",
       "AUTOLESION              4\n",
       "Name: count, dtype: int64"
      ]
     },
     "execution_count": 50,
     "metadata": {},
     "output_type": "execute_result"
    }
   ],
   "source": [
    "lesionados_data[\"CLASE_ACC\"].value_counts()"
   ]
  },
  {
   "cell_type": "code",
   "execution_count": 51,
   "metadata": {},
   "outputs": [
    {
     "data": {
      "text/plain": [
       "CONDICION\n",
       "MOTOCICLISTA    706\n",
       "PASAJERO        513\n",
       "CONDUCTOR       229\n",
       "CICLISTA        177\n",
       "Name: count, dtype: int64"
      ]
     },
     "execution_count": 51,
     "metadata": {},
     "output_type": "execute_result"
    }
   ],
   "source": [
    "lesionados_data[\"CONDICION\"].value_counts()"
   ]
  },
  {
   "cell_type": "code",
   "execution_count": 52,
   "metadata": {},
   "outputs": [
    {
     "data": {
      "text/plain": [
       "GENERO\n",
       "MASCULINO    1137\n",
       "FEMENINO      488\n",
       "Name: count, dtype: int64"
      ]
     },
     "execution_count": 52,
     "metadata": {},
     "output_type": "execute_result"
    }
   ],
   "source": [
    "lesionados_data[\"GENERO\"].value_counts() \n",
    "# Eliminamos aquellos campos que no contenian información del genero\n",
    "# para asi poder trabajr con dummy variables"
   ]
  },
  {
   "cell_type": "code",
   "execution_count": 53,
   "metadata": {},
   "outputs": [
    {
     "data": {
      "text/html": [
       "<div>\n",
       "<style scoped>\n",
       "    .dataframe tbody tr th:only-of-type {\n",
       "        vertical-align: middle;\n",
       "    }\n",
       "\n",
       "    .dataframe tbody tr th {\n",
       "        vertical-align: top;\n",
       "    }\n",
       "\n",
       "    .dataframe thead th {\n",
       "        text-align: right;\n",
       "    }\n",
       "</style>\n",
       "<table border=\"1\" class=\"dataframe\">\n",
       "  <thead>\n",
       "    <tr style=\"text-align: right;\">\n",
       "      <th></th>\n",
       "      <th>FEMENINO</th>\n",
       "      <th>MASCULINO</th>\n",
       "    </tr>\n",
       "  </thead>\n",
       "  <tbody>\n",
       "    <tr>\n",
       "      <th>0</th>\n",
       "      <td>0</td>\n",
       "      <td>1</td>\n",
       "    </tr>\n",
       "    <tr>\n",
       "      <th>1</th>\n",
       "      <td>0</td>\n",
       "      <td>1</td>\n",
       "    </tr>\n",
       "    <tr>\n",
       "      <th>3</th>\n",
       "      <td>0</td>\n",
       "      <td>1</td>\n",
       "    </tr>\n",
       "    <tr>\n",
       "      <th>4</th>\n",
       "      <td>0</td>\n",
       "      <td>1</td>\n",
       "    </tr>\n",
       "    <tr>\n",
       "      <th>5</th>\n",
       "      <td>1</td>\n",
       "      <td>0</td>\n",
       "    </tr>\n",
       "    <tr>\n",
       "      <th>...</th>\n",
       "      <td>...</td>\n",
       "      <td>...</td>\n",
       "    </tr>\n",
       "    <tr>\n",
       "      <th>1994</th>\n",
       "      <td>0</td>\n",
       "      <td>1</td>\n",
       "    </tr>\n",
       "    <tr>\n",
       "      <th>1995</th>\n",
       "      <td>0</td>\n",
       "      <td>1</td>\n",
       "    </tr>\n",
       "    <tr>\n",
       "      <th>1996</th>\n",
       "      <td>1</td>\n",
       "      <td>0</td>\n",
       "    </tr>\n",
       "    <tr>\n",
       "      <th>1998</th>\n",
       "      <td>0</td>\n",
       "      <td>1</td>\n",
       "    </tr>\n",
       "    <tr>\n",
       "      <th>1999</th>\n",
       "      <td>0</td>\n",
       "      <td>1</td>\n",
       "    </tr>\n",
       "  </tbody>\n",
       "</table>\n",
       "<p>1625 rows × 2 columns</p>\n",
       "</div>"
      ],
      "text/plain": [
       "      FEMENINO  MASCULINO\n",
       "0            0          1\n",
       "1            0          1\n",
       "3            0          1\n",
       "4            0          1\n",
       "5            1          0\n",
       "...        ...        ...\n",
       "1994         0          1\n",
       "1995         0          1\n",
       "1996         1          0\n",
       "1998         0          1\n",
       "1999         0          1\n",
       "\n",
       "[1625 rows x 2 columns]"
      ]
     },
     "execution_count": 53,
     "metadata": {},
     "output_type": "execute_result"
    }
   ],
   "source": [
    "dummies_genero = pd.get_dummies(lesionados_data[\"GENERO\"],dtype=int)\n",
    "dummies_genero"
   ]
  },
  {
   "cell_type": "code",
   "execution_count": 54,
   "metadata": {},
   "outputs": [],
   "source": [
    "lesionados_data = lesionados_data.join(dummies_genero)\n",
    "lesionados_data.drop(\"GENERO\", axis=1, inplace=True)"
   ]
  },
  {
   "cell_type": "code",
   "execution_count": 55,
   "metadata": {},
   "outputs": [],
   "source": [
    "lesionados_data.drop(\"MASCULINO\", axis=1, inplace=True)\n",
    "lesionados_data.rename(columns={\"FEMENINO\": \"GENERO\"}, inplace=True)"
   ]
  },
  {
   "cell_type": "code",
   "execution_count": 56,
   "metadata": {},
   "outputs": [
    {
     "data": {
      "text/html": [
       "<div>\n",
       "<style scoped>\n",
       "    .dataframe tbody tr th:only-of-type {\n",
       "        vertical-align: middle;\n",
       "    }\n",
       "\n",
       "    .dataframe tbody tr th {\n",
       "        vertical-align: top;\n",
       "    }\n",
       "\n",
       "    .dataframe thead th {\n",
       "        text-align: right;\n",
       "    }\n",
       "</style>\n",
       "<table border=\"1\" class=\"dataframe\">\n",
       "  <thead>\n",
       "    <tr style=\"text-align: right;\">\n",
       "      <th></th>\n",
       "      <th>CODIGO_ACCIDENTADO</th>\n",
       "      <th>FORMULARIO</th>\n",
       "      <th>FECHA_OCURRENCIA_ACC</th>\n",
       "      <th>HORA_OCURRENCIA_ACC</th>\n",
       "      <th>ANO_OCURRENCIA_ACC</th>\n",
       "      <th>MES_OCURRENCIA_ACC</th>\n",
       "      <th>DIA_OCURRENCIA_ACC</th>\n",
       "      <th>FECHA_HORA_ACC</th>\n",
       "      <th>DIRECCION</th>\n",
       "      <th>CLASE_ACC</th>\n",
       "      <th>LOCALIDAD</th>\n",
       "      <th>CODIGO_VEHICULO</th>\n",
       "      <th>CONDICION</th>\n",
       "      <th>EDAD</th>\n",
       "      <th>CONDICION_A</th>\n",
       "      <th>GENERO</th>\n",
       "    </tr>\n",
       "  </thead>\n",
       "  <tbody>\n",
       "    <tr>\n",
       "      <th>0</th>\n",
       "      <td>12905655</td>\n",
       "      <td>A001677559</td>\n",
       "      <td>1725253200000</td>\n",
       "      <td>23:05:00</td>\n",
       "      <td>2024.0</td>\n",
       "      <td>SEPTIEMBRE</td>\n",
       "      <td>LUNES</td>\n",
       "      <td>1725336300000</td>\n",
       "      <td>CL 6 - KR 27  02</td>\n",
       "      <td>CHOQUE</td>\n",
       "      <td>LOS MARTIRES</td>\n",
       "      <td>2.0</td>\n",
       "      <td>MOTOCICLISTA</td>\n",
       "      <td>33.0</td>\n",
       "      <td>MOTOCICLISTA</td>\n",
       "      <td>0</td>\n",
       "    </tr>\n",
       "    <tr>\n",
       "      <th>1</th>\n",
       "      <td>12905658</td>\n",
       "      <td>A001677559</td>\n",
       "      <td>1725253200000</td>\n",
       "      <td>23:05:00</td>\n",
       "      <td>2024.0</td>\n",
       "      <td>SEPTIEMBRE</td>\n",
       "      <td>LUNES</td>\n",
       "      <td>1725336300000</td>\n",
       "      <td>CL 6 - KR 27  02</td>\n",
       "      <td>CHOQUE</td>\n",
       "      <td>LOS MARTIRES</td>\n",
       "      <td>2.0</td>\n",
       "      <td>PASAJERO</td>\n",
       "      <td>33.0</td>\n",
       "      <td>MOTOCICLISTA</td>\n",
       "      <td>0</td>\n",
       "    </tr>\n",
       "    <tr>\n",
       "      <th>3</th>\n",
       "      <td>24887</td>\n",
       "      <td>833879800</td>\n",
       "      <td>1201755600000</td>\n",
       "      <td>09:30:00</td>\n",
       "      <td>2008.0</td>\n",
       "      <td>ENERO</td>\n",
       "      <td>JUEVES</td>\n",
       "      <td>1201789800000</td>\n",
       "      <td>KR 97-18 2</td>\n",
       "      <td>VOLCAMIENTO</td>\n",
       "      <td>FONTIBON</td>\n",
       "      <td>1.0</td>\n",
       "      <td>MOTOCICLISTA</td>\n",
       "      <td>43.0</td>\n",
       "      <td>MOTOCICLISTA</td>\n",
       "      <td>0</td>\n",
       "    </tr>\n",
       "    <tr>\n",
       "      <th>4</th>\n",
       "      <td>2315877</td>\n",
       "      <td>A1247721</td>\n",
       "      <td>1362546000000</td>\n",
       "      <td>15:45:00</td>\n",
       "      <td>2013.0</td>\n",
       "      <td>MARZO</td>\n",
       "      <td>MIERCOLES</td>\n",
       "      <td>1362602700000</td>\n",
       "      <td>KR 88D-CL36 S 02</td>\n",
       "      <td>CHOQUE</td>\n",
       "      <td>KENNEDY</td>\n",
       "      <td>2.0</td>\n",
       "      <td>CONDUCTOR</td>\n",
       "      <td>14.0</td>\n",
       "      <td>CONDUCTOR</td>\n",
       "      <td>0</td>\n",
       "    </tr>\n",
       "    <tr>\n",
       "      <th>5</th>\n",
       "      <td>829263</td>\n",
       "      <td>840068900</td>\n",
       "      <td>1213851600000</td>\n",
       "      <td>07:50:00</td>\n",
       "      <td>2008.0</td>\n",
       "      <td>JUNIO</td>\n",
       "      <td>JUEVES</td>\n",
       "      <td>1213879800000</td>\n",
       "      <td>CL 2C-60 02</td>\n",
       "      <td>CHOQUE</td>\n",
       "      <td>PUENTE ARANDA</td>\n",
       "      <td>1.0</td>\n",
       "      <td>PASAJERO</td>\n",
       "      <td>44.0</td>\n",
       "      <td>PASAJERO</td>\n",
       "      <td>1</td>\n",
       "    </tr>\n",
       "  </tbody>\n",
       "</table>\n",
       "</div>"
      ],
      "text/plain": [
       "  CODIGO_ACCIDENTADO  FORMULARIO  FECHA_OCURRENCIA_ACC HORA_OCURRENCIA_ACC  \\\n",
       "0           12905655  A001677559         1725253200000            23:05:00   \n",
       "1           12905658  A001677559         1725253200000            23:05:00   \n",
       "3              24887   833879800         1201755600000            09:30:00   \n",
       "4            2315877    A1247721         1362546000000            15:45:00   \n",
       "5             829263   840068900         1213851600000            07:50:00   \n",
       "\n",
       "   ANO_OCURRENCIA_ACC MES_OCURRENCIA_ACC DIA_OCURRENCIA_ACC  FECHA_HORA_ACC  \\\n",
       "0              2024.0         SEPTIEMBRE              LUNES   1725336300000   \n",
       "1              2024.0         SEPTIEMBRE              LUNES   1725336300000   \n",
       "3              2008.0              ENERO             JUEVES   1201789800000   \n",
       "4              2013.0              MARZO          MIERCOLES   1362602700000   \n",
       "5              2008.0              JUNIO             JUEVES   1213879800000   \n",
       "\n",
       "          DIRECCION    CLASE_ACC      LOCALIDAD  CODIGO_VEHICULO  \\\n",
       "0  CL 6 - KR 27  02       CHOQUE   LOS MARTIRES              2.0   \n",
       "1  CL 6 - KR 27  02       CHOQUE   LOS MARTIRES              2.0   \n",
       "3        KR 97-18 2  VOLCAMIENTO       FONTIBON              1.0   \n",
       "4  KR 88D-CL36 S 02       CHOQUE        KENNEDY              2.0   \n",
       "5       CL 2C-60 02       CHOQUE  PUENTE ARANDA              1.0   \n",
       "\n",
       "      CONDICION  EDAD   CONDICION_A  GENERO  \n",
       "0  MOTOCICLISTA  33.0  MOTOCICLISTA       0  \n",
       "1      PASAJERO  33.0  MOTOCICLISTA       0  \n",
       "3  MOTOCICLISTA  43.0  MOTOCICLISTA       0  \n",
       "4     CONDUCTOR  14.0     CONDUCTOR       0  \n",
       "5      PASAJERO  44.0      PASAJERO       1  "
      ]
     },
     "execution_count": 56,
     "metadata": {},
     "output_type": "execute_result"
    }
   ],
   "source": [
    "lesionados_data.drop(\"OBJECTID\", axis=1, inplace=True)\n",
    "lesionados_data.head(5)\n",
    "# Actualizamos la tabla con la columna de genero donde 1 es femenino y 0 masculino"
   ]
  },
  {
   "cell_type": "code",
   "execution_count": null,
   "metadata": {},
   "outputs": [
    {
     "data": {
      "text/plain": [
       "array([[<Axes: title={'center': 'FECHA_OCURRENCIA_ACC'}>,\n",
       "        <Axes: title={'center': 'ANO_OCURRENCIA_ACC'}>],\n",
       "       [<Axes: title={'center': 'FECHA_HORA_ACC'}>,\n",
       "        <Axes: title={'center': 'CODIGO_VEHICULO'}>],\n",
       "       [<Axes: title={'center': 'EDAD'}>,\n",
       "        <Axes: title={'center': 'GENERO'}>]], dtype=object)"
      ]
     },
     "execution_count": 57,
     "metadata": {},
     "output_type": "execute_result"
    }
   ],
   "source": [
    "lesionados_data.hist(bins=50, figsize=(20,15)) #Plots a histogram of the numerical attributes\n",
    "# Importante. Graficar aquellos que tienen sentido análizar en un histograma"
   ]
  }
 ],
 "metadata": {
  "kernelspec": {
   "display_name": ".venv",
   "language": "python",
   "name": "python3"
  },
  "language_info": {
   "codemirror_mode": {
    "name": "ipython",
    "version": 3
   },
   "file_extension": ".py",
   "mimetype": "text/x-python",
   "name": "python",
   "nbconvert_exporter": "python",
   "pygments_lexer": "ipython3",
   "version": "3.12.9"
  }
 },
 "nbformat": 4,
 "nbformat_minor": 2
}
