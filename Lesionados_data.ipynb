{
 "cells": [
  {
   "cell_type": "code",
   "execution_count": 9,
   "metadata": {},
   "outputs": [],
   "source": [
    "import pandas as pd \n",
    "import seaborn as sb \n",
    "import numpy as np \n",
    "import matplotlib.pyplot as plt \n",
    "%matplotlib inline"
   ]
  },
  {
   "cell_type": "code",
   "execution_count": 10,
   "metadata": {},
   "outputs": [],
   "source": [
    "lesionados_data = pd.DataFrame(pd.read_csv('proy_datasets/LESIONADO.csv'))"
   ]
  },
  {
   "cell_type": "code",
   "execution_count": 11,
   "metadata": {},
   "outputs": [
    {
     "name": "stdout",
     "output_type": "stream",
     "text": [
      "<class 'pandas.core.frame.DataFrame'>\n",
      "RangeIndex: 261293 entries, 0 to 261292\n",
      "Data columns (total 19 columns):\n",
      " #   Column                Non-Null Count   Dtype  \n",
      "---  ------                --------------   -----  \n",
      " 0   X                     261293 non-null  float64\n",
      " 1   Y                     261293 non-null  float64\n",
      " 2   OBJECTID              261293 non-null  int64  \n",
      " 3   CODIGO_ACCIDENTADO    261293 non-null  int64  \n",
      " 4   FORMULARIO            261293 non-null  object \n",
      " 5   FECHA_OCURRENCIA_ACC  261293 non-null  object \n",
      " 6   HORA_OCURRENCIA_ACC   261293 non-null  object \n",
      " 7   ANO_OCURRENCIA_ACC    261293 non-null  int64  \n",
      " 8   MES_OCURRENCIA_ACC    261293 non-null  object \n",
      " 9   DIA_OCURRENCIA_ACC    261293 non-null  object \n",
      " 10  FECHA_HORA_ACC        261293 non-null  object \n",
      " 11  DIRECCION             261293 non-null  object \n",
      " 12  CLASE_ACC             261258 non-null  object \n",
      " 13  LOCALIDAD             261270 non-null  object \n",
      " 14  CODIGO_VEHICULO       199320 non-null  float64\n",
      " 15  CONDICION             261293 non-null  object \n",
      " 16  GENERO                261087 non-null  object \n",
      " 17  EDAD                  259572 non-null  float64\n",
      " 18  CONDICION_VEHICULO    261293 non-null  object \n",
      "dtypes: float64(4), int64(3), object(12)\n",
      "memory usage: 37.9+ MB\n"
     ]
    }
   ],
   "source": [
    "lesionados_data.info()"
   ]
  },
  {
   "cell_type": "code",
   "execution_count": 12,
   "metadata": {},
   "outputs": [
    {
     "data": {
      "text/plain": [
       "X                           0\n",
       "Y                           0\n",
       "OBJECTID                    0\n",
       "CODIGO_ACCIDENTADO          0\n",
       "FORMULARIO                  0\n",
       "FECHA_OCURRENCIA_ACC        0\n",
       "HORA_OCURRENCIA_ACC         0\n",
       "ANO_OCURRENCIA_ACC          0\n",
       "MES_OCURRENCIA_ACC          0\n",
       "DIA_OCURRENCIA_ACC          0\n",
       "FECHA_HORA_ACC              0\n",
       "DIRECCION                   0\n",
       "CLASE_ACC                  35\n",
       "LOCALIDAD                  23\n",
       "CODIGO_VEHICULO         61973\n",
       "CONDICION                   0\n",
       "GENERO                    206\n",
       "EDAD                     1721\n",
       "CONDICION_VEHICULO          0\n",
       "dtype: int64"
      ]
     },
     "execution_count": 12,
     "metadata": {},
     "output_type": "execute_result"
    }
   ],
   "source": [
    "lesionados_data.isna().sum()"
   ]
  },
  {
   "cell_type": "code",
   "execution_count": 27,
   "metadata": {},
   "outputs": [],
   "source": [
    "# Reemplazar cadenas vacías o espacios con NaN\n",
    "lesionados_data.replace([\"\", \"SIN INFORMACION\",\" \", \"NaN\", \"null\"], np.nan, inplace=True)\n",
    "\n",
    "# Ahora aplicar dropna()\n",
    "lesionados_data.dropna(inplace=True)"
   ]
  },
  {
   "cell_type": "code",
   "execution_count": 28,
   "metadata": {},
   "outputs": [
    {
     "name": "stdout",
     "output_type": "stream",
     "text": [
      "<class 'pandas.core.frame.DataFrame'>\n",
      "Index: 198419 entries, 0 to 261292\n",
      "Data columns (total 19 columns):\n",
      " #   Column                Non-Null Count   Dtype  \n",
      "---  ------                --------------   -----  \n",
      " 0   X                     198419 non-null  float64\n",
      " 1   Y                     198419 non-null  float64\n",
      " 2   OBJECTID              198419 non-null  int64  \n",
      " 3   CODIGO_ACCIDENTADO    198419 non-null  int64  \n",
      " 4   FORMULARIO            198419 non-null  object \n",
      " 5   FECHA_OCURRENCIA_ACC  198419 non-null  object \n",
      " 6   HORA_OCURRENCIA_ACC   198419 non-null  object \n",
      " 7   ANO_OCURRENCIA_ACC    198419 non-null  int64  \n",
      " 8   MES_OCURRENCIA_ACC    198419 non-null  object \n",
      " 9   DIA_OCURRENCIA_ACC    198419 non-null  object \n",
      " 10  FECHA_HORA_ACC        198419 non-null  object \n",
      " 11  DIRECCION             198419 non-null  object \n",
      " 12  CLASE_ACC             198419 non-null  object \n",
      " 13  LOCALIDAD             198419 non-null  object \n",
      " 14  CODIGO_VEHICULO       198419 non-null  float64\n",
      " 15  CONDICION             198419 non-null  object \n",
      " 16  GENERO                198419 non-null  object \n",
      " 17  EDAD                  198419 non-null  float64\n",
      " 18  CONDICION_VEHICULO    198419 non-null  object \n",
      "dtypes: float64(4), int64(3), object(12)\n",
      "memory usage: 30.3+ MB\n"
     ]
    }
   ],
   "source": [
    "lesionados_data.info()\n",
    "# Obtenemos finalmente una tabla sin valores nulos"
   ]
  },
  {
   "cell_type": "code",
   "execution_count": 29,
   "metadata": {},
   "outputs": [
    {
     "data": {
      "text/plain": [
       "CLASE_ACC\n",
       "CHOQUE               159125\n",
       "ATROPELLO             14317\n",
       "CAIDA DE OCUPANTE     11097\n",
       "VOLCAMIENTO            7312\n",
       "OTRO                   4386\n",
       "AUTOLESION             2168\n",
       "INCENDIO                 14\n",
       "Name: count, dtype: int64"
      ]
     },
     "execution_count": 29,
     "metadata": {},
     "output_type": "execute_result"
    }
   ],
   "source": [
    "lesionados_data[\"CLASE_ACC\"].value_counts()"
   ]
  },
  {
   "cell_type": "code",
   "execution_count": 30,
   "metadata": {},
   "outputs": [
    {
     "data": {
      "text/plain": [
       "CONDICION\n",
       "MOTOCICLISTA    79900\n",
       "PASAJERO        70720\n",
       "CONDUCTOR       24751\n",
       "CICLISTA        22610\n",
       "PEATON            438\n",
       "Name: count, dtype: int64"
      ]
     },
     "execution_count": 30,
     "metadata": {},
     "output_type": "execute_result"
    }
   ],
   "source": [
    "lesionados_data[\"CONDICION\"].value_counts()"
   ]
  },
  {
   "cell_type": "code",
   "execution_count": 32,
   "metadata": {},
   "outputs": [
    {
     "data": {
      "text/plain": [
       "GENERO\n",
       "MASCULINO    136282\n",
       "FEMENINO      62137\n",
       "Name: count, dtype: int64"
      ]
     },
     "execution_count": 32,
     "metadata": {},
     "output_type": "execute_result"
    }
   ],
   "source": [
    "lesionados_data[\"GENERO\"].value_counts() \n",
    "# Eliminamos aquellos campos que no contenian información del genero\n",
    "# para asi poder trabajr con dummy variables"
   ]
  },
  {
   "cell_type": "code",
   "execution_count": 33,
   "metadata": {},
   "outputs": [
    {
     "data": {
      "text/html": [
       "<div>\n",
       "<style scoped>\n",
       "    .dataframe tbody tr th:only-of-type {\n",
       "        vertical-align: middle;\n",
       "    }\n",
       "\n",
       "    .dataframe tbody tr th {\n",
       "        vertical-align: top;\n",
       "    }\n",
       "\n",
       "    .dataframe thead th {\n",
       "        text-align: right;\n",
       "    }\n",
       "</style>\n",
       "<table border=\"1\" class=\"dataframe\">\n",
       "  <thead>\n",
       "    <tr style=\"text-align: right;\">\n",
       "      <th></th>\n",
       "      <th>FEMENINO</th>\n",
       "      <th>MASCULINO</th>\n",
       "    </tr>\n",
       "  </thead>\n",
       "  <tbody>\n",
       "    <tr>\n",
       "      <th>0</th>\n",
       "      <td>1</td>\n",
       "      <td>0</td>\n",
       "    </tr>\n",
       "    <tr>\n",
       "      <th>1</th>\n",
       "      <td>0</td>\n",
       "      <td>1</td>\n",
       "    </tr>\n",
       "    <tr>\n",
       "      <th>2</th>\n",
       "      <td>0</td>\n",
       "      <td>1</td>\n",
       "    </tr>\n",
       "    <tr>\n",
       "      <th>3</th>\n",
       "      <td>1</td>\n",
       "      <td>0</td>\n",
       "    </tr>\n",
       "    <tr>\n",
       "      <th>4</th>\n",
       "      <td>0</td>\n",
       "      <td>1</td>\n",
       "    </tr>\n",
       "    <tr>\n",
       "      <th>...</th>\n",
       "      <td>...</td>\n",
       "      <td>...</td>\n",
       "    </tr>\n",
       "    <tr>\n",
       "      <th>261288</th>\n",
       "      <td>0</td>\n",
       "      <td>1</td>\n",
       "    </tr>\n",
       "    <tr>\n",
       "      <th>261289</th>\n",
       "      <td>1</td>\n",
       "      <td>0</td>\n",
       "    </tr>\n",
       "    <tr>\n",
       "      <th>261290</th>\n",
       "      <td>0</td>\n",
       "      <td>1</td>\n",
       "    </tr>\n",
       "    <tr>\n",
       "      <th>261291</th>\n",
       "      <td>0</td>\n",
       "      <td>1</td>\n",
       "    </tr>\n",
       "    <tr>\n",
       "      <th>261292</th>\n",
       "      <td>0</td>\n",
       "      <td>1</td>\n",
       "    </tr>\n",
       "  </tbody>\n",
       "</table>\n",
       "<p>198419 rows × 2 columns</p>\n",
       "</div>"
      ],
      "text/plain": [
       "        FEMENINO  MASCULINO\n",
       "0              1          0\n",
       "1              0          1\n",
       "2              0          1\n",
       "3              1          0\n",
       "4              0          1\n",
       "...          ...        ...\n",
       "261288         0          1\n",
       "261289         1          0\n",
       "261290         0          1\n",
       "261291         0          1\n",
       "261292         0          1\n",
       "\n",
       "[198419 rows x 2 columns]"
      ]
     },
     "execution_count": 33,
     "metadata": {},
     "output_type": "execute_result"
    }
   ],
   "source": [
    "dummies = pd.get_dummies(lesionados_data[\"GENERO\"],dtype=int)\n",
    "dummies"
   ]
  },
  {
   "cell_type": "code",
   "execution_count": null,
   "metadata": {},
   "outputs": [],
   "source": []
  }
 ],
 "metadata": {
  "kernelspec": {
   "display_name": ".venv",
   "language": "python",
   "name": "python3"
  },
  "language_info": {
   "codemirror_mode": {
    "name": "ipython",
    "version": 3
   },
   "file_extension": ".py",
   "mimetype": "text/x-python",
   "name": "python",
   "nbconvert_exporter": "python",
   "pygments_lexer": "ipython3",
   "version": "3.12.8"
  }
 },
 "nbformat": 4,
 "nbformat_minor": 2
}
