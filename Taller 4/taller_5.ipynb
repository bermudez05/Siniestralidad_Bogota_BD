{
  "nbformat": 4,
  "nbformat_minor": 0,
  "metadata": {
    "colab": {
      "provenance": []
    },
    "kernelspec": {
      "name": "python3",
      "display_name": "Python 3"
    },
    "language_info": {
      "name": "python"
    }
  },
  "cells": [
    {
      "cell_type": "markdown",
      "source": [
        "# **Taller 5**\n",
        "\n",
        "## Análisis de Bases de Datos\n",
        "\n"
      ],
      "metadata": {
        "id": "WMSQEmPZOdFO"
      }
    },
    {
      "cell_type": "markdown",
      "source": [],
      "metadata": {
        "id": "_Cj5BEYAOdEl"
      }
    },
    {
      "cell_type": "code",
      "execution_count": null,
      "metadata": {
        "id": "zaOgVWbJODcM"
      },
      "outputs": [],
      "source": []
    }
  ]
}
