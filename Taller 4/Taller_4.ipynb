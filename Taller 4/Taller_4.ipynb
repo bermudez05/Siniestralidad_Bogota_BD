{
 "cells": [
  {
   "cell_type": "markdown",
   "metadata": {},
   "source": [
    "## Análisis de bases de datos  \n",
    "<b>Taller 4: Análisis multidimensional de criminalidad </b>  \n",
    "Laura Nicole Bermudez Santa - labermudezs@unal.edu.co\n",
    "\n",
    "<p>Considere los datos del archivo Excel adjunto; en él se muestran los datos de criminalidad, fondos policiales y educación de la población en las ciudades pequeñas de los Estados Unidos.</p>\n",
    "<p>Las variables <b>(X1, X2, X3, X4, X5, X6, X7)</b> representan la siguiente información:</p>  \n",
    "\n",
    "- <b>X1:</b> reporte total de criminalidad por millón de residentes.   \n",
    "\n",
    "- <b>X2:</b> tasa de crímenes violentos por 100.000 residentes.  \n",
    "\n",
    "- <b>X3:</b> fondos anuales policiales en dólares por habitante.  \n",
    "\n",
    "- <b>X4:</b> porcentaje de personas de 25 años o más con bachillerato.    \n",
    "\n",
    "- <b>X5:</b> porcentaje de la población de 16 a 19 años sin bachillerato.    \n",
    "\n",
    "- <b>X6:</b> porcentaje de la población entre 18 a 24 años que realiza estudios universitarios.  \n",
    "\n",
    "- <b>X7:</b> porcentaje de la población de 25 o más años con por lo menos 4 años de estudios universitarios.    "
   ]
  },
  {
   "cell_type": "code",
   "execution_count": 1,
   "metadata": {},
   "outputs": [
    {
     "data": {
      "text/html": [
       "<div>\n",
       "<style scoped>\n",
       "    .dataframe tbody tr th:only-of-type {\n",
       "        vertical-align: middle;\n",
       "    }\n",
       "\n",
       "    .dataframe tbody tr th {\n",
       "        vertical-align: top;\n",
       "    }\n",
       "\n",
       "    .dataframe thead th {\n",
       "        text-align: right;\n",
       "    }\n",
       "</style>\n",
       "<table border=\"1\" class=\"dataframe\">\n",
       "  <thead>\n",
       "    <tr style=\"text-align: right;\">\n",
       "      <th></th>\n",
       "      <th>X1</th>\n",
       "      <th>X2</th>\n",
       "      <th>X3</th>\n",
       "      <th>X4</th>\n",
       "      <th>X5</th>\n",
       "      <th>X6</th>\n",
       "      <th>X7</th>\n",
       "    </tr>\n",
       "  </thead>\n",
       "  <tbody>\n",
       "    <tr>\n",
       "      <th>0</th>\n",
       "      <td>478</td>\n",
       "      <td>184</td>\n",
       "      <td>40</td>\n",
       "      <td>74</td>\n",
       "      <td>11</td>\n",
       "      <td>31</td>\n",
       "      <td>20</td>\n",
       "    </tr>\n",
       "    <tr>\n",
       "      <th>1</th>\n",
       "      <td>494</td>\n",
       "      <td>213</td>\n",
       "      <td>32</td>\n",
       "      <td>72</td>\n",
       "      <td>11</td>\n",
       "      <td>43</td>\n",
       "      <td>18</td>\n",
       "    </tr>\n",
       "    <tr>\n",
       "      <th>2</th>\n",
       "      <td>643</td>\n",
       "      <td>347</td>\n",
       "      <td>57</td>\n",
       "      <td>70</td>\n",
       "      <td>18</td>\n",
       "      <td>16</td>\n",
       "      <td>16</td>\n",
       "    </tr>\n",
       "    <tr>\n",
       "      <th>3</th>\n",
       "      <td>341</td>\n",
       "      <td>565</td>\n",
       "      <td>31</td>\n",
       "      <td>71</td>\n",
       "      <td>11</td>\n",
       "      <td>25</td>\n",
       "      <td>19</td>\n",
       "    </tr>\n",
       "    <tr>\n",
       "      <th>4</th>\n",
       "      <td>773</td>\n",
       "      <td>327</td>\n",
       "      <td>67</td>\n",
       "      <td>72</td>\n",
       "      <td>9</td>\n",
       "      <td>29</td>\n",
       "      <td>24</td>\n",
       "    </tr>\n",
       "  </tbody>\n",
       "</table>\n",
       "</div>"
      ],
      "text/plain": [
       "    X1   X2  X3  X4  X5  X6  X7\n",
       "0  478  184  40  74  11  31  20\n",
       "1  494  213  32  72  11  43  18\n",
       "2  643  347  57  70  18  16  16\n",
       "3  341  565  31  71  11  25  19\n",
       "4  773  327  67  72   9  29  24"
      ]
     },
     "execution_count": 1,
     "metadata": {},
     "output_type": "execute_result"
    }
   ],
   "source": [
    "# Importamos algunas librerias necesarias\n",
    "import pandas as pd\n",
    "import numpy as np \n",
    "import matplotlib.pyplot as plt\n",
    "import seaborn as sb\n",
    "\n",
    "# Leemos el archivo\n",
    "criminalidad = pd.read_csv('Datos Criminalidad.csv')\n",
    "criminalidad.head(5)"
   ]
  },
  {
   "cell_type": "code",
   "execution_count": 2,
   "metadata": {},
   "outputs": [
    {
     "name": "stdout",
     "output_type": "stream",
     "text": [
      "<class 'pandas.core.frame.DataFrame'>\n",
      "RangeIndex: 50 entries, 0 to 49\n",
      "Data columns (total 7 columns):\n",
      " #   Column  Non-Null Count  Dtype\n",
      "---  ------  --------------  -----\n",
      " 0   X1      50 non-null     int64\n",
      " 1   X2      50 non-null     int64\n",
      " 2   X3      50 non-null     int64\n",
      " 3   X4      50 non-null     int64\n",
      " 4   X5      50 non-null     int64\n",
      " 5   X6      50 non-null     int64\n",
      " 6   X7      50 non-null     int64\n",
      "dtypes: int64(7)\n",
      "memory usage: 2.9 KB\n"
     ]
    }
   ],
   "source": [
    "criminalidad.info() # Información basica de las columnas que conforman el dataset"
   ]
  },
  {
   "cell_type": "markdown",
   "metadata": {},
   "source": [
    "<b>A.</b> Presente un análisis estadístico básico por variable indicando sus opiniones sobre cada uno de los valores calculados. En este literal debe efectuar el cálculo de todas las medidas vistas en clase de centralización y dispersión, debe incluir un análisis intercuartílico."
   ]
  },
  {
   "cell_type": "code",
   "execution_count": 3,
   "metadata": {},
   "outputs": [
    {
     "data": {
      "text/html": [
       "<div>\n",
       "<style scoped>\n",
       "    .dataframe tbody tr th:only-of-type {\n",
       "        vertical-align: middle;\n",
       "    }\n",
       "\n",
       "    .dataframe tbody tr th {\n",
       "        vertical-align: top;\n",
       "    }\n",
       "\n",
       "    .dataframe thead th {\n",
       "        text-align: right;\n",
       "    }\n",
       "</style>\n",
       "<table border=\"1\" class=\"dataframe\">\n",
       "  <thead>\n",
       "    <tr style=\"text-align: right;\">\n",
       "      <th></th>\n",
       "      <th>X1</th>\n",
       "      <th>X2</th>\n",
       "      <th>X3</th>\n",
       "      <th>X4</th>\n",
       "      <th>X5</th>\n",
       "      <th>X6</th>\n",
       "      <th>X7</th>\n",
       "    </tr>\n",
       "  </thead>\n",
       "  <tbody>\n",
       "    <tr>\n",
       "      <th>count</th>\n",
       "      <td>50.000000</td>\n",
       "      <td>50.000000</td>\n",
       "      <td>50.000000</td>\n",
       "      <td>50.000000</td>\n",
       "      <td>50.000000</td>\n",
       "      <td>50.000000</td>\n",
       "      <td>50.000000</td>\n",
       "    </tr>\n",
       "    <tr>\n",
       "      <th>mean</th>\n",
       "      <td>717.960000</td>\n",
       "      <td>616.180000</td>\n",
       "      <td>37.760000</td>\n",
       "      <td>58.800000</td>\n",
       "      <td>15.400000</td>\n",
       "      <td>29.900000</td>\n",
       "      <td>13.820000</td>\n",
       "    </tr>\n",
       "    <tr>\n",
       "      <th>std</th>\n",
       "      <td>293.938766</td>\n",
       "      <td>573.739175</td>\n",
       "      <td>13.820364</td>\n",
       "      <td>9.965246</td>\n",
       "      <td>6.023762</td>\n",
       "      <td>14.801062</td>\n",
       "      <td>5.157479</td>\n",
       "    </tr>\n",
       "    <tr>\n",
       "      <th>min</th>\n",
       "      <td>341.000000</td>\n",
       "      <td>29.000000</td>\n",
       "      <td>16.000000</td>\n",
       "      <td>42.000000</td>\n",
       "      <td>4.000000</td>\n",
       "      <td>7.000000</td>\n",
       "      <td>8.000000</td>\n",
       "    </tr>\n",
       "    <tr>\n",
       "      <th>25%</th>\n",
       "      <td>497.000000</td>\n",
       "      <td>230.750000</td>\n",
       "      <td>30.000000</td>\n",
       "      <td>49.000000</td>\n",
       "      <td>11.000000</td>\n",
       "      <td>21.250000</td>\n",
       "      <td>11.000000</td>\n",
       "    </tr>\n",
       "    <tr>\n",
       "      <th>50%</th>\n",
       "      <td>654.500000</td>\n",
       "      <td>454.000000</td>\n",
       "      <td>34.500000</td>\n",
       "      <td>59.000000</td>\n",
       "      <td>14.000000</td>\n",
       "      <td>25.000000</td>\n",
       "      <td>12.000000</td>\n",
       "    </tr>\n",
       "    <tr>\n",
       "      <th>75%</th>\n",
       "      <td>820.500000</td>\n",
       "      <td>822.500000</td>\n",
       "      <td>42.250000</td>\n",
       "      <td>67.000000</td>\n",
       "      <td>19.000000</td>\n",
       "      <td>34.250000</td>\n",
       "      <td>15.750000</td>\n",
       "    </tr>\n",
       "    <tr>\n",
       "      <th>max</th>\n",
       "      <td>1740.000000</td>\n",
       "      <td>3545.000000</td>\n",
       "      <td>86.000000</td>\n",
       "      <td>81.000000</td>\n",
       "      <td>34.000000</td>\n",
       "      <td>81.000000</td>\n",
       "      <td>36.000000</td>\n",
       "    </tr>\n",
       "  </tbody>\n",
       "</table>\n",
       "</div>"
      ],
      "text/plain": [
       "                X1           X2         X3         X4         X5         X6  \\\n",
       "count    50.000000    50.000000  50.000000  50.000000  50.000000  50.000000   \n",
       "mean    717.960000   616.180000  37.760000  58.800000  15.400000  29.900000   \n",
       "std     293.938766   573.739175  13.820364   9.965246   6.023762  14.801062   \n",
       "min     341.000000    29.000000  16.000000  42.000000   4.000000   7.000000   \n",
       "25%     497.000000   230.750000  30.000000  49.000000  11.000000  21.250000   \n",
       "50%     654.500000   454.000000  34.500000  59.000000  14.000000  25.000000   \n",
       "75%     820.500000   822.500000  42.250000  67.000000  19.000000  34.250000   \n",
       "max    1740.000000  3545.000000  86.000000  81.000000  34.000000  81.000000   \n",
       "\n",
       "              X7  \n",
       "count  50.000000  \n",
       "mean   13.820000  \n",
       "std     5.157479  \n",
       "min     8.000000  \n",
       "25%    11.000000  \n",
       "50%    12.000000  \n",
       "75%    15.750000  \n",
       "max    36.000000  "
      ]
     },
     "execution_count": 3,
     "metadata": {},
     "output_type": "execute_result"
    }
   ],
   "source": [
    "criminalidad.describe() # Estadisticas basicas de las columnas que conforman el dataset"
   ]
  },
  {
   "cell_type": "markdown",
   "metadata": {},
   "source": [
    "La tabla anterior presenta un análisis estadístico básico por cada variable contemplando los 50 registros del dataset. Se expone en su orden la cantidad de datos no nulos evaluados, la media aritmética, la desviación estandar, el valor mínimo, primer y tercer cuartil, mediana y por ultimo el valor máximo."
   ]
  },
  {
   "cell_type": "markdown",
   "metadata": {},
   "source": [
    "<b>B.</b> Presente una matriz de \"calor\" para las correlaciones (de Person) entre pares de variables. Indique cuales son los cuatro pares de variables con mayor correlación."
   ]
  },
  {
   "cell_type": "markdown",
   "metadata": {},
   "source": [
    "<b>C.</b> Plotee los cuatro pares de variables con mayor correlación, mostrando la recta de regresión lineal que mejor se ajusta a los datos."
   ]
  },
  {
   "cell_type": "markdown",
   "metadata": {},
   "source": [
    "<b>D.</b> Haga un análisis multilineal tomando como variable dependiente los fondos anuales policiales por habitante, con las demás variables como variables predictorias. Indique la expresión que obtuvo."
   ]
  },
  {
   "cell_type": "markdown",
   "metadata": {},
   "source": [
    "<b>E.</b> Indique que variables predictorias tiene mayor impacto sobre la variable independinte. ¿Tiene sentido lo obtenido? Explique."
   ]
  },
  {
   "cell_type": "markdown",
   "metadata": {},
   "source": [
    "<b>F.</b> Haga un análisis de regresión lineal simple entre la variable fondos anuales reales y los predichos por el modelo. Con base en este análisis evalúe el modelo."
   ]
  },
  {
   "cell_type": "markdown",
   "metadata": {},
   "source": [
    "<b>G.</b> Plantee un modelo de regresión multilineal que permita explicar los índices de criminalidad con el grado de escolaridad de la población. Explique brevemente su modelo y los resultados que obtiene de él."
   ]
  },
  {
   "cell_type": "markdown",
   "metadata": {},
   "source": [
    "<b>H.</b> ¿Es posible detectar datos atípicos en la base de datos con las herramientas vistas en clase?"
   ]
  }
 ],
 "metadata": {
  "kernelspec": {
   "display_name": ".venv",
   "language": "python",
   "name": "python3"
  },
  "language_info": {
   "codemirror_mode": {
    "name": "ipython",
    "version": 3
   },
   "file_extension": ".py",
   "mimetype": "text/x-python",
   "name": "python",
   "nbconvert_exporter": "python",
   "pygments_lexer": "ipython3",
   "version": "3.12.8"
  }
 },
 "nbformat": 4,
 "nbformat_minor": 2
}
