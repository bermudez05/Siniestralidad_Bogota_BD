{
 "cells": [
  {
   "cell_type": "markdown",
   "metadata": {},
   "source": [
    "Códigos modificados en el entregable que sirven como un Backup."
   ]
  },
  {
   "cell_type": "code",
   "execution_count": null,
   "metadata": {
    "vscode": {
     "languageId": "plaintext"
    }
   },
   "outputs": [],
   "source": [
    "# Crear una figura con subgráficos\n",
    "fig, axes = plt.subplots(3, 2, figsize=(15, 12))  # 3 filas, 2 columnas\n",
    "fig.suptitle('Análisis de las condiciones de la vía en Bogotá', fontsize=16)\n",
    "\n",
    "# Gráfica 1: Distribución de la geometría de la vía (GEOMETRICA_A)\n",
    "geom_counts = via_data['GEOMETRICA_A'].value_counts()\n",
    "sb.barplot(x=geom_counts.index, y=geom_counts.values, palette='viridis', ax=axes[0, 0])\n",
    "axes[0, 0].set_title('Distribución de la Geometría de la Vía')\n",
    "axes[0, 0].set_xlabel('Geometría A')\n",
    "axes[0, 0].set_ylabel('Frecuencia')\n",
    "\n",
    "# Gráfica 2: Distribución del estado de la vía (ESTADO)\n",
    "geomb_counts = via_data['GEOMETRICA_B'].value_counts()\n",
    "sb.barplot(x=geomb_counts.index, y=geomb_counts.values, palette='viridis', ax=axes[0, 1])\n",
    "axes[0, 1].set_title('Distribución de la Geometría de la vía')\n",
    "axes[0, 1].set_xlabel('Geometría B')\n",
    "axes[0, 1].set_ylabel('Frecuencia')\n",
    "\n",
    "# Gráfica 3: Distribución de las condiciones de la vía (CONDICIONES)\n",
    "geomc_counts = via_data['GEOMETRICA_C'].value_counts()\n",
    "sb.barplot(x=geomc_counts.index, y=geomc_counts.values, palette='viridis', ax=axes[1, 0])\n",
    "axes[1, 0].set_title('Distribución de la Geometría de la Vía')\n",
    "axes[1, 0].set_xlabel('Geometría C')\n",
    "axes[1, 0].set_ylabel('Frecuencia')\n",
    "\n",
    "# Gráfica 4: Distribución de la iluminación (ILUMINACION_A)\n",
    "ilum_counts = via_data['ILUMINACION'].value_counts()\n",
    "sb.barplot(x=ilum_counts.index, y=ilum_counts.values, palette='viridis', ax=axes[1, 1])\n",
    "axes[1, 1].set_title('Distribución de la Iluminación')\n",
    "axes[1, 1].set_xlabel('Iluminación')\n",
    "axes[1, 1].set_ylabel('Frecuencia')\n",
    "\n",
    "# Gráfica 5: Distribución de la iluminación (ILUMINACION_A)\n",
    "estado_counts = via_data['ESTADO'].value_counts()\n",
    "sb.barplot(x=estado_counts.index, y=estado_counts.values, palette='viridis', ax=axes[2, 0])\n",
    "axes[2, 0].set_title('Estado de las condiciones de la Vía')\n",
    "axes[2, 0].set_xlabel('Estado')\n",
    "axes[2, 0].set_ylabel('Frecuencia')\n",
    "\n",
    "# Gráfica 6: Distribución de las condiciones de la vía (CONDICIONES)\n",
    "cond_counts = via_data['CONDICIONES'].value_counts()\n",
    "sb.barplot(x=cond_counts.index, y=cond_counts.values, palette='viridis', ax=axes[2, 1])\n",
    "axes[2, 1].set_title('Distribución de las Condiciones de la Vía')\n",
    "axes[2, 1].set_xlabel('Condiciones')\n",
    "axes[2, 1].set_ylabel('Frecuencia')\n",
    "\n",
    "# Ajustar el espacio entre subgráficos\n",
    "plt.tight_layout()\n",
    "\n",
    "# Mostrar la figura\n",
    "plt.show()"
   ]
  }
 ],
 "metadata": {
  "language_info": {
   "name": "python"
  }
 },
 "nbformat": 4,
 "nbformat_minor": 2
}
