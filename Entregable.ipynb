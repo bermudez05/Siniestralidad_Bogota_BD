{
 "cells": [
  {
   "cell_type": "markdown",
   "metadata": {},
   "source": [
    "<span style=\"font-size:1.5em;\"><b>Análisis de bases de datos  \n",
    "Universidad Nacional de Colombia  \n",
    "2024-2</b></span>\n",
    "# <b>Siniestralidad Vial en Bogotá: Análisis de Datos para la Gestión de la Movilidad Segura</b>  \n",
    "\n",
    "<span style=\"font-size:0.9em;\">Laura Nicole Bermudez Santa - labermudezs@unal.edu.co  \n",
    "David Sebastián Mendoza Cruz - damendozac@unal.edu.co  \n",
    "David Alejandro Alquichire Rincón - dalquichire@unal.edu.co  \n",
    "Laura Nicole Bermudez Santa - labermudezs@unal.edu.co  \n",
    "Juan David Bernal Vesga - jubernalv@unal.edu.co</span>\n",
    "\n",
    "----"
   ]
  },
  {
   "cell_type": "markdown",
   "metadata": {},
   "source": [
    "La seguridad vial es un tema de vital importancia para la planificación urbana y la protección de la vida en las ciudades. En Bogotá, la Secretaría Distrital de Movilidad (SDM) ha recopilado datos detallados sobre siniestralidad vial desde el año 2007, los cuales incluyen información sobre lesionados, accidentes, causas, tipos de vehículos involucrados y actores viales. Estos datos, disponibles en la plataforma Enterprise de la SDM, representan una oportunidad única para analizar y comprender los patrones de accidentalidad en la ciudad, con el fin de contribuir a la toma de decisiones informadas en materia de seguridad vial.\n",
    "\n",
    "Este proyecto tiene los siguientes objetivos:\n",
    "1. Analizar y clasificar los accidentes de tránsito registrados en Bogotá en la plataforma de la secretaria de movilidad desde el 2007, enfocándose en la relación entre tipo de vehículo, actores viales involucrados, localidades afectadas, el estado de los incidentes, etc. Con el fin de identificar patrones clave y proporcionar insumos para la toma de decisiones en materia de seguridad vial.  \n",
    "2. Proporcionar herramientas visuales que guíen la toma de decisiones en materia de seguridad vial en resultado del análisis estadístico realizado.\n",
    "3. Determinar tendencias y generar pronósticos que permitan anticipar posibles escenarios de siniestralidad en el futuro, mediante una proyección temporal del comportamiento de los accidentes de tránsito, considerando variables como la frecuencia de muertes y accidentes simples.\n",
    "Buscamos lo que se expone en los objetivos, pero la idea es usar datos abiertos expuestos en la página de la secretaria de movilidad donde tenemos acceso a los siguientes datos de siniestralidad:\n",
    "Lesionado, accidentes, causa, vehiculo y actor.\n",
    "\n",
    "\n",
    "\n",
    "----"
   ]
  },
  {
   "cell_type": "markdown",
   "metadata": {},
   "source": [
    "#### **Manipulación y limpieza de las bases de datos individuales**"
   ]
  },
  {
   "cell_type": "markdown",
   "metadata": {},
   "source": [
    "La Secretaria de movilidad dispone una base de [datos abiertos](https://datos.movilidadbogota.gov.co/maps/ea243e7de8e846c8bd27e47c08771d66/about) amplia en materia de siniestrialidad en Bogotá la cual ha sido alimentada con datos desde el 2007. En esta sección depuraremos los siguientes data sets:\n",
    "- __*ACCIDENTE*__: nos brinda información detallada de la cantidad de accidentes que se han registrado en la ciudad de bogotá incluyendo sus coordenadas, la clase de choque, fecha y gravedad. (En este dataset se concentra la mayoria de los datos y es de nuestro interes analizarlo a profundidad).\n",
    "- __*LESIONADO*__: incluye información de las personas involucrada tales como su condición, genero y edad son los datos mas relevantes.\n",
    "- __*ACC_VIA*__: caracteristicas relevantes de cada via donde sucedio el accidente, resulta relevante al relacionar el estado de las vías en la ciudad de Bogotá como posible causante de siniestros en ciertos lugares o localidades.\n",
    "- __*ACC_VEHICULO*__: información general del tipo de vehiculo y el uso de este ya sea publico o particular.\n",
    "- __*ACC_CAUSA*__: incluye una breve descripción de una posible causa asociada al siniestro.\n",
    "- __*ACC_ACTOR*__: nos brinda información relevante de la condición del actor causante del accidente."
   ]
  },
  {
   "cell_type": "code",
   "execution_count": 1,
   "metadata": {},
   "outputs": [],
   "source": [
    "# Importamos las librerias necesarias en Python\n",
    "\n",
    "import pandas as pd \n",
    "import seaborn as sb \n",
    "import numpy as np \n",
    "import matplotlib.pyplot as plt \n",
    "import requests\n",
    "%matplotlib inline"
   ]
  },
  {
   "cell_type": "markdown",
   "metadata": {},
   "source": [
    "<p>Dado que le daremos prioridad al data set que contiene la información general de accidentes <b>ACCIDENTES.CSV</b> comenzaremos limpiando y manipulando la información de <b>ACC_VEHICULO</b>, <b>ACC_CAUSA</b> y <b>ACC_ACTOR</b>.<p>"
   ]
  },
  {
   "cell_type": "markdown",
   "metadata": {},
   "source": [
    "__Traemos *ACC_VEHICULO* que corresponde a la información del vehiculo implicado en el accidente mediante un llamado de API__"
   ]
  },
  {
   "cell_type": "code",
   "execution_count": 2,
   "metadata": {},
   "outputs": [
    {
     "name": "stdout",
     "output_type": "stream",
     "text": [
      "Datos obtenidos exitosamente\n"
     ]
    }
   ],
   "source": [
    "# URL de la API\n",
    "url = \"https://sig.simur.gov.co/arcgis/rest/services/Accidentalidad/AccidentalidadAnalisis/FeatureServer/5/query?where=1%3D1&outFields=FORMULARIO,CLASE,SERVICIO&outSR=4326&f=json\"\n",
    "\n",
    "# Hacer la solicitud GET\n",
    "response = requests.get(url)\n",
    "\n",
    "# Verificar si la solicitud fue exitosa\n",
    "if response.status_code == 200:\n",
    "    # Convertir la respuesta a JSON\n",
    "    data = response.json()\n",
    "    print(\"Datos obtenidos exitosamente\")"
   ]
  },
  {
   "cell_type": "code",
   "execution_count": 3,
   "metadata": {},
   "outputs": [
    {
     "data": {
      "text/html": [
       "<div>\n",
       "<style scoped>\n",
       "    .dataframe tbody tr th:only-of-type {\n",
       "        vertical-align: middle;\n",
       "    }\n",
       "\n",
       "    .dataframe tbody tr th {\n",
       "        vertical-align: top;\n",
       "    }\n",
       "\n",
       "    .dataframe thead th {\n",
       "        text-align: right;\n",
       "    }\n",
       "</style>\n",
       "<table border=\"1\" class=\"dataframe\">\n",
       "  <thead>\n",
       "    <tr style=\"text-align: right;\">\n",
       "      <th></th>\n",
       "      <th>FORMULARIO</th>\n",
       "      <th>CLASE</th>\n",
       "      <th>SERVICIO</th>\n",
       "    </tr>\n",
       "  </thead>\n",
       "  <tbody>\n",
       "    <tr>\n",
       "      <th>0</th>\n",
       "      <td>A000035901</td>\n",
       "      <td>AUTOMOVIL</td>\n",
       "      <td>PARTICULAR</td>\n",
       "    </tr>\n",
       "    <tr>\n",
       "      <th>1</th>\n",
       "      <td>A000035901</td>\n",
       "      <td>MICROBUS</td>\n",
       "      <td>PUBLICO</td>\n",
       "    </tr>\n",
       "    <tr>\n",
       "      <th>2</th>\n",
       "      <td>A000035531</td>\n",
       "      <td>AUTOMOVIL</td>\n",
       "      <td>PARTICULAR</td>\n",
       "    </tr>\n",
       "    <tr>\n",
       "      <th>3</th>\n",
       "      <td>A000035139</td>\n",
       "      <td>CAMIONETA</td>\n",
       "      <td>PUBLICO</td>\n",
       "    </tr>\n",
       "    <tr>\n",
       "      <th>4</th>\n",
       "      <td>A000035139</td>\n",
       "      <td>AUTOMOVIL</td>\n",
       "      <td>PARTICULAR</td>\n",
       "    </tr>\n",
       "  </tbody>\n",
       "</table>\n",
       "</div>"
      ],
      "text/plain": [
       "   FORMULARIO      CLASE    SERVICIO\n",
       "0  A000035901  AUTOMOVIL  PARTICULAR\n",
       "1  A000035901   MICROBUS     PUBLICO\n",
       "2  A000035531  AUTOMOVIL  PARTICULAR\n",
       "3  A000035139  CAMIONETA     PUBLICO\n",
       "4  A000035139  AUTOMOVIL  PARTICULAR"
      ]
     },
     "execution_count": 3,
     "metadata": {},
     "output_type": "execute_result"
    }
   ],
   "source": [
    "features = data.get('features', [])  # Obtener la lista de features\n",
    "rows = []  # Lista para almacenar los datos\n",
    "\n",
    "# Recorrer cada feature y extraer los atributos\n",
    "for feature in features:\n",
    "    attributes = feature.get('attributes', {})  # Obtener el diccionario de atributos\n",
    "    rows.append(attributes)  # Agregar los atributos a la lista\n",
    "\n",
    "# Convertir la lista de diccionarios a DataFrame\n",
    "vehiculo_data = pd.DataFrame(rows)\n",
    "vehiculo_data.head(5)"
   ]
  },
  {
   "cell_type": "code",
   "execution_count": 4,
   "metadata": {},
   "outputs": [
    {
     "data": {
      "text/plain": [
       "FORMULARIO     0\n",
       "CLASE         27\n",
       "SERVICIO      85\n",
       "dtype: int64"
      ]
     },
     "execution_count": 4,
     "metadata": {},
     "output_type": "execute_result"
    }
   ],
   "source": [
    "# Verificamos si hay valores nulos\n",
    "vehiculo_data.isna().sum()"
   ]
  },
  {
   "cell_type": "code",
   "execution_count": null,
   "metadata": {},
   "outputs": [
    {
     "name": "stdout",
     "output_type": "stream",
     "text": [
      "<class 'pandas.core.frame.DataFrame'>\n",
      "Index: 1915 entries, 0 to 1999\n",
      "Data columns (total 3 columns):\n",
      " #   Column      Non-Null Count  Dtype \n",
      "---  ------      --------------  ----- \n",
      " 0   FORMULARIO  1915 non-null   object\n",
      " 1   CLASE       1915 non-null   object\n",
      " 2   SERVICIO    1915 non-null   object\n",
      "dtypes: object(3)\n",
      "memory usage: 59.8+ KB\n"
     ]
    }
   ],
   "source": [
    "# Reemplazamos cadenas vacías o espacios con NaN\n",
    "vehiculo_data.replace([\"\", \"SIN INFORMACION\",\" \", \"NaN\", \"null\"], np.nan, inplace=True)\n",
    "\n",
    "# Ahora aplicar dropna()\n",
    "vehiculo_data.dropna(inplace=True)\n",
    "\n",
    "# Verficamos que se hayan eliminado correctamente\n",
    "vehiculo_data.info()"
   ]
  },
  {
   "cell_type": "markdown",
   "metadata": {},
   "source": [
    "El valor en formulario corresponde a un identificador de la información suministrada y a continuación mostramos la variedad de clases de vehiculos que se ven involucrados en accidentes al igual que la clasificación de estos según sus servicios."
   ]
  },
  {
   "cell_type": "code",
   "execution_count": 8,
   "metadata": {},
   "outputs": [
    {
     "name": "stdout",
     "output_type": "stream",
     "text": [
      "CLASE\n",
      "AUTOMOVIL         789\n",
      "MOTOCICLETA       314\n",
      "CAMIONETA         248\n",
      "BUS               208\n",
      "CAMION, FURGON     98\n",
      "CAMPERO            83\n",
      "MICROBUS           77\n",
      "TRACTOCAMION       38\n",
      "BUSETA             37\n",
      "VOLQUETA           23\n",
      "Name: count, dtype: int64\n",
      "\n",
      "SERVICIO\n",
      "PARTICULAR     1022\n",
      "PUBLICO         847\n",
      "OFICIAL          45\n",
      "DIPLOMATICO       1\n",
      "Name: count, dtype: int64\n"
     ]
    }
   ],
   "source": [
    "print(vehiculo_data['CLASE'].value_counts())\n",
    "print(\"\")\n",
    "print(vehiculo_data['SERVICIO'].value_counts())"
   ]
  },
  {
   "cell_type": "code",
   "execution_count": null,
   "metadata": {},
   "outputs": [],
   "source": []
  }
 ],
 "metadata": {
  "kernelspec": {
   "display_name": ".venv",
   "language": "python",
   "name": "python3"
  },
  "language_info": {
   "codemirror_mode": {
    "name": "ipython",
    "version": 3
   },
   "file_extension": ".py",
   "mimetype": "text/x-python",
   "name": "python",
   "nbconvert_exporter": "python",
   "pygments_lexer": "ipython3",
   "version": "3.12.9"
  }
 },
 "nbformat": 4,
 "nbformat_minor": 2
}
