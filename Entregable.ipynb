{
 "cells": [
  {
   "cell_type": "markdown",
   "metadata": {},
   "source": [
    "<span style=\"font-size:1.5em;\"><b>Análisis de bases de datos  \n",
    "Universidad Nacional de Colombia  \n",
    "2024-2</b></span>\n",
    "# <b>Siniestralidad Vial en Bogotá: Análisis de Datos para la Gestión de la Movilidad Segura</b>  \n",
    "\n",
    "<span style=\"font-size:0.9em;\">Laura Nicole Bermudez Santa - labermudezs@unal.edu.co  \n",
    "David Sebastián Mendoza Cruz - damendozac@unal.edu.co  \n",
    "David Alejandro Alquichire Rincón - dalquichire@unal.edu.co  \n",
    "Laura Nicole Bermudez Santa - labermudezs@unal.edu.co  \n",
    "Juan David Bernal Vesga - jubernalv@unal.edu.co</span>\n",
    "\n",
    "----"
   ]
  },
  {
   "cell_type": "markdown",
   "metadata": {},
   "source": [
    "La seguridad vial es un tema de vital importancia para la planificación urbana y la protección de la vida en las ciudades. En Bogotá, la Secretaría Distrital de Movilidad (SDM) ha recopilado datos detallados sobre siniestralidad vial desde el año 2007, los cuales incluyen información sobre lesionados, accidentes, causas, tipos de vehículos involucrados y actores viales. Estos datos, disponibles en la plataforma Enterprise de la SDM, representan una oportunidad única para analizar y comprender los patrones de accidentalidad en la ciudad, con el fin de contribuir a la toma de decisiones informadas en materia de seguridad vial.\n",
    "\n",
    "Este proyecto tiene los siguientes objetivos:\n",
    "1. Analizar y clasificar los accidentes de tránsito registrados en Bogotá en la plataforma de la secretaria de movilidad desde el 2007, enfocándose en la relación entre tipo de vehículo, actores viales involucrados, localidades afectadas, el estado de los incidentes, etc. Con el fin de identificar patrones clave y proporcionar insumos para la toma de decisiones en materia de seguridad vial.  \n",
    "2. Proporcionar herramientas visuales que guíen la toma de decisiones en materia de seguridad vial en resultado del análisis estadístico realizado.\n",
    "3. Determinar tendencias y generar pronósticos que permitan anticipar posibles escenarios de siniestralidad en el futuro, mediante una proyección temporal del comportamiento de los accidentes de tránsito, considerando variables como la frecuencia de muertes y accidentes simples.\n",
    "Buscamos lo que se expone en los objetivos, pero la idea es usar datos abiertos expuestos en la página de la secretaria de movilidad donde tenemos acceso a los siguientes datos de siniestralidad:\n",
    "Lesionado, accidentes, causa, vehiculo y actor.\n",
    "\n",
    "\n",
    "\n",
    "----"
   ]
  },
  {
   "cell_type": "markdown",
   "metadata": {},
   "source": [
    "### **Manipulación y limpieza de las bases de datos individuales**"
   ]
  },
  {
   "cell_type": "markdown",
   "metadata": {},
   "source": [
    "La Secretaria de movilidad dispone una base de [datos abiertos](https://datos.movilidadbogota.gov.co/maps/ea243e7de8e846c8bd27e47c08771d66/about) amplia en materia de siniestrialidad en Bogotá la cual ha sido alimentada con datos desde el 2007. En esta sección depuraremos los siguientes data sets:\n",
    "- __*ACCIDENTE*__: nos brinda información detallada de la cantidad de accidentes que se han registrado en la ciudad de bogotá incluyendo sus coordenadas, la clase de choque, fecha y gravedad. (En este dataset se concentra la mayoria de los datos y es de nuestro interes analizarlo a profundidad).\n",
    "- __*LESIONADO*__: incluye información de las personas involucrada tales como su condición, genero y edad son los datos mas relevantes. (Sin embargo la descripción y el contenido de la información no resulta de nuestro interes).\n",
    "- __*ACC_VIA*__: caracteristicas relevantes de cada via donde sucedio el accidente, resulta relevante al relacionar el estado de las vías en la ciudad de Bogotá como posible causante de siniestros en ciertos lugares o localidades.\n",
    "- __*ACC_VEHICULO*__: información general del tipo de vehiculo y el uso de este ya sea publico o particular.\n",
    "- __*ACC_CAUSA*__: incluye una breve descripción de una posible causa asociada al siniestro.\n",
    "- __*ACC_ACTOR*__: nos brinda información relevante de la condición del actor causante del accidente."
   ]
  },
  {
   "cell_type": "code",
   "execution_count": 53,
   "metadata": {},
   "outputs": [],
   "source": [
    "# Importamos las librerias necesarias en Python\n",
    "\n",
    "import pandas as pd \n",
    "import seaborn as sb \n",
    "import numpy as np \n",
    "import matplotlib.pyplot as plt \n",
    "import requests\n",
    "%matplotlib inline"
   ]
  },
  {
   "cell_type": "markdown",
   "metadata": {},
   "source": [
    "<p>Dado que le daremos prioridad al data set que contiene la información general de accidentes <b>ACCIDENTES.CSV</b> comenzaremos limpiando y manipulando la información de <b>ACC_VEHICULO</b>, <b>ACC_CAUSA</b>, <b>ACC_VIA</b> y <b>ACC_ACTOR_VIAL</b>.<p>"
   ]
  },
  {
   "cell_type": "markdown",
   "metadata": {},
   "source": [
    "##### __Traemos *ACC_VEHICULO* que corresponde a la información del vehiculo implicado en el accidente mediante un llamado de API__"
   ]
  },
  {
   "cell_type": "markdown",
   "metadata": {},
   "source": [
    "Traemos la información mediante un llamado a API, sin embargo como los datos se van actualizando diariamente para conservar los resultados guardamos los dataframes como archivos CSV en la carpeta __proy_datasets__ y usamos estos."
   ]
  },
  {
   "cell_type": "code",
   "execution_count": 54,
   "metadata": {},
   "outputs": [
    {
     "data": {
      "text/plain": [
       "'\\n# URL de la API\\nurl = \"https://sig.simur.gov.co/arcgis/rest/services/Accidentalidad/AccidentalidadAnalisis/FeatureServer/5/query?where=1%3D1&outFields=FORMULARIO,CLASE,SERVICIO&outSR=4326&f=json\"\\n\\n# Hacer la solicitud GET\\nresponse = requests.get(url)\\n\\n# Verificar si la solicitud fue exitosa\\nif response.status_code == 200:\\n    # Convertir la respuesta a JSON\\n    data = response.json()\\n    print(\"Datos obtenidos exitosamente\")\\n'"
      ]
     },
     "execution_count": 54,
     "metadata": {},
     "output_type": "execute_result"
    }
   ],
   "source": [
    "\"\"\"\n",
    "# URL de la API\n",
    "url = \"https://sig.simur.gov.co/arcgis/rest/services/Accidentalidad/AccidentalidadAnalisis/FeatureServer/5/query?where=1%3D1&outFields=FORMULARIO,CLASE,SERVICIO&outSR=4326&f=json\"\n",
    "\n",
    "# Hacer la solicitud GET\n",
    "response = requests.get(url)\n",
    "\n",
    "# Verificar si la solicitud fue exitosa\n",
    "if response.status_code == 200:\n",
    "    # Convertir la respuesta a JSON\n",
    "    data = response.json()\n",
    "    print(\"Datos obtenidos exitosamente\")\n",
    "\"\"\""
   ]
  },
  {
   "cell_type": "code",
   "execution_count": 55,
   "metadata": {},
   "outputs": [
    {
     "data": {
      "text/plain": [
       "'\\nfeatures = data.get(\\'features\\', [])  # Obtener la lista de features\\nrows = []  # Lista para almacenar los datos\\n\\n# Recorrer cada feature y extraer los atributos\\nfor feature in features:\\n    attributes = feature.get(\\'attributes\\', {})  # Obtener el diccionario de atributos\\n    rows.append(attributes)  # Agregar los atributos a la lista\\n\\n# Convertir la lista de diccionarios a DataFrame\\nvehiculo_data = pd.DataFrame(rows)\\n\\n\\n# Guardamos el data frame como archivo CSV \\nvehiculo_data.to_csv(\"proy_datasets/Vehiculo_data.csv\", index=False)  # Guarda el DataFrame en un archivo CSV\\n'"
      ]
     },
     "execution_count": 55,
     "metadata": {},
     "output_type": "execute_result"
    }
   ],
   "source": [
    "\"\"\"\n",
    "features = data.get('features', [])  # Obtener la lista de features\n",
    "rows = []  # Lista para almacenar los datos\n",
    "\n",
    "# Recorrer cada feature y extraer los atributos\n",
    "for feature in features:\n",
    "    attributes = feature.get('attributes', {})  # Obtener el diccionario de atributos\n",
    "    rows.append(attributes)  # Agregar los atributos a la lista\n",
    "\n",
    "# Convertir la lista de diccionarios a DataFrame\n",
    "vehiculo_data = pd.DataFrame(rows)\n",
    "\n",
    "\n",
    "# Guardamos el data frame como archivo CSV \n",
    "vehiculo_data.to_csv(\"proy_datasets/Vehiculo_data.csv\", index=False)  # Guarda el DataFrame en un archivo CSV\n",
    "\"\"\"\n"
   ]
  },
  {
   "cell_type": "code",
   "execution_count": 56,
   "metadata": {},
   "outputs": [
    {
     "data": {
      "text/html": [
       "<div>\n",
       "<style scoped>\n",
       "    .dataframe tbody tr th:only-of-type {\n",
       "        vertical-align: middle;\n",
       "    }\n",
       "\n",
       "    .dataframe tbody tr th {\n",
       "        vertical-align: top;\n",
       "    }\n",
       "\n",
       "    .dataframe thead th {\n",
       "        text-align: right;\n",
       "    }\n",
       "</style>\n",
       "<table border=\"1\" class=\"dataframe\">\n",
       "  <thead>\n",
       "    <tr style=\"text-align: right;\">\n",
       "      <th></th>\n",
       "      <th>FORMULARIO</th>\n",
       "      <th>CLASE</th>\n",
       "      <th>SERVICIO</th>\n",
       "    </tr>\n",
       "  </thead>\n",
       "  <tbody>\n",
       "    <tr>\n",
       "      <th>0</th>\n",
       "      <td>A001572817</td>\n",
       "      <td>MOTOCICLETA</td>\n",
       "      <td>PARTICULAR</td>\n",
       "    </tr>\n",
       "    <tr>\n",
       "      <th>1</th>\n",
       "      <td>A001572416</td>\n",
       "      <td>MOTOCICLETA</td>\n",
       "      <td>PARTICULAR</td>\n",
       "    </tr>\n",
       "    <tr>\n",
       "      <th>2</th>\n",
       "      <td>A001572723</td>\n",
       "      <td>AUTOMOVIL</td>\n",
       "      <td>PARTICULAR</td>\n",
       "    </tr>\n",
       "    <tr>\n",
       "      <th>3</th>\n",
       "      <td>A001572723</td>\n",
       "      <td>MOTOCICLETA</td>\n",
       "      <td>PARTICULAR</td>\n",
       "    </tr>\n",
       "    <tr>\n",
       "      <th>4</th>\n",
       "      <td>A001572723</td>\n",
       "      <td>CAMIONETA</td>\n",
       "      <td>PUBLICO</td>\n",
       "    </tr>\n",
       "  </tbody>\n",
       "</table>\n",
       "</div>"
      ],
      "text/plain": [
       "   FORMULARIO        CLASE    SERVICIO\n",
       "0  A001572817  MOTOCICLETA  PARTICULAR\n",
       "1  A001572416  MOTOCICLETA  PARTICULAR\n",
       "2  A001572723    AUTOMOVIL  PARTICULAR\n",
       "3  A001572723  MOTOCICLETA  PARTICULAR\n",
       "4  A001572723    CAMIONETA     PUBLICO"
      ]
     },
     "execution_count": 56,
     "metadata": {},
     "output_type": "execute_result"
    }
   ],
   "source": [
    "vehiculo_data = pd.read_csv(\"proy_datasets/Vehiculo_data.csv\")\n",
    "vehiculo_data.head(5)\n"
   ]
  },
  {
   "cell_type": "code",
   "execution_count": 57,
   "metadata": {},
   "outputs": [
    {
     "data": {
      "text/plain": [
       "FORMULARIO    0\n",
       "CLASE         0\n",
       "SERVICIO      0\n",
       "dtype: int64"
      ]
     },
     "execution_count": 57,
     "metadata": {},
     "output_type": "execute_result"
    }
   ],
   "source": [
    "# Verificamos si hay valores nulos\n",
    "vehiculo_data.isna().sum()"
   ]
  },
  {
   "cell_type": "code",
   "execution_count": 58,
   "metadata": {},
   "outputs": [
    {
     "name": "stdout",
     "output_type": "stream",
     "text": [
      "<class 'pandas.core.frame.DataFrame'>\n",
      "RangeIndex: 2000 entries, 0 to 1999\n",
      "Data columns (total 3 columns):\n",
      " #   Column      Non-Null Count  Dtype \n",
      "---  ------      --------------  ----- \n",
      " 0   FORMULARIO  2000 non-null   object\n",
      " 1   CLASE       2000 non-null   object\n",
      " 2   SERVICIO    2000 non-null   object\n",
      "dtypes: object(3)\n",
      "memory usage: 47.0+ KB\n"
     ]
    }
   ],
   "source": [
    "# Reemplazamos cadenas vacías o espacios con NaN\n",
    "vehiculo_data.replace([\"\", \"SIN INFORMACION\",\" \", \"NaN\", \"null\"], np.nan, inplace=True)\n",
    "\n",
    "# Ahora aplicar dropna()\n",
    "vehiculo_data.dropna(inplace=True)\n",
    "\n",
    "# Verficamos que se hayan eliminado correctamente\n",
    "vehiculo_data.info()"
   ]
  },
  {
   "cell_type": "markdown",
   "metadata": {},
   "source": [
    "El valor en formulario corresponde a un identificador de la información suministrada y a continuación mostramos la variedad de clases de vehiculos que se ven involucrados en accidentes al igual que la clasificación de estos según sus servicios."
   ]
  },
  {
   "cell_type": "code",
   "execution_count": 59,
   "metadata": {},
   "outputs": [
    {
     "name": "stdout",
     "output_type": "stream",
     "text": [
      "CLASE\n",
      "MOTOCICLETA        793\n",
      "AUTOMOVIL          540\n",
      "BUS                201\n",
      "CAMIONETA          186\n",
      "BICICLETA          146\n",
      "CAMION, FURGON      47\n",
      "CAMPERO             34\n",
      "MICROBUS            14\n",
      "TRACTOCAMION        13\n",
      "MOTOTRICICLO        12\n",
      "VOLQUETA             6\n",
      "BUSETA               6\n",
      "MOTOCARRO            1\n",
      "NO IDENTIFICADO      1\n",
      "Name: count, dtype: int64\n",
      "\n",
      "SERVICIO\n",
      "PARTICULAR          1241\n",
      "PUBLICO              512\n",
      " SIN INFORMACION     215\n",
      "OFICIAL               32\n",
      "Name: count, dtype: int64\n"
     ]
    }
   ],
   "source": [
    "print(vehiculo_data['CLASE'].value_counts())\n",
    "print(\"\")\n",
    "print(vehiculo_data['SERVICIO'].value_counts())"
   ]
  },
  {
   "cell_type": "markdown",
   "metadata": {},
   "source": [
    "##### __Traemos *ACC_VIA* que corresponde a la información del estado de la via lugar del accidente mediante un llamado de API__"
   ]
  },
  {
   "cell_type": "markdown",
   "metadata": {},
   "source": [
    "Traemos la información mediante un llamado a API, sin embargo como los datos se van actualizando diariamente para conservar los resultados guardamos los dataframes como archivos CSV en la carpeta __proy_datasets__ y usamos estos."
   ]
  },
  {
   "cell_type": "code",
   "execution_count": 60,
   "metadata": {},
   "outputs": [
    {
     "data": {
      "text/plain": [
       "'\\n# URL de la API\\nurl =\"https://sig.simur.gov.co/arcgis/rest/services/Accidentalidad/AccidentalidadAnalisis/FeatureServer/6/query?where=1%3D1&outFields=FORMULARIO,GEOMETRICA_A,GEOMETRICA_B,GEOMETRICA_C,UTILIZACION,CALZADAS,CARRILES,MATERIAL,ESTADO,CONDICIONES,ILUMINACION_A,AGENTE_TRANSITO,SEMAFORO&outSR=4326&f=json\"\\n\\n# Hacer la solicitud GET\\nresponse = requests.get(url)\\n\\n# Verificar si la solicitud fue exitosa\\nif response.status_code == 200:\\n    # Convertir la respuesta a JSON\\n    data = response.json()\\n    print(\"Datos obtenidos exitosamente\")\\n'"
      ]
     },
     "execution_count": 60,
     "metadata": {},
     "output_type": "execute_result"
    }
   ],
   "source": [
    "\"\"\"\n",
    "# URL de la API\n",
    "url =\"https://sig.simur.gov.co/arcgis/rest/services/Accidentalidad/AccidentalidadAnalisis/FeatureServer/6/query?where=1%3D1&outFields=FORMULARIO,GEOMETRICA_A,GEOMETRICA_B,GEOMETRICA_C,UTILIZACION,CALZADAS,CARRILES,MATERIAL,ESTADO,CONDICIONES,ILUMINACION_A,AGENTE_TRANSITO,SEMAFORO&outSR=4326&f=json\"\n",
    "\n",
    "# Hacer la solicitud GET\n",
    "response = requests.get(url)\n",
    "\n",
    "# Verificar si la solicitud fue exitosa\n",
    "if response.status_code == 200:\n",
    "    # Convertir la respuesta a JSON\n",
    "    data = response.json()\n",
    "    print(\"Datos obtenidos exitosamente\")\n",
    "\"\"\""
   ]
  },
  {
   "cell_type": "code",
   "execution_count": 61,
   "metadata": {},
   "outputs": [
    {
     "data": {
      "text/plain": [
       "'\\nfeatures = data.get(\\'features\\', [])  # Obtener la lista de features\\nrows = []  # Lista para almacenar los datos\\n\\n# Recorrer cada feature y extraer los atributos\\nfor feature in features:\\n    attributes = feature.get(\\'attributes\\', {})  # Obtener el diccionario de atributos\\n    rows.append(attributes)  # Agregar los atributos a la lista\\n\\nvia_data = pd.DataFrame(rows)\\nvia_data.head(5)\\n\\n# Guardamos el data frame como archivo CSV \\nvia_data.to_csv(\"proy_datasets/Via_data.csv\", index=False)  # Guarda el DataFrame en un archivo CSV\\n'"
      ]
     },
     "execution_count": 61,
     "metadata": {},
     "output_type": "execute_result"
    }
   ],
   "source": [
    "\"\"\"\n",
    "features = data.get('features', [])  # Obtener la lista de features\n",
    "rows = []  # Lista para almacenar los datos\n",
    "\n",
    "# Recorrer cada feature y extraer los atributos\n",
    "for feature in features:\n",
    "    attributes = feature.get('attributes', {})  # Obtener el diccionario de atributos\n",
    "    rows.append(attributes)  # Agregar los atributos a la lista\n",
    "\n",
    "via_data = pd.DataFrame(rows)\n",
    "via_data.head(5)\n",
    "\n",
    "# Guardamos el data frame como archivo CSV \n",
    "via_data.to_csv(\"proy_datasets/Via_data.csv\", index=False)  # Guarda el DataFrame en un archivo CSV\n",
    "\"\"\""
   ]
  },
  {
   "cell_type": "code",
   "execution_count": 62,
   "metadata": {},
   "outputs": [
    {
     "data": {
      "text/html": [
       "<div>\n",
       "<style scoped>\n",
       "    .dataframe tbody tr th:only-of-type {\n",
       "        vertical-align: middle;\n",
       "    }\n",
       "\n",
       "    .dataframe tbody tr th {\n",
       "        vertical-align: top;\n",
       "    }\n",
       "\n",
       "    .dataframe thead th {\n",
       "        text-align: right;\n",
       "    }\n",
       "</style>\n",
       "<table border=\"1\" class=\"dataframe\">\n",
       "  <thead>\n",
       "    <tr style=\"text-align: right;\">\n",
       "      <th></th>\n",
       "      <th>FORMULARIO</th>\n",
       "      <th>GEOMETRICA_A</th>\n",
       "      <th>GEOMETRICA_B</th>\n",
       "      <th>GEOMETRICA_C</th>\n",
       "      <th>UTILIZACION</th>\n",
       "      <th>CALZADAS</th>\n",
       "      <th>CARRILES</th>\n",
       "      <th>MATERIAL</th>\n",
       "      <th>ESTADO</th>\n",
       "      <th>CONDICIONES</th>\n",
       "      <th>ILUMINACION_A</th>\n",
       "      <th>AGENTE_TRANSITO</th>\n",
       "      <th>SEMAFORO</th>\n",
       "    </tr>\n",
       "  </thead>\n",
       "  <tbody>\n",
       "    <tr>\n",
       "      <th>0</th>\n",
       "      <td>A001030093</td>\n",
       "      <td>RECTA</td>\n",
       "      <td>PLANO</td>\n",
       "      <td>CON ANDEN</td>\n",
       "      <td>UN SENTIDO</td>\n",
       "      <td>UNA</td>\n",
       "      <td>DOS</td>\n",
       "      <td>ASFALTO</td>\n",
       "      <td>BUENO</td>\n",
       "      <td>SECA</td>\n",
       "      <td>SIN</td>\n",
       "      <td>NO</td>\n",
       "      <td>OPERANDO</td>\n",
       "    </tr>\n",
       "    <tr>\n",
       "      <th>1</th>\n",
       "      <td>A001030278</td>\n",
       "      <td>RECTA</td>\n",
       "      <td>PLANO</td>\n",
       "      <td>CON BERMAS</td>\n",
       "      <td>DOBLE SENTIDO</td>\n",
       "      <td>UNA</td>\n",
       "      <td>TRES O MAS</td>\n",
       "      <td>ASFALTO</td>\n",
       "      <td>BUENO</td>\n",
       "      <td>SECA</td>\n",
       "      <td>SIN</td>\n",
       "      <td>NO</td>\n",
       "      <td>OPERANDO</td>\n",
       "    </tr>\n",
       "    <tr>\n",
       "      <th>2</th>\n",
       "      <td>A001029417</td>\n",
       "      <td>RECTA</td>\n",
       "      <td>PLANO</td>\n",
       "      <td>CON ANDEN</td>\n",
       "      <td>UN SENTIDO</td>\n",
       "      <td>UNA</td>\n",
       "      <td>DOS</td>\n",
       "      <td>ASFALTO</td>\n",
       "      <td>BUENO</td>\n",
       "      <td>SECA</td>\n",
       "      <td>SIN</td>\n",
       "      <td>NO</td>\n",
       "      <td>OPERANDO</td>\n",
       "    </tr>\n",
       "    <tr>\n",
       "      <th>3</th>\n",
       "      <td>A001029417</td>\n",
       "      <td>RECTA</td>\n",
       "      <td>PLANO</td>\n",
       "      <td>CON BERMAS</td>\n",
       "      <td>UN SENTIDO</td>\n",
       "      <td>UNA</td>\n",
       "      <td>UNO</td>\n",
       "      <td>ASFALTO</td>\n",
       "      <td>BUENO</td>\n",
       "      <td>SECA</td>\n",
       "      <td>SIN</td>\n",
       "      <td>NO</td>\n",
       "      <td>OPERANDO</td>\n",
       "    </tr>\n",
       "    <tr>\n",
       "      <th>4</th>\n",
       "      <td>A001030431</td>\n",
       "      <td>CURVA</td>\n",
       "      <td>PLANO</td>\n",
       "      <td>CON BERMAS</td>\n",
       "      <td>UN SENTIDO</td>\n",
       "      <td>DOS</td>\n",
       "      <td>DOS</td>\n",
       "      <td>ASFALTO</td>\n",
       "      <td>BUENO</td>\n",
       "      <td>SECA</td>\n",
       "      <td>CON</td>\n",
       "      <td>NO</td>\n",
       "      <td>OPERANDO</td>\n",
       "    </tr>\n",
       "  </tbody>\n",
       "</table>\n",
       "</div>"
      ],
      "text/plain": [
       "   FORMULARIO GEOMETRICA_A GEOMETRICA_B GEOMETRICA_C    UTILIZACION CALZADAS  \\\n",
       "0  A001030093        RECTA        PLANO    CON ANDEN     UN SENTIDO      UNA   \n",
       "1  A001030278        RECTA        PLANO   CON BERMAS  DOBLE SENTIDO      UNA   \n",
       "2  A001029417        RECTA        PLANO    CON ANDEN     UN SENTIDO      UNA   \n",
       "3  A001029417        RECTA        PLANO   CON BERMAS     UN SENTIDO      UNA   \n",
       "4  A001030431        CURVA        PLANO   CON BERMAS     UN SENTIDO      DOS   \n",
       "\n",
       "     CARRILES MATERIAL ESTADO CONDICIONES ILUMINACION_A AGENTE_TRANSITO  \\\n",
       "0         DOS  ASFALTO  BUENO        SECA           SIN              NO   \n",
       "1  TRES O MAS  ASFALTO  BUENO        SECA           SIN              NO   \n",
       "2         DOS  ASFALTO  BUENO        SECA           SIN              NO   \n",
       "3         UNO  ASFALTO  BUENO        SECA           SIN              NO   \n",
       "4         DOS  ASFALTO  BUENO        SECA           CON              NO   \n",
       "\n",
       "   SEMAFORO  \n",
       "0  OPERANDO  \n",
       "1  OPERANDO  \n",
       "2  OPERANDO  \n",
       "3  OPERANDO  \n",
       "4  OPERANDO  "
      ]
     },
     "execution_count": 62,
     "metadata": {},
     "output_type": "execute_result"
    }
   ],
   "source": [
    "via_data = pd.read_csv(\"proy_datasets/Via_data.csv\")\n",
    "via_data.head(5)"
   ]
  },
  {
   "cell_type": "code",
   "execution_count": 63,
   "metadata": {},
   "outputs": [
    {
     "data": {
      "text/plain": [
       "FORMULARIO         0\n",
       "GEOMETRICA_A       0\n",
       "GEOMETRICA_B       0\n",
       "GEOMETRICA_C       0\n",
       "UTILIZACION        0\n",
       "CALZADAS           0\n",
       "CARRILES           0\n",
       "MATERIAL           0\n",
       "ESTADO             0\n",
       "CONDICIONES        0\n",
       "ILUMINACION_A      0\n",
       "AGENTE_TRANSITO    0\n",
       "SEMAFORO           0\n",
       "dtype: int64"
      ]
     },
     "execution_count": 63,
     "metadata": {},
     "output_type": "execute_result"
    }
   ],
   "source": [
    "# Revisamos valores nulos \n",
    "via_data.isna().sum()"
   ]
  },
  {
   "cell_type": "code",
   "execution_count": 64,
   "metadata": {},
   "outputs": [
    {
     "name": "stdout",
     "output_type": "stream",
     "text": [
      "<class 'pandas.core.frame.DataFrame'>\n",
      "RangeIndex: 2000 entries, 0 to 1999\n",
      "Data columns (total 13 columns):\n",
      " #   Column           Non-Null Count  Dtype \n",
      "---  ------           --------------  ----- \n",
      " 0   FORMULARIO       2000 non-null   object\n",
      " 1   GEOMETRICA_A     2000 non-null   object\n",
      " 2   GEOMETRICA_B     2000 non-null   object\n",
      " 3   GEOMETRICA_C     2000 non-null   object\n",
      " 4   UTILIZACION      2000 non-null   object\n",
      " 5   CALZADAS         2000 non-null   object\n",
      " 6   CARRILES         2000 non-null   object\n",
      " 7   MATERIAL         2000 non-null   object\n",
      " 8   ESTADO           2000 non-null   object\n",
      " 9   CONDICIONES      2000 non-null   object\n",
      " 10  ILUMINACION_A    2000 non-null   object\n",
      " 11  AGENTE_TRANSITO  2000 non-null   object\n",
      " 12  SEMAFORO         2000 non-null   object\n",
      "dtypes: object(13)\n",
      "memory usage: 203.3+ KB\n"
     ]
    }
   ],
   "source": [
    "# Reemplazar cadenas vacías o espacios con NaN\n",
    "via_data.replace([\"\", \"SIN INFORMACION\",\" \", \"NaN\", \"null\"], np.nan, inplace=True)\n",
    "\n",
    "# Ahora aplicar dropna()\n",
    "via_data.dropna(inplace=True)\n",
    "\n",
    "# Verficamos que se hayan eliminado correctamente\n",
    "via_data.info()"
   ]
  },
  {
   "cell_type": "markdown",
   "metadata": {},
   "source": [
    "El valor en formulario corresponde a un identificador de la información suministrada y a continuación mostramos los posibles valores de los siguientes atributos semaforo -se indica si el semaforo se encontraba operando-, Estado -estado general de la via- Geometrica_A, Geometrica_B, Geometrica_C -descripciones de la via-, utilización -sentidos de funcionamientos-, calzadas, carriles, material de la via, condiciones al momento del accidente, iluminación y la presencia de un agente de transito."
   ]
  },
  {
   "cell_type": "code",
   "execution_count": 65,
   "metadata": {},
   "outputs": [
    {
     "name": "stdout",
     "output_type": "stream",
     "text": [
      "SEMAFORO\n",
      "OPERANDO        1819\n",
      "NINGUNO          174\n",
      "APAGADO            3\n",
      "INTERMITENTE       3\n",
      "OCULTO             1\n",
      "Name: count, dtype: int64\n",
      "\n",
      "ESTADO\n",
      "BUENO           1969\n",
      "CON HUECOS        22\n",
      "PARCHADA           5\n",
      "HUNDIMIENTOS       3\n",
      "DERRUMBES          1\n",
      "Name: count, dtype: int64\n",
      "\n",
      "GEOMETRICA_A\n",
      "RECTA    1979\n",
      "CURVA      21\n",
      "Name: count, dtype: int64\n",
      "GEOMETRICA_B\n",
      "PLANO        1968\n",
      "PENDIENTE      32\n",
      "Name: count, dtype: int64\n",
      "GEOMETRICA_C\n",
      "CON ANDEN        1216\n",
      "CON BERMAS        780\n",
      "BAHIA DE EST.       4\n",
      "Name: count, dtype: int64\n",
      "\n",
      "UTILIZACION\n",
      "UN SENTIDO       1350\n",
      "DOBLE SENTIDO     641\n",
      "REVERSIBLE          9\n",
      "Name: count, dtype: int64\n",
      "\n",
      "CALZADAS\n",
      "UNA           1496\n",
      "DOS            377\n",
      "TRES O MAS     122\n",
      "VARIABLE         5\n",
      "Name: count, dtype: int64\n",
      "\n",
      "CARRILES\n",
      "DOS           910\n",
      "TRES O MAS    706\n",
      "UNO           367\n",
      "VARIABLE       17\n",
      "Name: count, dtype: int64\n",
      "\n",
      "MATERIAL\n",
      "ASFALTO      1875\n",
      "CONCRETO      113\n",
      "AFIRMADO        9\n",
      "EMPEDRADO       2\n",
      "ADOQUIN         1\n",
      "Name: count, dtype: int64\n",
      "\n",
      "CONDICIONES\n",
      "SECA      1876\n",
      "HUMEDA     123\n",
      "LODO         1\n",
      "Name: count, dtype: int64\n",
      "\n",
      "ILUMINACION_A\n",
      "CON    1243\n",
      "SIN     757\n",
      "Name: count, dtype: int64\n",
      "\n",
      "AGENTE_TRANSITO\n",
      "NO    1923\n",
      "SI      77\n",
      "Name: count, dtype: int64\n"
     ]
    }
   ],
   "source": [
    "print(via_data[\"SEMAFORO\"].value_counts())\n",
    "print(\"\")\n",
    "print(via_data[\"ESTADO\"].value_counts())\n",
    "print(\"\")\n",
    "print(via_data[\"GEOMETRICA_A\"].value_counts())\n",
    "print(via_data[\"GEOMETRICA_B\"].value_counts())\n",
    "print(via_data[\"GEOMETRICA_C\"].value_counts())\n",
    "print(\"\")\n",
    "print(via_data[\"UTILIZACION\"].value_counts())\n",
    "print(\"\")\n",
    "print(via_data[\"CALZADAS\"].value_counts())\n",
    "print(\"\")\n",
    "print(via_data[\"CARRILES\"].value_counts())\n",
    "print(\"\")\n",
    "print(via_data[\"MATERIAL\"].value_counts())\n",
    "print(\"\")\n",
    "print(via_data[\"CONDICIONES\"].value_counts())\n",
    "print(\"\")\n",
    "print(via_data[\"ILUMINACION_A\"].value_counts())\n",
    "print(\"\")\n",
    "print(via_data[\"AGENTE_TRANSITO\"].value_counts())"
   ]
  },
  {
   "cell_type": "markdown",
   "metadata": {},
   "source": [
    "Como se puede observar podriamos convertir la información del atributo *AGENTE_Transito* y *ILUMINACION_A* en un tipo de dato númerico binario haciendo uso de dummies."
   ]
  },
  {
   "cell_type": "code",
   "execution_count": 66,
   "metadata": {},
   "outputs": [
    {
     "data": {
      "text/html": [
       "<div>\n",
       "<style scoped>\n",
       "    .dataframe tbody tr th:only-of-type {\n",
       "        vertical-align: middle;\n",
       "    }\n",
       "\n",
       "    .dataframe tbody tr th {\n",
       "        vertical-align: top;\n",
       "    }\n",
       "\n",
       "    .dataframe thead th {\n",
       "        text-align: right;\n",
       "    }\n",
       "</style>\n",
       "<table border=\"1\" class=\"dataframe\">\n",
       "  <thead>\n",
       "    <tr style=\"text-align: right;\">\n",
       "      <th></th>\n",
       "      <th>FORMULARIO</th>\n",
       "      <th>GEOMETRICA_A</th>\n",
       "      <th>GEOMETRICA_B</th>\n",
       "      <th>GEOMETRICA_C</th>\n",
       "      <th>UTILIZACION</th>\n",
       "      <th>CALZADAS</th>\n",
       "      <th>CARRILES</th>\n",
       "      <th>MATERIAL</th>\n",
       "      <th>ESTADO</th>\n",
       "      <th>CONDICIONES</th>\n",
       "      <th>SEMAFORO</th>\n",
       "      <th>ILUMINACION</th>\n",
       "      <th>AGENTE_TRANSITO</th>\n",
       "    </tr>\n",
       "  </thead>\n",
       "  <tbody>\n",
       "    <tr>\n",
       "      <th>0</th>\n",
       "      <td>A001030093</td>\n",
       "      <td>RECTA</td>\n",
       "      <td>PLANO</td>\n",
       "      <td>CON ANDEN</td>\n",
       "      <td>UN SENTIDO</td>\n",
       "      <td>UNA</td>\n",
       "      <td>DOS</td>\n",
       "      <td>ASFALTO</td>\n",
       "      <td>BUENO</td>\n",
       "      <td>SECA</td>\n",
       "      <td>OPERANDO</td>\n",
       "      <td>0</td>\n",
       "      <td>0</td>\n",
       "    </tr>\n",
       "    <tr>\n",
       "      <th>1</th>\n",
       "      <td>A001030278</td>\n",
       "      <td>RECTA</td>\n",
       "      <td>PLANO</td>\n",
       "      <td>CON BERMAS</td>\n",
       "      <td>DOBLE SENTIDO</td>\n",
       "      <td>UNA</td>\n",
       "      <td>TRES O MAS</td>\n",
       "      <td>ASFALTO</td>\n",
       "      <td>BUENO</td>\n",
       "      <td>SECA</td>\n",
       "      <td>OPERANDO</td>\n",
       "      <td>0</td>\n",
       "      <td>0</td>\n",
       "    </tr>\n",
       "    <tr>\n",
       "      <th>2</th>\n",
       "      <td>A001029417</td>\n",
       "      <td>RECTA</td>\n",
       "      <td>PLANO</td>\n",
       "      <td>CON ANDEN</td>\n",
       "      <td>UN SENTIDO</td>\n",
       "      <td>UNA</td>\n",
       "      <td>DOS</td>\n",
       "      <td>ASFALTO</td>\n",
       "      <td>BUENO</td>\n",
       "      <td>SECA</td>\n",
       "      <td>OPERANDO</td>\n",
       "      <td>0</td>\n",
       "      <td>0</td>\n",
       "    </tr>\n",
       "    <tr>\n",
       "      <th>3</th>\n",
       "      <td>A001029417</td>\n",
       "      <td>RECTA</td>\n",
       "      <td>PLANO</td>\n",
       "      <td>CON BERMAS</td>\n",
       "      <td>UN SENTIDO</td>\n",
       "      <td>UNA</td>\n",
       "      <td>UNO</td>\n",
       "      <td>ASFALTO</td>\n",
       "      <td>BUENO</td>\n",
       "      <td>SECA</td>\n",
       "      <td>OPERANDO</td>\n",
       "      <td>0</td>\n",
       "      <td>0</td>\n",
       "    </tr>\n",
       "    <tr>\n",
       "      <th>4</th>\n",
       "      <td>A001030431</td>\n",
       "      <td>CURVA</td>\n",
       "      <td>PLANO</td>\n",
       "      <td>CON BERMAS</td>\n",
       "      <td>UN SENTIDO</td>\n",
       "      <td>DOS</td>\n",
       "      <td>DOS</td>\n",
       "      <td>ASFALTO</td>\n",
       "      <td>BUENO</td>\n",
       "      <td>SECA</td>\n",
       "      <td>OPERANDO</td>\n",
       "      <td>1</td>\n",
       "      <td>0</td>\n",
       "    </tr>\n",
       "  </tbody>\n",
       "</table>\n",
       "</div>"
      ],
      "text/plain": [
       "   FORMULARIO GEOMETRICA_A GEOMETRICA_B GEOMETRICA_C    UTILIZACION CALZADAS  \\\n",
       "0  A001030093        RECTA        PLANO    CON ANDEN     UN SENTIDO      UNA   \n",
       "1  A001030278        RECTA        PLANO   CON BERMAS  DOBLE SENTIDO      UNA   \n",
       "2  A001029417        RECTA        PLANO    CON ANDEN     UN SENTIDO      UNA   \n",
       "3  A001029417        RECTA        PLANO   CON BERMAS     UN SENTIDO      UNA   \n",
       "4  A001030431        CURVA        PLANO   CON BERMAS     UN SENTIDO      DOS   \n",
       "\n",
       "     CARRILES MATERIAL ESTADO CONDICIONES  SEMAFORO  ILUMINACION  \\\n",
       "0         DOS  ASFALTO  BUENO        SECA  OPERANDO            0   \n",
       "1  TRES O MAS  ASFALTO  BUENO        SECA  OPERANDO            0   \n",
       "2         DOS  ASFALTO  BUENO        SECA  OPERANDO            0   \n",
       "3         UNO  ASFALTO  BUENO        SECA  OPERANDO            0   \n",
       "4         DOS  ASFALTO  BUENO        SECA  OPERANDO            1   \n",
       "\n",
       "   AGENTE_TRANSITO  \n",
       "0                0  \n",
       "1                0  \n",
       "2                0  \n",
       "3                0  \n",
       "4                0  "
      ]
     },
     "execution_count": 66,
     "metadata": {},
     "output_type": "execute_result"
    }
   ],
   "source": [
    "# Usamos dummies para la información de la columna ILUMINACION_A\n",
    "# 1 indica que si habia iluminación en la via y el 0 indica la ausencia de iluminación.\n",
    "dummies_iluminacion = pd.get_dummies(via_data[\"ILUMINACION_A\"],dtype=int)\n",
    "via_data = via_data.join(dummies_iluminacion)\n",
    "via_data.drop(\"ILUMINACION_A\", axis=1, inplace=True)\n",
    "\n",
    "via_data.drop(\"SIN\", axis=1, inplace=True)\n",
    "via_data.rename(columns={\"CON\": \"ILUMINACION\"}, inplace=True)\n",
    "\n",
    "\n",
    "# Usamos dummies para la información de la columna AGENTES_TRANSITO\n",
    "# 1 indica que si habian agentes de transito en la via y el 0 indica la ausencia de estos.\n",
    "dummies_agentes = pd.get_dummies(via_data[\"AGENTE_TRANSITO\"],dtype=int)\n",
    "via_data = via_data.join(dummies_agentes)\n",
    "via_data.drop(\"AGENTE_TRANSITO\", axis=1, inplace=True)\n",
    "\n",
    "via_data.drop(\"NO\", axis=1, inplace=True)\n",
    "via_data.rename(columns={\"SI\": \"AGENTE_TRANSITO\"}, inplace=True)\n",
    "\n",
    "via_data.head(5)"
   ]
  },
  {
   "cell_type": "markdown",
   "metadata": {},
   "source": [
    "##### __Traemos *ACC_CAUSA* que corresponde a la información de la causa del accidente estipulada en el formulario mediante un llamado de API__"
   ]
  },
  {
   "cell_type": "code",
   "execution_count": 67,
   "metadata": {},
   "outputs": [
    {
     "data": {
      "text/plain": [
       "'\\n# URL de la API\\nurl = \"https://sig.simur.gov.co/arcgis/rest/services/Accidentalidad/AccidentalidadAnalisis/FeatureServer/4/query?where=1%3D1&outFields=FORMULARIO,NOMBRE,TIPO_CAUSA,TIPO&outSR=4326&f=json\"\\n\\n# Hacer la solicitud GET\\nresponse = requests.get(url)\\n\\n# Verificar si la solicitud fue exitosa\\nif response.status_code == 200:\\n    # Convertir la respuesta a JSON\\n    data = response.json()\\n    print(\"Datos obtenidos exitosamente\")\\n'"
      ]
     },
     "execution_count": 67,
     "metadata": {},
     "output_type": "execute_result"
    }
   ],
   "source": [
    "\"\"\"\n",
    "# URL de la API\n",
    "url = \"https://sig.simur.gov.co/arcgis/rest/services/Accidentalidad/AccidentalidadAnalisis/FeatureServer/4/query?where=1%3D1&outFields=FORMULARIO,NOMBRE,TIPO_CAUSA,TIPO&outSR=4326&f=json\"\n",
    "\n",
    "# Hacer la solicitud GET\n",
    "response = requests.get(url)\n",
    "\n",
    "# Verificar si la solicitud fue exitosa\n",
    "if response.status_code == 200:\n",
    "    # Convertir la respuesta a JSON\n",
    "    data = response.json()\n",
    "    print(\"Datos obtenidos exitosamente\")\n",
    "\"\"\""
   ]
  },
  {
   "cell_type": "code",
   "execution_count": 68,
   "metadata": {},
   "outputs": [
    {
     "data": {
      "text/plain": [
       "'\\nfeatures = data.get(\\'features\\', [])  # Obtener la lista de features\\nrows = []  # Lista para almacenar los datos\\n\\n# Recorrer cada feature y extraer los atributos\\nfor feature in features:\\n    attributes = feature.get(\\'attributes\\', {})  # Obtener el diccionario de atributos\\n    rows.append(attributes)  # Agregar los atributos a la lista\\n\\ncausa_data = pd.DataFrame(rows)\\ncausa_data.head(5)\\n\\n# Guardamos el data frame como archivo CSV \\ncausa_data.to_csv(\"proy_datasets/Causa_data.csv\", index=False)  # Guarda el DataFrame en un archivo CSV\\n'"
      ]
     },
     "execution_count": 68,
     "metadata": {},
     "output_type": "execute_result"
    }
   ],
   "source": [
    "\"\"\"\n",
    "features = data.get('features', [])  # Obtener la lista de features\n",
    "rows = []  # Lista para almacenar los datos\n",
    "\n",
    "# Recorrer cada feature y extraer los atributos\n",
    "for feature in features:\n",
    "    attributes = feature.get('attributes', {})  # Obtener el diccionario de atributos\n",
    "    rows.append(attributes)  # Agregar los atributos a la lista\n",
    "\n",
    "causa_data = pd.DataFrame(rows)\n",
    "causa_data.head(5)\n",
    "\n",
    "# Guardamos el data frame como archivo CSV \n",
    "causa_data.to_csv(\"proy_datasets/Causa_data.csv\", index=False)  # Guarda el DataFrame en un archivo CSV\n",
    "\"\"\""
   ]
  },
  {
   "cell_type": "code",
   "execution_count": 69,
   "metadata": {},
   "outputs": [
    {
     "data": {
      "text/html": [
       "<div>\n",
       "<style scoped>\n",
       "    .dataframe tbody tr th:only-of-type {\n",
       "        vertical-align: middle;\n",
       "    }\n",
       "\n",
       "    .dataframe tbody tr th {\n",
       "        vertical-align: top;\n",
       "    }\n",
       "\n",
       "    .dataframe thead th {\n",
       "        text-align: right;\n",
       "    }\n",
       "</style>\n",
       "<table border=\"1\" class=\"dataframe\">\n",
       "  <thead>\n",
       "    <tr style=\"text-align: right;\">\n",
       "      <th></th>\n",
       "      <th>FORMULARIO</th>\n",
       "      <th>NOMBRE</th>\n",
       "      <th>TIPO_CAUSA</th>\n",
       "      <th>TIPO</th>\n",
       "    </tr>\n",
       "  </thead>\n",
       "  <tbody>\n",
       "    <tr>\n",
       "      <th>0</th>\n",
       "      <td>A1423414</td>\n",
       "      <td>OTRAS</td>\n",
       "      <td>PEATON</td>\n",
       "      <td>PE</td>\n",
       "    </tr>\n",
       "    <tr>\n",
       "      <th>1</th>\n",
       "      <td>A1423127</td>\n",
       "      <td>OTRA</td>\n",
       "      <td>CONDUCTOR</td>\n",
       "      <td>CG</td>\n",
       "    </tr>\n",
       "    <tr>\n",
       "      <th>2</th>\n",
       "      <td>A1422058</td>\n",
       "      <td>OTRA</td>\n",
       "      <td>CONDUCTOR</td>\n",
       "      <td>CG</td>\n",
       "    </tr>\n",
       "    <tr>\n",
       "      <th>3</th>\n",
       "      <td>A1422058</td>\n",
       "      <td>NO MANTENER DISTANCIA DE SEGURIDAD</td>\n",
       "      <td>CONDUCTOR</td>\n",
       "      <td>CG</td>\n",
       "    </tr>\n",
       "    <tr>\n",
       "      <th>4</th>\n",
       "      <td>A1423415</td>\n",
       "      <td>OTRA</td>\n",
       "      <td>CONDUCTOR</td>\n",
       "      <td>CG</td>\n",
       "    </tr>\n",
       "  </tbody>\n",
       "</table>\n",
       "</div>"
      ],
      "text/plain": [
       "  FORMULARIO                              NOMBRE TIPO_CAUSA TIPO\n",
       "0   A1423414                               OTRAS     PEATON   PE\n",
       "1   A1423127                                OTRA  CONDUCTOR   CG\n",
       "2   A1422058                                OTRA  CONDUCTOR   CG\n",
       "3   A1422058  NO MANTENER DISTANCIA DE SEGURIDAD  CONDUCTOR   CG\n",
       "4   A1423415                                OTRA  CONDUCTOR   CG"
      ]
     },
     "execution_count": 69,
     "metadata": {},
     "output_type": "execute_result"
    }
   ],
   "source": [
    "causa_data = pd.read_csv(\"proy_datasets/Causa_data.csv\")\n",
    "causa_data.head(5)"
   ]
  },
  {
   "cell_type": "code",
   "execution_count": 70,
   "metadata": {},
   "outputs": [
    {
     "name": "stdout",
     "output_type": "stream",
     "text": [
      "<class 'pandas.core.frame.DataFrame'>\n",
      "RangeIndex: 2000 entries, 0 to 1999\n",
      "Data columns (total 4 columns):\n",
      " #   Column      Non-Null Count  Dtype \n",
      "---  ------      --------------  ----- \n",
      " 0   FORMULARIO  2000 non-null   object\n",
      " 1   NOMBRE      2000 non-null   object\n",
      " 2   TIPO_CAUSA  2000 non-null   object\n",
      " 3   TIPO        2000 non-null   object\n",
      "dtypes: object(4)\n",
      "memory usage: 62.6+ KB\n"
     ]
    }
   ],
   "source": [
    "causa_data.info()"
   ]
  },
  {
   "cell_type": "markdown",
   "metadata": {},
   "source": [
    "El valor en formulario corresponde a un identificador de la información suministrada y a continuación mostramos los posibles valores de los siguientes atributos tipos de causa y tipo (de la cual no obtenemos alguna información con respecto a las siglas que representan)."
   ]
  },
  {
   "cell_type": "code",
   "execution_count": 71,
   "metadata": {},
   "outputs": [
    {
     "name": "stdout",
     "output_type": "stream",
     "text": [
      "TIPO_CAUSA\n",
      "CONDUCTOR    1888\n",
      "PEATON         87\n",
      "VEHICULO       11\n",
      "VIA            11\n",
      "PASAJERO        3\n",
      "Name: count, dtype: int64\n",
      "\n",
      "TIPO\n",
      "CG    1879\n",
      "PE      87\n",
      "VH      11\n",
      "VI      11\n",
      "CE       9\n",
      "PA       3\n",
      "Name: count, dtype: int64\n"
     ]
    }
   ],
   "source": [
    "print(causa_data[\"TIPO_CAUSA\"].value_counts())\n",
    "print(\"\")\n",
    "print(causa_data[\"TIPO\"].value_counts())"
   ]
  },
  {
   "cell_type": "markdown",
   "metadata": {},
   "source": [
    "##### __Traemos *ACC_ACTOR_VIAL* que corresponde a la información general del actor del accidente mediante un llamado de API__"
   ]
  },
  {
   "cell_type": "code",
   "execution_count": 72,
   "metadata": {},
   "outputs": [
    {
     "data": {
      "text/plain": [
       "'\\n# URL de la API\\nurl = \"https://sig.simur.gov.co/arcgis/rest/services/Accidentalidad/AccidentalidadAnalisis/FeatureServer/3/query?where=1%3D1&outFields=FORMULARIO,CONDICION,ESTADO,MUERTE_POSTERIOR,GENERO,EDAD&outSR=4326&f=json\"\\n\\n# Hacer la solicitud GET\\nresponse = requests.get(url)\\n\\n# Verificar si la solicitud fue exitosa\\nif response.status_code == 200:\\n    # Convertir la respuesta a JSON\\n    data = response.json()\\n    print(\"Datos obtenidos exitosamente\")\\n'"
      ]
     },
     "execution_count": 72,
     "metadata": {},
     "output_type": "execute_result"
    }
   ],
   "source": [
    "\"\"\"\n",
    "# URL de la API\n",
    "url = \"https://sig.simur.gov.co/arcgis/rest/services/Accidentalidad/AccidentalidadAnalisis/FeatureServer/3/query?where=1%3D1&outFields=FORMULARIO,CONDICION,ESTADO,MUERTE_POSTERIOR,GENERO,EDAD&outSR=4326&f=json\"\n",
    "\n",
    "# Hacer la solicitud GET\n",
    "response = requests.get(url)\n",
    "\n",
    "# Verificar si la solicitud fue exitosa\n",
    "if response.status_code == 200:\n",
    "    # Convertir la respuesta a JSON\n",
    "    data = response.json()\n",
    "    print(\"Datos obtenidos exitosamente\")\n",
    "\"\"\""
   ]
  },
  {
   "cell_type": "code",
   "execution_count": 73,
   "metadata": {},
   "outputs": [
    {
     "data": {
      "text/plain": [
       "'\\nfeatures = data.get(\\'features\\', [])  # Obtener la lista de features\\nrows = []  # Lista para almacenar los datos\\n\\n# Recorrer cada feature y extraer los atributos\\nfor feature in features:\\n    attributes = feature.get(\\'attributes\\', {})  # Obtener el diccionario de atributos\\n    rows.append(attributes)  # Agregar los atributos a la lista\\n\\nactor_data = pd.DataFrame(rows)\\nactor_data.head(5)\\n\\n# Guardamos el data frame como archivo CSV \\nactor_data.to_csv(\"proy_datasets/Actor_data.csv\", index=False)  # Guarda el DataFrame en un archivo CSV\\n'"
      ]
     },
     "execution_count": 73,
     "metadata": {},
     "output_type": "execute_result"
    }
   ],
   "source": [
    "\"\"\"\n",
    "features = data.get('features', [])  # Obtener la lista de features\n",
    "rows = []  # Lista para almacenar los datos\n",
    "\n",
    "# Recorrer cada feature y extraer los atributos\n",
    "for feature in features:\n",
    "    attributes = feature.get('attributes', {})  # Obtener el diccionario de atributos\n",
    "    rows.append(attributes)  # Agregar los atributos a la lista\n",
    "\n",
    "actor_data = pd.DataFrame(rows)\n",
    "actor_data.head(5)\n",
    "\n",
    "# Guardamos el data frame como archivo CSV \n",
    "actor_data.to_csv(\"proy_datasets/Actor_data.csv\", index=False)  # Guarda el DataFrame en un archivo CSV\n",
    "\"\"\""
   ]
  },
  {
   "cell_type": "code",
   "execution_count": 74,
   "metadata": {},
   "outputs": [
    {
     "data": {
      "text/html": [
       "<div>\n",
       "<style scoped>\n",
       "    .dataframe tbody tr th:only-of-type {\n",
       "        vertical-align: middle;\n",
       "    }\n",
       "\n",
       "    .dataframe tbody tr th {\n",
       "        vertical-align: top;\n",
       "    }\n",
       "\n",
       "    .dataframe thead th {\n",
       "        text-align: right;\n",
       "    }\n",
       "</style>\n",
       "<table border=\"1\" class=\"dataframe\">\n",
       "  <thead>\n",
       "    <tr style=\"text-align: right;\">\n",
       "      <th></th>\n",
       "      <th>FORMULARIO</th>\n",
       "      <th>CONDICION</th>\n",
       "      <th>ESTADO</th>\n",
       "      <th>MUERTE_POSTERIOR</th>\n",
       "      <th>GENERO</th>\n",
       "      <th>EDAD</th>\n",
       "    </tr>\n",
       "  </thead>\n",
       "  <tbody>\n",
       "    <tr>\n",
       "      <th>0</th>\n",
       "      <td>A001388913</td>\n",
       "      <td>CONDUCTOR</td>\n",
       "      <td>ILESO</td>\n",
       "      <td>N</td>\n",
       "      <td>MASCULINO</td>\n",
       "      <td>50.0</td>\n",
       "    </tr>\n",
       "    <tr>\n",
       "      <th>1</th>\n",
       "      <td>A001387681</td>\n",
       "      <td>CONDUCTOR</td>\n",
       "      <td>ILESO</td>\n",
       "      <td>N</td>\n",
       "      <td>MASCULINO</td>\n",
       "      <td>34.0</td>\n",
       "    </tr>\n",
       "    <tr>\n",
       "      <th>2</th>\n",
       "      <td>A001387681</td>\n",
       "      <td>CONDUCTOR</td>\n",
       "      <td>ILESO</td>\n",
       "      <td>N</td>\n",
       "      <td>MASCULINO</td>\n",
       "      <td>45.0</td>\n",
       "    </tr>\n",
       "    <tr>\n",
       "      <th>3</th>\n",
       "      <td>A001388271</td>\n",
       "      <td>CONDUCTOR</td>\n",
       "      <td>ILESO</td>\n",
       "      <td>N</td>\n",
       "      <td>MASCULINO</td>\n",
       "      <td>34.0</td>\n",
       "    </tr>\n",
       "    <tr>\n",
       "      <th>4</th>\n",
       "      <td>A001388271</td>\n",
       "      <td>CONDUCTOR</td>\n",
       "      <td>ILESO</td>\n",
       "      <td>N</td>\n",
       "      <td>MASCULINO</td>\n",
       "      <td>21.0</td>\n",
       "    </tr>\n",
       "  </tbody>\n",
       "</table>\n",
       "</div>"
      ],
      "text/plain": [
       "   FORMULARIO  CONDICION ESTADO MUERTE_POSTERIOR     GENERO  EDAD\n",
       "0  A001388913  CONDUCTOR  ILESO                N  MASCULINO  50.0\n",
       "1  A001387681  CONDUCTOR  ILESO                N  MASCULINO  34.0\n",
       "2  A001387681  CONDUCTOR  ILESO                N  MASCULINO  45.0\n",
       "3  A001388271  CONDUCTOR  ILESO                N  MASCULINO  34.0\n",
       "4  A001388271  CONDUCTOR  ILESO                N  MASCULINO  21.0"
      ]
     },
     "execution_count": 74,
     "metadata": {},
     "output_type": "execute_result"
    }
   ],
   "source": [
    "actor_data = pd.read_csv(\"proy_datasets/Actor_data.csv\")\n",
    "actor_data.head(5)"
   ]
  },
  {
   "cell_type": "code",
   "execution_count": 75,
   "metadata": {},
   "outputs": [
    {
     "data": {
      "text/plain": [
       "FORMULARIO           0\n",
       "CONDICION            0\n",
       "ESTADO              44\n",
       "MUERTE_POSTERIOR     0\n",
       "GENERO              61\n",
       "EDAD                60\n",
       "dtype: int64"
      ]
     },
     "execution_count": 75,
     "metadata": {},
     "output_type": "execute_result"
    }
   ],
   "source": [
    "# Revisamos valores nulos \n",
    "actor_data.isna().sum()"
   ]
  },
  {
   "cell_type": "code",
   "execution_count": 76,
   "metadata": {},
   "outputs": [],
   "source": [
    "# Reemplazar cadenas vacías o espacios con NaN\n",
    "actor_data.replace([\"\", \"SIN INFORMACION\",\" \", \"NaN\", \"null\"], np.nan, inplace=True)\n",
    "\n",
    "# Ahora aplicar dropna()\n",
    "actor_data.dropna(inplace=True)"
   ]
  },
  {
   "cell_type": "code",
   "execution_count": 77,
   "metadata": {},
   "outputs": [
    {
     "name": "stdout",
     "output_type": "stream",
     "text": [
      "<class 'pandas.core.frame.DataFrame'>\n",
      "Index: 1939 entries, 0 to 1999\n",
      "Data columns (total 6 columns):\n",
      " #   Column            Non-Null Count  Dtype  \n",
      "---  ------            --------------  -----  \n",
      " 0   FORMULARIO        1939 non-null   object \n",
      " 1   CONDICION         1939 non-null   object \n",
      " 2   ESTADO            1939 non-null   object \n",
      " 3   MUERTE_POSTERIOR  1939 non-null   object \n",
      " 4   GENERO            1939 non-null   object \n",
      " 5   EDAD              1939 non-null   float64\n",
      "dtypes: float64(1), object(5)\n",
      "memory usage: 106.0+ KB\n"
     ]
    }
   ],
   "source": [
    "actor_data.info()"
   ]
  },
  {
   "cell_type": "markdown",
   "metadata": {},
   "source": [
    "El valor en formulario corresponde a un identificador de la información suministrada y a continuación mostramos los posibles valores de los siguientes atributos estado del actor, genero y si el actor murio post accidente."
   ]
  },
  {
   "cell_type": "code",
   "execution_count": 78,
   "metadata": {},
   "outputs": [
    {
     "name": "stdout",
     "output_type": "stream",
     "text": [
      "ESTADO\n",
      "ILESO     1196\n",
      "HERIDO     721\n",
      "MUERTO      22\n",
      "Name: count, dtype: int64\n",
      "\n",
      "GENERO\n",
      "MASCULINO    1585\n",
      "FEMENINO      354\n",
      "Name: count, dtype: int64\n",
      "\n",
      "MUERTE_POSTERIOR\n",
      "N    1932\n",
      "S       7\n",
      "Name: count, dtype: int64\n"
     ]
    }
   ],
   "source": [
    "print(actor_data[\"ESTADO\"].value_counts())\n",
    "print(\"\")\n",
    "print(actor_data[\"GENERO\"].value_counts())\n",
    "print(\"\")\n",
    "print(actor_data[\"MUERTE_POSTERIOR\"].value_counts()   )"
   ]
  },
  {
   "cell_type": "markdown",
   "metadata": {},
   "source": [
    "Como se puede observar podriamos convertir la información del atributo *GENERO* y *MUERTE_POSTERIOR* en un tipo de dato númerico binario haciendo uso de dummies."
   ]
  },
  {
   "cell_type": "code",
   "execution_count": 79,
   "metadata": {},
   "outputs": [
    {
     "data": {
      "text/html": [
       "<div>\n",
       "<style scoped>\n",
       "    .dataframe tbody tr th:only-of-type {\n",
       "        vertical-align: middle;\n",
       "    }\n",
       "\n",
       "    .dataframe tbody tr th {\n",
       "        vertical-align: top;\n",
       "    }\n",
       "\n",
       "    .dataframe thead th {\n",
       "        text-align: right;\n",
       "    }\n",
       "</style>\n",
       "<table border=\"1\" class=\"dataframe\">\n",
       "  <thead>\n",
       "    <tr style=\"text-align: right;\">\n",
       "      <th></th>\n",
       "      <th>FORMULARIO</th>\n",
       "      <th>CONDICION</th>\n",
       "      <th>ESTADO</th>\n",
       "      <th>EDAD</th>\n",
       "      <th>GENERO</th>\n",
       "      <th>MUERTE_POSTERIOR</th>\n",
       "    </tr>\n",
       "  </thead>\n",
       "  <tbody>\n",
       "    <tr>\n",
       "      <th>0</th>\n",
       "      <td>A001388913</td>\n",
       "      <td>CONDUCTOR</td>\n",
       "      <td>ILESO</td>\n",
       "      <td>50.0</td>\n",
       "      <td>0</td>\n",
       "      <td>0</td>\n",
       "    </tr>\n",
       "    <tr>\n",
       "      <th>1</th>\n",
       "      <td>A001387681</td>\n",
       "      <td>CONDUCTOR</td>\n",
       "      <td>ILESO</td>\n",
       "      <td>34.0</td>\n",
       "      <td>0</td>\n",
       "      <td>0</td>\n",
       "    </tr>\n",
       "    <tr>\n",
       "      <th>2</th>\n",
       "      <td>A001387681</td>\n",
       "      <td>CONDUCTOR</td>\n",
       "      <td>ILESO</td>\n",
       "      <td>45.0</td>\n",
       "      <td>0</td>\n",
       "      <td>0</td>\n",
       "    </tr>\n",
       "    <tr>\n",
       "      <th>3</th>\n",
       "      <td>A001388271</td>\n",
       "      <td>CONDUCTOR</td>\n",
       "      <td>ILESO</td>\n",
       "      <td>34.0</td>\n",
       "      <td>0</td>\n",
       "      <td>0</td>\n",
       "    </tr>\n",
       "    <tr>\n",
       "      <th>4</th>\n",
       "      <td>A001388271</td>\n",
       "      <td>CONDUCTOR</td>\n",
       "      <td>ILESO</td>\n",
       "      <td>21.0</td>\n",
       "      <td>0</td>\n",
       "      <td>0</td>\n",
       "    </tr>\n",
       "  </tbody>\n",
       "</table>\n",
       "</div>"
      ],
      "text/plain": [
       "   FORMULARIO  CONDICION ESTADO  EDAD  GENERO  MUERTE_POSTERIOR\n",
       "0  A001388913  CONDUCTOR  ILESO  50.0       0                 0\n",
       "1  A001387681  CONDUCTOR  ILESO  34.0       0                 0\n",
       "2  A001387681  CONDUCTOR  ILESO  45.0       0                 0\n",
       "3  A001388271  CONDUCTOR  ILESO  34.0       0                 0\n",
       "4  A001388271  CONDUCTOR  ILESO  21.0       0                 0"
      ]
     },
     "execution_count": 79,
     "metadata": {},
     "output_type": "execute_result"
    }
   ],
   "source": [
    "# Usamos dummies para la información de la columna GENERO\n",
    "# 1 indica que el genero es Femenino y el 0 indica Maculino.\n",
    "dummies_genero = pd.get_dummies(actor_data[\"GENERO\"],dtype=int)\n",
    "actor_data = actor_data.join(dummies_genero)\n",
    "actor_data.drop(\"GENERO\", axis=1, inplace=True)\n",
    "\n",
    "actor_data.drop(\"MASCULINO\", axis=1, inplace=True)\n",
    "actor_data.rename(columns={\"FEMENINO\": \"GENERO\"}, inplace=True)\n",
    "\n",
    "\n",
    "# Usamos dummies para la información de la columna MUERTE_POSTERIOR\n",
    "# 1 indica que el actor murio posterior al accidente\n",
    "# y el 0 indica que el actor vial estuvo vivo durante el accidente.\n",
    "dummies_muertePosterior = pd.get_dummies(actor_data[\"MUERTE_POSTERIOR\"],dtype=int)\n",
    "actor_data = actor_data.join(dummies_muertePosterior)\n",
    "actor_data.drop(\"MUERTE_POSTERIOR\", axis=1, inplace=True)\n",
    "\n",
    "actor_data.drop(\"N\", axis=1, inplace=True)\n",
    "actor_data.rename(columns={\"S\": \"MUERTE_POSTERIOR\"}, inplace=True)\n",
    "\n",
    "actor_data.head(5)"
   ]
  },
  {
   "cell_type": "markdown",
   "metadata": {},
   "source": [
    "##### __Traemos *ACCIDENTES* que corresponde a la información general del siniestro vial mediante un llamado de API__"
   ]
  },
  {
   "cell_type": "markdown",
   "metadata": {},
   "source": [
    "Estos data sets nos dan información detallada sobre algunos aspectos involucrados en el accidente. Sin embargo la mayor concentración de información se encuentra en __*ACCIDENTES*__, la cual resulta de nuestro mayor interes en este caso."
   ]
  },
  {
   "cell_type": "code",
   "execution_count": 80,
   "metadata": {},
   "outputs": [
    {
     "data": {
      "text/plain": [
       "'\\n# URL de la API\\nurl = \"https://sig.simur.gov.co/arcgis/rest/services/Accidentalidad/AccidentalidadAnalisis/FeatureServer/2/query?where=1%3D1&outFields=FORMULARIO,FECHA_OCURRENCIA_ACC,HORA_OCURRENCIA_ACC,ANO_OCURRENCIA_ACC,MES_OCURRENCIA_ACC,DIA_OCURRENCIA_ACC,DIRECCION,GRAVEDAD,CLASE_ACC,LOCALIDAD,MUNICIPIO,LATITUD,LONGITUD&outSR=4326&f=json\" \\n\\n# Hacer la solicitud GET\\nresponse = requests.get(url)\\n\\n# Verificar si la solicitud fue exitosa\\nif response.status_code == 200:\\n    # Convertir la respuesta a JSON\\n    data = response.json()\\n    print(\"Datos obtenidos exitosamente\")\\n'"
      ]
     },
     "execution_count": 80,
     "metadata": {},
     "output_type": "execute_result"
    }
   ],
   "source": [
    "\"\"\"\n",
    "# URL de la API\n",
    "url = \"https://sig.simur.gov.co/arcgis/rest/services/Accidentalidad/AccidentalidadAnalisis/FeatureServer/2/query?where=1%3D1&outFields=FORMULARIO,FECHA_OCURRENCIA_ACC,HORA_OCURRENCIA_ACC,ANO_OCURRENCIA_ACC,MES_OCURRENCIA_ACC,DIA_OCURRENCIA_ACC,DIRECCION,GRAVEDAD,CLASE_ACC,LOCALIDAD,MUNICIPIO,LATITUD,LONGITUD&outSR=4326&f=json\" \n",
    "\n",
    "# Hacer la solicitud GET\n",
    "response = requests.get(url)\n",
    "\n",
    "# Verificar si la solicitud fue exitosa\n",
    "if response.status_code == 200:\n",
    "    # Convertir la respuesta a JSON\n",
    "    data = response.json()\n",
    "    print(\"Datos obtenidos exitosamente\")\n",
    "\"\"\""
   ]
  },
  {
   "cell_type": "code",
   "execution_count": 81,
   "metadata": {},
   "outputs": [
    {
     "data": {
      "text/plain": [
       "'\\nfeatures = data.get(\\'features\\', [])  # Obtener la lista de features\\nrows = []  # Lista para almacenar los datos\\n\\n# Recorrer cada feature y extraer los atributos\\nfor feature in features:\\n    attributes = feature.get(\\'attributes\\', {})  # Obtener el diccionario de atributos\\n    rows.append(attributes)  # Agregar los atributos a la lista\\n\\naccidentes_data = pd.DataFrame(rows)\\naccidentes_data.head(5)\\n\\n# Guardamos el data frame como archivo CSV \\naccidentes_data.to_csv(\"proy_datasets/Accidentes.csv\", index=False)  # Guarda el DataFrame en un archivo CSV\\n'"
      ]
     },
     "execution_count": 81,
     "metadata": {},
     "output_type": "execute_result"
    }
   ],
   "source": [
    "\"\"\"\n",
    "features = data.get('features', [])  # Obtener la lista de features\n",
    "rows = []  # Lista para almacenar los datos\n",
    "\n",
    "# Recorrer cada feature y extraer los atributos\n",
    "for feature in features:\n",
    "    attributes = feature.get('attributes', {})  # Obtener el diccionario de atributos\n",
    "    rows.append(attributes)  # Agregar los atributos a la lista\n",
    "\n",
    "accidentes_data = pd.DataFrame(rows)\n",
    "accidentes_data.head(5)\n",
    "\n",
    "# Guardamos el data frame como archivo CSV \n",
    "accidentes_data.to_csv(\"proy_datasets/Accidentes.csv\", index=False)  # Guarda el DataFrame en un archivo CSV\n",
    "\"\"\""
   ]
  },
  {
   "cell_type": "code",
   "execution_count": 82,
   "metadata": {},
   "outputs": [
    {
     "data": {
      "text/html": [
       "<div>\n",
       "<style scoped>\n",
       "    .dataframe tbody tr th:only-of-type {\n",
       "        vertical-align: middle;\n",
       "    }\n",
       "\n",
       "    .dataframe tbody tr th {\n",
       "        vertical-align: top;\n",
       "    }\n",
       "\n",
       "    .dataframe thead th {\n",
       "        text-align: right;\n",
       "    }\n",
       "</style>\n",
       "<table border=\"1\" class=\"dataframe\">\n",
       "  <thead>\n",
       "    <tr style=\"text-align: right;\">\n",
       "      <th></th>\n",
       "      <th>FORMULARIO</th>\n",
       "      <th>FECHA_OCURRENCIA_ACC</th>\n",
       "      <th>HORA_OCURRENCIA_ACC</th>\n",
       "      <th>ANO_OCURRENCIA_ACC</th>\n",
       "      <th>MES_OCURRENCIA_ACC</th>\n",
       "      <th>DIA_OCURRENCIA_ACC</th>\n",
       "      <th>DIRECCION</th>\n",
       "      <th>GRAVEDAD</th>\n",
       "      <th>CLASE_ACC</th>\n",
       "      <th>LOCALIDAD</th>\n",
       "      <th>MUNICIPIO</th>\n",
       "      <th>LATITUD</th>\n",
       "      <th>LONGITUD</th>\n",
       "    </tr>\n",
       "  </thead>\n",
       "  <tbody>\n",
       "    <tr>\n",
       "      <th>0</th>\n",
       "      <td>A001606763</td>\n",
       "      <td>1709787600000</td>\n",
       "      <td>08:00:00</td>\n",
       "      <td>2024.0</td>\n",
       "      <td>MARZO</td>\n",
       "      <td>JUEVES</td>\n",
       "      <td>KR 105 C - CL 66  02</td>\n",
       "      <td>SOLO DANOS</td>\n",
       "      <td>CHOQUE</td>\n",
       "      <td>ENGATIVA</td>\n",
       "      <td>BOGOTA DC</td>\n",
       "      <td>4.699109</td>\n",
       "      <td>-74.124926</td>\n",
       "    </tr>\n",
       "    <tr>\n",
       "      <th>1</th>\n",
       "      <td>A001609376</td>\n",
       "      <td>1710565200000</td>\n",
       "      <td>01:30:00</td>\n",
       "      <td>2024.0</td>\n",
       "      <td>MARZO</td>\n",
       "      <td>SABADO</td>\n",
       "      <td>CL 26 S- KR 78 B 02</td>\n",
       "      <td>CON HERIDOS</td>\n",
       "      <td>ATROPELLO</td>\n",
       "      <td>KENNEDY</td>\n",
       "      <td>BOGOTA DC</td>\n",
       "      <td>4.625398</td>\n",
       "      <td>-74.147784</td>\n",
       "    </tr>\n",
       "    <tr>\n",
       "      <th>2</th>\n",
       "      <td>A001609394</td>\n",
       "      <td>1710478800000</td>\n",
       "      <td>12:40:00</td>\n",
       "      <td>2024.0</td>\n",
       "      <td>MARZO</td>\n",
       "      <td>VIERNES</td>\n",
       "      <td>CL 71 B S- KR 16 C 02</td>\n",
       "      <td>CON HERIDOS</td>\n",
       "      <td>CHOQUE</td>\n",
       "      <td>CIUDAD BOLIVAR</td>\n",
       "      <td>BOGOTA DC</td>\n",
       "      <td>4.544940</td>\n",
       "      <td>-74.136136</td>\n",
       "    </tr>\n",
       "    <tr>\n",
       "      <th>3</th>\n",
       "      <td>A001609496</td>\n",
       "      <td>1710478800000</td>\n",
       "      <td>10:30:00</td>\n",
       "      <td>2024.0</td>\n",
       "      <td>MARZO</td>\n",
       "      <td>VIERNES</td>\n",
       "      <td>DG 39 A S- KR 39 A 02</td>\n",
       "      <td>CON HERIDOS</td>\n",
       "      <td>CHOQUE</td>\n",
       "      <td>PUENTE ARANDA</td>\n",
       "      <td>BOGOTA DC</td>\n",
       "      <td>4.594984</td>\n",
       "      <td>-74.123122</td>\n",
       "    </tr>\n",
       "    <tr>\n",
       "      <th>4</th>\n",
       "      <td>A001609304</td>\n",
       "      <td>1710478800000</td>\n",
       "      <td>09:16:00</td>\n",
       "      <td>2024.0</td>\n",
       "      <td>MARZO</td>\n",
       "      <td>VIERNES</td>\n",
       "      <td>KR 89 - CL 42 S 02</td>\n",
       "      <td>CON MUERTOS</td>\n",
       "      <td>CHOQUE</td>\n",
       "      <td>KENNEDY</td>\n",
       "      <td>BOGOTA DC</td>\n",
       "      <td>4.637275</td>\n",
       "      <td>-74.170754</td>\n",
       "    </tr>\n",
       "  </tbody>\n",
       "</table>\n",
       "</div>"
      ],
      "text/plain": [
       "   FORMULARIO  FECHA_OCURRENCIA_ACC HORA_OCURRENCIA_ACC  ANO_OCURRENCIA_ACC  \\\n",
       "0  A001606763         1709787600000            08:00:00              2024.0   \n",
       "1  A001609376         1710565200000            01:30:00              2024.0   \n",
       "2  A001609394         1710478800000            12:40:00              2024.0   \n",
       "3  A001609496         1710478800000            10:30:00              2024.0   \n",
       "4  A001609304         1710478800000            09:16:00              2024.0   \n",
       "\n",
       "  MES_OCURRENCIA_ACC DIA_OCURRENCIA_ACC              DIRECCION     GRAVEDAD  \\\n",
       "0              MARZO             JUEVES   KR 105 C - CL 66  02   SOLO DANOS   \n",
       "1              MARZO             SABADO    CL 26 S- KR 78 B 02  CON HERIDOS   \n",
       "2              MARZO            VIERNES  CL 71 B S- KR 16 C 02  CON HERIDOS   \n",
       "3              MARZO            VIERNES  DG 39 A S- KR 39 A 02  CON HERIDOS   \n",
       "4              MARZO            VIERNES     KR 89 - CL 42 S 02  CON MUERTOS   \n",
       "\n",
       "   CLASE_ACC       LOCALIDAD  MUNICIPIO   LATITUD   LONGITUD  \n",
       "0     CHOQUE        ENGATIVA  BOGOTA DC  4.699109 -74.124926  \n",
       "1  ATROPELLO         KENNEDY  BOGOTA DC  4.625398 -74.147784  \n",
       "2     CHOQUE  CIUDAD BOLIVAR  BOGOTA DC  4.544940 -74.136136  \n",
       "3     CHOQUE   PUENTE ARANDA  BOGOTA DC  4.594984 -74.123122  \n",
       "4     CHOQUE         KENNEDY  BOGOTA DC  4.637275 -74.170754  "
      ]
     },
     "execution_count": 82,
     "metadata": {},
     "output_type": "execute_result"
    }
   ],
   "source": [
    "accidentes_data = pd.read_csv(\"proy_datasets/Accidentes.csv\")\n",
    "accidentes_data.head(5)"
   ]
  },
  {
   "cell_type": "code",
   "execution_count": 83,
   "metadata": {},
   "outputs": [
    {
     "data": {
      "text/plain": [
       "FORMULARIO              0\n",
       "FECHA_OCURRENCIA_ACC    0\n",
       "HORA_OCURRENCIA_ACC     0\n",
       "ANO_OCURRENCIA_ACC      0\n",
       "MES_OCURRENCIA_ACC      0\n",
       "DIA_OCURRENCIA_ACC      0\n",
       "DIRECCION               0\n",
       "GRAVEDAD                0\n",
       "CLASE_ACC               0\n",
       "LOCALIDAD               0\n",
       "MUNICIPIO               0\n",
       "LATITUD                 0\n",
       "LONGITUD                0\n",
       "dtype: int64"
      ]
     },
     "execution_count": 83,
     "metadata": {},
     "output_type": "execute_result"
    }
   ],
   "source": [
    "# Revisamos valores nulos\n",
    "accidentes_data.isna().sum()"
   ]
  },
  {
   "cell_type": "code",
   "execution_count": 84,
   "metadata": {},
   "outputs": [],
   "source": [
    "# Reemplazar cadenas vacías o espacios con NaN\n",
    "accidentes_data.replace([\"\", \" \", \"NaN\", \"null\"], np.nan, inplace=True)\n",
    "\n",
    "# Ahora aplicar dropna()\n",
    "accidentes_data.dropna(inplace=True)"
   ]
  },
  {
   "cell_type": "code",
   "execution_count": 85,
   "metadata": {},
   "outputs": [
    {
     "name": "stdout",
     "output_type": "stream",
     "text": [
      "<class 'pandas.core.frame.DataFrame'>\n",
      "RangeIndex: 2000 entries, 0 to 1999\n",
      "Data columns (total 13 columns):\n",
      " #   Column                Non-Null Count  Dtype  \n",
      "---  ------                --------------  -----  \n",
      " 0   FORMULARIO            2000 non-null   object \n",
      " 1   FECHA_OCURRENCIA_ACC  2000 non-null   int64  \n",
      " 2   HORA_OCURRENCIA_ACC   2000 non-null   object \n",
      " 3   ANO_OCURRENCIA_ACC    2000 non-null   float64\n",
      " 4   MES_OCURRENCIA_ACC    2000 non-null   object \n",
      " 5   DIA_OCURRENCIA_ACC    2000 non-null   object \n",
      " 6   DIRECCION             2000 non-null   object \n",
      " 7   GRAVEDAD              2000 non-null   object \n",
      " 8   CLASE_ACC             2000 non-null   object \n",
      " 9   LOCALIDAD             2000 non-null   object \n",
      " 10  MUNICIPIO             2000 non-null   object \n",
      " 11  LATITUD               2000 non-null   float64\n",
      " 12  LONGITUD              2000 non-null   float64\n",
      "dtypes: float64(3), int64(1), object(9)\n",
      "memory usage: 203.3+ KB\n"
     ]
    }
   ],
   "source": [
    "accidentes_data.dropna()\n",
    "accidentes_data.info()\n",
    "# Obtenemos finalmente una tabla sin valores nulos"
   ]
  },
  {
   "cell_type": "code",
   "execution_count": 86,
   "metadata": {},
   "outputs": [
    {
     "data": {
      "text/html": [
       "<div>\n",
       "<style scoped>\n",
       "    .dataframe tbody tr th:only-of-type {\n",
       "        vertical-align: middle;\n",
       "    }\n",
       "\n",
       "    .dataframe tbody tr th {\n",
       "        vertical-align: top;\n",
       "    }\n",
       "\n",
       "    .dataframe thead th {\n",
       "        text-align: right;\n",
       "    }\n",
       "</style>\n",
       "<table border=\"1\" class=\"dataframe\">\n",
       "  <thead>\n",
       "    <tr style=\"text-align: right;\">\n",
       "      <th></th>\n",
       "      <th>FORMULARIO</th>\n",
       "      <th>FECHA_OCURRENCIA_ACC</th>\n",
       "      <th>HORA_OCURRENCIA_ACC</th>\n",
       "      <th>ANO_OCURRENCIA_ACC</th>\n",
       "      <th>MES_OCURRENCIA_ACC</th>\n",
       "      <th>DIA_OCURRENCIA_ACC</th>\n",
       "      <th>DIRECCION</th>\n",
       "      <th>GRAVEDAD</th>\n",
       "      <th>CLASE_ACC</th>\n",
       "      <th>LOCALIDAD</th>\n",
       "      <th>LATITUD</th>\n",
       "      <th>LONGITUD</th>\n",
       "    </tr>\n",
       "  </thead>\n",
       "  <tbody>\n",
       "    <tr>\n",
       "      <th>0</th>\n",
       "      <td>A001606763</td>\n",
       "      <td>1709787600000</td>\n",
       "      <td>08:00:00</td>\n",
       "      <td>2024.0</td>\n",
       "      <td>MARZO</td>\n",
       "      <td>JUEVES</td>\n",
       "      <td>KR 105 C - CL 66  02</td>\n",
       "      <td>SOLO DANOS</td>\n",
       "      <td>CHOQUE</td>\n",
       "      <td>ENGATIVA</td>\n",
       "      <td>4.699109</td>\n",
       "      <td>-74.124926</td>\n",
       "    </tr>\n",
       "    <tr>\n",
       "      <th>1</th>\n",
       "      <td>A001609376</td>\n",
       "      <td>1710565200000</td>\n",
       "      <td>01:30:00</td>\n",
       "      <td>2024.0</td>\n",
       "      <td>MARZO</td>\n",
       "      <td>SABADO</td>\n",
       "      <td>CL 26 S- KR 78 B 02</td>\n",
       "      <td>CON HERIDOS</td>\n",
       "      <td>ATROPELLO</td>\n",
       "      <td>KENNEDY</td>\n",
       "      <td>4.625398</td>\n",
       "      <td>-74.147784</td>\n",
       "    </tr>\n",
       "    <tr>\n",
       "      <th>2</th>\n",
       "      <td>A001609394</td>\n",
       "      <td>1710478800000</td>\n",
       "      <td>12:40:00</td>\n",
       "      <td>2024.0</td>\n",
       "      <td>MARZO</td>\n",
       "      <td>VIERNES</td>\n",
       "      <td>CL 71 B S- KR 16 C 02</td>\n",
       "      <td>CON HERIDOS</td>\n",
       "      <td>CHOQUE</td>\n",
       "      <td>CIUDAD BOLIVAR</td>\n",
       "      <td>4.544940</td>\n",
       "      <td>-74.136136</td>\n",
       "    </tr>\n",
       "    <tr>\n",
       "      <th>3</th>\n",
       "      <td>A001609496</td>\n",
       "      <td>1710478800000</td>\n",
       "      <td>10:30:00</td>\n",
       "      <td>2024.0</td>\n",
       "      <td>MARZO</td>\n",
       "      <td>VIERNES</td>\n",
       "      <td>DG 39 A S- KR 39 A 02</td>\n",
       "      <td>CON HERIDOS</td>\n",
       "      <td>CHOQUE</td>\n",
       "      <td>PUENTE ARANDA</td>\n",
       "      <td>4.594984</td>\n",
       "      <td>-74.123122</td>\n",
       "    </tr>\n",
       "    <tr>\n",
       "      <th>4</th>\n",
       "      <td>A001609304</td>\n",
       "      <td>1710478800000</td>\n",
       "      <td>09:16:00</td>\n",
       "      <td>2024.0</td>\n",
       "      <td>MARZO</td>\n",
       "      <td>VIERNES</td>\n",
       "      <td>KR 89 - CL 42 S 02</td>\n",
       "      <td>CON MUERTOS</td>\n",
       "      <td>CHOQUE</td>\n",
       "      <td>KENNEDY</td>\n",
       "      <td>4.637275</td>\n",
       "      <td>-74.170754</td>\n",
       "    </tr>\n",
       "  </tbody>\n",
       "</table>\n",
       "</div>"
      ],
      "text/plain": [
       "   FORMULARIO  FECHA_OCURRENCIA_ACC HORA_OCURRENCIA_ACC  ANO_OCURRENCIA_ACC  \\\n",
       "0  A001606763         1709787600000            08:00:00              2024.0   \n",
       "1  A001609376         1710565200000            01:30:00              2024.0   \n",
       "2  A001609394         1710478800000            12:40:00              2024.0   \n",
       "3  A001609496         1710478800000            10:30:00              2024.0   \n",
       "4  A001609304         1710478800000            09:16:00              2024.0   \n",
       "\n",
       "  MES_OCURRENCIA_ACC DIA_OCURRENCIA_ACC              DIRECCION     GRAVEDAD  \\\n",
       "0              MARZO             JUEVES   KR 105 C - CL 66  02   SOLO DANOS   \n",
       "1              MARZO             SABADO    CL 26 S- KR 78 B 02  CON HERIDOS   \n",
       "2              MARZO            VIERNES  CL 71 B S- KR 16 C 02  CON HERIDOS   \n",
       "3              MARZO            VIERNES  DG 39 A S- KR 39 A 02  CON HERIDOS   \n",
       "4              MARZO            VIERNES     KR 89 - CL 42 S 02  CON MUERTOS   \n",
       "\n",
       "   CLASE_ACC       LOCALIDAD   LATITUD   LONGITUD  \n",
       "0     CHOQUE        ENGATIVA  4.699109 -74.124926  \n",
       "1  ATROPELLO         KENNEDY  4.625398 -74.147784  \n",
       "2     CHOQUE  CIUDAD BOLIVAR  4.544940 -74.136136  \n",
       "3     CHOQUE   PUENTE ARANDA  4.594984 -74.123122  \n",
       "4     CHOQUE         KENNEDY  4.637275 -74.170754  "
      ]
     },
     "execution_count": 86,
     "metadata": {},
     "output_type": "execute_result"
    }
   ],
   "source": [
    "# Información que no es relevante para el análisis, todos los registros son en bogotá\n",
    "accidentes_data.drop(columns=['MUNICIPIO'],inplace=True) \n",
    "accidentes_data.head(5)"
   ]
  },
  {
   "cell_type": "markdown",
   "metadata": {},
   "source": [
    "Revisamos el tipo de información de algunos atributos relevantes como la clase de accidentes que corresponde a la clasificación del tipo de accidente y la gravedad del accidente."
   ]
  },
  {
   "cell_type": "code",
   "execution_count": 87,
   "metadata": {},
   "outputs": [
    {
     "name": "stdout",
     "output_type": "stream",
     "text": [
      "CLASE_ACC\n",
      "CHOQUE               1530\n",
      "ATROPELLO             343\n",
      "CAIDA DE OCUPANTE      69\n",
      "VOLCAMIENTO            42\n",
      "OTRO                   15\n",
      "INCENDIO                1\n",
      "Name: count, dtype: int64\n",
      "\n",
      "GRAVEDAD\n",
      "CON HERIDOS    1479\n",
      "SOLO DANOS      459\n",
      "CON MUERTOS      62\n",
      "Name: count, dtype: int64\n"
     ]
    }
   ],
   "source": [
    "print(accidentes_data['CLASE_ACC'].value_counts())\n",
    "print(\"\")\n",
    "print(accidentes_data['GRAVEDAD'].value_counts())"
   ]
  },
  {
   "cell_type": "markdown",
   "metadata": {},
   "source": [
    "----\n",
    "### __Análisis individual estadistico basico__"
   ]
  },
  {
   "cell_type": "markdown",
   "metadata": {},
   "source": [
    "La siguiente información esta dada por la cantidad de registros/formularios que cada dataset contiene, es importante resaltar que el dataset esta dividido por capas de información tales como la información del vehiculo, de la via, el actor y el accidente. La mayor parte de la información de nuestro interes se encuentra en el dataset de __ACCIDENTES__ los otros resultan siendo complementarios y dado a esto y a la diferencia de registros en cada dataset al hacerles merge para obtener la información unificada y poder hacer un análisis mas concorde a la información obtenida se resulta con 200 registro aproximadamente, lo cual resulta siendo poca información a comparación de la cantidad de registros que cada dataset contiene y por ende los resultados obtenidos son distintos a los que se obtienen al hacer el análisis individual."
   ]
  },
  {
   "cell_type": "markdown",
   "metadata": {},
   "source": [
    "La siguiente grafica nos muestra la clase de vehiculo en el cual suceden mas siniestros y la clase de este ya sea publico, particular, u otro hasta el día de hoy se tiene que la mayoria de siniestros registrados vienen siendo de motocicletas particulares seguidos por automoviles en su mayoria particulares sin embargo la diferencia sigue siendo abismal entre la cantidad de siniestros en motocicletas registrados."
   ]
  },
  {
   "cell_type": "code",
   "execution_count": 88,
   "metadata": {},
   "outputs": [
    {
     "data": {
      "image/png": "[encoded data removed]",
      "text/plain": [
       "<Figure size 1200x600 with 1 Axes>"
      ]
     },
     "metadata": {},
     "output_type": "display_data"
    }
   ],
   "source": [
    "# Gráfica de barras agrupadas\n",
    "plt.figure(figsize=(12, 6))\n",
    "sb.countplot(data=vehiculo_data, x='CLASE', hue='SERVICIO', palette='Set2')\n",
    "plt.title('Siniestros por tipo de vehículo y servicio')\n",
    "plt.xlabel('Tipo de vehículo')\n",
    "plt.ylabel('Cantidad de siniestros')\n",
    "plt.xticks(rotation=45)\n",
    "plt.legend(title='Servicio')\n",
    "plt.show()"
   ]
  },
  {
   "cell_type": "markdown",
   "metadata": {},
   "source": [
    "Entre las caracterizticas de la via resaltan en la mayoria de "
   ]
  },
  {
   "cell_type": "code",
   "execution_count": 101,
   "metadata": {},
   "outputs": [
    {
     "name": "stderr",
     "output_type": "stream",
     "text": [
      "C:\\Users\\laura\\AppData\\Local\\Temp\\ipykernel_28292\\1571307550.py:7: FutureWarning: \n",
      "\n",
      "Passing `palette` without assigning `hue` is deprecated and will be removed in v0.14.0. Assign the `x` variable to `hue` and set `legend=False` for the same effect.\n",
      "\n",
      "  sb.barplot(x=geom_counts.index, y=geom_counts.values, palette='viridis', ax=axes[0, 0])\n",
      "C:\\Users\\laura\\AppData\\Local\\Temp\\ipykernel_28292\\1571307550.py:14: FutureWarning: \n",
      "\n",
      "Passing `palette` without assigning `hue` is deprecated and will be removed in v0.14.0. Assign the `x` variable to `hue` and set `legend=False` for the same effect.\n",
      "\n",
      "  sb.barplot(x=geomb_counts.index, y=geomb_counts.values, palette='viridis', ax=axes[0, 1])\n",
      "C:\\Users\\laura\\AppData\\Local\\Temp\\ipykernel_28292\\1571307550.py:21: FutureWarning: \n",
      "\n",
      "Passing `palette` without assigning `hue` is deprecated and will be removed in v0.14.0. Assign the `x` variable to `hue` and set `legend=False` for the same effect.\n",
      "\n",
      "  sb.barplot(x=geomc_counts.index, y=geomc_counts.values, palette='viridis', ax=axes[1, 0])\n",
      "C:\\Users\\laura\\AppData\\Local\\Temp\\ipykernel_28292\\1571307550.py:28: FutureWarning: \n",
      "\n",
      "Passing `palette` without assigning `hue` is deprecated and will be removed in v0.14.0. Assign the `x` variable to `hue` and set `legend=False` for the same effect.\n",
      "\n",
      "  sb.barplot(x=ilum_counts.index, y=ilum_counts.values, palette='viridis', ax=axes[1, 1])\n",
      "C:\\Users\\laura\\AppData\\Local\\Temp\\ipykernel_28292\\1571307550.py:35: FutureWarning: \n",
      "\n",
      "Passing `palette` without assigning `hue` is deprecated and will be removed in v0.14.0. Assign the `x` variable to `hue` and set `legend=False` for the same effect.\n",
      "\n",
      "  sb.barplot(x=estado_counts.index, y=estado_counts.values, palette='viridis', ax=axes[2, 0])\n",
      "C:\\Users\\laura\\AppData\\Local\\Temp\\ipykernel_28292\\1571307550.py:42: FutureWarning: \n",
      "\n",
      "Passing `palette` without assigning `hue` is deprecated and will be removed in v0.14.0. Assign the `x` variable to `hue` and set `legend=False` for the same effect.\n",
      "\n",
      "  sb.barplot(x=cond_counts.index, y=cond_counts.values, palette='viridis', ax=axes[2, 1])\n"
     ]
    },
    {
     "data": {
      "image/png": "[encoded data removed]",
      "text/plain": [
       "<Figure size 1500x1200 with 6 Axes>"
      ]
     },
     "metadata": {},
     "output_type": "display_data"
    }
   ],
   "source": [
    "# Crear una figura con subgráficos\n",
    "fig, axes = plt.subplots(3, 2, figsize=(15, 12))  # 3 filas, 2 columnas\n",
    "fig.suptitle('Análisis de las condiciones de la vía en Bogotá', fontsize=16)\n",
    "\n",
    "# Gráfica 1: Distribución de la geometría de la vía (GEOMETRICA_A)\n",
    "geom_counts = via_data['GEOMETRICA_A'].value_counts()\n",
    "sb.barplot(x=geom_counts.index, y=geom_counts.values, palette='viridis', ax=axes[0, 0])\n",
    "axes[0, 0].set_title('Distribución de la Geometría de la Vía')\n",
    "axes[0, 0].set_xlabel('Geometría A')\n",
    "axes[0, 0].set_ylabel('Frecuencia')\n",
    "\n",
    "# Gráfica 2: Distribución del estado de la vía (ESTADO)\n",
    "geomb_counts = via_data['GEOMETRICA_B'].value_counts()\n",
    "sb.barplot(x=geomb_counts.index, y=geomb_counts.values, palette='viridis', ax=axes[0, 1])\n",
    "axes[0, 1].set_title('Distribución de la Geometría de la vía')\n",
    "axes[0, 1].set_xlabel('Geometría B')\n",
    "axes[0, 1].set_ylabel('Frecuencia')\n",
    "\n",
    "# Gráfica 3: Distribución de las condiciones de la vía (CONDICIONES)\n",
    "geomc_counts = via_data['GEOMETRICA_C'].value_counts()\n",
    "sb.barplot(x=geomc_counts.index, y=geomc_counts.values, palette='viridis', ax=axes[1, 0])\n",
    "axes[1, 0].set_title('Distribución de la Geometría de la Vía')\n",
    "axes[1, 0].set_xlabel('Geometría C')\n",
    "axes[1, 0].set_ylabel('Frecuencia')\n",
    "\n",
    "# Gráfica 4: Distribución de la iluminación (ILUMINACION_A)\n",
    "ilum_counts = via_data['ILUMINACION'].value_counts()\n",
    "sb.barplot(x=ilum_counts.index, y=ilum_counts.values, palette='viridis', ax=axes[1, 1])\n",
    "axes[1, 1].set_title('Distribución de la Iluminación')\n",
    "axes[1, 1].set_xlabel('Iluminación')\n",
    "axes[1, 1].set_ylabel('Frecuencia')\n",
    "\n",
    "# Gráfica 5: Distribución de la iluminación (ILUMINACION_A)\n",
    "estado_counts = via_data['ESTADO'].value_counts()\n",
    "sb.barplot(x=estado_counts.index, y=estado_counts.values, palette='viridis', ax=axes[2, 0])\n",
    "axes[2, 0].set_title('Estado de las condiciones de la Vía')\n",
    "axes[2, 0].set_xlabel('Estado')\n",
    "axes[2, 0].set_ylabel('Frecuencia')\n",
    "\n",
    "# Gráfica 6: Distribución de las condiciones de la vía (CONDICIONES)\n",
    "cond_counts = via_data['CONDICIONES'].value_counts()\n",
    "sb.barplot(x=cond_counts.index, y=cond_counts.values, palette='viridis', ax=axes[2, 1])\n",
    "axes[2, 1].set_title('Distribución de las Condiciones de la Vía')\n",
    "axes[2, 1].set_xlabel('Condiciones')\n",
    "axes[2, 1].set_ylabel('Frecuencia')\n",
    "\n",
    "# Ajustar el espacio entre subgráficos\n",
    "plt.tight_layout()\n",
    "\n",
    "# Mostrar la figura\n",
    "plt.show()"
   ]
  },
  {
   "cell_type": "markdown",
   "metadata": {},
   "source": [
    "Con las graficas anteriores buscamos encontrar las características que priman entre los registros, con lo anterior es fácil ver que la mayoria de siniestros registrados suceden en una vía recta, plana, con buena iluminación, estado de la vía buena y seca.(*Cuando se establece que la vía se encuentra en buen estado nos referimos a que no presenta huecos, hundimientos, derrumbes o esta perchada*)  \n",
    "Adicional el $74.8\\%$ de los siniestros suceden en vías de una calzada de los cuales aproximadamente el $45.5\\%$ son vías de dos carriles."
   ]
  },
  {
   "cell_type": "code",
   "execution_count": 112,
   "metadata": {},
   "outputs": [
    {
     "data": {
      "image/png": "[encoded data removed]",
      "text/plain": [
       "<Figure size 1200x600 with 1 Axes>"
      ]
     },
     "metadata": {},
     "output_type": "display_data"
    }
   ],
   "source": [
    "# Gráfica de barras agrupadas\n",
    "plt.figure(figsize=(12, 6))\n",
    "sb.countplot(data=causa_data, x='TIPO')\n",
    "plt.title('Causas de los siniestros viales')\n",
    "plt.xlabel('Tipo de causa')\n",
    "plt.ylabel('Cantidad de siniestros')\n",
    "plt.xticks(rotation=45)\n",
    "plt.show()"
   ]
  },
  {
   "cell_type": "markdown",
   "metadata": {},
   "source": [
    "__pendiente__. Aun no tenemos claro el significado de las siglas."
   ]
  },
  {
   "cell_type": "code",
   "execution_count": null,
   "metadata": {},
   "outputs": [],
   "source": []
  }
 ],
 "metadata": {
  "kernelspec": {
   "display_name": ".venv",
   "language": "python",
   "name": "python3"
  },
  "language_info": {
   "codemirror_mode": {
    "name": "ipython",
    "version": 3
   },
   "file_extension": ".py",
   "mimetype": "text/x-python",
   "name": "python",
   "nbconvert_exporter": "python",
   "pygments_lexer": "ipython3",
   "version": "3.12.9"
  }
 },
 "nbformat": 4,
 "nbformat_minor": 2
}
