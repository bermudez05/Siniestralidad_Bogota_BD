{
 "cells": [
  {
   "cell_type": "markdown",
   "metadata": {},
   "source": [
    "<span style=\"font-size:1.5em;\"><b>Análisis de bases de datos  \n",
    "Universidad Nacional de Colombia  \n",
    "2024-2</b></span>\n",
    "# <b>Siniestralidad Vial en Bogotá: Análisis de Datos para la Gestión de la Movilidad Segura</b>  \n",
    "\n",
    "<span style=\"font-size:0.9em;\">Laura Nicole Bermudez Santa - labermudezs@unal.edu.co  \n",
    "David Sebastián Mendoza Cruz - damendozac@unal.edu.co  \n",
    "David Alejandro Alquichire Rincón - dalquichire@unal.edu.co  \n",
    "Laura Nicole Bermudez Santa - labermudezs@unal.edu.co  \n",
    "Juan David Bernal Vesga - jubernalv@unal.edu.co</span>\n",
    "\n",
    "----"
   ]
  },
  {
   "cell_type": "markdown",
   "metadata": {},
   "source": [
    "La seguridad vial es un tema de vital importancia para la planificación urbana y la protección de la vida en las ciudades. En Bogotá, la Secretaría Distrital de Movilidad (SDM) ha recopilado datos detallados sobre siniestralidad vial desde el año 2007, los cuales incluyen información sobre lesionados, accidentes, causas, tipos de vehículos involucrados y actores viales. Estos datos, disponibles en la plataforma Enterprise de la SDM, representan una oportunidad única para analizar y comprender los patrones de accidentalidad en la ciudad, con el fin de contribuir a la toma de decisiones informadas en materia de seguridad vial.\n",
    "\n",
    "Este proyecto tiene los siguientes objetivos:\n",
    "1. Analizar y clasificar los accidentes de tránsito registrados en Bogotá en la plataforma de la secretaria de movilidad desde el 2007, enfocándose en la relación entre tipo de vehículo, actores viales involucrados, localidades afectadas, el estado de los incidentes, etc. Con el fin de identificar patrones clave y proporcionar insumos para la toma de decisiones en materia de seguridad vial.  \n",
    "2. Proporcionar herramientas visuales que guíen la toma de decisiones en materia de seguridad vial en resultado del análisis estadístico realizado.\n",
    "3. Determinar tendencias y generar pronósticos que permitan anticipar posibles escenarios de siniestralidad en el futuro, mediante una proyección temporal del comportamiento de los accidentes de tránsito, considerando variables como la frecuencia de muertes y accidentes simples.\n",
    "Buscamos lo que se expone en los objetivos, pero la idea es usar datos abiertos expuestos en la página de la secretaria de movilidad donde tenemos acceso a los siguientes datos de siniestralidad:\n",
    "Lesionado, accidentes, causa, vehiculo y actor.\n",
    "\n",
    "\n",
    "\n",
    "----"
   ]
  },
  {
   "cell_type": "markdown",
   "metadata": {},
   "source": [
    "### **Manipulación y limpieza de las bases de datos individuales**"
   ]
  },
  {
   "cell_type": "markdown",
   "metadata": {},
   "source": [
    "La Secretaria de movilidad dispone una base de [datos abiertos](https://datos.movilidadbogota.gov.co/maps/ea243e7de8e846c8bd27e47c08771d66/about) amplia en materia de siniestrialidad en Bogotá la cual ha sido alimentada con datos desde el 2007. En esta sección depuraremos los siguientes data sets:\n",
    "- __*ACCIDENTE*__: nos brinda información detallada de la cantidad de accidentes que se han registrado en la ciudad de bogotá incluyendo sus coordenadas, la clase de choque, fecha y gravedad. (En este dataset se concentra la mayoria de los datos y es de nuestro interes analizarlo a profundidad).\n",
    "- __*LESIONADO*__: incluye información de las personas involucrada tales como su condición, genero y edad son los datos mas relevantes. (Sin embargo la descripción y el contenido de la información no resulta de nuestro interes).\n",
    "- __*ACC_VIA*__: caracteristicas relevantes de cada via donde sucedio el accidente, resulta relevante al relacionar el estado de las vías en la ciudad de Bogotá como posible causante de siniestros en ciertos lugares o localidades.\n",
    "- __*ACC_VEHICULO*__: información general del tipo de vehiculo y el uso de este ya sea publico o particular.\n",
    "- __*ACC_CAUSA*__: incluye una breve descripción de una posible causa asociada al siniestro.\n",
    "- __*ACC_ACTOR*__: nos brinda información relevante de la condición del actor causante del accidente."
   ]
  },
  {
   "cell_type": "code",
   "execution_count": 1,
   "metadata": {},
   "outputs": [],
   "source": [
    "# Importamos las librerias necesarias en Python\n",
    "\n",
    "import pandas as pd \n",
    "import seaborn as sb \n",
    "import numpy as np \n",
    "import matplotlib.pyplot as plt \n",
    "import requests\n",
    "%matplotlib inline"
   ]
  },
  {
   "cell_type": "markdown",
   "metadata": {},
   "source": [
    "<p>Dado que le daremos prioridad al data set que contiene la información general de accidentes <b>ACCIDENTES.CSV</b> comenzaremos limpiando y manipulando la información de <b>ACC_VEHICULO</b>, <b>ACC_CAUSA</b> y <b>ACC_ACTOR</b>.<p>"
   ]
  },
  {
   "cell_type": "markdown",
   "metadata": {},
   "source": [
    "##### __Traemos *ACC_VEHICULO* que corresponde a la información del vehiculo implicado en el accidente mediante un llamado de API__"
   ]
  },
  {
   "cell_type": "code",
   "execution_count": 2,
   "metadata": {},
   "outputs": [
    {
     "name": "stdout",
     "output_type": "stream",
     "text": [
      "Datos obtenidos exitosamente\n"
     ]
    }
   ],
   "source": [
    "# URL de la API\n",
    "url = \"https://sig.simur.gov.co/arcgis/rest/services/Accidentalidad/AccidentalidadAnalisis/FeatureServer/5/query?where=1%3D1&outFields=FORMULARIO,CLASE,SERVICIO&outSR=4326&f=json\"\n",
    "\n",
    "# Hacer la solicitud GET\n",
    "response = requests.get(url)\n",
    "\n",
    "# Verificar si la solicitud fue exitosa\n",
    "if response.status_code == 200:\n",
    "    # Convertir la respuesta a JSON\n",
    "    data = response.json()\n",
    "    print(\"Datos obtenidos exitosamente\")"
   ]
  },
  {
   "cell_type": "code",
   "execution_count": 3,
   "metadata": {},
   "outputs": [
    {
     "data": {
      "text/html": [
       "<div>\n",
       "<style scoped>\n",
       "    .dataframe tbody tr th:only-of-type {\n",
       "        vertical-align: middle;\n",
       "    }\n",
       "\n",
       "    .dataframe tbody tr th {\n",
       "        vertical-align: top;\n",
       "    }\n",
       "\n",
       "    .dataframe thead th {\n",
       "        text-align: right;\n",
       "    }\n",
       "</style>\n",
       "<table border=\"1\" class=\"dataframe\">\n",
       "  <thead>\n",
       "    <tr style=\"text-align: right;\">\n",
       "      <th></th>\n",
       "      <th>FORMULARIO</th>\n",
       "      <th>CLASE</th>\n",
       "      <th>SERVICIO</th>\n",
       "    </tr>\n",
       "  </thead>\n",
       "  <tbody>\n",
       "    <tr>\n",
       "      <th>0</th>\n",
       "      <td>A000035901</td>\n",
       "      <td>AUTOMOVIL</td>\n",
       "      <td>PARTICULAR</td>\n",
       "    </tr>\n",
       "    <tr>\n",
       "      <th>1</th>\n",
       "      <td>A000035901</td>\n",
       "      <td>MICROBUS</td>\n",
       "      <td>PUBLICO</td>\n",
       "    </tr>\n",
       "    <tr>\n",
       "      <th>2</th>\n",
       "      <td>A000035531</td>\n",
       "      <td>AUTOMOVIL</td>\n",
       "      <td>PARTICULAR</td>\n",
       "    </tr>\n",
       "    <tr>\n",
       "      <th>3</th>\n",
       "      <td>A000035139</td>\n",
       "      <td>CAMIONETA</td>\n",
       "      <td>PUBLICO</td>\n",
       "    </tr>\n",
       "    <tr>\n",
       "      <th>4</th>\n",
       "      <td>A000035139</td>\n",
       "      <td>AUTOMOVIL</td>\n",
       "      <td>PARTICULAR</td>\n",
       "    </tr>\n",
       "  </tbody>\n",
       "</table>\n",
       "</div>"
      ],
      "text/plain": [
       "   FORMULARIO      CLASE    SERVICIO\n",
       "0  A000035901  AUTOMOVIL  PARTICULAR\n",
       "1  A000035901   MICROBUS     PUBLICO\n",
       "2  A000035531  AUTOMOVIL  PARTICULAR\n",
       "3  A000035139  CAMIONETA     PUBLICO\n",
       "4  A000035139  AUTOMOVIL  PARTICULAR"
      ]
     },
     "execution_count": 3,
     "metadata": {},
     "output_type": "execute_result"
    }
   ],
   "source": [
    "features = data.get('features', [])  # Obtener la lista de features\n",
    "rows = []  # Lista para almacenar los datos\n",
    "\n",
    "# Recorrer cada feature y extraer los atributos\n",
    "for feature in features:\n",
    "    attributes = feature.get('attributes', {})  # Obtener el diccionario de atributos\n",
    "    rows.append(attributes)  # Agregar los atributos a la lista\n",
    "\n",
    "# Convertir la lista de diccionarios a DataFrame\n",
    "vehiculo_data = pd.DataFrame(rows)\n",
    "vehiculo_data.head(5)"
   ]
  },
  {
   "cell_type": "code",
   "execution_count": 4,
   "metadata": {},
   "outputs": [
    {
     "data": {
      "text/plain": [
       "FORMULARIO     0\n",
       "CLASE         27\n",
       "SERVICIO      85\n",
       "dtype: int64"
      ]
     },
     "execution_count": 4,
     "metadata": {},
     "output_type": "execute_result"
    }
   ],
   "source": [
    "# Verificamos si hay valores nulos\n",
    "vehiculo_data.isna().sum()"
   ]
  },
  {
   "cell_type": "code",
   "execution_count": 5,
   "metadata": {},
   "outputs": [
    {
     "name": "stdout",
     "output_type": "stream",
     "text": [
      "<class 'pandas.core.frame.DataFrame'>\n",
      "Index: 1915 entries, 0 to 1999\n",
      "Data columns (total 3 columns):\n",
      " #   Column      Non-Null Count  Dtype \n",
      "---  ------      --------------  ----- \n",
      " 0   FORMULARIO  1915 non-null   object\n",
      " 1   CLASE       1915 non-null   object\n",
      " 2   SERVICIO    1915 non-null   object\n",
      "dtypes: object(3)\n",
      "memory usage: 59.8+ KB\n"
     ]
    }
   ],
   "source": [
    "# Reemplazamos cadenas vacías o espacios con NaN\n",
    "vehiculo_data.replace([\"\", \"SIN INFORMACION\",\" \", \"NaN\", \"null\"], np.nan, inplace=True)\n",
    "\n",
    "# Ahora aplicar dropna()\n",
    "vehiculo_data.dropna(inplace=True)\n",
    "\n",
    "# Verficamos que se hayan eliminado correctamente\n",
    "vehiculo_data.info()"
   ]
  },
  {
   "cell_type": "markdown",
   "metadata": {},
   "source": [
    "El valor en formulario corresponde a un identificador de la información suministrada y a continuación mostramos la variedad de clases de vehiculos que se ven involucrados en accidentes al igual que la clasificación de estos según sus servicios."
   ]
  },
  {
   "cell_type": "code",
   "execution_count": 6,
   "metadata": {},
   "outputs": [
    {
     "name": "stdout",
     "output_type": "stream",
     "text": [
      "CLASE\n",
      "AUTOMOVIL         789\n",
      "MOTOCICLETA       314\n",
      "CAMIONETA         248\n",
      "BUS               208\n",
      "CAMION, FURGON     98\n",
      "CAMPERO            83\n",
      "MICROBUS           77\n",
      "TRACTOCAMION       38\n",
      "BUSETA             37\n",
      "VOLQUETA           23\n",
      "Name: count, dtype: int64\n",
      "\n",
      "SERVICIO\n",
      "PARTICULAR     1022\n",
      "PUBLICO         847\n",
      "OFICIAL          45\n",
      "DIPLOMATICO       1\n",
      "Name: count, dtype: int64\n"
     ]
    }
   ],
   "source": [
    "print(vehiculo_data['CLASE'].value_counts())\n",
    "print(\"\")\n",
    "print(vehiculo_data['SERVICIO'].value_counts())"
   ]
  },
  {
   "cell_type": "markdown",
   "metadata": {},
   "source": [
    "##### __Traemos *ACC_VIA* que corresponde a la información del estado de la via lugar del accidente mediante un llamado de API__"
   ]
  },
  {
   "cell_type": "code",
   "execution_count": 7,
   "metadata": {},
   "outputs": [
    {
     "name": "stdout",
     "output_type": "stream",
     "text": [
      "Datos obtenidos exitosamente\n"
     ]
    }
   ],
   "source": [
    "# URL de la API\n",
    "url =\"https://sig.simur.gov.co/arcgis/rest/services/Accidentalidad/AccidentalidadAnalisis/FeatureServer/6/query?where=1%3D1&outFields=FORMULARIO,GEOMETRICA_A,GEOMETRICA_B,GEOMETRICA_C,UTILIZACION,CALZADAS,CARRILES,MATERIAL,ESTADO,CONDICIONES,ILUMINACION_A,AGENTE_TRANSITO,SEMAFORO&outSR=4326&f=json\"\n",
    "\n",
    "# Hacer la solicitud GET\n",
    "response = requests.get(url)\n",
    "\n",
    "# Verificar si la solicitud fue exitosa\n",
    "if response.status_code == 200:\n",
    "    # Convertir la respuesta a JSON\n",
    "    data = response.json()\n",
    "    print(\"Datos obtenidos exitosamente\")"
   ]
  },
  {
   "cell_type": "code",
   "execution_count": 8,
   "metadata": {},
   "outputs": [
    {
     "data": {
      "text/html": [
       "<div>\n",
       "<style scoped>\n",
       "    .dataframe tbody tr th:only-of-type {\n",
       "        vertical-align: middle;\n",
       "    }\n",
       "\n",
       "    .dataframe tbody tr th {\n",
       "        vertical-align: top;\n",
       "    }\n",
       "\n",
       "    .dataframe thead th {\n",
       "        text-align: right;\n",
       "    }\n",
       "</style>\n",
       "<table border=\"1\" class=\"dataframe\">\n",
       "  <thead>\n",
       "    <tr style=\"text-align: right;\">\n",
       "      <th></th>\n",
       "      <th>FORMULARIO</th>\n",
       "      <th>GEOMETRICA_A</th>\n",
       "      <th>GEOMETRICA_B</th>\n",
       "      <th>GEOMETRICA_C</th>\n",
       "      <th>UTILIZACION</th>\n",
       "      <th>CALZADAS</th>\n",
       "      <th>CARRILES</th>\n",
       "      <th>MATERIAL</th>\n",
       "      <th>ESTADO</th>\n",
       "      <th>CONDICIONES</th>\n",
       "      <th>ILUMINACION_A</th>\n",
       "      <th>AGENTE_TRANSITO</th>\n",
       "      <th>SEMAFORO</th>\n",
       "    </tr>\n",
       "  </thead>\n",
       "  <tbody>\n",
       "    <tr>\n",
       "      <th>0</th>\n",
       "      <td>712183400</td>\n",
       "      <td>RECTA</td>\n",
       "      <td>PLANO</td>\n",
       "      <td>CON ANDEN</td>\n",
       "      <td>DOBLE SENTIDO</td>\n",
       "      <td>UNA</td>\n",
       "      <td>DOS</td>\n",
       "      <td>ASFALTO</td>\n",
       "      <td>BUENO</td>\n",
       "      <td>SECA</td>\n",
       "      <td>None</td>\n",
       "      <td>None</td>\n",
       "      <td>None</td>\n",
       "    </tr>\n",
       "    <tr>\n",
       "      <th>1</th>\n",
       "      <td>712296200</td>\n",
       "      <td>RECTA</td>\n",
       "      <td>None</td>\n",
       "      <td>None</td>\n",
       "      <td>UN SENTIDO</td>\n",
       "      <td>DOS</td>\n",
       "      <td>TRES O MAS</td>\n",
       "      <td>ASFALTO</td>\n",
       "      <td>BUENO</td>\n",
       "      <td>SECA</td>\n",
       "      <td>None</td>\n",
       "      <td>None</td>\n",
       "      <td>OPERANDO</td>\n",
       "    </tr>\n",
       "    <tr>\n",
       "      <th>2</th>\n",
       "      <td>712323300</td>\n",
       "      <td>RECTA</td>\n",
       "      <td>PLANO</td>\n",
       "      <td>CON ANDEN</td>\n",
       "      <td>UN SENTIDO</td>\n",
       "      <td>DOS</td>\n",
       "      <td>DOS</td>\n",
       "      <td>ASFALTO</td>\n",
       "      <td>BUENO</td>\n",
       "      <td>SECA</td>\n",
       "      <td>CON</td>\n",
       "      <td>None</td>\n",
       "      <td>None</td>\n",
       "    </tr>\n",
       "    <tr>\n",
       "      <th>3</th>\n",
       "      <td>726927900</td>\n",
       "      <td>RECTA</td>\n",
       "      <td>PLANO</td>\n",
       "      <td>CON ANDEN</td>\n",
       "      <td>DOBLE SENTIDO</td>\n",
       "      <td>UNA</td>\n",
       "      <td>DOS</td>\n",
       "      <td>ASFALTO</td>\n",
       "      <td>BUENO</td>\n",
       "      <td>SECA</td>\n",
       "      <td>CON</td>\n",
       "      <td>None</td>\n",
       "      <td>OPERANDO</td>\n",
       "    </tr>\n",
       "    <tr>\n",
       "      <th>4</th>\n",
       "      <td>712905400</td>\n",
       "      <td>RECTA</td>\n",
       "      <td>PLANO</td>\n",
       "      <td>CON ANDEN</td>\n",
       "      <td>DOBLE SENTIDO</td>\n",
       "      <td>UNA</td>\n",
       "      <td>DOS</td>\n",
       "      <td>ASFALTO</td>\n",
       "      <td>BUENO</td>\n",
       "      <td>HUMEDA</td>\n",
       "      <td>CON</td>\n",
       "      <td>None</td>\n",
       "      <td>None</td>\n",
       "    </tr>\n",
       "  </tbody>\n",
       "</table>\n",
       "</div>"
      ],
      "text/plain": [
       "  FORMULARIO GEOMETRICA_A GEOMETRICA_B GEOMETRICA_C    UTILIZACION CALZADAS  \\\n",
       "0  712183400        RECTA        PLANO    CON ANDEN  DOBLE SENTIDO      UNA   \n",
       "1  712296200        RECTA         None         None     UN SENTIDO      DOS   \n",
       "2  712323300        RECTA        PLANO    CON ANDEN     UN SENTIDO      DOS   \n",
       "3  726927900        RECTA        PLANO    CON ANDEN  DOBLE SENTIDO      UNA   \n",
       "4  712905400        RECTA        PLANO    CON ANDEN  DOBLE SENTIDO      UNA   \n",
       "\n",
       "     CARRILES MATERIAL ESTADO CONDICIONES ILUMINACION_A AGENTE_TRANSITO  \\\n",
       "0         DOS  ASFALTO  BUENO        SECA          None            None   \n",
       "1  TRES O MAS  ASFALTO  BUENO        SECA          None            None   \n",
       "2         DOS  ASFALTO  BUENO        SECA           CON            None   \n",
       "3         DOS  ASFALTO  BUENO        SECA           CON            None   \n",
       "4         DOS  ASFALTO  BUENO      HUMEDA           CON            None   \n",
       "\n",
       "   SEMAFORO  \n",
       "0      None  \n",
       "1  OPERANDO  \n",
       "2      None  \n",
       "3  OPERANDO  \n",
       "4      None  "
      ]
     },
     "execution_count": 8,
     "metadata": {},
     "output_type": "execute_result"
    }
   ],
   "source": [
    "features = data.get('features', [])  # Obtener la lista de features\n",
    "rows = []  # Lista para almacenar los datos\n",
    "\n",
    "# Recorrer cada feature y extraer los atributos\n",
    "for feature in features:\n",
    "    attributes = feature.get('attributes', {})  # Obtener el diccionario de atributos\n",
    "    rows.append(attributes)  # Agregar los atributos a la lista\n",
    "\n",
    "via_data = pd.DataFrame(rows)\n",
    "via_data.head(5)"
   ]
  },
  {
   "cell_type": "code",
   "execution_count": 9,
   "metadata": {},
   "outputs": [
    {
     "data": {
      "text/plain": [
       "FORMULARIO            0\n",
       "GEOMETRICA_A         53\n",
       "GEOMETRICA_B        200\n",
       "GEOMETRICA_C        328\n",
       "UTILIZACION          98\n",
       "CALZADAS            117\n",
       "CARRILES             94\n",
       "MATERIAL            104\n",
       "ESTADO              138\n",
       "CONDICIONES          89\n",
       "ILUMINACION_A       552\n",
       "AGENTE_TRANSITO     729\n",
       "SEMAFORO           1128\n",
       "dtype: int64"
      ]
     },
     "execution_count": 9,
     "metadata": {},
     "output_type": "execute_result"
    }
   ],
   "source": [
    "# Revisamos valores nulos \n",
    "via_data.isna().sum()"
   ]
  },
  {
   "cell_type": "code",
   "execution_count": 10,
   "metadata": {},
   "outputs": [
    {
     "name": "stdout",
     "output_type": "stream",
     "text": [
      "<class 'pandas.core.frame.DataFrame'>\n",
      "Index: 204 entries, 36 to 1969\n",
      "Data columns (total 13 columns):\n",
      " #   Column           Non-Null Count  Dtype \n",
      "---  ------           --------------  ----- \n",
      " 0   FORMULARIO       204 non-null    object\n",
      " 1   GEOMETRICA_A     204 non-null    object\n",
      " 2   GEOMETRICA_B     204 non-null    object\n",
      " 3   GEOMETRICA_C     204 non-null    object\n",
      " 4   UTILIZACION      204 non-null    object\n",
      " 5   CALZADAS         204 non-null    object\n",
      " 6   CARRILES         204 non-null    object\n",
      " 7   MATERIAL         204 non-null    object\n",
      " 8   ESTADO           204 non-null    object\n",
      " 9   CONDICIONES      204 non-null    object\n",
      " 10  ILUMINACION_A    204 non-null    object\n",
      " 11  AGENTE_TRANSITO  204 non-null    object\n",
      " 12  SEMAFORO         204 non-null    object\n",
      "dtypes: object(13)\n",
      "memory usage: 22.3+ KB\n"
     ]
    }
   ],
   "source": [
    "# Reemplazar cadenas vacías o espacios con NaN\n",
    "via_data.replace([\"\", \"SIN INFORMACION\",\" \", \"NaN\", \"null\"], np.nan, inplace=True)\n",
    "\n",
    "# Ahora aplicar dropna()\n",
    "via_data.dropna(inplace=True)\n",
    "\n",
    "# Verficamos que se hayan eliminado correctamente\n",
    "via_data.info()"
   ]
  },
  {
   "cell_type": "markdown",
   "metadata": {},
   "source": [
    "El valor en formulario corresponde a un identificador de la información suministrada y a continuación mostramos los posibles valores de los siguientes atributos semaforo -se indica si el semaforo se encontraba operando-, Estado -estado general de la via- Geometrica_A, Geometrica_B, Geometrica_C -descripciones de la via-, utilización -sentidos de funcionamientos-, calzadas, carriles, material de la via, condiciones al momento del accidente, iluminación y la presencia de un agente de transito."
   ]
  },
  {
   "cell_type": "code",
   "execution_count": 11,
   "metadata": {},
   "outputs": [
    {
     "name": "stdout",
     "output_type": "stream",
     "text": [
      "SEMAFORO\n",
      "OPERANDO    204\n",
      "Name: count, dtype: int64\n",
      "\n",
      "ESTADO\n",
      "BUENO           197\n",
      "CON HUECOS        3\n",
      "HUNDIMIENTOS      2\n",
      "PARCHADA          1\n",
      "RIZADA            1\n",
      "Name: count, dtype: int64\n",
      "\n",
      "GEOMETRICA_A\n",
      "RECTA    199\n",
      "CURVA      5\n",
      "Name: count, dtype: int64\n",
      "GEOMETRICA_B\n",
      "PLANO        198\n",
      "PENDIENTE      6\n",
      "Name: count, dtype: int64\n",
      "GEOMETRICA_C\n",
      "CON ANDEN     182\n",
      "CON BERMAS     22\n",
      "Name: count, dtype: int64\n",
      "\n",
      "UTILIZACION\n",
      "UN SENTIDO       127\n",
      "DOBLE SENTIDO     76\n",
      "REVERSIBLE         1\n",
      "Name: count, dtype: int64\n",
      "\n",
      "CALZADAS\n",
      "UNA             126\n",
      "DOS              57\n",
      "CUATRO O MAS     14\n",
      "TRES O MAS        5\n",
      "VARIABLE          2\n",
      "Name: count, dtype: int64\n",
      "\n",
      "CARRILES\n",
      "DOS             127\n",
      "TRES O MAS       47\n",
      "UNO              13\n",
      "CUATRO O MAS     12\n",
      "VARIABLE          5\n",
      "Name: count, dtype: int64\n",
      "\n",
      "MATERIAL\n",
      "ASFALTO     188\n",
      "CONCRETO     14\n",
      "AFIRMADO      2\n",
      "Name: count, dtype: int64\n",
      "\n",
      "CONDICIONES\n",
      "SECA      188\n",
      "HUMEDA     16\n",
      "Name: count, dtype: int64\n",
      "\n",
      "ILUMINACION_A\n",
      "CON    174\n",
      "SIN     30\n",
      "Name: count, dtype: int64\n",
      "\n",
      "AGENTE_TRANSITO\n",
      "NO    202\n",
      "SI      2\n",
      "Name: count, dtype: int64\n"
     ]
    }
   ],
   "source": [
    "print(via_data[\"SEMAFORO\"].value_counts())\n",
    "print(\"\")\n",
    "print(via_data[\"ESTADO\"].value_counts())\n",
    "print(\"\")\n",
    "print(via_data[\"GEOMETRICA_A\"].value_counts())\n",
    "print(via_data[\"GEOMETRICA_B\"].value_counts())\n",
    "print(via_data[\"GEOMETRICA_C\"].value_counts())\n",
    "print(\"\")\n",
    "print(via_data[\"UTILIZACION\"].value_counts())\n",
    "print(\"\")\n",
    "print(via_data[\"CALZADAS\"].value_counts())\n",
    "print(\"\")\n",
    "print(via_data[\"CARRILES\"].value_counts())\n",
    "print(\"\")\n",
    "print(via_data[\"MATERIAL\"].value_counts())\n",
    "print(\"\")\n",
    "print(via_data[\"CONDICIONES\"].value_counts())\n",
    "print(\"\")\n",
    "print(via_data[\"ILUMINACION_A\"].value_counts())\n",
    "print(\"\")\n",
    "print(via_data[\"AGENTE_TRANSITO\"].value_counts())"
   ]
  },
  {
   "cell_type": "markdown",
   "metadata": {},
   "source": [
    "Como se puede observar podriamos convertir la información del atributo *AGENTE_Transito* y *ILUMINACION_A* en un tipo de dato númerico binario haciendo uso de dummies."
   ]
  },
  {
   "cell_type": "code",
   "execution_count": 12,
   "metadata": {},
   "outputs": [
    {
     "data": {
      "text/html": [
       "<div>\n",
       "<style scoped>\n",
       "    .dataframe tbody tr th:only-of-type {\n",
       "        vertical-align: middle;\n",
       "    }\n",
       "\n",
       "    .dataframe tbody tr th {\n",
       "        vertical-align: top;\n",
       "    }\n",
       "\n",
       "    .dataframe thead th {\n",
       "        text-align: right;\n",
       "    }\n",
       "</style>\n",
       "<table border=\"1\" class=\"dataframe\">\n",
       "  <thead>\n",
       "    <tr style=\"text-align: right;\">\n",
       "      <th></th>\n",
       "      <th>FORMULARIO</th>\n",
       "      <th>GEOMETRICA_A</th>\n",
       "      <th>GEOMETRICA_B</th>\n",
       "      <th>GEOMETRICA_C</th>\n",
       "      <th>UTILIZACION</th>\n",
       "      <th>CALZADAS</th>\n",
       "      <th>CARRILES</th>\n",
       "      <th>MATERIAL</th>\n",
       "      <th>ESTADO</th>\n",
       "      <th>CONDICIONES</th>\n",
       "      <th>SEMAFORO</th>\n",
       "      <th>ILUMINACION</th>\n",
       "      <th>AGENTE_TRANSITO</th>\n",
       "    </tr>\n",
       "  </thead>\n",
       "  <tbody>\n",
       "    <tr>\n",
       "      <th>36</th>\n",
       "      <td>833828800</td>\n",
       "      <td>RECTA</td>\n",
       "      <td>PLANO</td>\n",
       "      <td>CON ANDEN</td>\n",
       "      <td>DOBLE SENTIDO</td>\n",
       "      <td>UNA</td>\n",
       "      <td>DOS</td>\n",
       "      <td>ASFALTO</td>\n",
       "      <td>BUENO</td>\n",
       "      <td>SECA</td>\n",
       "      <td>OPERANDO</td>\n",
       "      <td>1</td>\n",
       "      <td>0</td>\n",
       "    </tr>\n",
       "    <tr>\n",
       "      <th>40</th>\n",
       "      <td>828670000</td>\n",
       "      <td>RECTA</td>\n",
       "      <td>PLANO</td>\n",
       "      <td>CON ANDEN</td>\n",
       "      <td>UN SENTIDO</td>\n",
       "      <td>UNA</td>\n",
       "      <td>DOS</td>\n",
       "      <td>ASFALTO</td>\n",
       "      <td>BUENO</td>\n",
       "      <td>SECA</td>\n",
       "      <td>OPERANDO</td>\n",
       "      <td>1</td>\n",
       "      <td>0</td>\n",
       "    </tr>\n",
       "    <tr>\n",
       "      <th>42</th>\n",
       "      <td>834011400</td>\n",
       "      <td>RECTA</td>\n",
       "      <td>PLANO</td>\n",
       "      <td>CON ANDEN</td>\n",
       "      <td>UN SENTIDO</td>\n",
       "      <td>UNA</td>\n",
       "      <td>DOS</td>\n",
       "      <td>ASFALTO</td>\n",
       "      <td>BUENO</td>\n",
       "      <td>SECA</td>\n",
       "      <td>OPERANDO</td>\n",
       "      <td>1</td>\n",
       "      <td>0</td>\n",
       "    </tr>\n",
       "    <tr>\n",
       "      <th>55</th>\n",
       "      <td>833888800</td>\n",
       "      <td>RECTA</td>\n",
       "      <td>PLANO</td>\n",
       "      <td>CON ANDEN</td>\n",
       "      <td>UN SENTIDO</td>\n",
       "      <td>UNA</td>\n",
       "      <td>DOS</td>\n",
       "      <td>ASFALTO</td>\n",
       "      <td>BUENO</td>\n",
       "      <td>SECA</td>\n",
       "      <td>OPERANDO</td>\n",
       "      <td>1</td>\n",
       "      <td>0</td>\n",
       "    </tr>\n",
       "    <tr>\n",
       "      <th>56</th>\n",
       "      <td>828668700</td>\n",
       "      <td>RECTA</td>\n",
       "      <td>PLANO</td>\n",
       "      <td>CON ANDEN</td>\n",
       "      <td>DOBLE SENTIDO</td>\n",
       "      <td>CUATRO O MAS</td>\n",
       "      <td>VARIABLE</td>\n",
       "      <td>ASFALTO</td>\n",
       "      <td>BUENO</td>\n",
       "      <td>SECA</td>\n",
       "      <td>OPERANDO</td>\n",
       "      <td>1</td>\n",
       "      <td>0</td>\n",
       "    </tr>\n",
       "  </tbody>\n",
       "</table>\n",
       "</div>"
      ],
      "text/plain": [
       "   FORMULARIO GEOMETRICA_A GEOMETRICA_B GEOMETRICA_C    UTILIZACION  \\\n",
       "36  833828800        RECTA        PLANO    CON ANDEN  DOBLE SENTIDO   \n",
       "40  828670000        RECTA        PLANO    CON ANDEN     UN SENTIDO   \n",
       "42  834011400        RECTA        PLANO    CON ANDEN     UN SENTIDO   \n",
       "55  833888800        RECTA        PLANO    CON ANDEN     UN SENTIDO   \n",
       "56  828668700        RECTA        PLANO    CON ANDEN  DOBLE SENTIDO   \n",
       "\n",
       "        CALZADAS  CARRILES MATERIAL ESTADO CONDICIONES  SEMAFORO  ILUMINACION  \\\n",
       "36           UNA       DOS  ASFALTO  BUENO        SECA  OPERANDO            1   \n",
       "40           UNA       DOS  ASFALTO  BUENO        SECA  OPERANDO            1   \n",
       "42           UNA       DOS  ASFALTO  BUENO        SECA  OPERANDO            1   \n",
       "55           UNA       DOS  ASFALTO  BUENO        SECA  OPERANDO            1   \n",
       "56  CUATRO O MAS  VARIABLE  ASFALTO  BUENO        SECA  OPERANDO            1   \n",
       "\n",
       "    AGENTE_TRANSITO  \n",
       "36                0  \n",
       "40                0  \n",
       "42                0  \n",
       "55                0  \n",
       "56                0  "
      ]
     },
     "execution_count": 12,
     "metadata": {},
     "output_type": "execute_result"
    }
   ],
   "source": [
    "# Usamos dummies para la información de la columna ILUMINACION_A\n",
    "# 1 indica que si habia iluminación en la via y el 0 indica la ausencia de iluminación.\n",
    "dummies_iluminacion = pd.get_dummies(via_data[\"ILUMINACION_A\"],dtype=int)\n",
    "via_data = via_data.join(dummies_iluminacion)\n",
    "via_data.drop(\"ILUMINACION_A\", axis=1, inplace=True)\n",
    "\n",
    "via_data.drop(\"SIN\", axis=1, inplace=True)\n",
    "via_data.rename(columns={\"CON\": \"ILUMINACION\"}, inplace=True)\n",
    "\n",
    "\n",
    "# Usamos dummies para la información de la columna AGENTES_TRANSITO\n",
    "# 1 indica que si habian agentes de transito en la via y el 0 indica la ausencia de estos.\n",
    "dummies_agentes = pd.get_dummies(via_data[\"AGENTE_TRANSITO\"],dtype=int)\n",
    "via_data = via_data.join(dummies_agentes)\n",
    "via_data.drop(\"AGENTE_TRANSITO\", axis=1, inplace=True)\n",
    "\n",
    "via_data.drop(\"NO\", axis=1, inplace=True)\n",
    "via_data.rename(columns={\"SI\": \"AGENTE_TRANSITO\"}, inplace=True)\n",
    "\n",
    "via_data.head(5)"
   ]
  },
  {
   "cell_type": "markdown",
   "metadata": {},
   "source": [
    "##### __Traemos *ACC_CAUSA* que corresponde a la información de la causa del accidente estipulada en el formulario mediante un llamado de API__"
   ]
  },
  {
   "cell_type": "code",
   "execution_count": 13,
   "metadata": {},
   "outputs": [
    {
     "name": "stdout",
     "output_type": "stream",
     "text": [
      "Datos obtenidos exitosamente\n"
     ]
    }
   ],
   "source": [
    "# URL de la API\n",
    "url = \"https://sig.simur.gov.co/arcgis/rest/services/Accidentalidad/AccidentalidadAnalisis/FeatureServer/4/query?where=1%3D1&outFields=FORMULARIO,NOMBRE,TIPO_CAUSA,TIPO&outSR=4326&f=json\"\n",
    "\n",
    "# Hacer la solicitud GET\n",
    "response = requests.get(url)\n",
    "\n",
    "# Verificar si la solicitud fue exitosa\n",
    "if response.status_code == 200:\n",
    "    # Convertir la respuesta a JSON\n",
    "    data = response.json()\n",
    "    print(\"Datos obtenidos exitosamente\")"
   ]
  },
  {
   "cell_type": "code",
   "execution_count": 14,
   "metadata": {},
   "outputs": [
    {
     "data": {
      "text/html": [
       "<div>\n",
       "<style scoped>\n",
       "    .dataframe tbody tr th:only-of-type {\n",
       "        vertical-align: middle;\n",
       "    }\n",
       "\n",
       "    .dataframe tbody tr th {\n",
       "        vertical-align: top;\n",
       "    }\n",
       "\n",
       "    .dataframe thead th {\n",
       "        text-align: right;\n",
       "    }\n",
       "</style>\n",
       "<table border=\"1\" class=\"dataframe\">\n",
       "  <thead>\n",
       "    <tr style=\"text-align: right;\">\n",
       "      <th></th>\n",
       "      <th>FORMULARIO</th>\n",
       "      <th>NOMBRE</th>\n",
       "      <th>TIPO_CAUSA</th>\n",
       "      <th>TIPO</th>\n",
       "    </tr>\n",
       "  </thead>\n",
       "  <tbody>\n",
       "    <tr>\n",
       "      <th>0</th>\n",
       "      <td>A000033002</td>\n",
       "      <td>TRANSITAR DISTANTE DE LA ACERA U ORILLA DE LA ...</td>\n",
       "      <td>CONDUCTOR</td>\n",
       "      <td>CE</td>\n",
       "    </tr>\n",
       "    <tr>\n",
       "      <th>1</th>\n",
       "      <td>A000032697</td>\n",
       "      <td>DESOBEDECER SEÑALES</td>\n",
       "      <td>CONDUCTOR</td>\n",
       "      <td>CG</td>\n",
       "    </tr>\n",
       "    <tr>\n",
       "      <th>2</th>\n",
       "      <td>A000034603</td>\n",
       "      <td>OTRA</td>\n",
       "      <td>CONDUCTOR</td>\n",
       "      <td>CG</td>\n",
       "    </tr>\n",
       "    <tr>\n",
       "      <th>3</th>\n",
       "      <td>A000035837</td>\n",
       "      <td>NO MANTENER DISTANCIA DE SEGURIDAD</td>\n",
       "      <td>CONDUCTOR</td>\n",
       "      <td>CG</td>\n",
       "    </tr>\n",
       "    <tr>\n",
       "      <th>4</th>\n",
       "      <td>A000034539</td>\n",
       "      <td>NO MANTENER DISTANCIA DE SEGURIDAD</td>\n",
       "      <td>CONDUCTOR</td>\n",
       "      <td>CG</td>\n",
       "    </tr>\n",
       "  </tbody>\n",
       "</table>\n",
       "</div>"
      ],
      "text/plain": [
       "   FORMULARIO                                             NOMBRE TIPO_CAUSA  \\\n",
       "0  A000033002  TRANSITAR DISTANTE DE LA ACERA U ORILLA DE LA ...  CONDUCTOR   \n",
       "1  A000032697                                DESOBEDECER SEÑALES  CONDUCTOR   \n",
       "2  A000034603                                               OTRA  CONDUCTOR   \n",
       "3  A000035837                 NO MANTENER DISTANCIA DE SEGURIDAD  CONDUCTOR   \n",
       "4  A000034539                 NO MANTENER DISTANCIA DE SEGURIDAD  CONDUCTOR   \n",
       "\n",
       "  TIPO  \n",
       "0   CE  \n",
       "1   CG  \n",
       "2   CG  \n",
       "3   CG  \n",
       "4   CG  "
      ]
     },
     "execution_count": 14,
     "metadata": {},
     "output_type": "execute_result"
    }
   ],
   "source": [
    "features = data.get('features', [])  # Obtener la lista de features\n",
    "rows = []  # Lista para almacenar los datos\n",
    "\n",
    "# Recorrer cada feature y extraer los atributos\n",
    "for feature in features:\n",
    "    attributes = feature.get('attributes', {})  # Obtener el diccionario de atributos\n",
    "    rows.append(attributes)  # Agregar los atributos a la lista\n",
    "\n",
    "causa_data = pd.DataFrame(rows)\n",
    "causa_data.head(5)"
   ]
  },
  {
   "cell_type": "code",
   "execution_count": 15,
   "metadata": {},
   "outputs": [
    {
     "name": "stdout",
     "output_type": "stream",
     "text": [
      "<class 'pandas.core.frame.DataFrame'>\n",
      "RangeIndex: 2000 entries, 0 to 1999\n",
      "Data columns (total 4 columns):\n",
      " #   Column      Non-Null Count  Dtype \n",
      "---  ------      --------------  ----- \n",
      " 0   FORMULARIO  2000 non-null   object\n",
      " 1   NOMBRE      2000 non-null   object\n",
      " 2   TIPO_CAUSA  2000 non-null   object\n",
      " 3   TIPO        2000 non-null   object\n",
      "dtypes: object(4)\n",
      "memory usage: 62.6+ KB\n"
     ]
    }
   ],
   "source": [
    "causa_data.info()"
   ]
  },
  {
   "cell_type": "markdown",
   "metadata": {},
   "source": [
    "El valor en formulario corresponde a un identificador de la información suministrada y a continuación mostramos los posibles valores de los siguientes atributos tipos de causa y tipo (de la cual no obtenemos alguna información con respecto a las siglas que representan)."
   ]
  },
  {
   "cell_type": "code",
   "execution_count": 16,
   "metadata": {},
   "outputs": [
    {
     "name": "stdout",
     "output_type": "stream",
     "text": [
      "TIPO_CAUSA\n",
      "CONDUCTOR    1748\n",
      "PEATON        202\n",
      "VIA            28\n",
      "PASAJERO       12\n",
      "VEHICULO       10\n",
      "Name: count, dtype: int64\n",
      "\n",
      "TIPO\n",
      "CG    1718\n",
      "PE     202\n",
      "CE      30\n",
      "VI      28\n",
      "PA      12\n",
      "VH      10\n",
      "Name: count, dtype: int64\n"
     ]
    }
   ],
   "source": [
    "print(causa_data[\"TIPO_CAUSA\"].value_counts())\n",
    "print(\"\")\n",
    "print(causa_data[\"TIPO\"].value_counts())"
   ]
  },
  {
   "cell_type": "markdown",
   "metadata": {},
   "source": [
    "##### __Traemos *ACC_ACTOR_VIAL* que corresponde a la información general del actor del accidente mediante un llamado de API__"
   ]
  },
  {
   "cell_type": "code",
   "execution_count": 17,
   "metadata": {},
   "outputs": [
    {
     "name": "stdout",
     "output_type": "stream",
     "text": [
      "Datos obtenidos exitosamente\n"
     ]
    }
   ],
   "source": [
    "# URL de la API\n",
    "url = \"https://sig.simur.gov.co/arcgis/rest/services/Accidentalidad/AccidentalidadAnalisis/FeatureServer/3/query?where=1%3D1&outFields=FORMULARIO,CONDICION,ESTADO,MUERTE_POSTERIOR,GENERO,EDAD&outSR=4326&f=json\"\n",
    "\n",
    "# Hacer la solicitud GET\n",
    "response = requests.get(url)\n",
    "\n",
    "# Verificar si la solicitud fue exitosa\n",
    "if response.status_code == 200:\n",
    "    # Convertir la respuesta a JSON\n",
    "    data = response.json()\n",
    "    print(\"Datos obtenidos exitosamente\")"
   ]
  },
  {
   "cell_type": "code",
   "execution_count": 18,
   "metadata": {},
   "outputs": [
    {
     "data": {
      "text/html": [
       "<div>\n",
       "<style scoped>\n",
       "    .dataframe tbody tr th:only-of-type {\n",
       "        vertical-align: middle;\n",
       "    }\n",
       "\n",
       "    .dataframe tbody tr th {\n",
       "        vertical-align: top;\n",
       "    }\n",
       "\n",
       "    .dataframe thead th {\n",
       "        text-align: right;\n",
       "    }\n",
       "</style>\n",
       "<table border=\"1\" class=\"dataframe\">\n",
       "  <thead>\n",
       "    <tr style=\"text-align: right;\">\n",
       "      <th></th>\n",
       "      <th>FORMULARIO</th>\n",
       "      <th>CONDICION</th>\n",
       "      <th>ESTADO</th>\n",
       "      <th>MUERTE_POSTERIOR</th>\n",
       "      <th>GENERO</th>\n",
       "      <th>EDAD</th>\n",
       "    </tr>\n",
       "  </thead>\n",
       "  <tbody>\n",
       "    <tr>\n",
       "      <th>0</th>\n",
       "      <td>728478600</td>\n",
       "      <td>CONDUCTOR</td>\n",
       "      <td>ILESO</td>\n",
       "      <td>None</td>\n",
       "      <td>SIN INFORMACION</td>\n",
       "      <td>NaN</td>\n",
       "    </tr>\n",
       "    <tr>\n",
       "      <th>1</th>\n",
       "      <td>728479300</td>\n",
       "      <td>CONDUCTOR</td>\n",
       "      <td>ILESO</td>\n",
       "      <td>None</td>\n",
       "      <td>SIN INFORMACION</td>\n",
       "      <td>NaN</td>\n",
       "    </tr>\n",
       "    <tr>\n",
       "      <th>2</th>\n",
       "      <td>728479400</td>\n",
       "      <td>CONDUCTOR</td>\n",
       "      <td>HERIDO</td>\n",
       "      <td>N</td>\n",
       "      <td>FEMENINO</td>\n",
       "      <td>41.0</td>\n",
       "    </tr>\n",
       "    <tr>\n",
       "      <th>3</th>\n",
       "      <td>728479700</td>\n",
       "      <td>CONDUCTOR</td>\n",
       "      <td>ILESO</td>\n",
       "      <td>None</td>\n",
       "      <td>MASCULINO</td>\n",
       "      <td>39.0</td>\n",
       "    </tr>\n",
       "    <tr>\n",
       "      <th>4</th>\n",
       "      <td>728480500</td>\n",
       "      <td>MOTOCICLISTA</td>\n",
       "      <td>HERIDO</td>\n",
       "      <td>N</td>\n",
       "      <td>MASCULINO</td>\n",
       "      <td>36.0</td>\n",
       "    </tr>\n",
       "  </tbody>\n",
       "</table>\n",
       "</div>"
      ],
      "text/plain": [
       "  FORMULARIO     CONDICION  ESTADO MUERTE_POSTERIOR           GENERO  EDAD\n",
       "0  728478600     CONDUCTOR   ILESO             None  SIN INFORMACION   NaN\n",
       "1  728479300     CONDUCTOR   ILESO             None  SIN INFORMACION   NaN\n",
       "2  728479400     CONDUCTOR  HERIDO                N         FEMENINO  41.0\n",
       "3  728479700     CONDUCTOR   ILESO             None        MASCULINO  39.0\n",
       "4  728480500  MOTOCICLISTA  HERIDO                N        MASCULINO  36.0"
      ]
     },
     "execution_count": 18,
     "metadata": {},
     "output_type": "execute_result"
    }
   ],
   "source": [
    "features = data.get('features', [])  # Obtener la lista de features\n",
    "rows = []  # Lista para almacenar los datos\n",
    "\n",
    "# Recorrer cada feature y extraer los atributos\n",
    "for feature in features:\n",
    "    attributes = feature.get('attributes', {})  # Obtener el diccionario de atributos\n",
    "    rows.append(attributes)  # Agregar los atributos a la lista\n",
    "\n",
    "actor_data = pd.DataFrame(rows)\n",
    "actor_data.head(5)"
   ]
  },
  {
   "cell_type": "code",
   "execution_count": 19,
   "metadata": {},
   "outputs": [
    {
     "data": {
      "text/plain": [
       "FORMULARIO             0\n",
       "CONDICION              0\n",
       "ESTADO                 2\n",
       "MUERTE_POSTERIOR    1392\n",
       "GENERO                 0\n",
       "EDAD                 698\n",
       "dtype: int64"
      ]
     },
     "execution_count": 19,
     "metadata": {},
     "output_type": "execute_result"
    }
   ],
   "source": [
    "# Revisamos valores nulos \n",
    "actor_data.isna().sum()"
   ]
  },
  {
   "cell_type": "code",
   "execution_count": 20,
   "metadata": {},
   "outputs": [],
   "source": [
    "# Reemplazar cadenas vacías o espacios con NaN\n",
    "actor_data.replace([\"\", \"SIN INFORMACION\",\" \", \"NaN\", \"null\"], np.nan, inplace=True)\n",
    "\n",
    "# Ahora aplicar dropna()\n",
    "actor_data.dropna(inplace=True)"
   ]
  },
  {
   "cell_type": "code",
   "execution_count": 21,
   "metadata": {},
   "outputs": [
    {
     "name": "stdout",
     "output_type": "stream",
     "text": [
      "<class 'pandas.core.frame.DataFrame'>\n",
      "Index: 587 entries, 2 to 1997\n",
      "Data columns (total 6 columns):\n",
      " #   Column            Non-Null Count  Dtype  \n",
      "---  ------            --------------  -----  \n",
      " 0   FORMULARIO        587 non-null    object \n",
      " 1   CONDICION         587 non-null    object \n",
      " 2   ESTADO            587 non-null    object \n",
      " 3   MUERTE_POSTERIOR  587 non-null    object \n",
      " 4   GENERO            587 non-null    object \n",
      " 5   EDAD              587 non-null    float64\n",
      "dtypes: float64(1), object(5)\n",
      "memory usage: 32.1+ KB\n"
     ]
    }
   ],
   "source": [
    "actor_data.info()"
   ]
  },
  {
   "cell_type": "markdown",
   "metadata": {},
   "source": [
    "El valor en formulario corresponde a un identificador de la información suministrada y a continuación mostramos los posibles valores de los siguientes atributos estado del actor, genero y si el actor murio post accidente."
   ]
  },
  {
   "cell_type": "code",
   "execution_count": 22,
   "metadata": {},
   "outputs": [
    {
     "name": "stdout",
     "output_type": "stream",
     "text": [
      "ESTADO\n",
      "HERIDO    587\n",
      "Name: count, dtype: int64\n",
      "\n",
      "GENERO\n",
      "MASCULINO    541\n",
      "FEMENINO      46\n",
      "Name: count, dtype: int64\n",
      "\n",
      "MUERTE_POSTERIOR\n",
      "N    587\n",
      "Name: count, dtype: int64\n"
     ]
    }
   ],
   "source": [
    "print(actor_data[\"ESTADO\"].value_counts())\n",
    "print(\"\")\n",
    "print(actor_data[\"GENERO\"].value_counts())\n",
    "print(\"\")\n",
    "print(actor_data[\"MUERTE_POSTERIOR\"].value_counts()   )"
   ]
  },
  {
   "cell_type": "markdown",
   "metadata": {},
   "source": [
    "Como se puede observar podriamos convertir la información del atributo *GENERO* y *MUERTE_POSTERIOR* en un tipo de dato númerico binario haciendo uso de dummies."
   ]
  },
  {
   "cell_type": "code",
   "execution_count": 23,
   "metadata": {},
   "outputs": [
    {
     "data": {
      "text/html": [
       "<div>\n",
       "<style scoped>\n",
       "    .dataframe tbody tr th:only-of-type {\n",
       "        vertical-align: middle;\n",
       "    }\n",
       "\n",
       "    .dataframe tbody tr th {\n",
       "        vertical-align: top;\n",
       "    }\n",
       "\n",
       "    .dataframe thead th {\n",
       "        text-align: right;\n",
       "    }\n",
       "</style>\n",
       "<table border=\"1\" class=\"dataframe\">\n",
       "  <thead>\n",
       "    <tr style=\"text-align: right;\">\n",
       "      <th></th>\n",
       "      <th>FORMULARIO</th>\n",
       "      <th>CONDICION</th>\n",
       "      <th>ESTADO</th>\n",
       "      <th>EDAD</th>\n",
       "      <th>GENERO</th>\n",
       "    </tr>\n",
       "  </thead>\n",
       "  <tbody>\n",
       "    <tr>\n",
       "      <th>2</th>\n",
       "      <td>728479400</td>\n",
       "      <td>CONDUCTOR</td>\n",
       "      <td>HERIDO</td>\n",
       "      <td>41.0</td>\n",
       "      <td>1</td>\n",
       "    </tr>\n",
       "    <tr>\n",
       "      <th>4</th>\n",
       "      <td>728480500</td>\n",
       "      <td>MOTOCICLISTA</td>\n",
       "      <td>HERIDO</td>\n",
       "      <td>36.0</td>\n",
       "      <td>0</td>\n",
       "    </tr>\n",
       "    <tr>\n",
       "      <th>7</th>\n",
       "      <td>728485000</td>\n",
       "      <td>CONDUCTOR</td>\n",
       "      <td>HERIDO</td>\n",
       "      <td>29.0</td>\n",
       "      <td>0</td>\n",
       "    </tr>\n",
       "    <tr>\n",
       "      <th>11</th>\n",
       "      <td>728492800</td>\n",
       "      <td>CONDUCTOR</td>\n",
       "      <td>HERIDO</td>\n",
       "      <td>44.0</td>\n",
       "      <td>0</td>\n",
       "    </tr>\n",
       "    <tr>\n",
       "      <th>19</th>\n",
       "      <td>728501000</td>\n",
       "      <td>CICLISTA</td>\n",
       "      <td>HERIDO</td>\n",
       "      <td>28.0</td>\n",
       "      <td>0</td>\n",
       "    </tr>\n",
       "  </tbody>\n",
       "</table>\n",
       "</div>"
      ],
      "text/plain": [
       "   FORMULARIO     CONDICION  ESTADO  EDAD  GENERO\n",
       "2   728479400     CONDUCTOR  HERIDO  41.0       1\n",
       "4   728480500  MOTOCICLISTA  HERIDO  36.0       0\n",
       "7   728485000     CONDUCTOR  HERIDO  29.0       0\n",
       "11  728492800     CONDUCTOR  HERIDO  44.0       0\n",
       "19  728501000      CICLISTA  HERIDO  28.0       0"
      ]
     },
     "execution_count": 23,
     "metadata": {},
     "output_type": "execute_result"
    }
   ],
   "source": [
    "# Usamos dummies para la información de la columna GENERO\n",
    "# 1 indica que el genero es Femenino y el 0 indica Maculino.\n",
    "dummies_genero = pd.get_dummies(actor_data[\"GENERO\"],dtype=int)\n",
    "actor_data = actor_data.join(dummies_genero)\n",
    "actor_data.drop(\"GENERO\", axis=1, inplace=True)\n",
    "\n",
    "actor_data.drop(\"MASCULINO\", axis=1, inplace=True)\n",
    "actor_data.rename(columns={\"FEMENINO\": \"GENERO\"}, inplace=True)\n",
    "\n",
    "\n",
    "# Usamos dummies para la información de la columna MUERTE_POSTERIOR\n",
    "# 1 indica que el actor murio posterior al accidente\n",
    "# y el 0 indica que el actor vial estuvo vivo durante el accidente.\n",
    "dummies_muertePosterior = pd.get_dummies(actor_data[\"MUERTE_POSTERIOR\"],dtype=int)\n",
    "actor_data = actor_data.join(dummies_muertePosterior)\n",
    "actor_data.drop(\"MUERTE_POSTERIOR\", axis=1, inplace=True)\n",
    "\n",
    "actor_data.drop(\"N\", axis=1, inplace=True)\n",
    "actor_data.rename(columns={\"S\": \"MUERTE_POSTERIOR\"}, inplace=True)\n",
    "\n",
    "actor_data.head(5)"
   ]
  },
  {
   "cell_type": "markdown",
   "metadata": {},
   "source": [
    "##### __Traemos *ACCIDENTES* que corresponde a la información general del siniestro vial mediante un llamado de API__"
   ]
  },
  {
   "cell_type": "markdown",
   "metadata": {},
   "source": [
    "Estos data sets nos dan información detallada sobre algunos aspectos involucrados en el accidente. Sin embargo la mayor concentración de información se encuentra en __*ACCIDENTES*__, la cual resulta de nuestro mayor interes en este caso."
   ]
  },
  {
   "cell_type": "code",
   "execution_count": 24,
   "metadata": {},
   "outputs": [
    {
     "name": "stdout",
     "output_type": "stream",
     "text": [
      "Datos obtenidos exitosamente\n"
     ]
    }
   ],
   "source": [
    "# URL de la API\n",
    "url = \"https://sig.simur.gov.co/arcgis/rest/services/Accidentalidad/AccidentalidadAnalisis/FeatureServer/2/query?where=1%3D1&outFields=FORMULARIO,FECHA_OCURRENCIA_ACC,HORA_OCURRENCIA_ACC,ANO_OCURRENCIA_ACC,MES_OCURRENCIA_ACC,DIA_OCURRENCIA_ACC,DIRECCION,GRAVEDAD,CLASE_ACC,LOCALIDAD,MUNICIPIO,LATITUD,LONGITUD&outSR=4326&f=json\" \n",
    "\n",
    "# Hacer la solicitud GET\n",
    "response = requests.get(url)\n",
    "\n",
    "# Verificar si la solicitud fue exitosa\n",
    "if response.status_code == 200:\n",
    "    # Convertir la respuesta a JSON\n",
    "    data = response.json()\n",
    "    print(\"Datos obtenidos exitosamente\")"
   ]
  },
  {
   "cell_type": "code",
   "execution_count": 25,
   "metadata": {},
   "outputs": [
    {
     "data": {
      "text/html": [
       "<div>\n",
       "<style scoped>\n",
       "    .dataframe tbody tr th:only-of-type {\n",
       "        vertical-align: middle;\n",
       "    }\n",
       "\n",
       "    .dataframe tbody tr th {\n",
       "        vertical-align: top;\n",
       "    }\n",
       "\n",
       "    .dataframe thead th {\n",
       "        text-align: right;\n",
       "    }\n",
       "</style>\n",
       "<table border=\"1\" class=\"dataframe\">\n",
       "  <thead>\n",
       "    <tr style=\"text-align: right;\">\n",
       "      <th></th>\n",
       "      <th>FORMULARIO</th>\n",
       "      <th>FECHA_OCURRENCIA_ACC</th>\n",
       "      <th>HORA_OCURRENCIA_ACC</th>\n",
       "      <th>ANO_OCURRENCIA_ACC</th>\n",
       "      <th>MES_OCURRENCIA_ACC</th>\n",
       "      <th>DIA_OCURRENCIA_ACC</th>\n",
       "      <th>DIRECCION</th>\n",
       "      <th>GRAVEDAD</th>\n",
       "      <th>CLASE_ACC</th>\n",
       "      <th>LOCALIDAD</th>\n",
       "      <th>MUNICIPIO</th>\n",
       "      <th>LATITUD</th>\n",
       "      <th>LONGITUD</th>\n",
       "    </tr>\n",
       "  </thead>\n",
       "  <tbody>\n",
       "    <tr>\n",
       "      <th>0</th>\n",
       "      <td>A001390689</td>\n",
       "      <td>1644814800000</td>\n",
       "      <td>19:30:00</td>\n",
       "      <td>2022.0</td>\n",
       "      <td>FEBRERO</td>\n",
       "      <td>LUNES</td>\n",
       "      <td>DG 73 G  - KR 79 A  S 02</td>\n",
       "      <td>CON HERIDOS</td>\n",
       "      <td>ATROPELLO</td>\n",
       "      <td>BOSA</td>\n",
       "      <td>BOGOTA DC</td>\n",
       "      <td>4.607566</td>\n",
       "      <td>-74.201473</td>\n",
       "    </tr>\n",
       "    <tr>\n",
       "      <th>1</th>\n",
       "      <td>A00410350</td>\n",
       "      <td>1220850000000</td>\n",
       "      <td>08:20:00</td>\n",
       "      <td>2008.0</td>\n",
       "      <td>SEPTIEMBRE</td>\n",
       "      <td>LUNES</td>\n",
       "      <td>TR 52-1B 02</td>\n",
       "      <td>CON MUERTOS</td>\n",
       "      <td>CHOQUE</td>\n",
       "      <td>PUENTE ARANDA</td>\n",
       "      <td>BOGOTA DC</td>\n",
       "      <td>4.610252</td>\n",
       "      <td>-74.118635</td>\n",
       "    </tr>\n",
       "    <tr>\n",
       "      <th>2</th>\n",
       "      <td>A000757293</td>\n",
       "      <td>1516856400000</td>\n",
       "      <td>21:20:00</td>\n",
       "      <td>2018.0</td>\n",
       "      <td>ENERO</td>\n",
       "      <td>JUEVES</td>\n",
       "      <td>CL 52-KR 13A S 2</td>\n",
       "      <td>CON HERIDOS</td>\n",
       "      <td>CHOQUE</td>\n",
       "      <td>TUNJUELITO</td>\n",
       "      <td>BOGOTA DC</td>\n",
       "      <td>4.563616</td>\n",
       "      <td>-74.126296</td>\n",
       "    </tr>\n",
       "    <tr>\n",
       "      <th>3</th>\n",
       "      <td>727366900</td>\n",
       "      <td>1188277200000</td>\n",
       "      <td>07:30:00</td>\n",
       "      <td>2007.0</td>\n",
       "      <td>AGOSTO</td>\n",
       "      <td>MARTES</td>\n",
       "      <td>AC 116-70H 0</td>\n",
       "      <td>SOLO DANOS</td>\n",
       "      <td>CHOQUE</td>\n",
       "      <td>SUBA</td>\n",
       "      <td>BOGOTA DC</td>\n",
       "      <td>4.699019</td>\n",
       "      <td>-74.076723</td>\n",
       "    </tr>\n",
       "    <tr>\n",
       "      <th>4</th>\n",
       "      <td>A1061345</td>\n",
       "      <td>1337058000000</td>\n",
       "      <td>05:50:00</td>\n",
       "      <td>2012.0</td>\n",
       "      <td>MAYO</td>\n",
       "      <td>MARTES</td>\n",
       "      <td>CL 26-KR 79A S 02</td>\n",
       "      <td>SOLO DANOS</td>\n",
       "      <td>CHOQUE</td>\n",
       "      <td>KENNEDY</td>\n",
       "      <td>BOGOTA DC</td>\n",
       "      <td>4.629726</td>\n",
       "      <td>-74.152551</td>\n",
       "    </tr>\n",
       "  </tbody>\n",
       "</table>\n",
       "</div>"
      ],
      "text/plain": [
       "   FORMULARIO  FECHA_OCURRENCIA_ACC HORA_OCURRENCIA_ACC  ANO_OCURRENCIA_ACC  \\\n",
       "0  A001390689         1644814800000            19:30:00              2022.0   \n",
       "1   A00410350         1220850000000            08:20:00              2008.0   \n",
       "2  A000757293         1516856400000            21:20:00              2018.0   \n",
       "3   727366900         1188277200000            07:30:00              2007.0   \n",
       "4    A1061345         1337058000000            05:50:00              2012.0   \n",
       "\n",
       "  MES_OCURRENCIA_ACC DIA_OCURRENCIA_ACC                 DIRECCION  \\\n",
       "0            FEBRERO              LUNES  DG 73 G  - KR 79 A  S 02   \n",
       "1         SEPTIEMBRE              LUNES               TR 52-1B 02   \n",
       "2              ENERO             JUEVES          CL 52-KR 13A S 2   \n",
       "3             AGOSTO             MARTES              AC 116-70H 0   \n",
       "4               MAYO             MARTES         CL 26-KR 79A S 02   \n",
       "\n",
       "      GRAVEDAD  CLASE_ACC      LOCALIDAD  MUNICIPIO   LATITUD   LONGITUD  \n",
       "0  CON HERIDOS  ATROPELLO           BOSA  BOGOTA DC  4.607566 -74.201473  \n",
       "1  CON MUERTOS     CHOQUE  PUENTE ARANDA  BOGOTA DC  4.610252 -74.118635  \n",
       "2  CON HERIDOS     CHOQUE     TUNJUELITO  BOGOTA DC  4.563616 -74.126296  \n",
       "3   SOLO DANOS     CHOQUE           SUBA  BOGOTA DC  4.699019 -74.076723  \n",
       "4   SOLO DANOS     CHOQUE        KENNEDY  BOGOTA DC  4.629726 -74.152551  "
      ]
     },
     "execution_count": 25,
     "metadata": {},
     "output_type": "execute_result"
    }
   ],
   "source": [
    "features = data.get('features', [])  # Obtener la lista de features\n",
    "rows = []  # Lista para almacenar los datos\n",
    "\n",
    "# Recorrer cada feature y extraer los atributos\n",
    "for feature in features:\n",
    "    attributes = feature.get('attributes', {})  # Obtener el diccionario de atributos\n",
    "    rows.append(attributes)  # Agregar los atributos a la lista\n",
    "\n",
    "accidentes_data = pd.DataFrame(rows)\n",
    "accidentes_data.head(5)"
   ]
  },
  {
   "cell_type": "code",
   "execution_count": 26,
   "metadata": {},
   "outputs": [
    {
     "data": {
      "text/plain": [
       "FORMULARIO              0\n",
       "FECHA_OCURRENCIA_ACC    0\n",
       "HORA_OCURRENCIA_ACC     0\n",
       "ANO_OCURRENCIA_ACC      0\n",
       "MES_OCURRENCIA_ACC      0\n",
       "DIA_OCURRENCIA_ACC      0\n",
       "DIRECCION               0\n",
       "GRAVEDAD                0\n",
       "CLASE_ACC               0\n",
       "LOCALIDAD               0\n",
       "MUNICIPIO               0\n",
       "LATITUD                 0\n",
       "LONGITUD                0\n",
       "dtype: int64"
      ]
     },
     "execution_count": 26,
     "metadata": {},
     "output_type": "execute_result"
    }
   ],
   "source": [
    "# Revisamos valores nulos\n",
    "accidentes_data.isna().sum()"
   ]
  },
  {
   "cell_type": "code",
   "execution_count": 27,
   "metadata": {},
   "outputs": [],
   "source": [
    "# Reemplazar cadenas vacías o espacios con NaN\n",
    "accidentes_data.replace([\"\", \" \", \"NaN\", \"null\"], np.nan, inplace=True)\n",
    "\n",
    "# Ahora aplicar dropna()\n",
    "accidentes_data.dropna(inplace=True)"
   ]
  },
  {
   "cell_type": "code",
   "execution_count": 28,
   "metadata": {},
   "outputs": [
    {
     "name": "stdout",
     "output_type": "stream",
     "text": [
      "<class 'pandas.core.frame.DataFrame'>\n",
      "RangeIndex: 2000 entries, 0 to 1999\n",
      "Data columns (total 13 columns):\n",
      " #   Column                Non-Null Count  Dtype  \n",
      "---  ------                --------------  -----  \n",
      " 0   FORMULARIO            2000 non-null   object \n",
      " 1   FECHA_OCURRENCIA_ACC  2000 non-null   int64  \n",
      " 2   HORA_OCURRENCIA_ACC   2000 non-null   object \n",
      " 3   ANO_OCURRENCIA_ACC    2000 non-null   float64\n",
      " 4   MES_OCURRENCIA_ACC    2000 non-null   object \n",
      " 5   DIA_OCURRENCIA_ACC    2000 non-null   object \n",
      " 6   DIRECCION             2000 non-null   object \n",
      " 7   GRAVEDAD              2000 non-null   object \n",
      " 8   CLASE_ACC             2000 non-null   object \n",
      " 9   LOCALIDAD             2000 non-null   object \n",
      " 10  MUNICIPIO             2000 non-null   object \n",
      " 11  LATITUD               2000 non-null   float64\n",
      " 12  LONGITUD              2000 non-null   float64\n",
      "dtypes: float64(3), int64(1), object(9)\n",
      "memory usage: 203.3+ KB\n"
     ]
    }
   ],
   "source": [
    "accidentes_data.dropna()\n",
    "accidentes_data.info()\n",
    "# Obtenemos finalmente una tabla sin valores nulos"
   ]
  },
  {
   "cell_type": "code",
   "execution_count": 29,
   "metadata": {},
   "outputs": [
    {
     "data": {
      "text/html": [
       "<div>\n",
       "<style scoped>\n",
       "    .dataframe tbody tr th:only-of-type {\n",
       "        vertical-align: middle;\n",
       "    }\n",
       "\n",
       "    .dataframe tbody tr th {\n",
       "        vertical-align: top;\n",
       "    }\n",
       "\n",
       "    .dataframe thead th {\n",
       "        text-align: right;\n",
       "    }\n",
       "</style>\n",
       "<table border=\"1\" class=\"dataframe\">\n",
       "  <thead>\n",
       "    <tr style=\"text-align: right;\">\n",
       "      <th></th>\n",
       "      <th>FORMULARIO</th>\n",
       "      <th>FECHA_OCURRENCIA_ACC</th>\n",
       "      <th>HORA_OCURRENCIA_ACC</th>\n",
       "      <th>ANO_OCURRENCIA_ACC</th>\n",
       "      <th>MES_OCURRENCIA_ACC</th>\n",
       "      <th>DIA_OCURRENCIA_ACC</th>\n",
       "      <th>DIRECCION</th>\n",
       "      <th>GRAVEDAD</th>\n",
       "      <th>CLASE_ACC</th>\n",
       "      <th>LOCALIDAD</th>\n",
       "      <th>LATITUD</th>\n",
       "      <th>LONGITUD</th>\n",
       "    </tr>\n",
       "  </thead>\n",
       "  <tbody>\n",
       "    <tr>\n",
       "      <th>0</th>\n",
       "      <td>A001390689</td>\n",
       "      <td>1644814800000</td>\n",
       "      <td>19:30:00</td>\n",
       "      <td>2022.0</td>\n",
       "      <td>FEBRERO</td>\n",
       "      <td>LUNES</td>\n",
       "      <td>DG 73 G  - KR 79 A  S 02</td>\n",
       "      <td>CON HERIDOS</td>\n",
       "      <td>ATROPELLO</td>\n",
       "      <td>BOSA</td>\n",
       "      <td>4.607566</td>\n",
       "      <td>-74.201473</td>\n",
       "    </tr>\n",
       "    <tr>\n",
       "      <th>1</th>\n",
       "      <td>A00410350</td>\n",
       "      <td>1220850000000</td>\n",
       "      <td>08:20:00</td>\n",
       "      <td>2008.0</td>\n",
       "      <td>SEPTIEMBRE</td>\n",
       "      <td>LUNES</td>\n",
       "      <td>TR 52-1B 02</td>\n",
       "      <td>CON MUERTOS</td>\n",
       "      <td>CHOQUE</td>\n",
       "      <td>PUENTE ARANDA</td>\n",
       "      <td>4.610252</td>\n",
       "      <td>-74.118635</td>\n",
       "    </tr>\n",
       "    <tr>\n",
       "      <th>2</th>\n",
       "      <td>A000757293</td>\n",
       "      <td>1516856400000</td>\n",
       "      <td>21:20:00</td>\n",
       "      <td>2018.0</td>\n",
       "      <td>ENERO</td>\n",
       "      <td>JUEVES</td>\n",
       "      <td>CL 52-KR 13A S 2</td>\n",
       "      <td>CON HERIDOS</td>\n",
       "      <td>CHOQUE</td>\n",
       "      <td>TUNJUELITO</td>\n",
       "      <td>4.563616</td>\n",
       "      <td>-74.126296</td>\n",
       "    </tr>\n",
       "    <tr>\n",
       "      <th>3</th>\n",
       "      <td>727366900</td>\n",
       "      <td>1188277200000</td>\n",
       "      <td>07:30:00</td>\n",
       "      <td>2007.0</td>\n",
       "      <td>AGOSTO</td>\n",
       "      <td>MARTES</td>\n",
       "      <td>AC 116-70H 0</td>\n",
       "      <td>SOLO DANOS</td>\n",
       "      <td>CHOQUE</td>\n",
       "      <td>SUBA</td>\n",
       "      <td>4.699019</td>\n",
       "      <td>-74.076723</td>\n",
       "    </tr>\n",
       "    <tr>\n",
       "      <th>4</th>\n",
       "      <td>A1061345</td>\n",
       "      <td>1337058000000</td>\n",
       "      <td>05:50:00</td>\n",
       "      <td>2012.0</td>\n",
       "      <td>MAYO</td>\n",
       "      <td>MARTES</td>\n",
       "      <td>CL 26-KR 79A S 02</td>\n",
       "      <td>SOLO DANOS</td>\n",
       "      <td>CHOQUE</td>\n",
       "      <td>KENNEDY</td>\n",
       "      <td>4.629726</td>\n",
       "      <td>-74.152551</td>\n",
       "    </tr>\n",
       "  </tbody>\n",
       "</table>\n",
       "</div>"
      ],
      "text/plain": [
       "   FORMULARIO  FECHA_OCURRENCIA_ACC HORA_OCURRENCIA_ACC  ANO_OCURRENCIA_ACC  \\\n",
       "0  A001390689         1644814800000            19:30:00              2022.0   \n",
       "1   A00410350         1220850000000            08:20:00              2008.0   \n",
       "2  A000757293         1516856400000            21:20:00              2018.0   \n",
       "3   727366900         1188277200000            07:30:00              2007.0   \n",
       "4    A1061345         1337058000000            05:50:00              2012.0   \n",
       "\n",
       "  MES_OCURRENCIA_ACC DIA_OCURRENCIA_ACC                 DIRECCION  \\\n",
       "0            FEBRERO              LUNES  DG 73 G  - KR 79 A  S 02   \n",
       "1         SEPTIEMBRE              LUNES               TR 52-1B 02   \n",
       "2              ENERO             JUEVES          CL 52-KR 13A S 2   \n",
       "3             AGOSTO             MARTES              AC 116-70H 0   \n",
       "4               MAYO             MARTES         CL 26-KR 79A S 02   \n",
       "\n",
       "      GRAVEDAD  CLASE_ACC      LOCALIDAD   LATITUD   LONGITUD  \n",
       "0  CON HERIDOS  ATROPELLO           BOSA  4.607566 -74.201473  \n",
       "1  CON MUERTOS     CHOQUE  PUENTE ARANDA  4.610252 -74.118635  \n",
       "2  CON HERIDOS     CHOQUE     TUNJUELITO  4.563616 -74.126296  \n",
       "3   SOLO DANOS     CHOQUE           SUBA  4.699019 -74.076723  \n",
       "4   SOLO DANOS     CHOQUE        KENNEDY  4.629726 -74.152551  "
      ]
     },
     "execution_count": 29,
     "metadata": {},
     "output_type": "execute_result"
    }
   ],
   "source": [
    "# Información que no es relevante para el análisis, todos los registros son en bogotá\n",
    "accidentes_data.drop(columns=['MUNICIPIO'],inplace=True) \n",
    "accidentes_data.head(5)"
   ]
  },
  {
   "cell_type": "markdown",
   "metadata": {},
   "source": [
    "Revisamos el tipo de información de algunos atributos relevantes como la clase de accidentes que corresponde a la clasificación del tipo de accidente y la gravedad del accidente."
   ]
  },
  {
   "cell_type": "code",
   "execution_count": 30,
   "metadata": {},
   "outputs": [
    {
     "name": "stdout",
     "output_type": "stream",
     "text": [
      "CLASE_ACC\n",
      "CHOQUE               1577\n",
      "ATROPELLO             300\n",
      "CAIDA DE OCUPANTE      70\n",
      "OTRO                   27\n",
      "VOLCAMIENTO            22\n",
      "AUTOLESION              4\n",
      "Name: count, dtype: int64\n",
      "\n",
      "GRAVEDAD\n",
      "CON HERIDOS    1081\n",
      "SOLO DANOS      872\n",
      "CON MUERTOS      47\n",
      "Name: count, dtype: int64\n"
     ]
    }
   ],
   "source": [
    "print(accidentes_data['CLASE_ACC'].value_counts())\n",
    "print(\"\")\n",
    "print(accidentes_data['GRAVEDAD'].value_counts())"
   ]
  },
  {
   "cell_type": "markdown",
   "metadata": {},
   "source": [
    "----\n",
    "### **Análisis estadistico basico del dataset **"
   ]
  },
  {
   "cell_type": "code",
   "execution_count": null,
   "metadata": {},
   "outputs": [],
   "source": []
  }
 ],
 "metadata": {
  "kernelspec": {
   "display_name": ".venv",
   "language": "python",
   "name": "python3"
  },
  "language_info": {
   "codemirror_mode": {
    "name": "ipython",
    "version": 3
   },
   "file_extension": ".py",
   "mimetype": "text/x-python",
   "name": "python",
   "nbconvert_exporter": "python",
   "pygments_lexer": "ipython3",
   "version": "3.12.9"
  }
 },
 "nbformat": 4,
 "nbformat_minor": 2
}
