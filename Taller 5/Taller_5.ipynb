{
 "cells": [
  {
   "cell_type": "markdown",
   "metadata": {},
   "source": [
    "## Análisis de bases de datos  \n",
    "\n",
    "### <b>Taller 5: Análisis de componentes principales</b>  \n",
    "\n",
    "Laura Nicole Bermudez Santa - labermudezs@unal.edu.co  \n",
    "David Sebastián Mendoza Cruz - damendozac@unal.edu.co  \n",
    "David Alejandro Alquichire Rincón - dalquichire@unal.edu.co  \n",
    "Laura Nicole Bermudez Santa - labermudezs@unal.edu.co  \n",
    "Juan David Bernal - jubernalv@unal.edu.co"
   ]
  },
  {
   "cell_type": "markdown",
   "metadata": {},
   "source": [
    "En el Excel adjunto encontrarán una base de datos correspondiente a la composición nutricional de hamburguesas producidas por las siguientes empresas: Arby's, Burger King, Chick-fil-a, Dairy Queen, McDonald's y Sonic. La información de la composición nutricional de las hamburguesas contiene los siguientes atributos: \n",
    "- Calories \n",
    "- TotalFat_g (Grasa total en gramos).\n",
    "- Sodium_mg (Sodio en miligramos).\n",
    "- CaloriesFromFat (Calorías proveniente de grasas en gramos)\n",
    "- SaturatedFat_g (Grasas saturadas en gramos)\n",
    "- TransFat_g (Grasas trans en gramos)\n",
    "- Cholesterol_mg (Colesterol en mili gramos)\n",
    "- Carbohydrates_g (Carbohidratos en gramos)\n",
    "- Fiber_g (Fibra en gramos)\n",
    "- Sugars_g (Azúcar en gramos)\n",
    "- Protein_g (Proteínas en gramos)\n"
   ]
  },
  {
   "cell_type": "code",
   "execution_count": 49,
   "metadata": {},
   "outputs": [
    {
     "data": {
      "text/html": [
       "<div>\n",
       "<style scoped>\n",
       "    .dataframe tbody tr th:only-of-type {\n",
       "        vertical-align: middle;\n",
       "    }\n",
       "\n",
       "    .dataframe tbody tr th {\n",
       "        vertical-align: top;\n",
       "    }\n",
       "\n",
       "    .dataframe thead th {\n",
       "        text-align: right;\n",
       "    }\n",
       "</style>\n",
       "<table border=\"1\" class=\"dataframe\">\n",
       "  <thead>\n",
       "    <tr style=\"text-align: right;\">\n",
       "      <th></th>\n",
       "      <th>Meat</th>\n",
       "      <th>Type</th>\n",
       "      <th>Sandwich</th>\n",
       "      <th>Calories</th>\n",
       "      <th>TotalFat_g</th>\n",
       "      <th>Sodium_mg</th>\n",
       "      <th>CaloriesFromFat</th>\n",
       "      <th>SaturatedFat_g</th>\n",
       "      <th>TransFat_g</th>\n",
       "      <th>Cholesterol_mg</th>\n",
       "      <th>Carbohydrates_g</th>\n",
       "      <th>Fiber_g</th>\n",
       "      <th>Sugars_g</th>\n",
       "      <th>Protein_g</th>\n",
       "      <th>Restaurant</th>\n",
       "    </tr>\n",
       "  </thead>\n",
       "  <tbody>\n",
       "    <tr>\n",
       "      <th>0</th>\n",
       "      <td>Ham</td>\n",
       "      <td>Sandwich</td>\n",
       "      <td>Arby-Q Sandwich</td>\n",
       "      <td>400</td>\n",
       "      <td>10</td>\n",
       "      <td>1230</td>\n",
       "      <td>90</td>\n",
       "      <td>3,0</td>\n",
       "      <td>0,0</td>\n",
       "      <td>30</td>\n",
       "      <td>58</td>\n",
       "      <td>3</td>\n",
       "      <td>23</td>\n",
       "      <td>18</td>\n",
       "      <td>Arby's</td>\n",
       "    </tr>\n",
       "    <tr>\n",
       "      <th>1</th>\n",
       "      <td>Ham</td>\n",
       "      <td>Crossover</td>\n",
       "      <td>Arby’s Melt</td>\n",
       "      <td>330</td>\n",
       "      <td>11</td>\n",
       "      <td>920</td>\n",
       "      <td>100</td>\n",
       "      <td>4,0</td>\n",
       "      <td>0,0</td>\n",
       "      <td>30</td>\n",
       "      <td>40</td>\n",
       "      <td>2</td>\n",
       "      <td>5</td>\n",
       "      <td>18</td>\n",
       "      <td>Arby's</td>\n",
       "    </tr>\n",
       "    <tr>\n",
       "      <th>2</th>\n",
       "      <td>Beef</td>\n",
       "      <td>Crossover</td>\n",
       "      <td>Beef ‘n Cheddar Classic</td>\n",
       "      <td>440</td>\n",
       "      <td>18</td>\n",
       "      <td>1290</td>\n",
       "      <td>160</td>\n",
       "      <td>5,0</td>\n",
       "      <td>1,0</td>\n",
       "      <td>45</td>\n",
       "      <td>47</td>\n",
       "      <td>2</td>\n",
       "      <td>9</td>\n",
       "      <td>23</td>\n",
       "      <td>Arby's</td>\n",
       "    </tr>\n",
       "    <tr>\n",
       "      <th>3</th>\n",
       "      <td>Beef</td>\n",
       "      <td>Crossover</td>\n",
       "      <td>Beef ‘n Cheddar Mid</td>\n",
       "      <td>530</td>\n",
       "      <td>23</td>\n",
       "      <td>1720</td>\n",
       "      <td>200</td>\n",
       "      <td>7,0</td>\n",
       "      <td>1,0</td>\n",
       "      <td>80</td>\n",
       "      <td>48</td>\n",
       "      <td>2</td>\n",
       "      <td>9</td>\n",
       "      <td>34</td>\n",
       "      <td>Arby's</td>\n",
       "    </tr>\n",
       "    <tr>\n",
       "      <th>4</th>\n",
       "      <td>Beef</td>\n",
       "      <td>Burger</td>\n",
       "      <td>Jr Deluxe Sandwich</td>\n",
       "      <td>260</td>\n",
       "      <td>12</td>\n",
       "      <td>560</td>\n",
       "      <td>110</td>\n",
       "      <td>3,0</td>\n",
       "      <td>0,0</td>\n",
       "      <td>30</td>\n",
       "      <td>26</td>\n",
       "      <td>2</td>\n",
       "      <td>4</td>\n",
       "      <td>13</td>\n",
       "      <td>Arby's</td>\n",
       "    </tr>\n",
       "  </tbody>\n",
       "</table>\n",
       "</div>"
      ],
      "text/plain": [
       "   Meat       Type                 Sandwich  Calories  TotalFat_g  Sodium_mg  \\\n",
       "0   Ham   Sandwich          Arby-Q Sandwich       400          10       1230   \n",
       "1   Ham  Crossover              Arby’s Melt       330          11        920   \n",
       "2  Beef  Crossover  Beef ‘n Cheddar Classic       440          18       1290   \n",
       "3  Beef  Crossover      Beef ‘n Cheddar Mid       530          23       1720   \n",
       "4  Beef     Burger       Jr Deluxe Sandwich       260          12        560   \n",
       "\n",
       "   CaloriesFromFat SaturatedFat_g TransFat_g  Cholesterol_mg  Carbohydrates_g  \\\n",
       "0               90            3,0        0,0              30               58   \n",
       "1              100            4,0        0,0              30               40   \n",
       "2              160            5,0        1,0              45               47   \n",
       "3              200            7,0        1,0              80               48   \n",
       "4              110            3,0        0,0              30               26   \n",
       "\n",
       "   Fiber_g  Sugars_g  Protein_g Restaurant  \n",
       "0        3        23         18     Arby's  \n",
       "1        2         5         18     Arby's  \n",
       "2        2         9         23     Arby's  \n",
       "3        2         9         34     Arby's  \n",
       "4        2         4         13     Arby's  "
      ]
     },
     "execution_count": 49,
     "metadata": {},
     "output_type": "execute_result"
    }
   ],
   "source": [
    "# Importamos algunas librerias necesarias\n",
    "import pandas as pd\n",
    "import numpy as np\n",
    "import matplotlib.pyplot as plt\n",
    "import seaborn as sb\n",
    "\n",
    "# Leemos el archivo\n",
    "Hamburguesas = pd.read_csv('Hamburguesas.csv')\n",
    "Hamburguesas.head(5)"
   ]
  },
  {
   "cell_type": "markdown",
   "metadata": {},
   "source": [
    "1. Mapa de calor para la matriz de correlación."
   ]
  },
  {
   "cell_type": "code",
   "execution_count": 50,
   "metadata": {},
   "outputs": [
    {
     "data": {
      "text/html": [
       "<div>\n",
       "<style scoped>\n",
       "    .dataframe tbody tr th:only-of-type {\n",
       "        vertical-align: middle;\n",
       "    }\n",
       "\n",
       "    .dataframe tbody tr th {\n",
       "        vertical-align: top;\n",
       "    }\n",
       "\n",
       "    .dataframe thead th {\n",
       "        text-align: right;\n",
       "    }\n",
       "</style>\n",
       "<table border=\"1\" class=\"dataframe\">\n",
       "  <thead>\n",
       "    <tr style=\"text-align: right;\">\n",
       "      <th></th>\n",
       "      <th>variable_1</th>\n",
       "      <th>variable_2</th>\n",
       "      <th>correlación</th>\n",
       "    </tr>\n",
       "  </thead>\n",
       "  <tbody>\n",
       "    <tr>\n",
       "      <th>28</th>\n",
       "      <td>CaloriesFromFat</td>\n",
       "      <td>TotalFat_g</td>\n",
       "      <td>0.999579</td>\n",
       "    </tr>\n",
       "    <tr>\n",
       "      <th>12</th>\n",
       "      <td>TotalFat_g</td>\n",
       "      <td>CaloriesFromFat</td>\n",
       "      <td>0.999579</td>\n",
       "    </tr>\n",
       "    <tr>\n",
       "      <th>3</th>\n",
       "      <td>Calories</td>\n",
       "      <td>CaloriesFromFat</td>\n",
       "      <td>0.944555</td>\n",
       "    </tr>\n",
       "    <tr>\n",
       "      <th>27</th>\n",
       "      <td>CaloriesFromFat</td>\n",
       "      <td>Calories</td>\n",
       "      <td>0.944555</td>\n",
       "    </tr>\n",
       "    <tr>\n",
       "      <th>9</th>\n",
       "      <td>TotalFat_g</td>\n",
       "      <td>Calories</td>\n",
       "      <td>0.942956</td>\n",
       "    </tr>\n",
       "    <tr>\n",
       "      <th>1</th>\n",
       "      <td>Calories</td>\n",
       "      <td>TotalFat_g</td>\n",
       "      <td>0.942956</td>\n",
       "    </tr>\n",
       "    <tr>\n",
       "      <th>76</th>\n",
       "      <td>Protein_g</td>\n",
       "      <td>Cholesterol_mg</td>\n",
       "      <td>0.904780</td>\n",
       "    </tr>\n",
       "    <tr>\n",
       "      <th>44</th>\n",
       "      <td>Cholesterol_mg</td>\n",
       "      <td>Protein_g</td>\n",
       "      <td>0.904780</td>\n",
       "    </tr>\n",
       "  </tbody>\n",
       "</table>\n",
       "</div>"
      ],
      "text/plain": [
       "         variable_1       variable_2  correlación\n",
       "28  CaloriesFromFat       TotalFat_g     0.999579\n",
       "12       TotalFat_g  CaloriesFromFat     0.999579\n",
       "3          Calories  CaloriesFromFat     0.944555\n",
       "27  CaloriesFromFat         Calories     0.944555\n",
       "9        TotalFat_g         Calories     0.942956\n",
       "1          Calories       TotalFat_g     0.942956\n",
       "76        Protein_g   Cholesterol_mg     0.904780\n",
       "44   Cholesterol_mg        Protein_g     0.904780"
      ]
     },
     "execution_count": 50,
     "metadata": {},
     "output_type": "execute_result"
    }
   ],
   "source": [
    "def Tabular_corr_matrix(corr_mat):\n",
    "    '''\n",
    "    Esta función presenta en forma tabular\n",
    "    la correlación entre pares de columnas eliminando los\n",
    "    pares iguales\n",
    "    '''\n",
    "    corr_mat = corr_mat.stack().reset_index()\n",
    "    corr_mat.columns = ['variable_1','variable_2','correlación']\n",
    "    corr_mat = corr_mat.loc[corr_mat['variable_1'] != corr_mat['variable_2'], :]\n",
    "    corr_mat = corr_mat.sort_values('correlación', ascending=False)\n",
    "\n",
    "    return(corr_mat)\n",
    "\n",
    "corr_matrix = Hamburguesas.select_dtypes(include=['number']).corr(method='pearson')\n",
    "Tabular_corr_matrix(corr_matrix).head(8)"
   ]
  },
  {
   "cell_type": "code",
   "execution_count": 51,
   "metadata": {},
   "outputs": [
    {
     "data": {
      "image/png": "[encoded data removed]",
      "text/plain": [
       "<Figure size 800x800 with 2 Axes>"
      ]
     },
     "metadata": {},
     "output_type": "display_data"
    }
   ],
   "source": [
    "fig, ax = plt.subplots(nrows=1, ncols=1, figsize=(8, 8))\n",
    "\n",
    "sb.heatmap(\n",
    "    corr_matrix,\n",
    "    annot=True,\n",
    "    cbar=True,\n",
    "    annot_kws={\"size\": 8},\n",
    "    vmin=-1,\n",
    "    vmax=1,\n",
    "    center=0,\n",
    "    cmap=sb.diverging_palette(15, 150, n=20),\n",
    "    square=True,\n",
    "    ax=ax\n",
    ")\n",
    "\n",
    "ax.set_xticklabels(\n",
    "    ax.get_xticklabels(),\n",
    "    rotation=45,\n",
    "    horizontalalignment='right',\n",
    ")\n",
    "\n",
    "ax.tick_params(labelsize=10)\n",
    "ax.set_title(\"Correlaciones entre pares de variables\")\n",
    "plt.tight_layout()\n",
    "plt.show()"
   ]
  },
  {
   "cell_type": "markdown",
   "metadata": {},
   "source": [
    "2. Matriz de datos centralizados."
   ]
  },
  {
   "cell_type": "markdown",
   "metadata": {},
   "source": [
    "3. Cálculo de SVD para la matriz de covarianza.\n"
   ]
  },
  {
   "cell_type": "markdown",
   "metadata": {},
   "source": [
    "4. Cálculo del porcentaje de participación de cada valor propio."
   ]
  },
  {
   "cell_type": "markdown",
   "metadata": {},
   "source": [
    "5. Determine cuál o cuáles atributos son los más representativos de los datos. Puede distinguirse un grupo de atributos que represente el 90% de los datos?"
   ]
  },
  {
   "cell_type": "code",
   "execution_count": 52,
   "metadata": {},
   "outputs": [
    {
     "name": "stdout",
     "output_type": "stream",
     "text": [
      "[[-1.96423167e+00]\n",
      " [ 5.03020697e+00]\n",
      " [-2.27096492e-03]\n",
      " [ 4.07366167e-01]\n",
      " [ 1.55951517e+00]\n",
      " [-2.29162723e+00]\n",
      " [-5.16515237e-02]\n",
      " [ 4.22613012e+00]\n",
      " [-1.74247698e+00]\n",
      " [-7.23286529e-01]\n",
      " [ 4.21705750e+00]]\n"
     ]
    }
   ],
   "source": [
    "import numpy as np\n",
    "import pandas as pd\n",
    "\n",
    "X = Hamburguesas[['TotalFat_g','Sodium_mg',\n",
    "                  'CaloriesFromFat', 'SaturatedFat_g',\n",
    "                  'TransFat_g', 'Cholesterol_mg',\n",
    "                  'Carbohydrates_g', 'Fiber_g',\n",
    "                  'Sugars_g', 'Protein_g']].replace(',', '.', regex=True).astype(float).values\n",
    "\n",
    "Y = Hamburguesas[['Calories']].replace(',', '.', regex=True).astype(float).values\n",
    "\n",
    "# Generamos una columna de unos y la insertamos como primera columna de X\n",
    "Unos = np.ones(len(Hamburguesas))\n",
    "X = np.insert(X, 0, Unos, axis=1)  # Conversión correcta sin repetir la inserción\n",
    "\n",
    "# Cálculo de la seudo-inversa de Moore-Penrose\n",
    "MPenrouse = np.linalg.pinv(np.matmul(X.T, X))\n",
    "C = np.matmul(MPenrouse, X.T)\n",
    "B = np.matmul(C, Y)\n",
    "\n",
    "print(B)\n"
   ]
  },
  {
   "cell_type": "markdown",
   "metadata": {},
   "source": [
    "Realizando un análisis multilineal, obtenemos los siguientes coeficientes:\n",
    "\n",
    "$$\n",
    "\\beta_0 = -1.960, \\quad \\beta_1 = 5.030, \\quad \\beta_2 = -0.002, \\quad \\beta_3 = 0.407, \\quad \\beta_4 = 1.560,\n",
    "$$\n",
    "$$\n",
    "\\beta_5 = -2.292, \\quad \\beta_6 = -0.052, \\quad \\beta_7 = 4.226, \\quad \\beta_8 = -1.742, \\quad \\beta_9 = -0.723, \\quad \\beta_{10} = 4.217.\n",
    "$$\n",
    "\n",
    "Lo que nos lleva a concluir que los atributos más representativos son:\n",
    "- TotalFat_g\n",
    "- Carbohydrates_g\n",
    "- Protein_g"
   ]
  },
  {
   "cell_type": "code",
   "execution_count": 53,
   "metadata": {},
   "outputs": [
    {
     "name": "stdout",
     "output_type": "stream",
     "text": [
      "[[-1.65077417e-02  1.05613565e-01 -2.91862674e-02  1.33387805e-02\n",
      "  -2.02337855e-02 -1.22224642e-02 -4.49571199e-02 -9.92453309e-01]\n",
      " [-9.87619003e-01 -1.55268014e-01  5.12385864e-03  2.02679286e-02\n",
      "  -7.93328868e-03  6.94396381e-04 -2.24055684e-04  1.89288760e-04]\n",
      " [-1.48481593e-01  9.45843964e-01 -2.53667414e-01  7.63858633e-02\n",
      "   9.06721228e-03  2.71991711e-02  1.45795143e-03  1.11023961e-01]\n",
      " [-3.95602686e-02  2.60294827e-01  9.01445940e-01 -2.23884205e-01\n",
      "  -1.76798657e-01 -1.86302025e-01  4.44864803e-02  2.72246830e-03]\n",
      " [-2.18640509e-02  5.18275555e-03 -2.72041529e-01 -9.24774017e-01\n",
      "   6.03877949e-02 -2.56762582e-01 -2.66021319e-02 -3.77682606e-04]\n",
      " [-1.81634067e-03 -1.23006545e-03 -1.75073458e-02 -4.00700345e-02\n",
      "   1.15168399e-01  8.78648657e-02  9.87303541e-01 -4.82783223e-02]\n",
      " [-1.45560522e-03  4.35019699e-03  7.46455739e-03 -2.63151279e-01\n",
      "  -4.98465160e-01  8.25547227e-01 -2.59712398e-02 -2.09712973e-03]\n",
      " [-1.55224251e-02  4.81260787e-02  2.18634735e-01 -1.31875564e-01\n",
      "   8.38337472e-01  4.57412733e-01 -1.40879998e-01 -1.91657142e-02]]\n",
      "[1.94088245e+05 1.55860432e+04 5.53743477e+02 1.30756091e+02\n",
      " 1.21129915e+01 6.38450737e+00 1.43623490e+00 1.75515927e-01]\n",
      "[[-1.65077417e-02 -9.87619003e-01 -1.48481593e-01 -3.95602686e-02\n",
      "  -2.18640509e-02 -1.81634067e-03 -1.45560522e-03 -1.55224251e-02]\n",
      " [ 1.05613565e-01 -1.55268014e-01  9.45843964e-01  2.60294827e-01\n",
      "   5.18275555e-03 -1.23006545e-03  4.35019699e-03  4.81260787e-02]\n",
      " [-2.91862674e-02  5.12385864e-03 -2.53667414e-01  9.01445940e-01\n",
      "  -2.72041529e-01 -1.75073458e-02  7.46455739e-03  2.18634735e-01]\n",
      " [ 1.33387805e-02  2.02679286e-02  7.63858633e-02 -2.23884205e-01\n",
      "  -9.24774017e-01 -4.00700345e-02 -2.63151279e-01 -1.31875564e-01]\n",
      " [-2.02337855e-02 -7.93328868e-03  9.06721228e-03 -1.76798657e-01\n",
      "   6.03877949e-02  1.15168399e-01 -4.98465160e-01  8.38337472e-01]\n",
      " [-1.22224642e-02  6.94396381e-04  2.71991711e-02 -1.86302025e-01\n",
      "  -2.56762582e-01  8.78648657e-02  8.25547227e-01  4.57412733e-01]\n",
      " [-4.49571199e-02 -2.24055684e-04  1.45795143e-03  4.44864803e-02\n",
      "  -2.66021319e-02  9.87303541e-01 -2.59712398e-02 -1.40879998e-01]\n",
      " [-9.92453309e-01  1.89288760e-04  1.11023961e-01  2.72246830e-03\n",
      "  -3.77682606e-04 -4.82783223e-02 -2.09712973e-03 -1.91657142e-02]]\n"
     ]
    }
   ],
   "source": [
    "import pandas as pd\n",
    "import numpy as np\n",
    "\n",
    "# Seleccionar solo columnas numéricas\n",
    "DatosNumericos = Hamburguesas.select_dtypes(include='number')\n",
    "\n",
    "# Calcular la media solo de columnas numéricas\n",
    "media_numerica = DatosNumericos.mean()\n",
    "\n",
    "# Restar la media a cada fila\n",
    "Datos_centralizados = DatosNumericos.sub(media_numerica, axis=1)\n",
    "\n",
    "# Seleccionar solo las columnas necesarias\n",
    "columnas_seleccionadas = ['TotalFat_g', 'Sodium_mg', 'CaloriesFromFat', 'SaturatedFat_g',\n",
    "                           'TransFat_g', 'Cholesterol_mg', 'Carbohydrates_g', 'Fiber_g',\n",
    "                           'Sugars_g', 'Protein_g']\n",
    "\n",
    "# Verificar si las columnas existen en Datos_centralizados\n",
    "columnas_validas = [col for col in columnas_seleccionadas if col in Datos_centralizados.columns]\n",
    "\n",
    "# Convertir a matriz NumPy\n",
    "D = Datos_centralizados[columnas_validas].values\n",
    "\n",
    "# Calcular la matriz de covarianza\n",
    "C = np.matmul(D.T, D) / len(D)\n",
    "\n",
    "# Descomposición en valores singulares (SVD)\n",
    "U, S, V = np.linalg.svd(C, full_matrices=True)\n",
    "\n",
    "# Imprimir resultados\n",
    "print(U)\n",
    "print(S)\n",
    "print(V)\n"
   ]
  },
  {
   "cell_type": "code",
   "execution_count": 54,
   "metadata": {},
   "outputs": [
    {
     "data": {
      "image/png": "[encoded data removed]",
      "text/plain": [
       "<Figure size 640x480 with 1 Axes>"
      ]
     },
     "metadata": {},
     "output_type": "display_data"
    }
   ],
   "source": [
    "import seaborn as sns\n",
    "import matplotlib.pyplot as plt\n",
    "Porcentaje_Valor_Propio = np.round(S/np.sum(S), decimals=3)\n",
    "Porcentaje_Valor_Propio\n",
    "\n",
    "sns.barplot(x=list(range(1,len(Porcentaje_Valor_Propio)+1)),\n",
    "            y=Porcentaje_Valor_Propio, color=\"limegreen\")\n",
    "plt.xlabel('Valor Propio', fontsize=16)\n",
    "plt.ylabel('Porcentaje Valor Propio', fontsize=16)\n",
    "plt.savefig('svd_scree_plot.png',dpi=100)"
   ]
  },
  {
   "cell_type": "code",
   "execution_count": 55,
   "metadata": {},
   "outputs": [
    {
     "name": "stdout",
     "output_type": "stream",
     "text": [
      "(8, 8)\n",
      "9\n"
     ]
    },
    {
     "data": {
      "text/html": [
       "<div>\n",
       "<style scoped>\n",
       "    .dataframe tbody tr th:only-of-type {\n",
       "        vertical-align: middle;\n",
       "    }\n",
       "\n",
       "    .dataframe tbody tr th {\n",
       "        vertical-align: top;\n",
       "    }\n",
       "\n",
       "    .dataframe thead th {\n",
       "        text-align: right;\n",
       "    }\n",
       "</style>\n",
       "<table border=\"1\" class=\"dataframe\">\n",
       "  <thead>\n",
       "    <tr style=\"text-align: right;\">\n",
       "      <th></th>\n",
       "      <th>0</th>\n",
       "    </tr>\n",
       "  </thead>\n",
       "  <tbody>\n",
       "    <tr>\n",
       "      <th>TotalFat_g</th>\n",
       "      <td>1.339015</td>\n",
       "    </tr>\n",
       "    <tr>\n",
       "      <th>Sodium_mg</th>\n",
       "      <td>80.110103</td>\n",
       "    </tr>\n",
       "    <tr>\n",
       "      <th>CaloriesFromFat</th>\n",
       "      <td>12.043992</td>\n",
       "    </tr>\n",
       "    <tr>\n",
       "      <th>Cholesterol_mg</th>\n",
       "      <td>3.208907</td>\n",
       "    </tr>\n",
       "    <tr>\n",
       "      <th>Carbohydrates_g</th>\n",
       "      <td>1.773489</td>\n",
       "    </tr>\n",
       "    <tr>\n",
       "      <th>Fiber_g</th>\n",
       "      <td>0.147331</td>\n",
       "    </tr>\n",
       "    <tr>\n",
       "      <th>Sugars_g</th>\n",
       "      <td>0.118071</td>\n",
       "    </tr>\n",
       "    <tr>\n",
       "      <th>Protein_g</th>\n",
       "      <td>1.259092</td>\n",
       "    </tr>\n",
       "  </tbody>\n",
       "</table>\n",
       "</div>"
      ],
      "text/plain": [
       "                         0\n",
       "TotalFat_g        1.339015\n",
       "Sodium_mg        80.110103\n",
       "CaloriesFromFat  12.043992\n",
       "Cholesterol_mg    3.208907\n",
       "Carbohydrates_g   1.773489\n",
       "Fiber_g           0.147331\n",
       "Sugars_g          0.118071\n",
       "Protein_g         1.259092"
      ]
     },
     "execution_count": 55,
     "metadata": {},
     "output_type": "execute_result"
    }
   ],
   "source": [
    "u1 = U[:, 0]\n",
    "u1_abs = np.abs(u1)\n",
    "participacion_porcentual = (u1_abs / np.sum(u1_abs)) * 100\n",
    "\n",
    "print(U.shape)  # Debe ser (n_variables, n_variables)\n",
    "print(len(DatosNumericos.columns))  # Verifica el número de columnas\n",
    "DatosNumericos = DatosNumericos[columnas_validas]  # Solo mantener columnas en D\n",
    "\n",
    "\n",
    "pr = pd.DataFrame(participacion_porcentual,DatosNumericos.columns)\n",
    "pr"
   ]
  },
  {
   "cell_type": "markdown",
   "metadata": {},
   "source": [
    "Está claro que el conjunto de atributos $\\{Sodium\\_mg, CaloriesFromFat\\}$ es el mínimo que representa al menos el 90% de los datos, de hecho, representa el:\n",
    "\n",
    "$$ 92.154095 $$"
   ]
  },
  {
   "cell_type": "markdown",
   "metadata": {},
   "source": [
    "6. Si es posible, clasifique los atributos en orden de importancia, según participen con mayor proporción en la representación de los datos."
   ]
  },
  {
   "cell_type": "code",
   "execution_count": 63,
   "metadata": {},
   "outputs": [
    {
     "name": "stdout",
     "output_type": "stream",
     "text": [
      "                 Participación (%)\n",
      "Sugars_g                  0.118071\n",
      "Fiber_g                   0.147331\n",
      "Protein_g                 1.259092\n",
      "TotalFat_g                1.339015\n",
      "Carbohydrates_g           1.773489\n",
      "Cholesterol_mg            3.208907\n",
      "CaloriesFromFat          12.043992\n",
      "Sodium_mg                80.110103\n"
     ]
    }
   ],
   "source": [
    "pr = pd.DataFrame(participacion_porcentual, index=DatosNumericos.columns, columns=['Participación (%)'])\n",
    "pr_sorted = pr.sort_values(by='Participación (%)')  # Orden ascendente\n",
    "print(pr_sorted)\n"
   ]
  },
  {
   "cell_type": "markdown",
   "metadata": {},
   "source": [
    "7. Determine si los datos determinan de alguna manera la empresa de donde provienen las hamburguesas."
   ]
  },
  {
   "cell_type": "markdown",
   "metadata": {},
   "source": [
    "8. Haga un gráfico tridimensional de los datos usando:\n",
    "- Los tres atributos más representativos.\n",
    "- Las tres componentes más representativas asociadas a los tres valores propios más representativos."
   ]
  }
 ],
 "metadata": {
  "kernelspec": {
   "display_name": "venv",
   "language": "python",
   "name": "python3"
  },
  "language_info": {
   "codemirror_mode": {
    "name": "ipython",
    "version": 3
   },
   "file_extension": ".py",
   "mimetype": "text/x-python",
   "name": "python",
   "nbconvert_exporter": "python",
   "pygments_lexer": "ipython3",
   "version": "3.13.0"
  }
 },
 "nbformat": 4,
 "nbformat_minor": 2
}
