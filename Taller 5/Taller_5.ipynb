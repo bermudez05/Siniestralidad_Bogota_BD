{
  "cells": [
    {
      "cell_type": "markdown",
      "metadata": {
        "id": "tQdgysd5cqhs"
      },
      "source": [
        "## Análisis de bases de datos  \n",
        "\n",
        "### <b>Taller 5: Análisis de componentes principales</b>  \n",
        "\n",
        "Laura Nicole Bermudez Santa - labermudezs@unal.edu.co  \n",
        "David Sebastián Mendoza Cruz - damendozac@unal.edu.co  \n",
        "David Alejandro Alquichire Rincón - dalquichire@unal.edu.co  \n",
        "Laura Nicole Bermudez Santa - labermudezs@unal.edu.co  \n",
        "Juan David Bernal Vesga - jubernalv@unal.edu.co"
      ]
    },
    {
      "cell_type": "markdown",
      "metadata": {
        "id": "aoFJYWVEcqhs"
      },
      "source": [
        "En el Excel adjunto encontrarán una base de datos correspondiente a la composición nutricional de hamburguesas producidas por las siguientes empresas: Arby's, Burger King, Chick-fil-a, Dairy Queen, McDonald's y Sonic. La información de la composición nutricional de las hamburguesas contiene los siguientes atributos:\n",
        "- Calories\n",
        "- TotalFat_g (Grasa total en gramos).\n",
        "- Sodium_mg (Sodio en miligramos).\n",
        "- CaloriesFromFat (Calorías proveniente de grasas en gramos)\n",
        "- SaturatedFat_g (Grasas saturadas en gramos)\n",
        "- TransFat_g (Grasas trans en gramos)\n",
        "- Cholesterol_mg (Colesterol en mili gramos)\n",
        "- Carbohydrates_g (Carbohidratos en gramos)\n",
        "- Fiber_g (Fibra en gramos)\n",
        "- Sugars_g (Azúcar en gramos)\n",
        "- Protein_g (Proteínas en gramos)\n"
      ]
    },
    {
      "cell_type": "code",
      "execution_count": 33,
      "metadata": {
        "colab": {
          "base_uri": "https://localhost:8080/",
          "height": 348
        },
        "id": "LCge6cQOcqht",
        "outputId": "2db6f85b-0d17-42c6-b59c-d64a60d96994"
      },
      "outputs": [
        {
          "data": {
            "text/html": [
              "<div>\n",
              "<style scoped>\n",
              "    .dataframe tbody tr th:only-of-type {\n",
              "        vertical-align: middle;\n",
              "    }\n",
              "\n",
              "    .dataframe tbody tr th {\n",
              "        vertical-align: top;\n",
              "    }\n",
              "\n",
              "    .dataframe thead th {\n",
              "        text-align: right;\n",
              "    }\n",
              "</style>\n",
              "<table border=\"1\" class=\"dataframe\">\n",
              "  <thead>\n",
              "    <tr style=\"text-align: right;\">\n",
              "      <th></th>\n",
              "      <th>Meat</th>\n",
              "      <th>Type</th>\n",
              "      <th>Sandwich</th>\n",
              "      <th>Calories</th>\n",
              "      <th>TotalFat_g</th>\n",
              "      <th>Sodium_mg</th>\n",
              "      <th>CaloriesFromFat</th>\n",
              "      <th>SaturatedFat_g</th>\n",
              "      <th>TransFat_g</th>\n",
              "      <th>Cholesterol_mg</th>\n",
              "      <th>Carbohydrates_g</th>\n",
              "      <th>Fiber_g</th>\n",
              "      <th>Sugars_g</th>\n",
              "      <th>Protein_g</th>\n",
              "      <th>Restaurant</th>\n",
              "    </tr>\n",
              "  </thead>\n",
              "  <tbody>\n",
              "    <tr>\n",
              "      <th>0</th>\n",
              "      <td>Ham</td>\n",
              "      <td>Sandwich</td>\n",
              "      <td>Arby-Q Sandwich</td>\n",
              "      <td>400</td>\n",
              "      <td>10</td>\n",
              "      <td>1230</td>\n",
              "      <td>90</td>\n",
              "      <td>3,0</td>\n",
              "      <td>0,0</td>\n",
              "      <td>30</td>\n",
              "      <td>58</td>\n",
              "      <td>3</td>\n",
              "      <td>23</td>\n",
              "      <td>18</td>\n",
              "      <td>Arby's</td>\n",
              "    </tr>\n",
              "    <tr>\n",
              "      <th>1</th>\n",
              "      <td>Ham</td>\n",
              "      <td>Crossover</td>\n",
              "      <td>Arby’s Melt</td>\n",
              "      <td>330</td>\n",
              "      <td>11</td>\n",
              "      <td>920</td>\n",
              "      <td>100</td>\n",
              "      <td>4,0</td>\n",
              "      <td>0,0</td>\n",
              "      <td>30</td>\n",
              "      <td>40</td>\n",
              "      <td>2</td>\n",
              "      <td>5</td>\n",
              "      <td>18</td>\n",
              "      <td>Arby's</td>\n",
              "    </tr>\n",
              "    <tr>\n",
              "      <th>2</th>\n",
              "      <td>Beef</td>\n",
              "      <td>Crossover</td>\n",
              "      <td>Beef ‘n Cheddar Classic</td>\n",
              "      <td>440</td>\n",
              "      <td>18</td>\n",
              "      <td>1290</td>\n",
              "      <td>160</td>\n",
              "      <td>5,0</td>\n",
              "      <td>1,0</td>\n",
              "      <td>45</td>\n",
              "      <td>47</td>\n",
              "      <td>2</td>\n",
              "      <td>9</td>\n",
              "      <td>23</td>\n",
              "      <td>Arby's</td>\n",
              "    </tr>\n",
              "    <tr>\n",
              "      <th>3</th>\n",
              "      <td>Beef</td>\n",
              "      <td>Crossover</td>\n",
              "      <td>Beef ‘n Cheddar Mid</td>\n",
              "      <td>530</td>\n",
              "      <td>23</td>\n",
              "      <td>1720</td>\n",
              "      <td>200</td>\n",
              "      <td>7,0</td>\n",
              "      <td>1,0</td>\n",
              "      <td>80</td>\n",
              "      <td>48</td>\n",
              "      <td>2</td>\n",
              "      <td>9</td>\n",
              "      <td>34</td>\n",
              "      <td>Arby's</td>\n",
              "    </tr>\n",
              "    <tr>\n",
              "      <th>4</th>\n",
              "      <td>Beef</td>\n",
              "      <td>Burger</td>\n",
              "      <td>Jr Deluxe Sandwich</td>\n",
              "      <td>260</td>\n",
              "      <td>12</td>\n",
              "      <td>560</td>\n",
              "      <td>110</td>\n",
              "      <td>3,0</td>\n",
              "      <td>0,0</td>\n",
              "      <td>30</td>\n",
              "      <td>26</td>\n",
              "      <td>2</td>\n",
              "      <td>4</td>\n",
              "      <td>13</td>\n",
              "      <td>Arby's</td>\n",
              "    </tr>\n",
              "  </tbody>\n",
              "</table>\n",
              "</div>"
            ],
            "text/plain": [
              "   Meat       Type                 Sandwich  Calories  TotalFat_g  Sodium_mg  \\\n",
              "0   Ham   Sandwich          Arby-Q Sandwich       400          10       1230   \n",
              "1   Ham  Crossover              Arby’s Melt       330          11        920   \n",
              "2  Beef  Crossover  Beef ‘n Cheddar Classic       440          18       1290   \n",
              "3  Beef  Crossover      Beef ‘n Cheddar Mid       530          23       1720   \n",
              "4  Beef     Burger       Jr Deluxe Sandwich       260          12        560   \n",
              "\n",
              "   CaloriesFromFat SaturatedFat_g TransFat_g  Cholesterol_mg  Carbohydrates_g  \\\n",
              "0               90            3,0        0,0              30               58   \n",
              "1              100            4,0        0,0              30               40   \n",
              "2              160            5,0        1,0              45               47   \n",
              "3              200            7,0        1,0              80               48   \n",
              "4              110            3,0        0,0              30               26   \n",
              "\n",
              "   Fiber_g  Sugars_g  Protein_g Restaurant  \n",
              "0        3        23         18     Arby's  \n",
              "1        2         5         18     Arby's  \n",
              "2        2         9         23     Arby's  \n",
              "3        2         9         34     Arby's  \n",
              "4        2         4         13     Arby's  "
            ]
          },
          "execution_count": 33,
          "metadata": {},
          "output_type": "execute_result"
        }
      ],
      "source": [
        "# Importamos algunas librerias necesarias\n",
        "import pandas as pd\n",
        "import numpy as np\n",
        "import matplotlib.pyplot as plt\n",
        "import seaborn as sb\n",
        "\n",
        "# Leemos el archivo\n",
        "Hamburguesas = pd.read_csv('Hamburguesas.csv')\n",
        "Hamburguesas.head(5)"
      ]
    },
    {
      "cell_type": "markdown",
      "metadata": {
        "id": "_bTZ0s2Bcqht"
      },
      "source": [
        "1. Mapa de calor para la matriz de correlación."
      ]
    },
    {
      "cell_type": "code",
      "execution_count": 34,
      "metadata": {
        "id": "_6i67EA3cqht"
      },
      "outputs": [],
      "source": [
        "def Tabular_corr_matrix(corr_mat):\n",
        "    '''\n",
        "    Esta función presenta en forma tabular\n",
        "    la correlación entre pares de columnas eliminando los\n",
        "    pares iguales\n",
        "    '''\n",
        "    corr_mat = corr_mat.stack().reset_index()\n",
        "    corr_mat.columns = ['variable_1','variable_2','correlación']\n",
        "    corr_mat = corr_mat.loc[corr_mat['variable_1'] != corr_mat['variable_2'], :]\n",
        "    corr_mat = corr_mat.sort_values('correlación', ascending=False)\n",
        "\n",
        "    return(corr_mat)\n",
        "\n",
        "corr_matrix = Hamburguesas.select_dtypes(include=['number']).corr(method='pearson')"
      ]
    },
    {
      "cell_type": "code",
      "execution_count": 35,
      "metadata": {
        "colab": {
          "base_uri": "https://localhost:8080/",
          "height": 771
        },
        "id": "TOXzGunBcqhu",
        "outputId": "4d2e1262-c622-4e54-f120-b9dc0c300aec"
      },
      "outputs": [
        {
          "data": {
            "image/png": "[encoded data removed]",
            "text/plain": [
              "<Figure size 800x800 with 2 Axes>"
            ]
          },
          "metadata": {},
          "output_type": "display_data"
        }
      ],
      "source": [
        "fig, ax = plt.subplots(nrows=1, ncols=1, figsize=(8, 8))\n",
        "\n",
        "sb.heatmap(\n",
        "    corr_matrix,\n",
        "    annot=True,\n",
        "    cbar=True,\n",
        "    annot_kws={\"size\": 8},\n",
        "    vmin=-1,\n",
        "    vmax=1,\n",
        "    center=0,\n",
        "    cmap=sb.diverging_palette(15, 150, n=20),\n",
        "    square=True,\n",
        "    ax=ax\n",
        ")\n",
        "\n",
        "ax.set_xticklabels(\n",
        "    ax.get_xticklabels(),\n",
        "    rotation=45,\n",
        "    horizontalalignment='right',\n",
        ")\n",
        "\n",
        "ax.tick_params(labelsize=10)\n",
        "ax.set_title(\"Correlaciones entre pares de variables\")\n",
        "plt.tight_layout()\n",
        "plt.show()"
      ]
    },
    {
      "cell_type": "markdown",
      "metadata": {
        "id": "SQvoaiGxcqhu"
      },
      "source": [
        "2. Matriz de datos centralizados."
      ]
    },
    {
      "cell_type": "code",
      "execution_count": 36,
      "metadata": {
        "colab": {
          "base_uri": "https://localhost:8080/",
          "height": 206
        },
        "id": "UfZRqFaZcqhu",
        "outputId": "a1254b4d-bac1-4b24-c050-2dfa1ffd9d71"
      },
      "outputs": [
        {
          "data": {
            "text/html": [
              "<div>\n",
              "<style scoped>\n",
              "    .dataframe tbody tr th:only-of-type {\n",
              "        vertical-align: middle;\n",
              "    }\n",
              "\n",
              "    .dataframe tbody tr th {\n",
              "        vertical-align: top;\n",
              "    }\n",
              "\n",
              "    .dataframe thead th {\n",
              "        text-align: right;\n",
              "    }\n",
              "</style>\n",
              "<table border=\"1\" class=\"dataframe\">\n",
              "  <thead>\n",
              "    <tr style=\"text-align: right;\">\n",
              "      <th></th>\n",
              "      <th>Calories</th>\n",
              "      <th>TotalFat_g</th>\n",
              "      <th>Sodium_mg</th>\n",
              "      <th>CaloriesFromFat</th>\n",
              "      <th>Cholesterol_mg</th>\n",
              "      <th>Carbohydrates_g</th>\n",
              "      <th>Fiber_g</th>\n",
              "      <th>Sugars_g</th>\n",
              "      <th>Protein_g</th>\n",
              "    </tr>\n",
              "  </thead>\n",
              "  <tbody>\n",
              "    <tr>\n",
              "      <th>0</th>\n",
              "      <td>400</td>\n",
              "      <td>10</td>\n",
              "      <td>1230</td>\n",
              "      <td>90</td>\n",
              "      <td>30</td>\n",
              "      <td>58</td>\n",
              "      <td>3</td>\n",
              "      <td>23</td>\n",
              "      <td>18</td>\n",
              "    </tr>\n",
              "    <tr>\n",
              "      <th>1</th>\n",
              "      <td>330</td>\n",
              "      <td>11</td>\n",
              "      <td>920</td>\n",
              "      <td>100</td>\n",
              "      <td>30</td>\n",
              "      <td>40</td>\n",
              "      <td>2</td>\n",
              "      <td>5</td>\n",
              "      <td>18</td>\n",
              "    </tr>\n",
              "    <tr>\n",
              "      <th>2</th>\n",
              "      <td>440</td>\n",
              "      <td>18</td>\n",
              "      <td>1290</td>\n",
              "      <td>160</td>\n",
              "      <td>45</td>\n",
              "      <td>47</td>\n",
              "      <td>2</td>\n",
              "      <td>9</td>\n",
              "      <td>23</td>\n",
              "    </tr>\n",
              "    <tr>\n",
              "      <th>3</th>\n",
              "      <td>530</td>\n",
              "      <td>23</td>\n",
              "      <td>1720</td>\n",
              "      <td>200</td>\n",
              "      <td>80</td>\n",
              "      <td>48</td>\n",
              "      <td>2</td>\n",
              "      <td>9</td>\n",
              "      <td>34</td>\n",
              "    </tr>\n",
              "    <tr>\n",
              "      <th>4</th>\n",
              "      <td>260</td>\n",
              "      <td>12</td>\n",
              "      <td>560</td>\n",
              "      <td>110</td>\n",
              "      <td>30</td>\n",
              "      <td>26</td>\n",
              "      <td>2</td>\n",
              "      <td>4</td>\n",
              "      <td>13</td>\n",
              "    </tr>\n",
              "  </tbody>\n",
              "</table>\n",
              "</div>"
            ],
            "text/plain": [
              "   Calories  TotalFat_g  Sodium_mg  CaloriesFromFat  Cholesterol_mg  \\\n",
              "0       400          10       1230               90              30   \n",
              "1       330          11        920              100              30   \n",
              "2       440          18       1290              160              45   \n",
              "3       530          23       1720              200              80   \n",
              "4       260          12        560              110              30   \n",
              "\n",
              "   Carbohydrates_g  Fiber_g  Sugars_g  Protein_g  \n",
              "0               58        3        23         18  \n",
              "1               40        2         5         18  \n",
              "2               47        2         9         23  \n",
              "3               48        2         9         34  \n",
              "4               26        2         4         13  "
            ]
          },
          "execution_count": 36,
          "metadata": {},
          "output_type": "execute_result"
        }
      ],
      "source": [
        "# Eliminamos valores no numericos\n",
        "df_hamburguesas = Hamburguesas.select_dtypes(include=['number'])\n",
        "df_hamburguesas.head(5)"
      ]
    },
    {
      "cell_type": "code",
      "execution_count": 37,
      "metadata": {
        "colab": {
          "base_uri": "https://localhost:8080/",
          "height": 206
        },
        "id": "duDcXMaKcqhu",
        "outputId": "23036585-ef4d-44fa-f416-6d3706344cff"
      },
      "outputs": [
        {
          "data": {
            "text/html": [
              "<div>\n",
              "<style scoped>\n",
              "    .dataframe tbody tr th:only-of-type {\n",
              "        vertical-align: middle;\n",
              "    }\n",
              "\n",
              "    .dataframe tbody tr th {\n",
              "        vertical-align: top;\n",
              "    }\n",
              "\n",
              "    .dataframe thead th {\n",
              "        text-align: right;\n",
              "    }\n",
              "</style>\n",
              "<table border=\"1\" class=\"dataframe\">\n",
              "  <thead>\n",
              "    <tr style=\"text-align: right;\">\n",
              "      <th></th>\n",
              "      <th>Calories</th>\n",
              "      <th>TotalFat_g</th>\n",
              "      <th>Sodium_mg</th>\n",
              "      <th>CaloriesFromFat</th>\n",
              "      <th>Cholesterol_mg</th>\n",
              "      <th>Carbohydrates_g</th>\n",
              "      <th>Fiber_g</th>\n",
              "      <th>Sugars_g</th>\n",
              "      <th>Protein_g</th>\n",
              "    </tr>\n",
              "  </thead>\n",
              "  <tbody>\n",
              "    <tr>\n",
              "      <th>0</th>\n",
              "      <td>-134.146341</td>\n",
              "      <td>-17.439024</td>\n",
              "      <td>10.0</td>\n",
              "      <td>-156.737805</td>\n",
              "      <td>-44.420732</td>\n",
              "      <td>14.073171</td>\n",
              "      <td>0.256098</td>\n",
              "      <td>16.152439</td>\n",
              "      <td>-9.713415</td>\n",
              "    </tr>\n",
              "    <tr>\n",
              "      <th>1</th>\n",
              "      <td>-204.146341</td>\n",
              "      <td>-16.439024</td>\n",
              "      <td>-300.0</td>\n",
              "      <td>-146.737805</td>\n",
              "      <td>-44.420732</td>\n",
              "      <td>-3.926829</td>\n",
              "      <td>-0.743902</td>\n",
              "      <td>-1.847561</td>\n",
              "      <td>-9.713415</td>\n",
              "    </tr>\n",
              "    <tr>\n",
              "      <th>2</th>\n",
              "      <td>-94.146341</td>\n",
              "      <td>-9.439024</td>\n",
              "      <td>70.0</td>\n",
              "      <td>-86.737805</td>\n",
              "      <td>-29.420732</td>\n",
              "      <td>3.073171</td>\n",
              "      <td>-0.743902</td>\n",
              "      <td>2.152439</td>\n",
              "      <td>-4.713415</td>\n",
              "    </tr>\n",
              "    <tr>\n",
              "      <th>3</th>\n",
              "      <td>-4.146341</td>\n",
              "      <td>-4.439024</td>\n",
              "      <td>500.0</td>\n",
              "      <td>-46.737805</td>\n",
              "      <td>5.579268</td>\n",
              "      <td>4.073171</td>\n",
              "      <td>-0.743902</td>\n",
              "      <td>2.152439</td>\n",
              "      <td>6.286585</td>\n",
              "    </tr>\n",
              "    <tr>\n",
              "      <th>4</th>\n",
              "      <td>-274.146341</td>\n",
              "      <td>-15.439024</td>\n",
              "      <td>-660.0</td>\n",
              "      <td>-136.737805</td>\n",
              "      <td>-44.420732</td>\n",
              "      <td>-17.926829</td>\n",
              "      <td>-0.743902</td>\n",
              "      <td>-2.847561</td>\n",
              "      <td>-14.713415</td>\n",
              "    </tr>\n",
              "  </tbody>\n",
              "</table>\n",
              "</div>"
            ],
            "text/plain": [
              "     Calories  TotalFat_g  Sodium_mg  CaloriesFromFat  Cholesterol_mg  \\\n",
              "0 -134.146341  -17.439024       10.0      -156.737805      -44.420732   \n",
              "1 -204.146341  -16.439024     -300.0      -146.737805      -44.420732   \n",
              "2  -94.146341   -9.439024       70.0       -86.737805      -29.420732   \n",
              "3   -4.146341   -4.439024      500.0       -46.737805        5.579268   \n",
              "4 -274.146341  -15.439024     -660.0      -136.737805      -44.420732   \n",
              "\n",
              "   Carbohydrates_g   Fiber_g   Sugars_g  Protein_g  \n",
              "0        14.073171  0.256098  16.152439  -9.713415  \n",
              "1        -3.926829 -0.743902  -1.847561  -9.713415  \n",
              "2         3.073171 -0.743902   2.152439  -4.713415  \n",
              "3         4.073171 -0.743902   2.152439   6.286585  \n",
              "4       -17.926829 -0.743902  -2.847561 -14.713415  "
            ]
          },
          "execution_count": 37,
          "metadata": {},
          "output_type": "execute_result"
        }
      ],
      "source": [
        "df_hamburguesas = df_hamburguesas.sub(df_hamburguesas.mean(), axis=1) ##Substrae la media de cada uno de los elementos de cada columna de datos\n",
        "df_hamburguesas.head(5)\n",
        "\n",
        "# y Centralizamos los datos en la siguiente tabla"
      ]
    },
    {
      "cell_type": "markdown",
      "metadata": {
        "id": "-F2N_MXecqhv"
      },
      "source": [
        "3. Cálculo de SVD para la matriz de covarianza.\n"
      ]
    },
    {
      "cell_type": "markdown",
      "metadata": {},
      "source": [
        "Determinamos la matriz de covarianza para poder determinar la factorización de esta matriz,"
      ]
    },
    {
      "cell_type": "code",
      "execution_count": 38,
      "metadata": {},
      "outputs": [
        {
          "data": {
            "text/plain": [
              "array([[4.16218322e+04, 2.90110648e+03, 5.43262195e+04, 2.60391359e+04,\n",
              "        6.99081648e+03, 1.92341315e+03, 1.08805770e+02, 2.83558894e+02,\n",
              "        1.84222487e+03],\n",
              "       [2.90110648e+03, 2.27417014e+02, 2.90865854e+03, 2.03688950e+03,\n",
              "        5.40315289e+02, 8.13735872e+01, 3.91731112e+00, 1.13047293e+01,\n",
              "        1.24961184e+02],\n",
              "       [5.43262195e+04, 2.90865854e+03, 1.89687805e+05, 2.61722561e+04,\n",
              "        6.95518293e+03, 4.17524390e+03, 3.50975610e+02, 2.67865854e+02,\n",
              "        2.85914634e+03],\n",
              "       [2.60391359e+04, 2.03688950e+03, 2.61722561e+04, 1.82590227e+04,\n",
              "        4.84841519e+03, 7.35432035e+02, 3.62987061e+01, 1.02490519e+02,\n",
              "        1.12494925e+03],\n",
              "       [6.99081648e+03, 5.40315289e+02, 6.95518293e+03, 4.84841519e+03,\n",
              "        1.81689006e+03, 8.03539560e+01, 1.10165080e+00, 4.03385262e+01,\n",
              "        4.25077893e+02],\n",
              "       [1.92341315e+03, 8.13735872e+01, 4.17524390e+03, 7.35432035e+02,\n",
              "        8.03539560e+01, 2.46470256e+02, 1.49934563e+01, 3.55071386e+01,\n",
              "        5.26375669e+01],\n",
              "       [1.08805770e+02, 3.91731112e+00, 3.50975610e+02, 3.62987061e+01,\n",
              "        1.10165080e+00, 1.49934563e+01, 2.65392623e+00, 1.46705830e+00,\n",
              "        4.34733789e+00],\n",
              "       [2.83558894e+02, 1.13047293e+01, 2.67865854e+02, 1.02490519e+02,\n",
              "        4.03385262e+01, 3.55071386e+01, 1.46705830e+00, 1.71535916e+01,\n",
              "        1.04441181e+01],\n",
              "       [1.84222487e+03, 1.24961184e+02, 2.85914634e+03, 1.12494925e+03,\n",
              "        4.25077893e+02, 5.26375669e+01, 4.34733789e+00, 1.04441181e+01,\n",
              "        1.21484942e+02]])"
            ]
          },
          "execution_count": 38,
          "metadata": {},
          "output_type": "execute_result"
        }
      ],
      "source": [
        "D = pd.DataFrame(df_hamburguesas).values\n",
        "cov_matrix = np.matmul(D.transpose(),D)/len(D)\n",
        "cov_matrix"
      ]
    },
    {
      "cell_type": "code",
      "execution_count": 48,
      "metadata": {},
      "outputs": [],
      "source": [
        "U, S, V = np.linalg.svd(cov_matrix, full_matrices=True)"
      ]
    },
    {
      "cell_type": "markdown",
      "metadata": {},
      "source": [
        "De este modo obtenemos los siguientes valores para U, S y V respectivamente."
      ]
    },
    {
      "cell_type": "code",
      "execution_count": 49,
      "metadata": {},
      "outputs": [
        {
          "data": {
            "text/plain": [
              "array([[-3.21600971e-01, -7.23879214e-01,  5.62782392e-01,\n",
              "         1.13519188e-01,  1.41748946e-01,  3.31837234e-03,\n",
              "        -1.42894683e-01, -4.87614507e-02,  7.79277060e-03],\n",
              "       [-1.87793615e-02, -6.28193672e-02, -7.60191333e-02,\n",
              "        -4.55936962e-02, -1.79180652e-02, -1.14441466e-02,\n",
              "        -4.92410464e-02,  5.73615016e-03, -9.92438290e-01],\n",
              "       [-9.30025873e-01,  3.61866917e-01, -6.28347519e-02,\n",
              "        -1.02037788e-02, -6.78084872e-03,  8.17348372e-04,\n",
              "        -2.27939081e-03, -5.17408070e-05,  2.00517549e-04],\n",
              "       [-1.68821838e-01, -5.62826620e-01, -6.70099903e-01,\n",
              "        -3.94383059e-01, -1.21874871e-01,  2.37966321e-02,\n",
              "         1.46540312e-01,  5.10472464e-02,  1.03217521e-01],\n",
              "       [-4.50768492e-02, -1.53200700e-01, -3.30252368e-01,\n",
              "         8.70595179e-01, -2.68285035e-01, -1.85040850e-01,\n",
              "         9.86978021e-03, -3.42937370e-02,  2.14058977e-03],\n",
              "       [-2.16928271e-02, -8.66330668e-03,  3.32132092e-01,\n",
              "        -1.22750246e-01, -6.18443993e-01, -2.71725604e-01,\n",
              "         6.03673232e-01,  2.28572375e-01, -3.31743994e-02],\n",
              "       [-1.72177826e-03,  7.42947230e-04,  1.68860592e-02,\n",
              "        -1.05460903e-02,  1.98232050e-02,  8.16071840e-02,\n",
              "         3.90905192e-01, -9.15981272e-01, -2.68118140e-02],\n",
              "       [-1.68695959e-03, -4.75092917e-03,  6.37990704e-02,\n",
              "         4.25782465e-02, -5.17365060e-01,  8.33684176e-01,\n",
              "        -1.76787891e-01, -1.17386254e-02,  1.92066738e-03],\n",
              "       [-1.62142563e-02, -2.76135788e-02, -2.79494252e-02,\n",
              "         2.33376903e-01,  4.92115146e-01,  4.35347118e-01,\n",
              "         6.38041973e-01,  3.20004246e-01, -5.02387440e-02]])"
            ]
          },
          "execution_count": 49,
          "metadata": {},
          "output_type": "execute_result"
        }
      ],
      "source": [
        "# U\n",
        "U"
      ]
    },
    {
      "cell_type": "markdown",
      "metadata": {},
      "source": [
        "Cuyos valores singulares son,"
      ]
    },
    {
      "cell_type": "code",
      "execution_count": 50,
      "metadata": {},
      "outputs": [
        {
          "data": {
            "text/plain": [
              "array([2.13768793e+05, 3.65363164e+04, 1.13654980e+03, 5.26853852e+02,\n",
              "       2.08808828e+01, 6.38634305e+00, 3.56207937e+00, 1.21832065e+00,\n",
              "       1.69189945e-01])"
            ]
          },
          "execution_count": 50,
          "metadata": {},
          "output_type": "execute_result"
        }
      ],
      "source": [
        "# S\n",
        "S"
      ]
    },
    {
      "cell_type": "code",
      "execution_count": 51,
      "metadata": {},
      "outputs": [
        {
          "data": {
            "text/plain": [
              "array([[-3.21600971e-01, -1.87793615e-02, -9.30025873e-01,\n",
              "        -1.68821838e-01, -4.50768492e-02, -2.16928271e-02,\n",
              "        -1.72177826e-03, -1.68695959e-03, -1.62142563e-02],\n",
              "       [-7.23879214e-01, -6.28193672e-02,  3.61866917e-01,\n",
              "        -5.62826620e-01, -1.53200700e-01, -8.66330668e-03,\n",
              "         7.42947230e-04, -4.75092917e-03, -2.76135788e-02],\n",
              "       [ 5.62782392e-01, -7.60191333e-02, -6.28347519e-02,\n",
              "        -6.70099903e-01, -3.30252368e-01,  3.32132092e-01,\n",
              "         1.68860592e-02,  6.37990704e-02, -2.79494252e-02],\n",
              "       [ 1.13519188e-01, -4.55936962e-02, -1.02037788e-02,\n",
              "        -3.94383059e-01,  8.70595179e-01, -1.22750246e-01,\n",
              "        -1.05460903e-02,  4.25782465e-02,  2.33376903e-01],\n",
              "       [ 1.41748946e-01, -1.79180652e-02, -6.78084872e-03,\n",
              "        -1.21874871e-01, -2.68285035e-01, -6.18443993e-01,\n",
              "         1.98232050e-02, -5.17365060e-01,  4.92115146e-01],\n",
              "       [ 3.31837234e-03, -1.14441466e-02,  8.17348372e-04,\n",
              "         2.37966321e-02, -1.85040850e-01, -2.71725604e-01,\n",
              "         8.16071840e-02,  8.33684176e-01,  4.35347118e-01],\n",
              "       [-1.42894683e-01, -4.92410464e-02, -2.27939081e-03,\n",
              "         1.46540312e-01,  9.86978021e-03,  6.03673232e-01,\n",
              "         3.90905192e-01, -1.76787891e-01,  6.38041973e-01],\n",
              "       [-4.87614507e-02,  5.73615016e-03, -5.17408070e-05,\n",
              "         5.10472464e-02, -3.42937370e-02,  2.28572375e-01,\n",
              "        -9.15981272e-01, -1.17386254e-02,  3.20004246e-01],\n",
              "       [ 7.79277060e-03, -9.92438290e-01,  2.00517549e-04,\n",
              "         1.03217521e-01,  2.14058977e-03, -3.31743994e-02,\n",
              "        -2.68118140e-02,  1.92066738e-03, -5.02387440e-02]])"
            ]
          },
          "execution_count": 51,
          "metadata": {},
          "output_type": "execute_result"
        }
      ],
      "source": [
        "# V\n",
        "V"
      ]
    },
    {
      "cell_type": "markdown",
      "metadata": {
        "id": "AckC1GLzcqhv"
      },
      "source": [
        "4. Cálculo del porcentaje de participación de cada valor propio."
      ]
    },
    {
      "cell_type": "code",
      "execution_count": 52,
      "metadata": {},
      "outputs": [
        {
          "data": {
            "text/plain": [
              "Text(0, 0.5, 'Porcentaje de participación')"
            ]
          },
          "execution_count": 52,
          "metadata": {},
          "output_type": "execute_result"
        },
        {
          "data": {
            "image/png": "[encoded data removed]",
            "text/plain": [
              "<Figure size 640x480 with 1 Axes>"
            ]
          },
          "metadata": {},
          "output_type": "display_data"
        }
      ],
      "source": [
        "Porcentaje_Valor_Propio = np.round(S/np.sum(S), decimals=5) # Escalar, para obtener el porcentaje de participación.\n",
        "\n",
        "sb.barplot(x=list(range(1,len(Porcentaje_Valor_Propio)+1)),\n",
        "            y=Porcentaje_Valor_Propio, color=\"blue\", orient='v')\n",
        "plt.xlabel('Valor Propio')\n",
        "plt.ylabel('Porcentaje de participación')"
      ]
    },
    {
      "cell_type": "markdown",
      "metadata": {},
      "source": [
        "La siguiente grafica nos permite ver el porcentaje de cada valor propio. Note que este no resulta muy claro por ende, es mejor trabajar con el gráfico de barras."
      ]
    },
    {
      "cell_type": "code",
      "execution_count": 53,
      "metadata": {},
      "outputs": [
        {
          "data": {
            "image/png": "[encoded data removed]",
            "text/plain": [
              "<Figure size 640x480 with 1 Axes>"
            ]
          },
          "metadata": {},
          "output_type": "display_data"
        }
      ],
      "source": [
        "plt.pie(Porcentaje_Valor_Propio, autopct='%.0f%%')\n",
        "\n",
        "# displaying chart\n",
        "plt.show()"
      ]
    },
    {
      "cell_type": "markdown",
      "metadata": {
        "id": "HIJdFCgYcqhv"
      },
      "source": [
        "5. Determine cuál o cuáles atributos son los más representativos de los datos. Puede distinguirse un grupo de atributos que represente el 90% de los datos?"
      ]
    },
    {
      "cell_type": "code",
      "execution_count": 39,
      "metadata": {
        "colab": {
          "base_uri": "https://localhost:8080/"
        },
        "id": "m9cukUFmcqhv",
        "outputId": "7d936e91-7d0f-4f97-8a7a-be44e428a58c"
      },
      "outputs": [
        {
          "name": "stdout",
          "output_type": "stream",
          "text": [
            "[[-1.96423167e+00]\n",
            " [ 5.03020697e+00]\n",
            " [-2.27096492e-03]\n",
            " [ 4.07366167e-01]\n",
            " [ 1.55951517e+00]\n",
            " [-2.29162723e+00]\n",
            " [-5.16515237e-02]\n",
            " [ 4.22613012e+00]\n",
            " [-1.74247698e+00]\n",
            " [-7.23286529e-01]\n",
            " [ 4.21705750e+00]]\n"
          ]
        }
      ],
      "source": [
        "import numpy as np\n",
        "import pandas as pd\n",
        "\n",
        "X = Hamburguesas[['TotalFat_g','Sodium_mg',\n",
        "                  'CaloriesFromFat', 'SaturatedFat_g',\n",
        "                  'TransFat_g', 'Cholesterol_mg',\n",
        "                  'Carbohydrates_g', 'Fiber_g',\n",
        "                  'Sugars_g', 'Protein_g']].replace(',', '.', regex=True).astype(float).values\n",
        "\n",
        "Y = Hamburguesas[['Calories']].replace(',', '.', regex=True).astype(float).values\n",
        "\n",
        "# Generamos una columna de unos y la insertamos como primera columna de X\n",
        "Unos = np.ones(len(Hamburguesas))\n",
        "X = np.insert(X, 0, Unos, axis=1)  # Conversión correcta sin repetir la inserción\n",
        "\n",
        "# Cálculo de la seudo-inversa de Moore-Penrose\n",
        "MPenrouse = np.linalg.pinv(np.matmul(X.T, X))\n",
        "C = np.matmul(MPenrouse, X.T)\n",
        "B = np.matmul(C, Y)\n",
        "\n",
        "print(B)\n"
      ]
    },
    {
      "cell_type": "markdown",
      "metadata": {
        "id": "9-kcYg1Tcqhv"
      },
      "source": [
        "Realizando un análisis multilineal, obtenemos los siguientes coeficientes:\n",
        "\n",
        "$$\n",
        "\\beta_0 = -1.960, \\quad \\beta_1 = 5.030, \\quad \\beta_2 = -0.002, \\quad \\beta_3 = 0.407, \\quad \\beta_4 = 1.560,\n",
        "$$\n",
        "$$\n",
        "\\beta_5 = -2.292, \\quad \\beta_6 = -0.052, \\quad \\beta_7 = 4.226, \\quad \\beta_8 = -1.742, \\quad \\beta_9 = -0.723, \\quad \\beta_{10} = 4.217.\n",
        "$$\n",
        "\n",
        "Lo que nos lleva a concluir que los atributos más representativos son:\n",
        "- TotalFat_g\n",
        "- Carbohydrates_g\n",
        "- Protein_g"
      ]
    },
    {
      "cell_type": "code",
      "execution_count": 40,
      "metadata": {
        "colab": {
          "base_uri": "https://localhost:8080/"
        },
        "id": "oRFChGzRcqhv",
        "outputId": "0c714587-db00-4a5d-a26b-a76266fb44f3"
      },
      "outputs": [
        {
          "name": "stdout",
          "output_type": "stream",
          "text": [
            "[[-1.65077417e-02  1.05613565e-01 -2.91862674e-02  1.33387805e-02\n",
            "  -2.02337855e-02 -1.22224642e-02 -4.49571199e-02 -9.92453309e-01]\n",
            " [-9.87619003e-01 -1.55268014e-01  5.12385864e-03  2.02679286e-02\n",
            "  -7.93328868e-03  6.94396381e-04 -2.24055684e-04  1.89288760e-04]\n",
            " [-1.48481593e-01  9.45843964e-01 -2.53667414e-01  7.63858633e-02\n",
            "   9.06721228e-03  2.71991711e-02  1.45795143e-03  1.11023961e-01]\n",
            " [-3.95602686e-02  2.60294827e-01  9.01445940e-01 -2.23884205e-01\n",
            "  -1.76798657e-01 -1.86302025e-01  4.44864803e-02  2.72246830e-03]\n",
            " [-2.18640509e-02  5.18275555e-03 -2.72041529e-01 -9.24774017e-01\n",
            "   6.03877949e-02 -2.56762582e-01 -2.66021319e-02 -3.77682606e-04]\n",
            " [-1.81634067e-03 -1.23006545e-03 -1.75073458e-02 -4.00700345e-02\n",
            "   1.15168399e-01  8.78648657e-02  9.87303541e-01 -4.82783223e-02]\n",
            " [-1.45560522e-03  4.35019699e-03  7.46455739e-03 -2.63151279e-01\n",
            "  -4.98465160e-01  8.25547227e-01 -2.59712398e-02 -2.09712973e-03]\n",
            " [-1.55224251e-02  4.81260787e-02  2.18634735e-01 -1.31875564e-01\n",
            "   8.38337472e-01  4.57412733e-01 -1.40879998e-01 -1.91657142e-02]]\n",
            "[1.94088245e+05 1.55860432e+04 5.53743477e+02 1.30756091e+02\n",
            " 1.21129915e+01 6.38450737e+00 1.43623490e+00 1.75515927e-01]\n",
            "[[-1.65077417e-02 -9.87619003e-01 -1.48481593e-01 -3.95602686e-02\n",
            "  -2.18640509e-02 -1.81634067e-03 -1.45560522e-03 -1.55224251e-02]\n",
            " [ 1.05613565e-01 -1.55268014e-01  9.45843964e-01  2.60294827e-01\n",
            "   5.18275555e-03 -1.23006545e-03  4.35019699e-03  4.81260787e-02]\n",
            " [-2.91862674e-02  5.12385864e-03 -2.53667414e-01  9.01445940e-01\n",
            "  -2.72041529e-01 -1.75073458e-02  7.46455739e-03  2.18634735e-01]\n",
            " [ 1.33387805e-02  2.02679286e-02  7.63858633e-02 -2.23884205e-01\n",
            "  -9.24774017e-01 -4.00700345e-02 -2.63151279e-01 -1.31875564e-01]\n",
            " [-2.02337855e-02 -7.93328868e-03  9.06721228e-03 -1.76798657e-01\n",
            "   6.03877949e-02  1.15168399e-01 -4.98465160e-01  8.38337472e-01]\n",
            " [-1.22224642e-02  6.94396381e-04  2.71991711e-02 -1.86302025e-01\n",
            "  -2.56762582e-01  8.78648657e-02  8.25547227e-01  4.57412733e-01]\n",
            " [-4.49571199e-02 -2.24055684e-04  1.45795143e-03  4.44864803e-02\n",
            "  -2.66021319e-02  9.87303541e-01 -2.59712398e-02 -1.40879998e-01]\n",
            " [-9.92453309e-01  1.89288760e-04  1.11023961e-01  2.72246830e-03\n",
            "  -3.77682606e-04 -4.82783223e-02 -2.09712973e-03 -1.91657142e-02]]\n"
          ]
        }
      ],
      "source": [
        "import pandas as pd\n",
        "import numpy as np\n",
        "\n",
        "# Seleccionar solo columnas numéricas\n",
        "DatosNumericos = Hamburguesas.select_dtypes(include='number')\n",
        "\n",
        "# Calcular la media solo de columnas numéricas\n",
        "media_numerica = DatosNumericos.mean()\n",
        "\n",
        "# Restar la media a cada fila\n",
        "Datos_centralizados = DatosNumericos.sub(media_numerica, axis=1)\n",
        "\n",
        "# Seleccionar solo las columnas necesarias\n",
        "columnas_seleccionadas = ['TotalFat_g', 'Sodium_mg', 'CaloriesFromFat', 'SaturatedFat_g',\n",
        "                           'TransFat_g', 'Cholesterol_mg', 'Carbohydrates_g', 'Fiber_g',\n",
        "                           'Sugars_g', 'Protein_g']\n",
        "\n",
        "# Verificar si las columnas existen en Datos_centralizados\n",
        "columnas_validas = [col for col in columnas_seleccionadas if col in Datos_centralizados.columns]\n",
        "\n",
        "# Convertir a matriz NumPy\n",
        "D = Datos_centralizados[columnas_validas].values\n",
        "\n",
        "# Calcular la matriz de covarianza\n",
        "C = np.matmul(D.T, D) / len(D)\n",
        "\n",
        "# Descomposición en valores singulares (SVD)\n",
        "U, S, V = np.linalg.svd(C, full_matrices=True)\n",
        "\n",
        "# Imprimir resultados\n",
        "print(U)\n",
        "print(S)\n",
        "print(V)\n"
      ]
    },
    {
      "cell_type": "code",
      "execution_count": 41,
      "metadata": {
        "id": "ZVMat7cOcqhv",
        "outputId": "83133aba-7c65-415c-d822-497ff0d9ab99"
      },
      "outputs": [
        {
          "data": {
            "image/png": "[encoded data removed]",
            "text/plain": [
              "<Figure size 640x480 with 1 Axes>"
            ]
          },
          "metadata": {},
          "output_type": "display_data"
        }
      ],
      "source": [
        "import seaborn as sns\n",
        "import matplotlib.pyplot as plt\n",
        "Porcentaje_Valor_Propio = np.round(S/np.sum(S), decimals=3)\n",
        "Porcentaje_Valor_Propio\n",
        "\n",
        "sns.barplot(x=list(range(1,len(Porcentaje_Valor_Propio)+1)),\n",
        "            y=Porcentaje_Valor_Propio, color=\"limegreen\")\n",
        "plt.xlabel('Valor Propio', fontsize=16)\n",
        "plt.ylabel('Porcentaje Valor Propio', fontsize=16)\n",
        "plt.savefig('svd_scree_plot.png',dpi=100)"
      ]
    },
    {
      "cell_type": "code",
      "execution_count": 42,
      "metadata": {
        "colab": {
          "base_uri": "https://localhost:8080/",
          "height": 336
        },
        "id": "qALSqQKvcqhv",
        "outputId": "46727eed-7e00-4bcd-db37-bc0fd81b363b"
      },
      "outputs": [
        {
          "name": "stdout",
          "output_type": "stream",
          "text": [
            "(8, 8)\n",
            "9\n"
          ]
        },
        {
          "data": {
            "text/html": [
              "<div>\n",
              "<style scoped>\n",
              "    .dataframe tbody tr th:only-of-type {\n",
              "        vertical-align: middle;\n",
              "    }\n",
              "\n",
              "    .dataframe tbody tr th {\n",
              "        vertical-align: top;\n",
              "    }\n",
              "\n",
              "    .dataframe thead th {\n",
              "        text-align: right;\n",
              "    }\n",
              "</style>\n",
              "<table border=\"1\" class=\"dataframe\">\n",
              "  <thead>\n",
              "    <tr style=\"text-align: right;\">\n",
              "      <th></th>\n",
              "      <th>0</th>\n",
              "    </tr>\n",
              "  </thead>\n",
              "  <tbody>\n",
              "    <tr>\n",
              "      <th>TotalFat_g</th>\n",
              "      <td>1.339015</td>\n",
              "    </tr>\n",
              "    <tr>\n",
              "      <th>Sodium_mg</th>\n",
              "      <td>80.110103</td>\n",
              "    </tr>\n",
              "    <tr>\n",
              "      <th>CaloriesFromFat</th>\n",
              "      <td>12.043992</td>\n",
              "    </tr>\n",
              "    <tr>\n",
              "      <th>Cholesterol_mg</th>\n",
              "      <td>3.208907</td>\n",
              "    </tr>\n",
              "    <tr>\n",
              "      <th>Carbohydrates_g</th>\n",
              "      <td>1.773489</td>\n",
              "    </tr>\n",
              "    <tr>\n",
              "      <th>Fiber_g</th>\n",
              "      <td>0.147331</td>\n",
              "    </tr>\n",
              "    <tr>\n",
              "      <th>Sugars_g</th>\n",
              "      <td>0.118071</td>\n",
              "    </tr>\n",
              "    <tr>\n",
              "      <th>Protein_g</th>\n",
              "      <td>1.259092</td>\n",
              "    </tr>\n",
              "  </tbody>\n",
              "</table>\n",
              "</div>"
            ],
            "text/plain": [
              "                         0\n",
              "TotalFat_g        1.339015\n",
              "Sodium_mg        80.110103\n",
              "CaloriesFromFat  12.043992\n",
              "Cholesterol_mg    3.208907\n",
              "Carbohydrates_g   1.773489\n",
              "Fiber_g           0.147331\n",
              "Sugars_g          0.118071\n",
              "Protein_g         1.259092"
            ]
          },
          "execution_count": 42,
          "metadata": {},
          "output_type": "execute_result"
        }
      ],
      "source": [
        "u1 = U[:, 0]\n",
        "u1_abs = np.abs(u1)\n",
        "participacion_porcentual = (u1_abs / np.sum(u1_abs)) * 100\n",
        "\n",
        "print(U.shape)  # Debe ser (n_variables, n_variables)\n",
        "print(len(DatosNumericos.columns))  # Verifica el número de columnas\n",
        "DatosNumericos = DatosNumericos[columnas_validas]  # Solo mantener columnas en D\n",
        "\n",
        "\n",
        "pr = pd.DataFrame(participacion_porcentual,DatosNumericos.columns)\n",
        "pr"
      ]
    },
    {
      "cell_type": "markdown",
      "metadata": {
        "id": "AD_8W6hucqhw"
      },
      "source": [
        "Está claro que el conjunto de atributos $\\{Sodium\\_mg, CaloriesFromFat\\}$ es el mínimo que representa al menos el 90% de los datos, de hecho, representa el:\n",
        "\n",
        "$$ 92.154095 $$"
      ]
    },
    {
      "cell_type": "markdown",
      "metadata": {
        "id": "ywdQC4o2cqhw"
      },
      "source": [
        "6. Si es posible, clasifique los atributos en orden de importancia, según participen con mayor proporción en la representación de los datos."
      ]
    },
    {
      "cell_type": "code",
      "execution_count": 43,
      "metadata": {
        "colab": {
          "base_uri": "https://localhost:8080/"
        },
        "id": "y6Vqeo5Pcqhw",
        "outputId": "a42b632e-49ea-43a9-e283-2e0364dbe086"
      },
      "outputs": [
        {
          "name": "stdout",
          "output_type": "stream",
          "text": [
            "                 Participación (%)\n",
            "Sugars_g                  0.118071\n",
            "Fiber_g                   0.147331\n",
            "Protein_g                 1.259092\n",
            "TotalFat_g                1.339015\n",
            "Carbohydrates_g           1.773489\n",
            "Cholesterol_mg            3.208907\n",
            "CaloriesFromFat          12.043992\n",
            "Sodium_mg                80.110103\n"
          ]
        }
      ],
      "source": [
        "pr = pd.DataFrame(participacion_porcentual, index=DatosNumericos.columns, columns=['Participación (%)'])\n",
        "pr_sorted = pr.sort_values(by='Participación (%)')  # Orden ascendente\n",
        "print(pr_sorted)\n"
      ]
    },
    {
      "cell_type": "markdown",
      "metadata": {
        "id": "GOjz-Xx-cqhw"
      },
      "source": [
        "7. Determine si los datos determinan de alguna manera la empresa de donde provienen las hamburguesas."
      ]
    },
    {
      "cell_type": "code",
      "execution_count": 44,
      "metadata": {
        "colab": {
          "base_uri": "https://localhost:8080/",
          "height": 542
        },
        "id": "vCf1gqU2cqhw",
        "outputId": "db87c8a4-f3ba-4632-f09c-6eb3ac6b871d"
      },
      "outputs": [
        {
          "data": {
            "application/vnd.plotly.v1+json": {
              "config": {
                "plotlyServerURL": "https://plot.ly"
              },
              "data": [
                {
                  "hovertemplate": "Restaurant=Arby's<br>Componente Principal 1=%{x}<br>Componente Principal 2=%{y}<extra></extra>",
                  "legendgroup": "Arby's",
                  "marker": {
                    "color": "#636efa",
                    "symbol": "circle"
                  },
                  "mode": "markers",
                  "name": "Arby's",
                  "orientation": "v",
                  "showlegend": true,
                  "type": "scatter",
                  "x": {
                    "bdata": "b2TaLYOFLkDzqtyIfAV0QEHGxXEZd0vADwYOYEpzfsCA5ascKBaFQAYqDZAFCXJApY2Nw6vlg8BWejK37+9hwPtqjZXgiGVAJlM3TtFFeMBzAtmbdAaBwEPgOOxADXHAvTawAAmpjsCypg98FXiGwJ7uzG7xsGbALHgQLL2cfsBeqOujJJtsQHFbM+8mcXBANjUWM8IdeMBfQ7okGFhqQHz+kYSyHEXAuXF9gGk1i8CcD7uJXNJqQLyL+ghTPlBA8rxU2k/3b0D4LZhauFs2wMmHxQY3pWrAgrYtBCrLgMDSeuF2CNCCwA==",
                    "dtype": "f8"
                  },
                  "xaxis": "x",
                  "y": {
                    "bdata": "wNibXf5wZMBfGGgPRoBawDwXBxXycFnAeTpa2n0hXsAvVp9UPm5EwDT62VBWPVjANuQlL+HyYMA8tL7vQURdwC9fBVRYilDAwOL4m9KERcC5ygmKUglUwMCg9bHD1VDAG793ycw8UsCNJZfavuZOwIkbSghL6hTAsEfIIE3PQ8BH4tyUjTo4QHnvVxiZ2U7AF1POB25OTMBi7qy8DU0hQEP80HYzliVAQ4x6egELcMATpRWmfZ1hwBPdjPjfBlhANcdU/LROVMCmW6JmIIlTQERVHfDgz03Ac96iaW9OTcCEzCJCsc1AwA==",
                    "dtype": "f8"
                  },
                  "yaxis": "y"
                },
                {
                  "hovertemplate": "Restaurant=Burger King<br>Componente Principal 1=%{x}<br>Componente Principal 2=%{y}<extra></extra>",
                  "legendgroup": "Burger King",
                  "marker": {
                    "color": "#EF553B",
                    "symbol": "circle"
                  },
                  "mode": "markers",
                  "name": "Burger King",
                  "orientation": "v",
                  "showlegend": true,
                  "type": "scatter",
                  "x": {
                    "bdata": "cKzvzNM5csDOZRsWRCZ5QB6qU2pzFoBAJLk3+bg+ekBg9nisg1eAQDmAxLZPvkBAGGgAvlQtcEBxKILQ3weGQD71l7geNGFA5AgSs01Vh0Dce+e1DEWEQCbqZ5Qo1YHAdctk/kEhYcBLFtNOxqBpQJl4Ee1rKoLArWBwyutemsBDr/xSXjN8QEzvf0Gm+odAn1bXe2ZTdECMiZc3iq51wL1AEE443oxAh4MmvY6AfEARZMd72b9yQHXemzQ0gWTAKT8ReYdZkcBiIlEz9eBmwArQWSxGpnZAqCibHQseU0B2B1Vs6TZ3QIwjg18ecHbAval5h9UyYEA+mRKVysqAwA==",
                    "dtype": "f8"
                  },
                  "xaxis": "x",
                  "y": {
                    "bdata": "Rii0nGGxZkDWQGl+o5hHwAau9Ts+ukrAvrYA2sOTWEC7qQq5JXpEwF6aFVrYDkdAlYTp9eeUPUDItn3e+iM4QGeK8slylDdAGf20zEDmR8CyhhvUgr0IwIBOSoJdMlZA84nCFgC5PsAueRobP2NUwFtFReSSUGTAaL3W41AQasAFoMB4cPtAwJNaH4KGTi9A75+Nin+XTEDn2PmpJT1qQJ/N+PJ5TirA9Ubu39wXT0BPBPk/V6VZwPoW+5ZGblzAUaFMGeSPYsDO++OGM3dRQEu7DXjSjErAkXZQDrQxQsB9dT+HxtQ0QFsDJqYCRFdAS41LG+bhScDMqmJ1e8lewA==",
                    "dtype": "f8"
                  },
                  "yaxis": "y"
                },
                {
                  "hovertemplate": "Restaurant=Chick-fil-a<br>Componente Principal 1=%{x}<br>Componente Principal 2=%{y}<extra></extra>",
                  "legendgroup": "Chick-fil-a",
                  "marker": {
                    "color": "#00cc96",
                    "symbol": "circle"
                  },
                  "mode": "markers",
                  "name": "Chick-fil-a",
                  "orientation": "v",
                  "showlegend": true,
                  "type": "scatter",
                  "x": {
                    "bdata": "eK8fHmvzX8BwGqwYiYxrQKsT0gQlwxNAKvKJVCKeesCodQPtLfxYQMnzbuZGjmXAnmzbDZgTb0BMxgyuMIN6wDS9/nKwMILA",
                    "dtype": "f8"
                  },
                  "xaxis": "x",
                  "y": {
                    "bdata": "hOQ/Fg4MY8AAsFquqUhmwMuboxyyI1fA42BWqbXdXsDfqbVyYPpMwAWQTIf1cV/A3jBuDUYlWMDq8iHRytBgwJoxV3pgCljA",
                    "dtype": "f8"
                  },
                  "yaxis": "y"
                },
                {
                  "hovertemplate": "Restaurant=Dairy Queen<br>Componente Principal 1=%{x}<br>Componente Principal 2=%{y}<extra></extra>",
                  "legendgroup": "Dairy Queen",
                  "marker": {
                    "color": "#ab63fa",
                    "symbol": "circle"
                  },
                  "mode": "markers",
                  "name": "Dairy Queen",
                  "orientation": "v",
                  "showlegend": true,
                  "type": "scatter",
                  "x": {
                    "bdata": "KyJhQIY0fMC20w8jO3pXwB+aYCgKgUXAjgH1J3dIaEAlq9IDvxp4QNCBR3W7wnJAzB1wTakiP8DLdQPZLL9wQIuyqnCmUUDA8+g9jSNbeUC6iAPMDw6OwAm9EMIFLXZAapOwzDRjaECiPLMqjSx7QKx5PMSzcCVA7kHta2RthsDESJVCAb9kwDd7Rl8SJHfA",
                    "dtype": "f8"
                  },
                  "xaxis": "x",
                  "y": {
                    "bdata": "Rs38dOSPdkComeBJsWhqQM9TyBNfJlRAWJzlXOb8SUAX2MyicKxeQOAQVVJzdkTAQWnQ8IS2UUCpe13/cbg7wATZLVn26ihAOku8S63QCsD3isd7pgBQQNg+kZLh0fi/AfSy3ys4VMDWf0vMAWpNwFNtnfsYs2DAGPBKFET+YMCVVX3cEFo6QCh1epMBzFbA",
                    "dtype": "f8"
                  },
                  "yaxis": "y"
                },
                {
                  "hovertemplate": "Restaurant=McDonald's<br>Componente Principal 1=%{x}<br>Componente Principal 2=%{y}<extra></extra>",
                  "legendgroup": "McDonald's",
                  "marker": {
                    "color": "#FFA15A",
                    "symbol": "circle"
                  },
                  "mode": "markers",
                  "name": "McDonald's",
                  "orientation": "v",
                  "showlegend": true,
                  "type": "scatter",
                  "x": {
                    "bdata": "52QROaxxMsCjwyptMX9BwAfDsX4JnnDAKEoGf9jQf8B1rBAJffB0wFpmdpZmBFpAUSwsDMk2gUCuqo1hmPhlQKssTojfBnBAB7iLQKFofkBSWj17GA98QMBhIkverFJA9/ETxe+uZsBazFVDflCCQCSoad5g74FApT/LBwl3hkAet8hsuidoQJoLl2thGXlAeA+uP1RIc0AUsubr3MltQHuYacVMZG1Aw7C9RcWWMUBdOtcTgbVLQNuY24ZISHpAhFhRVJkvaUDRZ0ONpBluQDatHXhAI2nAxBvzulxfL8D+zi+9GitUwHdja9NtLVpAbFccGgm0O0BPnbVM1KJqQAU91OvV4W/A8bcWgHpeUcAMf8vrGpdrwFWyAbcrjUBAbPSwB9P6b0BGAgxrY5U/QAXkDS64s3JA",
                    "dtype": "f8"
                  },
                  "xaxis": "x",
                  "y": {
                    "bdata": "DQNGMAjUUsC5m9JBmUxBwBn4oTnWM1RAMmz/jVpLMECr2ABlEHtNwJ/SbdHy3TDAskwADPqTOsBWqUtbj1hEQJhTqaZ4WlXAghRcoo3nUMAq3yKee2RFQAOpoAaVEzfAhtfWJX4rX0AZgyoyKXgbQHCqP9KpCUbA619WyxcqUMDvjVtc/FkSwEqAa+rqjEXAkfvKzM+sPcBvjO1291Q9QIqesGqM1DDAlCsUZHjQLUBUDjdhPDtAwFwfYud5/1jAO333WeFlTcDkflH99OdcwN32bE6iiSPAKh5R9WFFV8BkBcbD/9kLwOQn1MomqVXAlZQUIZm7SMBSxf2aB5RgwCyrrVZFnSNA20sKfPmpUsByejIEMQAqwEhla5M6PUdAIB5J45oeR0Dh0oC/veAcwCoMfaYHN0LA",
                    "dtype": "f8"
                  },
                  "yaxis": "y"
                },
                {
                  "hovertemplate": "Restaurant=Sonic<br>Componente Principal 1=%{x}<br>Componente Principal 2=%{y}<extra></extra>",
                  "legendgroup": "Sonic",
                  "marker": {
                    "color": "#19d3f3",
                    "symbol": "circle"
                  },
                  "mode": "markers",
                  "name": "Sonic",
                  "orientation": "v",
                  "showlegend": true,
                  "type": "scatter",
                  "x": {
                    "bdata": "gl1pGUkzU0BUxxjI7Q1xQB4+vNKqaoJA1LjHLtyRfkBDqDJQb2yHQO/F7wIi9HlAXSDZYwwlYsATDRzcZrhlwPjTdXKQRnVAmxIAWrmUekDrEG+B0rF5QHIAFotmZB5Ak04ntErAVkDPR+NRrzRTQHNMtMG4SH/AR9bGKXIyfcA21QelSvx3wOjWmH0x33jAPpB3G4vBgMDiloZHjvtkwCzww8GXk03AWP6xXS0iW8AXlIGdBLFUQJrTIx097HXAzhIJj+b8fUAZLFLVAOZiQFESdvpO6XFARhq9CwbehMBf7Aje5GszwLt8X7JiiHHA6TWfGJs6d0DQb69a4syNwLOP0cx4lZLAl8+hTy0clsDxhh54FISBQC6CVR42T3RAXESPOdjFWEA=",
                    "dtype": "f8"
                  },
                  "xaxis": "x",
                  "y": {
                    "bdata": "Sg41X9RtY0CzMZTfAnNgQGRZCT6M8SrAq2HtPgh3RkBIjaPm5xBPQNN+99OEB1BAJLbwUnv+VUABr2xlDMtwQCOO3uw9AGNAeCz10qcFcEAJNS+/6ipjQO3GlMPxEmJA6L90aAcncEDqWy7qqW1jQJC0q89ACIFAy4RJpp3FeEBtOndnQeN/QHqoGfQOc3lAziZMBBsXeEAxKLWamtJjwDHaEMb5sGHAfuJVjWepYsAUsyskwQRdQIvvJSKkNjbAyZzwUhIXQ0AU6v39wftQQEF76NILBzPA8l1HCN1JUMDR+XkJvshQwAi0bpY0WDPAByHie79kRsBPWxdXCk0XQCSWISqlhTdAMjgpnS7JREBHW7/FnTk2wIZbHJPrSxfAeUXO8iDXKkA=",
                    "dtype": "f8"
                  },
                  "yaxis": "y"
                }
              ],
              "layout": {
                "legend": {
                  "title": {
                    "text": "Restaurant"
                  },
                  "tracegroupgap": 0
                },
                "template": {
                  "data": {
                    "bar": [
                      {
                        "error_x": {
                          "color": "#2a3f5f"
                        },
                        "error_y": {
                          "color": "#2a3f5f"
                        },
                        "marker": {
                          "line": {
                            "color": "#E5ECF6",
                            "width": 0.5
                          },
                          "pattern": {
                            "fillmode": "overlay",
                            "size": 10,
                            "solidity": 0.2
                          }
                        },
                        "type": "bar"
                      }
                    ],
                    "barpolar": [
                      {
                        "marker": {
                          "line": {
                            "color": "#E5ECF6",
                            "width": 0.5
                          },
                          "pattern": {
                            "fillmode": "overlay",
                            "size": 10,
                            "solidity": 0.2
                          }
                        },
                        "type": "barpolar"
                      }
                    ],
                    "carpet": [
                      {
                        "aaxis": {
                          "endlinecolor": "#2a3f5f",
                          "gridcolor": "white",
                          "linecolor": "white",
                          "minorgridcolor": "white",
                          "startlinecolor": "#2a3f5f"
                        },
                        "baxis": {
                          "endlinecolor": "#2a3f5f",
                          "gridcolor": "white",
                          "linecolor": "white",
                          "minorgridcolor": "white",
                          "startlinecolor": "#2a3f5f"
                        },
                        "type": "carpet"
                      }
                    ],
                    "choropleth": [
                      {
                        "colorbar": {
                          "outlinewidth": 0,
                          "ticks": ""
                        },
                        "type": "choropleth"
                      }
                    ],
                    "contour": [
                      {
                        "colorbar": {
                          "outlinewidth": 0,
                          "ticks": ""
                        },
                        "colorscale": [
                          [
                            0,
                            "#0d0887"
                          ],
                          [
                            0.1111111111111111,
                            "#46039f"
                          ],
                          [
                            0.2222222222222222,
                            "#7201a8"
                          ],
                          [
                            0.3333333333333333,
                            "#9c179e"
                          ],
                          [
                            0.4444444444444444,
                            "#bd3786"
                          ],
                          [
                            0.5555555555555556,
                            "#d8576b"
                          ],
                          [
                            0.6666666666666666,
                            "#ed7953"
                          ],
                          [
                            0.7777777777777778,
                            "#fb9f3a"
                          ],
                          [
                            0.8888888888888888,
                            "#fdca26"
                          ],
                          [
                            1,
                            "#f0f921"
                          ]
                        ],
                        "type": "contour"
                      }
                    ],
                    "contourcarpet": [
                      {
                        "colorbar": {
                          "outlinewidth": 0,
                          "ticks": ""
                        },
                        "type": "contourcarpet"
                      }
                    ],
                    "heatmap": [
                      {
                        "colorbar": {
                          "outlinewidth": 0,
                          "ticks": ""
                        },
                        "colorscale": [
                          [
                            0,
                            "#0d0887"
                          ],
                          [
                            0.1111111111111111,
                            "#46039f"
                          ],
                          [
                            0.2222222222222222,
                            "#7201a8"
                          ],
                          [
                            0.3333333333333333,
                            "#9c179e"
                          ],
                          [
                            0.4444444444444444,
                            "#bd3786"
                          ],
                          [
                            0.5555555555555556,
                            "#d8576b"
                          ],
                          [
                            0.6666666666666666,
                            "#ed7953"
                          ],
                          [
                            0.7777777777777778,
                            "#fb9f3a"
                          ],
                          [
                            0.8888888888888888,
                            "#fdca26"
                          ],
                          [
                            1,
                            "#f0f921"
                          ]
                        ],
                        "type": "heatmap"
                      }
                    ],
                    "histogram": [
                      {
                        "marker": {
                          "pattern": {
                            "fillmode": "overlay",
                            "size": 10,
                            "solidity": 0.2
                          }
                        },
                        "type": "histogram"
                      }
                    ],
                    "histogram2d": [
                      {
                        "colorbar": {
                          "outlinewidth": 0,
                          "ticks": ""
                        },
                        "colorscale": [
                          [
                            0,
                            "#0d0887"
                          ],
                          [
                            0.1111111111111111,
                            "#46039f"
                          ],
                          [
                            0.2222222222222222,
                            "#7201a8"
                          ],
                          [
                            0.3333333333333333,
                            "#9c179e"
                          ],
                          [
                            0.4444444444444444,
                            "#bd3786"
                          ],
                          [
                            0.5555555555555556,
                            "#d8576b"
                          ],
                          [
                            0.6666666666666666,
                            "#ed7953"
                          ],
                          [
                            0.7777777777777778,
                            "#fb9f3a"
                          ],
                          [
                            0.8888888888888888,
                            "#fdca26"
                          ],
                          [
                            1,
                            "#f0f921"
                          ]
                        ],
                        "type": "histogram2d"
                      }
                    ],
                    "histogram2dcontour": [
                      {
                        "colorbar": {
                          "outlinewidth": 0,
                          "ticks": ""
                        },
                        "colorscale": [
                          [
                            0,
                            "#0d0887"
                          ],
                          [
                            0.1111111111111111,
                            "#46039f"
                          ],
                          [
                            0.2222222222222222,
                            "#7201a8"
                          ],
                          [
                            0.3333333333333333,
                            "#9c179e"
                          ],
                          [
                            0.4444444444444444,
                            "#bd3786"
                          ],
                          [
                            0.5555555555555556,
                            "#d8576b"
                          ],
                          [
                            0.6666666666666666,
                            "#ed7953"
                          ],
                          [
                            0.7777777777777778,
                            "#fb9f3a"
                          ],
                          [
                            0.8888888888888888,
                            "#fdca26"
                          ],
                          [
                            1,
                            "#f0f921"
                          ]
                        ],
                        "type": "histogram2dcontour"
                      }
                    ],
                    "mesh3d": [
                      {
                        "colorbar": {
                          "outlinewidth": 0,
                          "ticks": ""
                        },
                        "type": "mesh3d"
                      }
                    ],
                    "parcoords": [
                      {
                        "line": {
                          "colorbar": {
                            "outlinewidth": 0,
                            "ticks": ""
                          }
                        },
                        "type": "parcoords"
                      }
                    ],
                    "pie": [
                      {
                        "automargin": true,
                        "type": "pie"
                      }
                    ],
                    "scatter": [
                      {
                        "fillpattern": {
                          "fillmode": "overlay",
                          "size": 10,
                          "solidity": 0.2
                        },
                        "type": "scatter"
                      }
                    ],
                    "scatter3d": [
                      {
                        "line": {
                          "colorbar": {
                            "outlinewidth": 0,
                            "ticks": ""
                          }
                        },
                        "marker": {
                          "colorbar": {
                            "outlinewidth": 0,
                            "ticks": ""
                          }
                        },
                        "type": "scatter3d"
                      }
                    ],
                    "scattercarpet": [
                      {
                        "marker": {
                          "colorbar": {
                            "outlinewidth": 0,
                            "ticks": ""
                          }
                        },
                        "type": "scattercarpet"
                      }
                    ],
                    "scattergeo": [
                      {
                        "marker": {
                          "colorbar": {
                            "outlinewidth": 0,
                            "ticks": ""
                          }
                        },
                        "type": "scattergeo"
                      }
                    ],
                    "scattergl": [
                      {
                        "marker": {
                          "colorbar": {
                            "outlinewidth": 0,
                            "ticks": ""
                          }
                        },
                        "type": "scattergl"
                      }
                    ],
                    "scattermap": [
                      {
                        "marker": {
                          "colorbar": {
                            "outlinewidth": 0,
                            "ticks": ""
                          }
                        },
                        "type": "scattermap"
                      }
                    ],
                    "scattermapbox": [
                      {
                        "marker": {
                          "colorbar": {
                            "outlinewidth": 0,
                            "ticks": ""
                          }
                        },
                        "type": "scattermapbox"
                      }
                    ],
                    "scatterpolar": [
                      {
                        "marker": {
                          "colorbar": {
                            "outlinewidth": 0,
                            "ticks": ""
                          }
                        },
                        "type": "scatterpolar"
                      }
                    ],
                    "scatterpolargl": [
                      {
                        "marker": {
                          "colorbar": {
                            "outlinewidth": 0,
                            "ticks": ""
                          }
                        },
                        "type": "scatterpolargl"
                      }
                    ],
                    "scatterternary": [
                      {
                        "marker": {
                          "colorbar": {
                            "outlinewidth": 0,
                            "ticks": ""
                          }
                        },
                        "type": "scatterternary"
                      }
                    ],
                    "surface": [
                      {
                        "colorbar": {
                          "outlinewidth": 0,
                          "ticks": ""
                        },
                        "colorscale": [
                          [
                            0,
                            "#0d0887"
                          ],
                          [
                            0.1111111111111111,
                            "#46039f"
                          ],
                          [
                            0.2222222222222222,
                            "#7201a8"
                          ],
                          [
                            0.3333333333333333,
                            "#9c179e"
                          ],
                          [
                            0.4444444444444444,
                            "#bd3786"
                          ],
                          [
                            0.5555555555555556,
                            "#d8576b"
                          ],
                          [
                            0.6666666666666666,
                            "#ed7953"
                          ],
                          [
                            0.7777777777777778,
                            "#fb9f3a"
                          ],
                          [
                            0.8888888888888888,
                            "#fdca26"
                          ],
                          [
                            1,
                            "#f0f921"
                          ]
                        ],
                        "type": "surface"
                      }
                    ],
                    "table": [
                      {
                        "cells": {
                          "fill": {
                            "color": "#EBF0F8"
                          },
                          "line": {
                            "color": "white"
                          }
                        },
                        "header": {
                          "fill": {
                            "color": "#C8D4E3"
                          },
                          "line": {
                            "color": "white"
                          }
                        },
                        "type": "table"
                      }
                    ]
                  },
                  "layout": {
                    "annotationdefaults": {
                      "arrowcolor": "#2a3f5f",
                      "arrowhead": 0,
                      "arrowwidth": 1
                    },
                    "autotypenumbers": "strict",
                    "coloraxis": {
                      "colorbar": {
                        "outlinewidth": 0,
                        "ticks": ""
                      }
                    },
                    "colorscale": {
                      "diverging": [
                        [
                          0,
                          "#8e0152"
                        ],
                        [
                          0.1,
                          "#c51b7d"
                        ],
                        [
                          0.2,
                          "#de77ae"
                        ],
                        [
                          0.3,
                          "#f1b6da"
                        ],
                        [
                          0.4,
                          "#fde0ef"
                        ],
                        [
                          0.5,
                          "#f7f7f7"
                        ],
                        [
                          0.6,
                          "#e6f5d0"
                        ],
                        [
                          0.7,
                          "#b8e186"
                        ],
                        [
                          0.8,
                          "#7fbc41"
                        ],
                        [
                          0.9,
                          "#4d9221"
                        ],
                        [
                          1,
                          "#276419"
                        ]
                      ],
                      "sequential": [
                        [
                          0,
                          "#0d0887"
                        ],
                        [
                          0.1111111111111111,
                          "#46039f"
                        ],
                        [
                          0.2222222222222222,
                          "#7201a8"
                        ],
                        [
                          0.3333333333333333,
                          "#9c179e"
                        ],
                        [
                          0.4444444444444444,
                          "#bd3786"
                        ],
                        [
                          0.5555555555555556,
                          "#d8576b"
                        ],
                        [
                          0.6666666666666666,
                          "#ed7953"
                        ],
                        [
                          0.7777777777777778,
                          "#fb9f3a"
                        ],
                        [
                          0.8888888888888888,
                          "#fdca26"
                        ],
                        [
                          1,
                          "#f0f921"
                        ]
                      ],
                      "sequentialminus": [
                        [
                          0,
                          "#0d0887"
                        ],
                        [
                          0.1111111111111111,
                          "#46039f"
                        ],
                        [
                          0.2222222222222222,
                          "#7201a8"
                        ],
                        [
                          0.3333333333333333,
                          "#9c179e"
                        ],
                        [
                          0.4444444444444444,
                          "#bd3786"
                        ],
                        [
                          0.5555555555555556,
                          "#d8576b"
                        ],
                        [
                          0.6666666666666666,
                          "#ed7953"
                        ],
                        [
                          0.7777777777777778,
                          "#fb9f3a"
                        ],
                        [
                          0.8888888888888888,
                          "#fdca26"
                        ],
                        [
                          1,
                          "#f0f921"
                        ]
                      ]
                    },
                    "colorway": [
                      "#636efa",
                      "#EF553B",
                      "#00cc96",
                      "#ab63fa",
                      "#FFA15A",
                      "#19d3f3",
                      "#FF6692",
                      "#B6E880",
                      "#FF97FF",
                      "#FECB52"
                    ],
                    "font": {
                      "color": "#2a3f5f"
                    },
                    "geo": {
                      "bgcolor": "white",
                      "lakecolor": "white",
                      "landcolor": "#E5ECF6",
                      "showlakes": true,
                      "showland": true,
                      "subunitcolor": "white"
                    },
                    "hoverlabel": {
                      "align": "left"
                    },
                    "hovermode": "closest",
                    "mapbox": {
                      "style": "light"
                    },
                    "paper_bgcolor": "white",
                    "plot_bgcolor": "#E5ECF6",
                    "polar": {
                      "angularaxis": {
                        "gridcolor": "white",
                        "linecolor": "white",
                        "ticks": ""
                      },
                      "bgcolor": "#E5ECF6",
                      "radialaxis": {
                        "gridcolor": "white",
                        "linecolor": "white",
                        "ticks": ""
                      }
                    },
                    "scene": {
                      "xaxis": {
                        "backgroundcolor": "#E5ECF6",
                        "gridcolor": "white",
                        "gridwidth": 2,
                        "linecolor": "white",
                        "showbackground": true,
                        "ticks": "",
                        "zerolinecolor": "white"
                      },
                      "yaxis": {
                        "backgroundcolor": "#E5ECF6",
                        "gridcolor": "white",
                        "gridwidth": 2,
                        "linecolor": "white",
                        "showbackground": true,
                        "ticks": "",
                        "zerolinecolor": "white"
                      },
                      "zaxis": {
                        "backgroundcolor": "#E5ECF6",
                        "gridcolor": "white",
                        "gridwidth": 2,
                        "linecolor": "white",
                        "showbackground": true,
                        "ticks": "",
                        "zerolinecolor": "white"
                      }
                    },
                    "shapedefaults": {
                      "line": {
                        "color": "#2a3f5f"
                      }
                    },
                    "ternary": {
                      "aaxis": {
                        "gridcolor": "white",
                        "linecolor": "white",
                        "ticks": ""
                      },
                      "baxis": {
                        "gridcolor": "white",
                        "linecolor": "white",
                        "ticks": ""
                      },
                      "bgcolor": "#E5ECF6",
                      "caxis": {
                        "gridcolor": "white",
                        "linecolor": "white",
                        "ticks": ""
                      }
                    },
                    "title": {
                      "x": 0.05
                    },
                    "xaxis": {
                      "automargin": true,
                      "gridcolor": "white",
                      "linecolor": "white",
                      "ticks": "",
                      "title": {
                        "standoff": 15
                      },
                      "zerolinecolor": "white",
                      "zerolinewidth": 2
                    },
                    "yaxis": {
                      "automargin": true,
                      "gridcolor": "white",
                      "linecolor": "white",
                      "ticks": "",
                      "title": {
                        "standoff": 15
                      },
                      "zerolinecolor": "white",
                      "zerolinewidth": 2
                    }
                  }
                },
                "title": {
                  "text": "Proyección de los Datos en las Primeras Dos Componentes Principales"
                },
                "xaxis": {
                  "anchor": "y",
                  "domain": [
                    0,
                    1
                  ],
                  "title": {
                    "text": "Componente Principal 1"
                  }
                },
                "yaxis": {
                  "anchor": "x",
                  "domain": [
                    0,
                    1
                  ],
                  "title": {
                    "text": "Componente Principal 2"
                  }
                }
              }
            }
          },
          "metadata": {},
          "output_type": "display_data"
        }
      ],
      "source": [
        "import plotly.express as px\n",
        "\n",
        "DU = np.matmul(D, U[:, :2])\n",
        "\n",
        "df_pca = pd.DataFrame(DU, columns=['PC1', 'PC2'])\n",
        "df_pca['Restaurant'] = Hamburguesas['Restaurant']\n",
        "\n",
        "fig = px.scatter(df_pca, x='PC1', y='PC2', color='Restaurant',\n",
        "                 title=\"Proyección de los Datos en las Primeras Dos Componentes Principales\",\n",
        "                 labels={'PC1': 'Componente Principal 1', 'PC2': 'Componente Principal 2'})\n",
        "\n",
        "fig.show()\n"
      ]
    },
    {
      "cell_type": "markdown",
      "metadata": {
        "id": "iPTgwHLshsHG"
      },
      "source": [
        "Podemos observar como al proyectar los datos sobre las primeras dos componentes principales, donde se tiene mas del 90% de la representación de los datos, no hay una diferenciación clara de la empresa de donde provienen las hamburguesas. Por lo tanto los datos no pueden determinar esto (más alla de la propia columna \"restaurant\")."
      ]
    },
    {
      "cell_type": "markdown",
      "metadata": {
        "id": "zB2_-jamcqhw"
      },
      "source": [
        "8. Haga un gráfico tridimensional de los datos usando:\n",
        "- Los tres atributos más representativos.\n"
      ]
    },
    {
      "cell_type": "code",
      "execution_count": 45,
      "metadata": {
        "colab": {
          "base_uri": "https://localhost:8080/",
          "height": 542
        },
        "id": "BoTFS8rcf80R",
        "outputId": "fa421588-b4d9-4d55-fc5d-a3d7c339cdbc"
      },
      "outputs": [
        {
          "data": {
            "application/vnd.plotly.v1+json": {
              "config": {
                "plotlyServerURL": "https://plot.ly"
              },
              "data": [
                {
                  "hovertemplate": "Restaurant=Arby's<br>Sodium_mg=%{x}<br>CaloriesFromFat=%{y}<br>Cholesterol_mg=%{z}<extra></extra>",
                  "legendgroup": "Arby's",
                  "marker": {
                    "color": "#636efa",
                    "symbol": "circle"
                  },
                  "mode": "markers",
                  "name": "Arby's",
                  "scene": "scene",
                  "showlegend": true,
                  "type": "scatter3d",
                  "x": {
                    "bdata": "zgSYAwoFuAYwArYDTgdkBSQESgbqBtwFmAiUB3gFrgbeA8oDSgbyA+wESAgGBHQE1APOBKAF4AYcBw==",
                    "dtype": "i2"
                  },
                  "y": {
                    "bdata": "WgBkAKAAyABuAG4AyACWAKAADgH6ANwAQAEiAQ4BGAHwAJYA+gDmAA4BggBQAEABggBAAdwADgEsAQ==",
                    "dtype": "i2"
                  },
                  "z": {
                    "bdata": "Hh4tUB4tbkstN1BQaWlLWjctSy03NyN9Mm5LVWk=",
                    "dtype": "i1"
                  }
                },
                {
                  "hovertemplate": "Restaurant=Burger King<br>Sodium_mg=%{x}<br>CaloriesFromFat=%{y}<br>Cholesterol_mg=%{z}<extra></extra>",
                  "legendgroup": "Burger King",
                  "marker": {
                    "color": "#EF553B",
                    "symbol": "circle"
                  },
                  "mode": "markers",
                  "name": "Burger King",
                  "scene": "scene",
                  "showlegend": true,
                  "type": "scatter3d",
                  "x": {
                    "bdata": "yAU+A9ACFgPGApwEwAMIAjgE6gFEAuoGUAUGBBwHaAsMA8wBegP6BTYB+AKsA3gFJAluBWYDfgRSAxgGTATqBg==",
                    "dtype": "i2"
                  },
                  "y": {
                    "bdata": "zAGMAHgAGAGCABgB5gCgAPoAWgCWAKQB+gCWALQALAGWAJYABAH0AWQA+gBuAKoAGAFeAZYA0gDcAJABqgDSAA==",
                    "dtype": "i2"
                  },
                  "z": {
                    "bdata": "jAA3ACgASwAtAGkAXwBGAEYAIwAoAGkAHgAFADcAWgAoACgAMgCCABkAHgAUAB4AMgBBABQAHgAjAEYAVQBBAA==",
                    "dtype": "i2"
                  }
                },
                {
                  "hovertemplate": "Restaurant=Chick-fil-a<br>Sodium_mg=%{x}<br>CaloriesFromFat=%{y}<br>Cholesterol_mg=%{z}<extra></extra>",
                  "legendgroup": "Chick-fil-a",
                  "marker": {
                    "color": "#00cc96",
                    "symbol": "circle"
                  },
                  "mode": "markers",
                  "name": "Chick-fil-a",
                  "scene": "scene",
                  "showlegend": true,
                  "type": "scatter3d",
                  "x": {
                    "bdata": "WgUGBM4EfAZqBIIF3gN8BhIH",
                    "dtype": "i2"
                  },
                  "y": {
                    "bdata": "bgAjAJYAvgCqAJYAbgC0APAA",
                    "dtype": "i2"
                  },
                  "z": {
                    "bdata": "UDdQRlA8RkFQ",
                    "dtype": "i1"
                  }
                },
                {
                  "hovertemplate": "Restaurant=Dairy Queen<br>Sodium_mg=%{x}<br>CaloriesFromFat=%{y}<br>Cholesterol_mg=%{z}<extra></extra>",
                  "legendgroup": "Dairy Queen",
                  "marker": {
                    "color": "#ab63fa",
                    "symbol": "circle"
                  },
                  "mode": "markers",
                  "name": "Dairy Queen",
                  "scene": "scene",
                  "showlegend": true,
                  "type": "scatter3d",
                  "x": {
                    "bdata": "SgYABeIE/AM0A6ID2ATAA+IENANwCGYDEAQgA84EngdkBUAG",
                    "dtype": "i2"
                  },
                  "y": {
                    "bdata": "lALMAUoBDgE2AaAANgG0AA4BvgDMAcgAjACCAHgA3AAsAdIA",
                    "dtype": "i2"
                  },
                  "z": {
                    "bdata": "qgCHAF8ARgBLAEEAfQA8ADcAIwBfACMAMgAeACMAVQBLAFUA",
                    "dtype": "i2"
                  }
                },
                {
                  "hovertemplate": "Restaurant=McDonald's<br>Sodium_mg=%{x}<br>CaloriesFromFat=%{y}<br>Cholesterol_mg=%{z}<extra></extra>",
                  "legendgroup": "McDonald's",
                  "marker": {
                    "color": "#FFA15A",
                    "symbol": "circle"
                  },
                  "mode": "markers",
                  "name": "McDonald's",
                  "scene": "scene",
                  "showlegend": true,
                  "type": "scatter3d",
                  "x": {
                    "bdata": "4gTsBL4FuAYYBmAEqAIQBNQD7gICA34EZAWAApQCCAIGBD4DmAPUA94DsASSBDQDBgToA4wF4gQUBWoEsAQGBL4FFAWgBZwEwAOmBKID",
                    "dtype": "i2"
                  },
                  "y": {
                    "bdata": "tADcAGgBVAHmANIAjAAEAYIAbgDcANIAfAGqAHgAUADSAJYAqgDwAMgABAHSAFAAlgBaAA4BlgAEAYwAyABQACwBtAAEARgB+gDmAKoA",
                    "dtype": "i2"
                  },
                  "z": {
                    "bdata": "MgBBAHMAWgBuAFUALQBLACMAKABGAFAAmwAoACgAGQBQACMAQQBGAC0ARgA3AEEAWgBLAEYAWgA8AFAALQBBAEEAUABpAGkAVQBaAC0A",
                    "dtype": "i2"
                  }
                },
                {
                  "hovertemplate": "Restaurant=Sonic<br>Sodium_mg=%{x}<br>CaloriesFromFat=%{y}<br>Cholesterol_mg=%{z}<extra></extra>",
                  "legendgroup": "Sonic",
                  "marker": {
                    "color": "#19d3f3",
                    "symbol": "circle"
                  },
                  "mode": "markers",
                  "name": "Sonic",
                  "scene": "scene",
                  "showlegend": true,
                  "type": "scatter3d",
                  "x": {
                    "bdata": "YASiA4AC2gLWASADRgVGBVwD+AIWA6YEQgRgBF4GVAbwBQ4GmgaCBRQFRgVgBCIG5AIkBKwDYgfiBNwFXANwCFYJMgqeAoQDYAQ=",
                    "dtype": "i2"
                  },
                  "y": {
                    "bdata": "fAFKAZYA3ADIAPoAXgESAlQBrgFKAXwB4AF8AT4DqAIMA6gCqAKCAIIAggBeAQ4B3AAsAbQAIgG+AA4BlgCaAcwB/gGMAL4A8AA=",
                    "dtype": "i2"
                  },
                  "z": {
                    "bdata": "eABkACMANwAoADwAbgCMAGQAbgBkAHgAggB4AAQB6wD1AOsA6wAKAAoACgBQAG4AIwAtAFAAQQAtAFAALQA3AEsAWgA3AEYAWgA=",
                    "dtype": "i2"
                  }
                }
              ],
              "layout": {
                "legend": {
                  "title": {
                    "text": "Restaurant"
                  },
                  "tracegroupgap": 0
                },
                "scene": {
                  "domain": {
                    "x": [
                      0,
                      1
                    ],
                    "y": [
                      0,
                      1
                    ]
                  },
                  "xaxis": {
                    "title": {
                      "text": "Sodium_mg"
                    }
                  },
                  "yaxis": {
                    "title": {
                      "text": "CaloriesFromFat"
                    }
                  },
                  "zaxis": {
                    "title": {
                      "text": "Cholesterol_mg"
                    }
                  }
                },
                "template": {
                  "data": {
                    "bar": [
                      {
                        "error_x": {
                          "color": "#2a3f5f"
                        },
                        "error_y": {
                          "color": "#2a3f5f"
                        },
                        "marker": {
                          "line": {
                            "color": "#E5ECF6",
                            "width": 0.5
                          },
                          "pattern": {
                            "fillmode": "overlay",
                            "size": 10,
                            "solidity": 0.2
                          }
                        },
                        "type": "bar"
                      }
                    ],
                    "barpolar": [
                      {
                        "marker": {
                          "line": {
                            "color": "#E5ECF6",
                            "width": 0.5
                          },
                          "pattern": {
                            "fillmode": "overlay",
                            "size": 10,
                            "solidity": 0.2
                          }
                        },
                        "type": "barpolar"
                      }
                    ],
                    "carpet": [
                      {
                        "aaxis": {
                          "endlinecolor": "#2a3f5f",
                          "gridcolor": "white",
                          "linecolor": "white",
                          "minorgridcolor": "white",
                          "startlinecolor": "#2a3f5f"
                        },
                        "baxis": {
                          "endlinecolor": "#2a3f5f",
                          "gridcolor": "white",
                          "linecolor": "white",
                          "minorgridcolor": "white",
                          "startlinecolor": "#2a3f5f"
                        },
                        "type": "carpet"
                      }
                    ],
                    "choropleth": [
                      {
                        "colorbar": {
                          "outlinewidth": 0,
                          "ticks": ""
                        },
                        "type": "choropleth"
                      }
                    ],
                    "contour": [
                      {
                        "colorbar": {
                          "outlinewidth": 0,
                          "ticks": ""
                        },
                        "colorscale": [
                          [
                            0,
                            "#0d0887"
                          ],
                          [
                            0.1111111111111111,
                            "#46039f"
                          ],
                          [
                            0.2222222222222222,
                            "#7201a8"
                          ],
                          [
                            0.3333333333333333,
                            "#9c179e"
                          ],
                          [
                            0.4444444444444444,
                            "#bd3786"
                          ],
                          [
                            0.5555555555555556,
                            "#d8576b"
                          ],
                          [
                            0.6666666666666666,
                            "#ed7953"
                          ],
                          [
                            0.7777777777777778,
                            "#fb9f3a"
                          ],
                          [
                            0.8888888888888888,
                            "#fdca26"
                          ],
                          [
                            1,
                            "#f0f921"
                          ]
                        ],
                        "type": "contour"
                      }
                    ],
                    "contourcarpet": [
                      {
                        "colorbar": {
                          "outlinewidth": 0,
                          "ticks": ""
                        },
                        "type": "contourcarpet"
                      }
                    ],
                    "heatmap": [
                      {
                        "colorbar": {
                          "outlinewidth": 0,
                          "ticks": ""
                        },
                        "colorscale": [
                          [
                            0,
                            "#0d0887"
                          ],
                          [
                            0.1111111111111111,
                            "#46039f"
                          ],
                          [
                            0.2222222222222222,
                            "#7201a8"
                          ],
                          [
                            0.3333333333333333,
                            "#9c179e"
                          ],
                          [
                            0.4444444444444444,
                            "#bd3786"
                          ],
                          [
                            0.5555555555555556,
                            "#d8576b"
                          ],
                          [
                            0.6666666666666666,
                            "#ed7953"
                          ],
                          [
                            0.7777777777777778,
                            "#fb9f3a"
                          ],
                          [
                            0.8888888888888888,
                            "#fdca26"
                          ],
                          [
                            1,
                            "#f0f921"
                          ]
                        ],
                        "type": "heatmap"
                      }
                    ],
                    "histogram": [
                      {
                        "marker": {
                          "pattern": {
                            "fillmode": "overlay",
                            "size": 10,
                            "solidity": 0.2
                          }
                        },
                        "type": "histogram"
                      }
                    ],
                    "histogram2d": [
                      {
                        "colorbar": {
                          "outlinewidth": 0,
                          "ticks": ""
                        },
                        "colorscale": [
                          [
                            0,
                            "#0d0887"
                          ],
                          [
                            0.1111111111111111,
                            "#46039f"
                          ],
                          [
                            0.2222222222222222,
                            "#7201a8"
                          ],
                          [
                            0.3333333333333333,
                            "#9c179e"
                          ],
                          [
                            0.4444444444444444,
                            "#bd3786"
                          ],
                          [
                            0.5555555555555556,
                            "#d8576b"
                          ],
                          [
                            0.6666666666666666,
                            "#ed7953"
                          ],
                          [
                            0.7777777777777778,
                            "#fb9f3a"
                          ],
                          [
                            0.8888888888888888,
                            "#fdca26"
                          ],
                          [
                            1,
                            "#f0f921"
                          ]
                        ],
                        "type": "histogram2d"
                      }
                    ],
                    "histogram2dcontour": [
                      {
                        "colorbar": {
                          "outlinewidth": 0,
                          "ticks": ""
                        },
                        "colorscale": [
                          [
                            0,
                            "#0d0887"
                          ],
                          [
                            0.1111111111111111,
                            "#46039f"
                          ],
                          [
                            0.2222222222222222,
                            "#7201a8"
                          ],
                          [
                            0.3333333333333333,
                            "#9c179e"
                          ],
                          [
                            0.4444444444444444,
                            "#bd3786"
                          ],
                          [
                            0.5555555555555556,
                            "#d8576b"
                          ],
                          [
                            0.6666666666666666,
                            "#ed7953"
                          ],
                          [
                            0.7777777777777778,
                            "#fb9f3a"
                          ],
                          [
                            0.8888888888888888,
                            "#fdca26"
                          ],
                          [
                            1,
                            "#f0f921"
                          ]
                        ],
                        "type": "histogram2dcontour"
                      }
                    ],
                    "mesh3d": [
                      {
                        "colorbar": {
                          "outlinewidth": 0,
                          "ticks": ""
                        },
                        "type": "mesh3d"
                      }
                    ],
                    "parcoords": [
                      {
                        "line": {
                          "colorbar": {
                            "outlinewidth": 0,
                            "ticks": ""
                          }
                        },
                        "type": "parcoords"
                      }
                    ],
                    "pie": [
                      {
                        "automargin": true,
                        "type": "pie"
                      }
                    ],
                    "scatter": [
                      {
                        "fillpattern": {
                          "fillmode": "overlay",
                          "size": 10,
                          "solidity": 0.2
                        },
                        "type": "scatter"
                      }
                    ],
                    "scatter3d": [
                      {
                        "line": {
                          "colorbar": {
                            "outlinewidth": 0,
                            "ticks": ""
                          }
                        },
                        "marker": {
                          "colorbar": {
                            "outlinewidth": 0,
                            "ticks": ""
                          }
                        },
                        "type": "scatter3d"
                      }
                    ],
                    "scattercarpet": [
                      {
                        "marker": {
                          "colorbar": {
                            "outlinewidth": 0,
                            "ticks": ""
                          }
                        },
                        "type": "scattercarpet"
                      }
                    ],
                    "scattergeo": [
                      {
                        "marker": {
                          "colorbar": {
                            "outlinewidth": 0,
                            "ticks": ""
                          }
                        },
                        "type": "scattergeo"
                      }
                    ],
                    "scattergl": [
                      {
                        "marker": {
                          "colorbar": {
                            "outlinewidth": 0,
                            "ticks": ""
                          }
                        },
                        "type": "scattergl"
                      }
                    ],
                    "scattermap": [
                      {
                        "marker": {
                          "colorbar": {
                            "outlinewidth": 0,
                            "ticks": ""
                          }
                        },
                        "type": "scattermap"
                      }
                    ],
                    "scattermapbox": [
                      {
                        "marker": {
                          "colorbar": {
                            "outlinewidth": 0,
                            "ticks": ""
                          }
                        },
                        "type": "scattermapbox"
                      }
                    ],
                    "scatterpolar": [
                      {
                        "marker": {
                          "colorbar": {
                            "outlinewidth": 0,
                            "ticks": ""
                          }
                        },
                        "type": "scatterpolar"
                      }
                    ],
                    "scatterpolargl": [
                      {
                        "marker": {
                          "colorbar": {
                            "outlinewidth": 0,
                            "ticks": ""
                          }
                        },
                        "type": "scatterpolargl"
                      }
                    ],
                    "scatterternary": [
                      {
                        "marker": {
                          "colorbar": {
                            "outlinewidth": 0,
                            "ticks": ""
                          }
                        },
                        "type": "scatterternary"
                      }
                    ],
                    "surface": [
                      {
                        "colorbar": {
                          "outlinewidth": 0,
                          "ticks": ""
                        },
                        "colorscale": [
                          [
                            0,
                            "#0d0887"
                          ],
                          [
                            0.1111111111111111,
                            "#46039f"
                          ],
                          [
                            0.2222222222222222,
                            "#7201a8"
                          ],
                          [
                            0.3333333333333333,
                            "#9c179e"
                          ],
                          [
                            0.4444444444444444,
                            "#bd3786"
                          ],
                          [
                            0.5555555555555556,
                            "#d8576b"
                          ],
                          [
                            0.6666666666666666,
                            "#ed7953"
                          ],
                          [
                            0.7777777777777778,
                            "#fb9f3a"
                          ],
                          [
                            0.8888888888888888,
                            "#fdca26"
                          ],
                          [
                            1,
                            "#f0f921"
                          ]
                        ],
                        "type": "surface"
                      }
                    ],
                    "table": [
                      {
                        "cells": {
                          "fill": {
                            "color": "#EBF0F8"
                          },
                          "line": {
                            "color": "white"
                          }
                        },
                        "header": {
                          "fill": {
                            "color": "#C8D4E3"
                          },
                          "line": {
                            "color": "white"
                          }
                        },
                        "type": "table"
                      }
                    ]
                  },
                  "layout": {
                    "annotationdefaults": {
                      "arrowcolor": "#2a3f5f",
                      "arrowhead": 0,
                      "arrowwidth": 1
                    },
                    "autotypenumbers": "strict",
                    "coloraxis": {
                      "colorbar": {
                        "outlinewidth": 0,
                        "ticks": ""
                      }
                    },
                    "colorscale": {
                      "diverging": [
                        [
                          0,
                          "#8e0152"
                        ],
                        [
                          0.1,
                          "#c51b7d"
                        ],
                        [
                          0.2,
                          "#de77ae"
                        ],
                        [
                          0.3,
                          "#f1b6da"
                        ],
                        [
                          0.4,
                          "#fde0ef"
                        ],
                        [
                          0.5,
                          "#f7f7f7"
                        ],
                        [
                          0.6,
                          "#e6f5d0"
                        ],
                        [
                          0.7,
                          "#b8e186"
                        ],
                        [
                          0.8,
                          "#7fbc41"
                        ],
                        [
                          0.9,
                          "#4d9221"
                        ],
                        [
                          1,
                          "#276419"
                        ]
                      ],
                      "sequential": [
                        [
                          0,
                          "#0d0887"
                        ],
                        [
                          0.1111111111111111,
                          "#46039f"
                        ],
                        [
                          0.2222222222222222,
                          "#7201a8"
                        ],
                        [
                          0.3333333333333333,
                          "#9c179e"
                        ],
                        [
                          0.4444444444444444,
                          "#bd3786"
                        ],
                        [
                          0.5555555555555556,
                          "#d8576b"
                        ],
                        [
                          0.6666666666666666,
                          "#ed7953"
                        ],
                        [
                          0.7777777777777778,
                          "#fb9f3a"
                        ],
                        [
                          0.8888888888888888,
                          "#fdca26"
                        ],
                        [
                          1,
                          "#f0f921"
                        ]
                      ],
                      "sequentialminus": [
                        [
                          0,
                          "#0d0887"
                        ],
                        [
                          0.1111111111111111,
                          "#46039f"
                        ],
                        [
                          0.2222222222222222,
                          "#7201a8"
                        ],
                        [
                          0.3333333333333333,
                          "#9c179e"
                        ],
                        [
                          0.4444444444444444,
                          "#bd3786"
                        ],
                        [
                          0.5555555555555556,
                          "#d8576b"
                        ],
                        [
                          0.6666666666666666,
                          "#ed7953"
                        ],
                        [
                          0.7777777777777778,
                          "#fb9f3a"
                        ],
                        [
                          0.8888888888888888,
                          "#fdca26"
                        ],
                        [
                          1,
                          "#f0f921"
                        ]
                      ]
                    },
                    "colorway": [
                      "#636efa",
                      "#EF553B",
                      "#00cc96",
                      "#ab63fa",
                      "#FFA15A",
                      "#19d3f3",
                      "#FF6692",
                      "#B6E880",
                      "#FF97FF",
                      "#FECB52"
                    ],
                    "font": {
                      "color": "#2a3f5f"
                    },
                    "geo": {
                      "bgcolor": "white",
                      "lakecolor": "white",
                      "landcolor": "#E5ECF6",
                      "showlakes": true,
                      "showland": true,
                      "subunitcolor": "white"
                    },
                    "hoverlabel": {
                      "align": "left"
                    },
                    "hovermode": "closest",
                    "mapbox": {
                      "style": "light"
                    },
                    "paper_bgcolor": "white",
                    "plot_bgcolor": "#E5ECF6",
                    "polar": {
                      "angularaxis": {
                        "gridcolor": "white",
                        "linecolor": "white",
                        "ticks": ""
                      },
                      "bgcolor": "#E5ECF6",
                      "radialaxis": {
                        "gridcolor": "white",
                        "linecolor": "white",
                        "ticks": ""
                      }
                    },
                    "scene": {
                      "xaxis": {
                        "backgroundcolor": "#E5ECF6",
                        "gridcolor": "white",
                        "gridwidth": 2,
                        "linecolor": "white",
                        "showbackground": true,
                        "ticks": "",
                        "zerolinecolor": "white"
                      },
                      "yaxis": {
                        "backgroundcolor": "#E5ECF6",
                        "gridcolor": "white",
                        "gridwidth": 2,
                        "linecolor": "white",
                        "showbackground": true,
                        "ticks": "",
                        "zerolinecolor": "white"
                      },
                      "zaxis": {
                        "backgroundcolor": "#E5ECF6",
                        "gridcolor": "white",
                        "gridwidth": 2,
                        "linecolor": "white",
                        "showbackground": true,
                        "ticks": "",
                        "zerolinecolor": "white"
                      }
                    },
                    "shapedefaults": {
                      "line": {
                        "color": "#2a3f5f"
                      }
                    },
                    "ternary": {
                      "aaxis": {
                        "gridcolor": "white",
                        "linecolor": "white",
                        "ticks": ""
                      },
                      "baxis": {
                        "gridcolor": "white",
                        "linecolor": "white",
                        "ticks": ""
                      },
                      "bgcolor": "#E5ECF6",
                      "caxis": {
                        "gridcolor": "white",
                        "linecolor": "white",
                        "ticks": ""
                      }
                    },
                    "title": {
                      "x": 0.05
                    },
                    "xaxis": {
                      "automargin": true,
                      "gridcolor": "white",
                      "linecolor": "white",
                      "ticks": "",
                      "title": {
                        "standoff": 15
                      },
                      "zerolinecolor": "white",
                      "zerolinewidth": 2
                    },
                    "yaxis": {
                      "automargin": true,
                      "gridcolor": "white",
                      "linecolor": "white",
                      "ticks": "",
                      "title": {
                        "standoff": 15
                      },
                      "zerolinecolor": "white",
                      "zerolinewidth": 2
                    }
                  }
                },
                "title": {
                  "text": "Tres atributos más representativos"
                }
              }
            }
          },
          "metadata": {},
          "output_type": "display_data"
        }
      ],
      "source": [
        "fig_3D = px.scatter_3d(Hamburguesas, x='Sodium_mg', y='CaloriesFromFat', z='Cholesterol_mg', color='Restaurant',\n",
        "                        title=\"Tres atributos más representativos\")\n",
        "fig_3D.show()"
      ]
    },
    {
      "cell_type": "markdown",
      "metadata": {
        "id": "puDobiBOfzNt"
      },
      "source": [
        "- Las tres componentes más representativas asociadas a los tres valores propios más representativos."
      ]
    },
    {
      "cell_type": "code",
      "execution_count": 46,
      "metadata": {
        "colab": {
          "base_uri": "https://localhost:8080/",
          "height": 542
        },
        "id": "UonnrMhPeOWu",
        "outputId": "ea2f0b7c-4ff3-4eda-a7b8-a73a127945f1"
      },
      "outputs": [
        {
          "data": {
            "application/vnd.plotly.v1+json": {
              "config": {
                "plotlyServerURL": "https://plot.ly"
              },
              "data": [
                {
                  "hovertemplate": "Restaurant=Arby's<br>Componente Principal 1=%{x}<br>Componente Principal 2=%{y}<br>Componente Principal 3=%{z}<extra></extra>",
                  "legendgroup": "Arby's",
                  "marker": {
                    "color": "#636efa",
                    "symbol": "circle"
                  },
                  "mode": "markers",
                  "name": "Arby's",
                  "scene": "scene",
                  "showlegend": true,
                  "type": "scatter3d",
                  "x": {
                    "bdata": "b2TaLYOFLkDzqtyIfAV0QEHGxXEZd0vADwYOYEpzfsCA5ascKBaFQAYqDZAFCXJApY2Nw6vlg8BWejK37+9hwPtqjZXgiGVAJlM3TtFFeMBzAtmbdAaBwEPgOOxADXHAvTawAAmpjsCypg98FXiGwJ7uzG7xsGbALHgQLL2cfsBeqOujJJtsQHFbM+8mcXBANjUWM8IdeMBfQ7okGFhqQHz+kYSyHEXAuXF9gGk1i8CcD7uJXNJqQLyL+ghTPlBA8rxU2k/3b0D4LZhauFs2wMmHxQY3pWrAgrYtBCrLgMDSeuF2CNCCwA==",
                    "dtype": "f8"
                  },
                  "y": {
                    "bdata": "wNibXf5wZMBfGGgPRoBawDwXBxXycFnAeTpa2n0hXsAvVp9UPm5EwDT62VBWPVjANuQlL+HyYMA8tL7vQURdwC9fBVRYilDAwOL4m9KERcC5ygmKUglUwMCg9bHD1VDAG793ycw8UsCNJZfavuZOwIkbSghL6hTAsEfIIE3PQ8BH4tyUjTo4QHnvVxiZ2U7AF1POB25OTMBi7qy8DU0hQEP80HYzliVAQ4x6egELcMATpRWmfZ1hwBPdjPjfBlhANcdU/LROVMCmW6JmIIlTQERVHfDgz03Ac96iaW9OTcCEzCJCsc1AwA==",
                    "dtype": "f8"
                  },
                  "z": {
                    "bdata": "7JFkv+k8FsC481f1QrwTwLwr5DdE4xbAfW4nHEvfM0DZghPIoIsawC4So2/kKR5ABh9s2zjnSEAqoJ0Fw2g8QHHbQWWmURnAp4cUaP57OcCCHARkk4DhP2tqDI0OMC5ANr/3/AqdIEC9zQbjHu82QLzpj8N3LhXAKixJHnHKIUDDG2t3IjkywMTS3srX8vg/DL+afz4BFUD8XJV9+y0+wOQWvTUiIznApqPwgcYLLUAN3ATPh14YQEPaw7fAjCxAnxz+qF1RGkAWenK0uN0uQOQArC8o5SRAzigbchpkGkBTU9oOX5AzQA==",
                    "dtype": "f8"
                  }
                },
                {
                  "hovertemplate": "Restaurant=Burger King<br>Componente Principal 1=%{x}<br>Componente Principal 2=%{y}<br>Componente Principal 3=%{z}<extra></extra>",
                  "legendgroup": "Burger King",
                  "marker": {
                    "color": "#EF553B",
                    "symbol": "circle"
                  },
                  "mode": "markers",
                  "name": "Burger King",
                  "scene": "scene",
                  "showlegend": true,
                  "type": "scatter3d",
                  "x": {
                    "bdata": "cKzvzNM5csDOZRsWRCZ5QB6qU2pzFoBAJLk3+bg+ekBg9nisg1eAQDmAxLZPvkBAGGgAvlQtcEBxKILQ3weGQD71l7geNGFA5AgSs01Vh0Dce+e1DEWEQCbqZ5Qo1YHAdctk/kEhYcBLFtNOxqBpQJl4Ee1rKoLArWBwyutemsBDr/xSXjN8QEzvf0Gm+odAn1bXe2ZTdECMiZc3iq51wL1AEE443oxAh4MmvY6AfEARZMd72b9yQHXemzQ0gWTAKT8ReYdZkcBiIlEz9eBmwArQWSxGpnZAqCibHQseU0B2B1Vs6TZ3QIwjg18ecHbAval5h9UyYEA+mRKVysqAwA==",
                    "dtype": "f8"
                  },
                  "y": {
                    "bdata": "Rii0nGGxZkDWQGl+o5hHwAau9Ts+ukrAvrYA2sOTWEC7qQq5JXpEwF6aFVrYDkdAlYTp9eeUPUDItn3e+iM4QGeK8slylDdAGf20zEDmR8CyhhvUgr0IwIBOSoJdMlZA84nCFgC5PsAueRobP2NUwFtFReSSUGTAaL3W41AQasAFoMB4cPtAwJNaH4KGTi9A75+Nin+XTEDn2PmpJT1qQJ/N+PJ5TirA9Ubu39wXT0BPBPk/V6VZwPoW+5ZGblzAUaFMGeSPYsDO++OGM3dRQEu7DXjSjErAkXZQDrQxQsB9dT+HxtQ0QFsDJqYCRFdAS41LG+bhScDMqmJ1e8lewA==",
                    "dtype": "f8"
                  },
                  "z": {
                    "bdata": "FsbAv+u3IUCjoUN8VR0iQBJKchaItL6/ZT/aVL38JMBwFvNL41QFQN2lk1ukjDZAAZ687o83OUB/wJY2adAxQONY/0GCXCfAUx8d7ecOAUBdCfBF3XIgwK8RfjFFxCzAcEhVsbeaRsDxE9FZ2QFEwBAipzpJDhhANr6UUQ+CJUCv+ZUr7a0PwO3P2mjDCRTAvpjDO/T4OcCp+EPlNQUkwIyPvnp2shjAksWeAFX+RcBGG8Pch5IrwP8T88EJujPAH0HUxytyPcCio70q+sZBwOxuNK4a2D/AkHvrVRq0QcAyHXEV6ZU/wFpSFsyQekbAWXIe5KPGP0CAktrbO6n1Pw==",
                    "dtype": "f8"
                  }
                },
                {
                  "hovertemplate": "Restaurant=Chick-fil-a<br>Componente Principal 1=%{x}<br>Componente Principal 2=%{y}<br>Componente Principal 3=%{z}<extra></extra>",
                  "legendgroup": "Chick-fil-a",
                  "marker": {
                    "color": "#00cc96",
                    "symbol": "circle"
                  },
                  "mode": "markers",
                  "name": "Chick-fil-a",
                  "scene": "scene",
                  "showlegend": true,
                  "type": "scatter3d",
                  "x": {
                    "bdata": "eK8fHmvzX8BwGqwYiYxrQKsT0gQlwxNAKvKJVCKeesCodQPtLfxYQMnzbuZGjmXAnmzbDZgTb0BMxgyuMIN6wDS9/nKwMILA",
                    "dtype": "f8"
                  },
                  "y": {
                    "bdata": "hOQ/Fg4MY8AAsFquqUhmwMuboxyyI1fA42BWqbXdXsDfqbVyYPpMwAWQTIf1cV/A3jBuDUYlWMDq8iHRytBgwJoxV3pgCljA",
                    "dtype": "f8"
                  },
                  "z": {
                    "bdata": "4D72OyVvRkB1UvQcmy5DQMXFiKMtT0NADYqs+MSNLUB63+JuZ1Q1QMQnoBe61i1AvxTqmnB9Q0B/lN+pWTEnQMKAAeSDBCZA",
                    "dtype": "f8"
                  }
                },
                {
                  "hovertemplate": "Restaurant=Dairy Queen<br>Componente Principal 1=%{x}<br>Componente Principal 2=%{y}<br>Componente Principal 3=%{z}<extra></extra>",
                  "legendgroup": "Dairy Queen",
                  "marker": {
                    "color": "#ab63fa",
                    "symbol": "circle"
                  },
                  "mode": "markers",
                  "name": "Dairy Queen",
                  "scene": "scene",
                  "showlegend": true,
                  "type": "scatter3d",
                  "x": {
                    "bdata": "KyJhQIY0fMC20w8jO3pXwB+aYCgKgUXAjgH1J3dIaEAlq9IDvxp4QNCBR3W7wnJAzB1wTakiP8DLdQPZLL9wQIuyqnCmUUDA8+g9jSNbeUC6iAPMDw6OwAm9EMIFLXZAapOwzDRjaECiPLMqjSx7QKx5PMSzcCVA7kHta2RthsDESJVCAb9kwDd7Rl8SJHfA",
                    "dtype": "f8"
                  },
                  "y": {
                    "bdata": "Rs38dOSPdkComeBJsWhqQM9TyBNfJlRAWJzlXOb8SUAX2MyicKxeQOAQVVJzdkTAQWnQ8IS2UUCpe13/cbg7wATZLVn26ihAOku8S63QCsD3isd7pgBQQNg+kZLh0fi/AfSy3ys4VMDWf0vMAWpNwFNtnfsYs2DAGPBKFET+YMCVVX3cEFo6QCh1epMBzFbA",
                    "dtype": "f8"
                  },
                  "z": {
                    "bdata": "HmVYuaXfKcDfdgh297UGQLs0bH/WPwHAeaoTHyP9J8As+vB33D4xwEQNwnfURCpABB39XyzKQEAqTiA9xmgdQHMA/k+UTjzAiSUEyaOuNsC2ThUBbKdBwEL4OCfq/TjAv42iT9+uHEA/K3C3DhgiwEENAw4g/R3AySV1LRVHMkDC05JxV4EmwPjfbPYviTZA",
                    "dtype": "f8"
                  }
                },
                {
                  "hovertemplate": "Restaurant=McDonald's<br>Componente Principal 1=%{x}<br>Componente Principal 2=%{y}<br>Componente Principal 3=%{z}<extra></extra>",
                  "legendgroup": "McDonald's",
                  "marker": {
                    "color": "#FFA15A",
                    "symbol": "circle"
                  },
                  "mode": "markers",
                  "name": "McDonald's",
                  "scene": "scene",
                  "showlegend": true,
                  "type": "scatter3d",
                  "x": {
                    "bdata": "52QROaxxMsCjwyptMX9BwAfDsX4JnnDAKEoGf9jQf8B1rBAJffB0wFpmdpZmBFpAUSwsDMk2gUCuqo1hmPhlQKssTojfBnBAB7iLQKFofkBSWj17GA98QMBhIkverFJA9/ETxe+uZsBazFVDflCCQCSoad5g74FApT/LBwl3hkAet8hsuidoQJoLl2thGXlAeA+uP1RIc0AUsubr3MltQHuYacVMZG1Aw7C9RcWWMUBdOtcTgbVLQNuY24ZISHpAhFhRVJkvaUDRZ0ONpBluQDatHXhAI2nAxBvzulxfL8D+zi+9GitUwHdja9NtLVpAbFccGgm0O0BPnbVM1KJqQAU91OvV4W/A8bcWgHpeUcAMf8vrGpdrwFWyAbcrjUBAbPSwB9P6b0BGAgxrY5U/QAXkDS64s3JA",
                    "dtype": "f8"
                  },
                  "y": {
                    "bdata": "DQNGMAjUUsC5m9JBmUxBwBn4oTnWM1RAMmz/jVpLMECr2ABlEHtNwJ/SbdHy3TDAskwADPqTOsBWqUtbj1hEQJhTqaZ4WlXAghRcoo3nUMAq3yKee2RFQAOpoAaVEzfAhtfWJX4rX0AZgyoyKXgbQHCqP9KpCUbA619WyxcqUMDvjVtc/FkSwEqAa+rqjEXAkfvKzM+sPcBvjO1291Q9QIqesGqM1DDAlCsUZHjQLUBUDjdhPDtAwFwfYud5/1jAO333WeFlTcDkflH99OdcwN32bE6iiSPAKh5R9WFFV8BkBcbD/9kLwOQn1MomqVXAlZQUIZm7SMBSxf2aB5RgwCyrrVZFnSNA20sKfPmpUsByejIEMQAqwEhla5M6PUdAIB5J45oeR0Dh0oC/veAcwCoMfaYHN0LA",
                    "dtype": "f8"
                  },
                  "z": {
                    "bdata": "yVIuw8VjFsBTlo/KeCgDwLrXmQE0rSJAP/7fzi54JsDhI8Rtc3ZDQJNHGn2cODVAh/qkDUV3BMCVlYf537sSwIuObKTkcCHA/CK7MYlk/j9wKdXe5mIEQDo5IgOsPTBAuf5WpC5fRkCSp1uAlNouwPxx1UOD6/G/VEO+TAfcFMCdXEiZmmEtQOqWKzbnLi3ASeRnpzLXJkAQpoFqG9MSwFCprXcnwzPA8fCDrgaeJMBFUSUbxHQnwA8YQSYOcUBACstweW7mQ0BmmE7bcHVEQMgj+sH3WybAw8WqGGSjREDtQkyKfKczwEHL8ZzjfkBAvQxrIiFvM8C2MyX/Tp1AQMmAuWmqkjvAWhg4jL+QNEBlFGwfRT06QO2nGwf4TTRAwHFbawqQHUCxlRcKBIozQPcwMAMr/iLA",
                    "dtype": "f8"
                  }
                },
                {
                  "hovertemplate": "Restaurant=Sonic<br>Componente Principal 1=%{x}<br>Componente Principal 2=%{y}<br>Componente Principal 3=%{z}<extra></extra>",
                  "legendgroup": "Sonic",
                  "marker": {
                    "color": "#19d3f3",
                    "symbol": "circle"
                  },
                  "mode": "markers",
                  "name": "Sonic",
                  "scene": "scene",
                  "showlegend": true,
                  "type": "scatter3d",
                  "x": {
                    "bdata": "gl1pGUkzU0BUxxjI7Q1xQB4+vNKqaoJA1LjHLtyRfkBDqDJQb2yHQO/F7wIi9HlAXSDZYwwlYsATDRzcZrhlwPjTdXKQRnVAmxIAWrmUekDrEG+B0rF5QHIAFotmZB5Ak04ntErAVkDPR+NRrzRTQHNMtMG4SH/AR9bGKXIyfcA21QelSvx3wOjWmH0x33jAPpB3G4vBgMDiloZHjvtkwCzww8GXk03AWP6xXS0iW8AXlIGdBLFUQJrTIx097HXAzhIJj+b8fUAZLFLVAOZiQFESdvpO6XFARhq9CwbehMBf7Aje5GszwLt8X7JiiHHA6TWfGJs6d0DQb69a4syNwLOP0cx4lZLAl8+hTy0clsDxhh54FISBQC6CVR42T3RAXESPOdjFWEA=",
                    "dtype": "f8"
                  },
                  "y": {
                    "bdata": "Sg41X9RtY0CzMZTfAnNgQGRZCT6M8SrAq2HtPgh3RkBIjaPm5xBPQNN+99OEB1BAJLbwUnv+VUABr2xlDMtwQCOO3uw9AGNAeCz10qcFcEAJNS+/6ipjQO3GlMPxEmJA6L90aAcncEDqWy7qqW1jQJC0q89ACIFAy4RJpp3FeEBtOndnQeN/QHqoGfQOc3lAziZMBBsXeEAxKLWamtJjwDHaEMb5sGHAfuJVjWepYsAUsyskwQRdQIvvJSKkNjbAyZzwUhIXQ0AU6v39wftQQEF76NILBzPA8l1HCN1JUMDR+XkJvshQwAi0bpY0WDPAByHie79kRsBPWxdXCk0XQCSWISqlhTdAMjgpnS7JREBHW7/FnTk2wIZbHJPrSxfAeUXO8iDXKkA=",
                    "dtype": "f8"
                  },
                  "z": {
                    "bdata": "7fo28XadH0C+tk23D8D2P71EBHrbbyvA3khfAFsiJ8AnOv+2YGk2wLUcZZJY1i3AoNzcu4fUIkDKS0IsWZslwDwvC/JIgQLAj0GcyruoMMDyGU20gyjcPzhHaFz23x1AnY1AM7fYIcBRXpp/BFogQJedqd+dIjxAwecNQbozRUB9BuLNdr05QDe+p1Nqa0VAuZH5yRnpRUCdxSEQRxRCwM5fMe/S9kHA/JIdAQjWQcBhfHpnBMk3wMWmqfCejz5Avo99bMBgQMBPPHxVXHRFwFoKTvBvyDdA8YPspkE0L8Bf0SeMNsQiwKNiqBDWgdQ/3WmK6kjT8786JFnXE/pRwIEHeDK/nVDAhW5ut35UUMB3TyKooeQlQCimtVBc0CdAEf6JRgeSMUA=",
                    "dtype": "f8"
                  }
                }
              ],
              "layout": {
                "legend": {
                  "title": {
                    "text": "Restaurant"
                  },
                  "tracegroupgap": 0
                },
                "scene": {
                  "domain": {
                    "x": [
                      0,
                      1
                    ],
                    "y": [
                      0,
                      1
                    ]
                  },
                  "xaxis": {
                    "title": {
                      "text": "Componente Principal 1"
                    }
                  },
                  "yaxis": {
                    "title": {
                      "text": "Componente Principal 2"
                    }
                  },
                  "zaxis": {
                    "title": {
                      "text": "Componente Principal 3"
                    }
                  }
                },
                "template": {
                  "data": {
                    "bar": [
                      {
                        "error_x": {
                          "color": "#2a3f5f"
                        },
                        "error_y": {
                          "color": "#2a3f5f"
                        },
                        "marker": {
                          "line": {
                            "color": "#E5ECF6",
                            "width": 0.5
                          },
                          "pattern": {
                            "fillmode": "overlay",
                            "size": 10,
                            "solidity": 0.2
                          }
                        },
                        "type": "bar"
                      }
                    ],
                    "barpolar": [
                      {
                        "marker": {
                          "line": {
                            "color": "#E5ECF6",
                            "width": 0.5
                          },
                          "pattern": {
                            "fillmode": "overlay",
                            "size": 10,
                            "solidity": 0.2
                          }
                        },
                        "type": "barpolar"
                      }
                    ],
                    "carpet": [
                      {
                        "aaxis": {
                          "endlinecolor": "#2a3f5f",
                          "gridcolor": "white",
                          "linecolor": "white",
                          "minorgridcolor": "white",
                          "startlinecolor": "#2a3f5f"
                        },
                        "baxis": {
                          "endlinecolor": "#2a3f5f",
                          "gridcolor": "white",
                          "linecolor": "white",
                          "minorgridcolor": "white",
                          "startlinecolor": "#2a3f5f"
                        },
                        "type": "carpet"
                      }
                    ],
                    "choropleth": [
                      {
                        "colorbar": {
                          "outlinewidth": 0,
                          "ticks": ""
                        },
                        "type": "choropleth"
                      }
                    ],
                    "contour": [
                      {
                        "colorbar": {
                          "outlinewidth": 0,
                          "ticks": ""
                        },
                        "colorscale": [
                          [
                            0,
                            "#0d0887"
                          ],
                          [
                            0.1111111111111111,
                            "#46039f"
                          ],
                          [
                            0.2222222222222222,
                            "#7201a8"
                          ],
                          [
                            0.3333333333333333,
                            "#9c179e"
                          ],
                          [
                            0.4444444444444444,
                            "#bd3786"
                          ],
                          [
                            0.5555555555555556,
                            "#d8576b"
                          ],
                          [
                            0.6666666666666666,
                            "#ed7953"
                          ],
                          [
                            0.7777777777777778,
                            "#fb9f3a"
                          ],
                          [
                            0.8888888888888888,
                            "#fdca26"
                          ],
                          [
                            1,
                            "#f0f921"
                          ]
                        ],
                        "type": "contour"
                      }
                    ],
                    "contourcarpet": [
                      {
                        "colorbar": {
                          "outlinewidth": 0,
                          "ticks": ""
                        },
                        "type": "contourcarpet"
                      }
                    ],
                    "heatmap": [
                      {
                        "colorbar": {
                          "outlinewidth": 0,
                          "ticks": ""
                        },
                        "colorscale": [
                          [
                            0,
                            "#0d0887"
                          ],
                          [
                            0.1111111111111111,
                            "#46039f"
                          ],
                          [
                            0.2222222222222222,
                            "#7201a8"
                          ],
                          [
                            0.3333333333333333,
                            "#9c179e"
                          ],
                          [
                            0.4444444444444444,
                            "#bd3786"
                          ],
                          [
                            0.5555555555555556,
                            "#d8576b"
                          ],
                          [
                            0.6666666666666666,
                            "#ed7953"
                          ],
                          [
                            0.7777777777777778,
                            "#fb9f3a"
                          ],
                          [
                            0.8888888888888888,
                            "#fdca26"
                          ],
                          [
                            1,
                            "#f0f921"
                          ]
                        ],
                        "type": "heatmap"
                      }
                    ],
                    "histogram": [
                      {
                        "marker": {
                          "pattern": {
                            "fillmode": "overlay",
                            "size": 10,
                            "solidity": 0.2
                          }
                        },
                        "type": "histogram"
                      }
                    ],
                    "histogram2d": [
                      {
                        "colorbar": {
                          "outlinewidth": 0,
                          "ticks": ""
                        },
                        "colorscale": [
                          [
                            0,
                            "#0d0887"
                          ],
                          [
                            0.1111111111111111,
                            "#46039f"
                          ],
                          [
                            0.2222222222222222,
                            "#7201a8"
                          ],
                          [
                            0.3333333333333333,
                            "#9c179e"
                          ],
                          [
                            0.4444444444444444,
                            "#bd3786"
                          ],
                          [
                            0.5555555555555556,
                            "#d8576b"
                          ],
                          [
                            0.6666666666666666,
                            "#ed7953"
                          ],
                          [
                            0.7777777777777778,
                            "#fb9f3a"
                          ],
                          [
                            0.8888888888888888,
                            "#fdca26"
                          ],
                          [
                            1,
                            "#f0f921"
                          ]
                        ],
                        "type": "histogram2d"
                      }
                    ],
                    "histogram2dcontour": [
                      {
                        "colorbar": {
                          "outlinewidth": 0,
                          "ticks": ""
                        },
                        "colorscale": [
                          [
                            0,
                            "#0d0887"
                          ],
                          [
                            0.1111111111111111,
                            "#46039f"
                          ],
                          [
                            0.2222222222222222,
                            "#7201a8"
                          ],
                          [
                            0.3333333333333333,
                            "#9c179e"
                          ],
                          [
                            0.4444444444444444,
                            "#bd3786"
                          ],
                          [
                            0.5555555555555556,
                            "#d8576b"
                          ],
                          [
                            0.6666666666666666,
                            "#ed7953"
                          ],
                          [
                            0.7777777777777778,
                            "#fb9f3a"
                          ],
                          [
                            0.8888888888888888,
                            "#fdca26"
                          ],
                          [
                            1,
                            "#f0f921"
                          ]
                        ],
                        "type": "histogram2dcontour"
                      }
                    ],
                    "mesh3d": [
                      {
                        "colorbar": {
                          "outlinewidth": 0,
                          "ticks": ""
                        },
                        "type": "mesh3d"
                      }
                    ],
                    "parcoords": [
                      {
                        "line": {
                          "colorbar": {
                            "outlinewidth": 0,
                            "ticks": ""
                          }
                        },
                        "type": "parcoords"
                      }
                    ],
                    "pie": [
                      {
                        "automargin": true,
                        "type": "pie"
                      }
                    ],
                    "scatter": [
                      {
                        "fillpattern": {
                          "fillmode": "overlay",
                          "size": 10,
                          "solidity": 0.2
                        },
                        "type": "scatter"
                      }
                    ],
                    "scatter3d": [
                      {
                        "line": {
                          "colorbar": {
                            "outlinewidth": 0,
                            "ticks": ""
                          }
                        },
                        "marker": {
                          "colorbar": {
                            "outlinewidth": 0,
                            "ticks": ""
                          }
                        },
                        "type": "scatter3d"
                      }
                    ],
                    "scattercarpet": [
                      {
                        "marker": {
                          "colorbar": {
                            "outlinewidth": 0,
                            "ticks": ""
                          }
                        },
                        "type": "scattercarpet"
                      }
                    ],
                    "scattergeo": [
                      {
                        "marker": {
                          "colorbar": {
                            "outlinewidth": 0,
                            "ticks": ""
                          }
                        },
                        "type": "scattergeo"
                      }
                    ],
                    "scattergl": [
                      {
                        "marker": {
                          "colorbar": {
                            "outlinewidth": 0,
                            "ticks": ""
                          }
                        },
                        "type": "scattergl"
                      }
                    ],
                    "scattermap": [
                      {
                        "marker": {
                          "colorbar": {
                            "outlinewidth": 0,
                            "ticks": ""
                          }
                        },
                        "type": "scattermap"
                      }
                    ],
                    "scattermapbox": [
                      {
                        "marker": {
                          "colorbar": {
                            "outlinewidth": 0,
                            "ticks": ""
                          }
                        },
                        "type": "scattermapbox"
                      }
                    ],
                    "scatterpolar": [
                      {
                        "marker": {
                          "colorbar": {
                            "outlinewidth": 0,
                            "ticks": ""
                          }
                        },
                        "type": "scatterpolar"
                      }
                    ],
                    "scatterpolargl": [
                      {
                        "marker": {
                          "colorbar": {
                            "outlinewidth": 0,
                            "ticks": ""
                          }
                        },
                        "type": "scatterpolargl"
                      }
                    ],
                    "scatterternary": [
                      {
                        "marker": {
                          "colorbar": {
                            "outlinewidth": 0,
                            "ticks": ""
                          }
                        },
                        "type": "scatterternary"
                      }
                    ],
                    "surface": [
                      {
                        "colorbar": {
                          "outlinewidth": 0,
                          "ticks": ""
                        },
                        "colorscale": [
                          [
                            0,
                            "#0d0887"
                          ],
                          [
                            0.1111111111111111,
                            "#46039f"
                          ],
                          [
                            0.2222222222222222,
                            "#7201a8"
                          ],
                          [
                            0.3333333333333333,
                            "#9c179e"
                          ],
                          [
                            0.4444444444444444,
                            "#bd3786"
                          ],
                          [
                            0.5555555555555556,
                            "#d8576b"
                          ],
                          [
                            0.6666666666666666,
                            "#ed7953"
                          ],
                          [
                            0.7777777777777778,
                            "#fb9f3a"
                          ],
                          [
                            0.8888888888888888,
                            "#fdca26"
                          ],
                          [
                            1,
                            "#f0f921"
                          ]
                        ],
                        "type": "surface"
                      }
                    ],
                    "table": [
                      {
                        "cells": {
                          "fill": {
                            "color": "#EBF0F8"
                          },
                          "line": {
                            "color": "white"
                          }
                        },
                        "header": {
                          "fill": {
                            "color": "#C8D4E3"
                          },
                          "line": {
                            "color": "white"
                          }
                        },
                        "type": "table"
                      }
                    ]
                  },
                  "layout": {
                    "annotationdefaults": {
                      "arrowcolor": "#2a3f5f",
                      "arrowhead": 0,
                      "arrowwidth": 1
                    },
                    "autotypenumbers": "strict",
                    "coloraxis": {
                      "colorbar": {
                        "outlinewidth": 0,
                        "ticks": ""
                      }
                    },
                    "colorscale": {
                      "diverging": [
                        [
                          0,
                          "#8e0152"
                        ],
                        [
                          0.1,
                          "#c51b7d"
                        ],
                        [
                          0.2,
                          "#de77ae"
                        ],
                        [
                          0.3,
                          "#f1b6da"
                        ],
                        [
                          0.4,
                          "#fde0ef"
                        ],
                        [
                          0.5,
                          "#f7f7f7"
                        ],
                        [
                          0.6,
                          "#e6f5d0"
                        ],
                        [
                          0.7,
                          "#b8e186"
                        ],
                        [
                          0.8,
                          "#7fbc41"
                        ],
                        [
                          0.9,
                          "#4d9221"
                        ],
                        [
                          1,
                          "#276419"
                        ]
                      ],
                      "sequential": [
                        [
                          0,
                          "#0d0887"
                        ],
                        [
                          0.1111111111111111,
                          "#46039f"
                        ],
                        [
                          0.2222222222222222,
                          "#7201a8"
                        ],
                        [
                          0.3333333333333333,
                          "#9c179e"
                        ],
                        [
                          0.4444444444444444,
                          "#bd3786"
                        ],
                        [
                          0.5555555555555556,
                          "#d8576b"
                        ],
                        [
                          0.6666666666666666,
                          "#ed7953"
                        ],
                        [
                          0.7777777777777778,
                          "#fb9f3a"
                        ],
                        [
                          0.8888888888888888,
                          "#fdca26"
                        ],
                        [
                          1,
                          "#f0f921"
                        ]
                      ],
                      "sequentialminus": [
                        [
                          0,
                          "#0d0887"
                        ],
                        [
                          0.1111111111111111,
                          "#46039f"
                        ],
                        [
                          0.2222222222222222,
                          "#7201a8"
                        ],
                        [
                          0.3333333333333333,
                          "#9c179e"
                        ],
                        [
                          0.4444444444444444,
                          "#bd3786"
                        ],
                        [
                          0.5555555555555556,
                          "#d8576b"
                        ],
                        [
                          0.6666666666666666,
                          "#ed7953"
                        ],
                        [
                          0.7777777777777778,
                          "#fb9f3a"
                        ],
                        [
                          0.8888888888888888,
                          "#fdca26"
                        ],
                        [
                          1,
                          "#f0f921"
                        ]
                      ]
                    },
                    "colorway": [
                      "#636efa",
                      "#EF553B",
                      "#00cc96",
                      "#ab63fa",
                      "#FFA15A",
                      "#19d3f3",
                      "#FF6692",
                      "#B6E880",
                      "#FF97FF",
                      "#FECB52"
                    ],
                    "font": {
                      "color": "#2a3f5f"
                    },
                    "geo": {
                      "bgcolor": "white",
                      "lakecolor": "white",
                      "landcolor": "#E5ECF6",
                      "showlakes": true,
                      "showland": true,
                      "subunitcolor": "white"
                    },
                    "hoverlabel": {
                      "align": "left"
                    },
                    "hovermode": "closest",
                    "mapbox": {
                      "style": "light"
                    },
                    "paper_bgcolor": "white",
                    "plot_bgcolor": "#E5ECF6",
                    "polar": {
                      "angularaxis": {
                        "gridcolor": "white",
                        "linecolor": "white",
                        "ticks": ""
                      },
                      "bgcolor": "#E5ECF6",
                      "radialaxis": {
                        "gridcolor": "white",
                        "linecolor": "white",
                        "ticks": ""
                      }
                    },
                    "scene": {
                      "xaxis": {
                        "backgroundcolor": "#E5ECF6",
                        "gridcolor": "white",
                        "gridwidth": 2,
                        "linecolor": "white",
                        "showbackground": true,
                        "ticks": "",
                        "zerolinecolor": "white"
                      },
                      "yaxis": {
                        "backgroundcolor": "#E5ECF6",
                        "gridcolor": "white",
                        "gridwidth": 2,
                        "linecolor": "white",
                        "showbackground": true,
                        "ticks": "",
                        "zerolinecolor": "white"
                      },
                      "zaxis": {
                        "backgroundcolor": "#E5ECF6",
                        "gridcolor": "white",
                        "gridwidth": 2,
                        "linecolor": "white",
                        "showbackground": true,
                        "ticks": "",
                        "zerolinecolor": "white"
                      }
                    },
                    "shapedefaults": {
                      "line": {
                        "color": "#2a3f5f"
                      }
                    },
                    "ternary": {
                      "aaxis": {
                        "gridcolor": "white",
                        "linecolor": "white",
                        "ticks": ""
                      },
                      "baxis": {
                        "gridcolor": "white",
                        "linecolor": "white",
                        "ticks": ""
                      },
                      "bgcolor": "#E5ECF6",
                      "caxis": {
                        "gridcolor": "white",
                        "linecolor": "white",
                        "ticks": ""
                      }
                    },
                    "title": {
                      "x": 0.05
                    },
                    "xaxis": {
                      "automargin": true,
                      "gridcolor": "white",
                      "linecolor": "white",
                      "ticks": "",
                      "title": {
                        "standoff": 15
                      },
                      "zerolinecolor": "white",
                      "zerolinewidth": 2
                    },
                    "yaxis": {
                      "automargin": true,
                      "gridcolor": "white",
                      "linecolor": "white",
                      "ticks": "",
                      "title": {
                        "standoff": 15
                      },
                      "zerolinecolor": "white",
                      "zerolinewidth": 2
                    }
                  }
                },
                "title": {
                  "text": "Proyección 3D de los Datos en las Tres Primeras Componentes Principales"
                }
              }
            }
          },
          "metadata": {},
          "output_type": "display_data"
        }
      ],
      "source": [
        "DU_3D = np.matmul(D, U[:, :3])\n",
        "\n",
        "df_3D = pd.DataFrame(DU_3D, columns=['PC1', 'PC2', 'PC3'])\n",
        "df_3D['Restaurant'] = Hamburguesas['Restaurant']\n",
        "\n",
        "fig_3D = px.scatter_3d(df_3D, x='PC1', y='PC2', z='PC3', color='Restaurant',\n",
        "                        title=\"Proyección 3D de los Datos en las Tres Primeras Componentes Principales\",\n",
        "                        labels={'PC1': 'Componente Principal 1', 'PC2': 'Componente Principal 2', 'PC3': 'Componente Principal 3'})\n",
        "\n",
        "fig_3D.show()"
      ]
    }
  ],
  "metadata": {
    "colab": {
      "provenance": []
    },
    "kernelspec": {
      "display_name": ".venv",
      "language": "python",
      "name": "python3"
    },
    "language_info": {
      "codemirror_mode": {
        "name": "ipython",
        "version": 3
      },
      "file_extension": ".py",
      "mimetype": "text/x-python",
      "name": "python",
      "nbconvert_exporter": "python",
      "pygments_lexer": "ipython3",
      "version": "3.12.9"
    }
  },
  "nbformat": 4,
  "nbformat_minor": 0
}
