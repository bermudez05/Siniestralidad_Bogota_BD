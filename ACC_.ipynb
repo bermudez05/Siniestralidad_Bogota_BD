{
 "cells": [
  {
   "cell_type": "code",
   "execution_count": 2,
   "metadata": {},
   "outputs": [],
   "source": [
    "import pandas as pd \n",
    "import seaborn as sb \n",
    "import numpy as np \n",
    "import matplotlib.pyplot as plt \n",
    "import requests\n",
    "%matplotlib inline"
   ]
  },
  {
   "cell_type": "markdown",
   "metadata": {},
   "source": [
    "<b>Traemos la información del vehiculo implicado mediante un llamado de API</b>"
   ]
  },
  {
   "cell_type": "code",
   "execution_count": 3,
   "metadata": {},
   "outputs": [
    {
     "name": "stdout",
     "output_type": "stream",
     "text": [
      "Datos obtenidos exitosamente\n"
     ]
    }
   ],
   "source": [
    "# URL de la API\n",
    "url = \"https://sig.simur.gov.co/arcgis/rest/services/Accidentalidad/AccidentalidadAnalisis/FeatureServer/5/query?where=1%3D1&outFields=FORMULARIO,CLASE,SERVICIO&outSR=4326&f=json\"\n",
    "\n",
    "# Hacer la solicitud GET\n",
    "response = requests.get(url)\n",
    "\n",
    "# Verificar si la solicitud fue exitosa\n",
    "if response.status_code == 200:\n",
    "    # Convertir la respuesta a JSON\n",
    "    data = response.json()\n",
    "    print(\"Datos obtenidos exitosamente\")"
   ]
  },
  {
   "cell_type": "code",
   "execution_count": 4,
   "metadata": {},
   "outputs": [],
   "source": [
    "features = data.get('features', [])  # Obtener la lista de features\n",
    "rows = []  # Lista para almacenar los datos\n",
    "\n",
    "# Recorrer cada feature y extraer los atributos\n",
    "for feature in features:\n",
    "    attributes = feature.get('attributes', {})  # Obtener el diccionario de atributos\n",
    "    rows.append(attributes)  # Agregar los atributos a la lista"
   ]
  },
  {
   "cell_type": "code",
   "execution_count": 5,
   "metadata": {},
   "outputs": [
    {
     "data": {
      "text/html": [
       "<div>\n",
       "<style scoped>\n",
       "    .dataframe tbody tr th:only-of-type {\n",
       "        vertical-align: middle;\n",
       "    }\n",
       "\n",
       "    .dataframe tbody tr th {\n",
       "        vertical-align: top;\n",
       "    }\n",
       "\n",
       "    .dataframe thead th {\n",
       "        text-align: right;\n",
       "    }\n",
       "</style>\n",
       "<table border=\"1\" class=\"dataframe\">\n",
       "  <thead>\n",
       "    <tr style=\"text-align: right;\">\n",
       "      <th></th>\n",
       "      <th>FORMULARIO</th>\n",
       "      <th>CLASE</th>\n",
       "      <th>SERVICIO</th>\n",
       "    </tr>\n",
       "  </thead>\n",
       "  <tbody>\n",
       "    <tr>\n",
       "      <th>0</th>\n",
       "      <td>A001511605</td>\n",
       "      <td>AUTOMOVIL</td>\n",
       "      <td>PARTICULAR</td>\n",
       "    </tr>\n",
       "    <tr>\n",
       "      <th>1</th>\n",
       "      <td>A001512418</td>\n",
       "      <td>AUTOMOVIL</td>\n",
       "      <td>PUBLICO</td>\n",
       "    </tr>\n",
       "    <tr>\n",
       "      <th>2</th>\n",
       "      <td>A001512418</td>\n",
       "      <td>MOTOCICLETA</td>\n",
       "      <td>PARTICULAR</td>\n",
       "    </tr>\n",
       "    <tr>\n",
       "      <th>3</th>\n",
       "      <td>A001512410</td>\n",
       "      <td>CAMIONETA</td>\n",
       "      <td>PUBLICO</td>\n",
       "    </tr>\n",
       "    <tr>\n",
       "      <th>4</th>\n",
       "      <td>A001512410</td>\n",
       "      <td>AUTOMOVIL</td>\n",
       "      <td>PARTICULAR</td>\n",
       "    </tr>\n",
       "  </tbody>\n",
       "</table>\n",
       "</div>"
      ],
      "text/plain": [
       "   FORMULARIO        CLASE    SERVICIO\n",
       "0  A001511605    AUTOMOVIL  PARTICULAR\n",
       "1  A001512418    AUTOMOVIL     PUBLICO\n",
       "2  A001512418  MOTOCICLETA  PARTICULAR\n",
       "3  A001512410    CAMIONETA     PUBLICO\n",
       "4  A001512410    AUTOMOVIL  PARTICULAR"
      ]
     },
     "execution_count": 5,
     "metadata": {},
     "output_type": "execute_result"
    }
   ],
   "source": [
    "# Convertir la lista de diccionarios a DataFrame\n",
    "vehiculo_data = pd.DataFrame(rows)\n",
    "vehiculo_data.head(5)"
   ]
  },
  {
   "cell_type": "code",
   "execution_count": 6,
   "metadata": {},
   "outputs": [
    {
     "name": "stdout",
     "output_type": "stream",
     "text": [
      "<class 'pandas.core.frame.DataFrame'>\n",
      "RangeIndex: 2000 entries, 0 to 1999\n",
      "Data columns (total 3 columns):\n",
      " #   Column      Non-Null Count  Dtype \n",
      "---  ------      --------------  ----- \n",
      " 0   FORMULARIO  2000 non-null   object\n",
      " 1   CLASE       1990 non-null   object\n",
      " 2   SERVICIO    2000 non-null   object\n",
      "dtypes: object(3)\n",
      "memory usage: 47.0+ KB\n"
     ]
    }
   ],
   "source": [
    "vehiculo_data.info()"
   ]
  },
  {
   "cell_type": "code",
   "execution_count": 7,
   "metadata": {},
   "outputs": [
    {
     "data": {
      "text/plain": [
       "FORMULARIO     0\n",
       "CLASE         10\n",
       "SERVICIO       0\n",
       "dtype: int64"
      ]
     },
     "execution_count": 7,
     "metadata": {},
     "output_type": "execute_result"
    }
   ],
   "source": [
    "vehiculo_data.isna().sum()"
   ]
  },
  {
   "cell_type": "code",
   "execution_count": 8,
   "metadata": {},
   "outputs": [],
   "source": [
    "# Reemplazar cadenas vacías o espacios con NaN\n",
    "vehiculo_data.replace([\"\", \"SIN INFORMACION\",\" \", \"NaN\", \"null\"], np.nan, inplace=True)\n",
    "\n",
    "# Ahora aplicar dropna()\n",
    "vehiculo_data.dropna(inplace=True)"
   ]
  },
  {
   "cell_type": "code",
   "execution_count": 9,
   "metadata": {},
   "outputs": [
    {
     "name": "stdout",
     "output_type": "stream",
     "text": [
      "<class 'pandas.core.frame.DataFrame'>\n",
      "Index: 1990 entries, 0 to 1999\n",
      "Data columns (total 3 columns):\n",
      " #   Column      Non-Null Count  Dtype \n",
      "---  ------      --------------  ----- \n",
      " 0   FORMULARIO  1990 non-null   object\n",
      " 1   CLASE       1990 non-null   object\n",
      " 2   SERVICIO    1990 non-null   object\n",
      "dtypes: object(3)\n",
      "memory usage: 62.2+ KB\n"
     ]
    }
   ],
   "source": [
    "vehiculo_data.info()"
   ]
  },
  {
   "cell_type": "code",
   "execution_count": 10,
   "metadata": {},
   "outputs": [
    {
     "data": {
      "text/plain": [
       "CLASE\n",
       "AUTOMOVIL          615\n",
       "MOTOCICLETA        549\n",
       "CAMIONETA          246\n",
       "BUS                216\n",
       "BICICLETA          136\n",
       "CAMION, FURGON      85\n",
       "CAMPERO             57\n",
       "TRACTOCAMION        29\n",
       "VOLQUETA            20\n",
       "MICROBUS            19\n",
       "BUSETA               9\n",
       "MOTOTRICICLO         4\n",
       "NO IDENTIFICADO      2\n",
       "CUATRIMOTO           2\n",
       "MOTOCARRO            1\n",
       "Name: count, dtype: int64"
      ]
     },
     "execution_count": 10,
     "metadata": {},
     "output_type": "execute_result"
    }
   ],
   "source": [
    "vehiculo_data[\"CLASE\"].value_counts()"
   ]
  },
  {
   "cell_type": "code",
   "execution_count": 11,
   "metadata": {},
   "outputs": [
    {
     "data": {
      "text/plain": [
       "SERVICIO\n",
       "PARTICULAR          1155\n",
       "PUBLICO              626\n",
       " SIN INFORMACION     168\n",
       "OFICIAL               36\n",
       "DIPLOMATICO            5\n",
       "Name: count, dtype: int64"
      ]
     },
     "execution_count": 11,
     "metadata": {},
     "output_type": "execute_result"
    }
   ],
   "source": [
    "vehiculo_data[\"SERVICIO\"].value_counts()"
   ]
  },
  {
   "cell_type": "markdown",
   "metadata": {},
   "source": [
    "<b>Traemos la información de las condiciones de la via mediante un llamado de API</b>"
   ]
  },
  {
   "cell_type": "code",
   "execution_count": 12,
   "metadata": {},
   "outputs": [
    {
     "name": "stdout",
     "output_type": "stream",
     "text": [
      "Datos obtenidos exitosamente\n"
     ]
    }
   ],
   "source": [
    "# URL de la API\n",
    "url =\"https://sig.simur.gov.co/arcgis/rest/services/Accidentalidad/AccidentalidadAnalisis/FeatureServer/6/query?where=1%3D1&outFields=FORMULARIO,GEOMETRICA_A,GEOMETRICA_B,GEOMETRICA_C,UTILIZACION,CALZADAS,CARRILES,MATERIAL,ESTADO,CONDICIONES,ILUMINACION_A,AGENTE_TRANSITO,SEMAFORO,CODIGO_ACCIDENTE&outSR=4326&f=json\"\n",
    "\n",
    "# Hacer la solicitud GET\n",
    "response = requests.get(url)\n",
    "\n",
    "# Verificar si la solicitud fue exitosa\n",
    "if response.status_code == 200:\n",
    "    # Convertir la respuesta a JSON\n",
    "    data = response.json()\n",
    "    print(\"Datos obtenidos exitosamente\")"
   ]
  },
  {
   "cell_type": "code",
   "execution_count": 13,
   "metadata": {},
   "outputs": [],
   "source": [
    "features = data.get('features', [])  # Obtener la lista de features\n",
    "rows = []  # Lista para almacenar los datos\n",
    "\n",
    "# Recorrer cada feature y extraer los atributos\n",
    "for feature in features:\n",
    "    attributes = feature.get('attributes', {})  # Obtener el diccionario de atributos\n",
    "    rows.append(attributes)  # Agregar los atributos a la lista"
   ]
  },
  {
   "cell_type": "code",
   "execution_count": 14,
   "metadata": {},
   "outputs": [
    {
     "data": {
      "text/html": [
       "<div>\n",
       "<style scoped>\n",
       "    .dataframe tbody tr th:only-of-type {\n",
       "        vertical-align: middle;\n",
       "    }\n",
       "\n",
       "    .dataframe tbody tr th {\n",
       "        vertical-align: top;\n",
       "    }\n",
       "\n",
       "    .dataframe thead th {\n",
       "        text-align: right;\n",
       "    }\n",
       "</style>\n",
       "<table border=\"1\" class=\"dataframe\">\n",
       "  <thead>\n",
       "    <tr style=\"text-align: right;\">\n",
       "      <th></th>\n",
       "      <th>FORMULARIO</th>\n",
       "      <th>GEOMETRICA_A</th>\n",
       "      <th>GEOMETRICA_B</th>\n",
       "      <th>GEOMETRICA_C</th>\n",
       "      <th>UTILIZACION</th>\n",
       "      <th>CALZADAS</th>\n",
       "      <th>CARRILES</th>\n",
       "      <th>MATERIAL</th>\n",
       "      <th>ESTADO</th>\n",
       "      <th>CONDICIONES</th>\n",
       "      <th>ILUMINACION_A</th>\n",
       "      <th>AGENTE_TRANSITO</th>\n",
       "      <th>SEMAFORO</th>\n",
       "      <th>CODIGO_ACCIDENTE</th>\n",
       "    </tr>\n",
       "  </thead>\n",
       "  <tbody>\n",
       "    <tr>\n",
       "      <th>0</th>\n",
       "      <td>A000600237</td>\n",
       "      <td>RECTA</td>\n",
       "      <td>PLANO</td>\n",
       "      <td>CON BERMAS</td>\n",
       "      <td>UN SENTIDO</td>\n",
       "      <td>UNA</td>\n",
       "      <td>UNO</td>\n",
       "      <td>ASFALTO</td>\n",
       "      <td>BUENO</td>\n",
       "      <td>SECA</td>\n",
       "      <td>SIN</td>\n",
       "      <td>NO</td>\n",
       "      <td>OPERANDO</td>\n",
       "      <td>4476074.0</td>\n",
       "    </tr>\n",
       "    <tr>\n",
       "      <th>1</th>\n",
       "      <td>A000599427</td>\n",
       "      <td>RECTA</td>\n",
       "      <td>PLANO</td>\n",
       "      <td>CON BERMAS</td>\n",
       "      <td>UN SENTIDO</td>\n",
       "      <td>UNA</td>\n",
       "      <td>DOS</td>\n",
       "      <td>ASFALTO</td>\n",
       "      <td>BUENO</td>\n",
       "      <td>SECA</td>\n",
       "      <td>CON</td>\n",
       "      <td>NO</td>\n",
       "      <td>OPERANDO</td>\n",
       "      <td>4476077.0</td>\n",
       "    </tr>\n",
       "    <tr>\n",
       "      <th>2</th>\n",
       "      <td>A000599774</td>\n",
       "      <td>RECTA</td>\n",
       "      <td>PLANO</td>\n",
       "      <td>CON BERMAS</td>\n",
       "      <td>UN SENTIDO</td>\n",
       "      <td>UNA</td>\n",
       "      <td>UNO</td>\n",
       "      <td>ASFALTO</td>\n",
       "      <td>BUENO</td>\n",
       "      <td>SECA</td>\n",
       "      <td>SIN</td>\n",
       "      <td>NO</td>\n",
       "      <td>OPERANDO</td>\n",
       "      <td>4476078.0</td>\n",
       "    </tr>\n",
       "    <tr>\n",
       "      <th>3</th>\n",
       "      <td>A000600115</td>\n",
       "      <td>RECTA</td>\n",
       "      <td>PLANO</td>\n",
       "      <td>CON ANDEN</td>\n",
       "      <td>DOBLE SENTIDO</td>\n",
       "      <td>UNA</td>\n",
       "      <td>TRES O MAS</td>\n",
       "      <td>ASFALTO</td>\n",
       "      <td>BUENO</td>\n",
       "      <td>SECA</td>\n",
       "      <td>SIN</td>\n",
       "      <td>NO</td>\n",
       "      <td>OPERANDO</td>\n",
       "      <td>4476084.0</td>\n",
       "    </tr>\n",
       "    <tr>\n",
       "      <th>4</th>\n",
       "      <td>A000600175</td>\n",
       "      <td>RECTA</td>\n",
       "      <td>PLANO</td>\n",
       "      <td>CON BERMAS</td>\n",
       "      <td>DOBLE SENTIDO</td>\n",
       "      <td>DOS</td>\n",
       "      <td>TRES O MAS</td>\n",
       "      <td>ASFALTO</td>\n",
       "      <td>BUENO</td>\n",
       "      <td>SECA</td>\n",
       "      <td>CON</td>\n",
       "      <td>NO</td>\n",
       "      <td>OPERANDO</td>\n",
       "      <td>4476083.0</td>\n",
       "    </tr>\n",
       "  </tbody>\n",
       "</table>\n",
       "</div>"
      ],
      "text/plain": [
       "   FORMULARIO GEOMETRICA_A GEOMETRICA_B GEOMETRICA_C    UTILIZACION CALZADAS  \\\n",
       "0  A000600237        RECTA        PLANO   CON BERMAS     UN SENTIDO      UNA   \n",
       "1  A000599427        RECTA        PLANO   CON BERMAS     UN SENTIDO      UNA   \n",
       "2  A000599774        RECTA        PLANO   CON BERMAS     UN SENTIDO      UNA   \n",
       "3  A000600115        RECTA        PLANO    CON ANDEN  DOBLE SENTIDO      UNA   \n",
       "4  A000600175        RECTA        PLANO   CON BERMAS  DOBLE SENTIDO      DOS   \n",
       "\n",
       "     CARRILES MATERIAL ESTADO CONDICIONES ILUMINACION_A AGENTE_TRANSITO  \\\n",
       "0         UNO  ASFALTO  BUENO        SECA           SIN              NO   \n",
       "1         DOS  ASFALTO  BUENO        SECA           CON              NO   \n",
       "2         UNO  ASFALTO  BUENO        SECA           SIN              NO   \n",
       "3  TRES O MAS  ASFALTO  BUENO        SECA           SIN              NO   \n",
       "4  TRES O MAS  ASFALTO  BUENO        SECA           CON              NO   \n",
       "\n",
       "   SEMAFORO  CODIGO_ACCIDENTE  \n",
       "0  OPERANDO         4476074.0  \n",
       "1  OPERANDO         4476077.0  \n",
       "2  OPERANDO         4476078.0  \n",
       "3  OPERANDO         4476084.0  \n",
       "4  OPERANDO         4476083.0  "
      ]
     },
     "execution_count": 14,
     "metadata": {},
     "output_type": "execute_result"
    }
   ],
   "source": [
    "via_data = pd.DataFrame(rows)\n",
    "via_data.head(5)\n"
   ]
  },
  {
   "cell_type": "code",
   "execution_count": 15,
   "metadata": {},
   "outputs": [
    {
     "name": "stdout",
     "output_type": "stream",
     "text": [
      "<class 'pandas.core.frame.DataFrame'>\n",
      "RangeIndex: 2000 entries, 0 to 1999\n",
      "Data columns (total 14 columns):\n",
      " #   Column            Non-Null Count  Dtype  \n",
      "---  ------            --------------  -----  \n",
      " 0   FORMULARIO        2000 non-null   object \n",
      " 1   GEOMETRICA_A      1996 non-null   object \n",
      " 2   GEOMETRICA_B      1974 non-null   object \n",
      " 3   GEOMETRICA_C      1964 non-null   object \n",
      " 4   UTILIZACION       1986 non-null   object \n",
      " 5   CALZADAS          1984 non-null   object \n",
      " 6   CARRILES          1991 non-null   object \n",
      " 7   MATERIAL          1989 non-null   object \n",
      " 8   ESTADO            1982 non-null   object \n",
      " 9   CONDICIONES       1985 non-null   object \n",
      " 10  ILUMINACION_A     1935 non-null   object \n",
      " 11  AGENTE_TRANSITO   1898 non-null   object \n",
      " 12  SEMAFORO          1855 non-null   object \n",
      " 13  CODIGO_ACCIDENTE  2000 non-null   float64\n",
      "dtypes: float64(1), object(13)\n",
      "memory usage: 218.9+ KB\n"
     ]
    }
   ],
   "source": [
    "via_data.info()"
   ]
  },
  {
   "cell_type": "code",
   "execution_count": 16,
   "metadata": {},
   "outputs": [
    {
     "data": {
      "text/plain": [
       "FORMULARIO            0\n",
       "GEOMETRICA_A          4\n",
       "GEOMETRICA_B         26\n",
       "GEOMETRICA_C         36\n",
       "UTILIZACION          14\n",
       "CALZADAS             16\n",
       "CARRILES              9\n",
       "MATERIAL             11\n",
       "ESTADO               18\n",
       "CONDICIONES          15\n",
       "ILUMINACION_A        65\n",
       "AGENTE_TRANSITO     102\n",
       "SEMAFORO            145\n",
       "CODIGO_ACCIDENTE      0\n",
       "dtype: int64"
      ]
     },
     "execution_count": 16,
     "metadata": {},
     "output_type": "execute_result"
    }
   ],
   "source": [
    "via_data.isna().sum()"
   ]
  },
  {
   "cell_type": "code",
   "execution_count": 17,
   "metadata": {},
   "outputs": [],
   "source": [
    "# Reemplazar cadenas vacías o espacios con NaN\n",
    "via_data.replace([\"\", \"SIN INFORMACION\",\" \", \"NaN\", \"null\"], np.nan, inplace=True)\n",
    "\n",
    "# Ahora aplicar dropna()\n",
    "via_data.dropna(inplace=True)"
   ]
  },
  {
   "cell_type": "code",
   "execution_count": 18,
   "metadata": {},
   "outputs": [
    {
     "name": "stdout",
     "output_type": "stream",
     "text": [
      "<class 'pandas.core.frame.DataFrame'>\n",
      "Index: 1770 entries, 0 to 1998\n",
      "Data columns (total 14 columns):\n",
      " #   Column            Non-Null Count  Dtype  \n",
      "---  ------            --------------  -----  \n",
      " 0   FORMULARIO        1770 non-null   object \n",
      " 1   GEOMETRICA_A      1770 non-null   object \n",
      " 2   GEOMETRICA_B      1770 non-null   object \n",
      " 3   GEOMETRICA_C      1770 non-null   object \n",
      " 4   UTILIZACION       1770 non-null   object \n",
      " 5   CALZADAS          1770 non-null   object \n",
      " 6   CARRILES          1770 non-null   object \n",
      " 7   MATERIAL          1770 non-null   object \n",
      " 8   ESTADO            1770 non-null   object \n",
      " 9   CONDICIONES       1770 non-null   object \n",
      " 10  ILUMINACION_A     1770 non-null   object \n",
      " 11  AGENTE_TRANSITO   1770 non-null   object \n",
      " 12  SEMAFORO          1770 non-null   object \n",
      " 13  CODIGO_ACCIDENTE  1770 non-null   float64\n",
      "dtypes: float64(1), object(13)\n",
      "memory usage: 207.4+ KB\n"
     ]
    }
   ],
   "source": [
    "via_data.info()"
   ]
  },
  {
   "cell_type": "code",
   "execution_count": 19,
   "metadata": {},
   "outputs": [
    {
     "data": {
      "text/plain": [
       "SEMAFORO\n",
       "OPERANDO    1362\n",
       "NINGUNO      404\n",
       "APAGADO        2\n",
       "OCULTO         2\n",
       "Name: count, dtype: int64"
      ]
     },
     "execution_count": 19,
     "metadata": {},
     "output_type": "execute_result"
    }
   ],
   "source": [
    "via_data[\"SEMAFORO\"].value_counts()"
   ]
  },
  {
   "cell_type": "code",
   "execution_count": 20,
   "metadata": {},
   "outputs": [
    {
     "data": {
      "text/plain": [
       "ESTADO\n",
       "BUENO            1724\n",
       "CON HUECOS         34\n",
       "FISURADA            6\n",
       "EN REPARACION       3\n",
       "HUNDIMIENTOS        2\n",
       "PARCHADA            1\n",
       "Name: count, dtype: int64"
      ]
     },
     "execution_count": 20,
     "metadata": {},
     "output_type": "execute_result"
    }
   ],
   "source": [
    "via_data[\"ESTADO\"].value_counts()"
   ]
  },
  {
   "cell_type": "code",
   "execution_count": 21,
   "metadata": {},
   "outputs": [
    {
     "name": "stdout",
     "output_type": "stream",
     "text": [
      "GEOMETRICA_A\n",
      "RECTA    1736\n",
      "CURVA      34\n",
      "Name: count, dtype: int64\n",
      "GEOMETRICA_B\n",
      "PLANO        1731\n",
      "PENDIENTE      39\n",
      "Name: count, dtype: int64\n",
      "GEOMETRICA_C\n",
      "CON ANDEN        962\n",
      "CON BERMAS       806\n",
      "BAHIA DE EST.      2\n",
      "Name: count, dtype: int64\n"
     ]
    }
   ],
   "source": [
    "print (via_data[\"GEOMETRICA_A\"].value_counts())\n",
    "print (via_data[\"GEOMETRICA_B\"].value_counts())\n",
    "print (via_data[\"GEOMETRICA_C\"].value_counts())"
   ]
  },
  {
   "cell_type": "code",
   "execution_count": 22,
   "metadata": {},
   "outputs": [
    {
     "data": {
      "text/plain": [
       "UTILIZACION\n",
       "UN SENTIDO       1129\n",
       "DOBLE SENTIDO     632\n",
       "REVERSIBLE          9\n",
       "Name: count, dtype: int64"
      ]
     },
     "execution_count": 22,
     "metadata": {},
     "output_type": "execute_result"
    }
   ],
   "source": [
    "via_data[\"UTILIZACION\"].value_counts()"
   ]
  },
  {
   "cell_type": "code",
   "execution_count": 23,
   "metadata": {},
   "outputs": [
    {
     "data": {
      "text/plain": [
       "CALZADAS\n",
       "UNA             1289\n",
       "DOS              347\n",
       "TRES O MAS       130\n",
       "VARIABLE           2\n",
       "CUATRO O MAS       2\n",
       "Name: count, dtype: int64"
      ]
     },
     "execution_count": 23,
     "metadata": {},
     "output_type": "execute_result"
    }
   ],
   "source": [
    "via_data[\"CALZADAS\"].value_counts()"
   ]
  },
  {
   "cell_type": "code",
   "execution_count": 24,
   "metadata": {},
   "outputs": [
    {
     "data": {
      "text/plain": [
       "CARRILES\n",
       "DOS             847\n",
       "TRES O MAS      613\n",
       "UNO             300\n",
       "VARIABLE          7\n",
       "CUATRO O MAS      3\n",
       "Name: count, dtype: int64"
      ]
     },
     "execution_count": 24,
     "metadata": {},
     "output_type": "execute_result"
    }
   ],
   "source": [
    "via_data[\"CARRILES\"].value_counts()"
   ]
  },
  {
   "cell_type": "code",
   "execution_count": 25,
   "metadata": {},
   "outputs": [
    {
     "data": {
      "text/plain": [
       "MATERIAL\n",
       "ASFALTO     1651\n",
       "CONCRETO     108\n",
       "AFIRMADO       7\n",
       "ADOQUIN        3\n",
       "TIERRA         1\n",
       "Name: count, dtype: int64"
      ]
     },
     "execution_count": 25,
     "metadata": {},
     "output_type": "execute_result"
    }
   ],
   "source": [
    "via_data[\"MATERIAL\"].value_counts()"
   ]
  },
  {
   "cell_type": "code",
   "execution_count": 26,
   "metadata": {},
   "outputs": [
    {
     "data": {
      "text/plain": [
       "CONDICIONES\n",
       "SECA                      1582\n",
       "HUMEDA                     187\n",
       "ALCANTARILLA DESTAPADA       1\n",
       "Name: count, dtype: int64"
      ]
     },
     "execution_count": 26,
     "metadata": {},
     "output_type": "execute_result"
    }
   ],
   "source": [
    "via_data[\"CONDICIONES\"].value_counts()"
   ]
  },
  {
   "cell_type": "code",
   "execution_count": 27,
   "metadata": {},
   "outputs": [
    {
     "data": {
      "text/plain": [
       "ILUMINACION_A\n",
       "SIN    949\n",
       "CON    821\n",
       "Name: count, dtype: int64"
      ]
     },
     "execution_count": 27,
     "metadata": {},
     "output_type": "execute_result"
    }
   ],
   "source": [
    "via_data[\"ILUMINACION_A\"].value_counts()"
   ]
  },
  {
   "cell_type": "code",
   "execution_count": 28,
   "metadata": {},
   "outputs": [
    {
     "data": {
      "text/plain": [
       "AGENTE_TRANSITO\n",
       "NO    1756\n",
       "SI      14\n",
       "Name: count, dtype: int64"
      ]
     },
     "execution_count": 28,
     "metadata": {},
     "output_type": "execute_result"
    }
   ],
   "source": [
    "via_data[\"AGENTE_TRANSITO\"].value_counts()"
   ]
  },
  {
   "cell_type": "code",
   "execution_count": 29,
   "metadata": {},
   "outputs": [],
   "source": [
    "# Podemos crear dummies para las variables categóricas que solo toman dos valores\n",
    "# como Iluminación A y Agente de Tránsito, tal que el 1 indique si y el 0 indique no"
   ]
  },
  {
   "cell_type": "code",
   "execution_count": 30,
   "metadata": {},
   "outputs": [
    {
     "data": {
      "text/html": [
       "<div>\n",
       "<style scoped>\n",
       "    .dataframe tbody tr th:only-of-type {\n",
       "        vertical-align: middle;\n",
       "    }\n",
       "\n",
       "    .dataframe tbody tr th {\n",
       "        vertical-align: top;\n",
       "    }\n",
       "\n",
       "    .dataframe thead th {\n",
       "        text-align: right;\n",
       "    }\n",
       "</style>\n",
       "<table border=\"1\" class=\"dataframe\">\n",
       "  <thead>\n",
       "    <tr style=\"text-align: right;\">\n",
       "      <th></th>\n",
       "      <th>CON</th>\n",
       "      <th>SIN</th>\n",
       "    </tr>\n",
       "  </thead>\n",
       "  <tbody>\n",
       "    <tr>\n",
       "      <th>0</th>\n",
       "      <td>0</td>\n",
       "      <td>1</td>\n",
       "    </tr>\n",
       "    <tr>\n",
       "      <th>1</th>\n",
       "      <td>1</td>\n",
       "      <td>0</td>\n",
       "    </tr>\n",
       "    <tr>\n",
       "      <th>2</th>\n",
       "      <td>0</td>\n",
       "      <td>1</td>\n",
       "    </tr>\n",
       "    <tr>\n",
       "      <th>3</th>\n",
       "      <td>0</td>\n",
       "      <td>1</td>\n",
       "    </tr>\n",
       "    <tr>\n",
       "      <th>4</th>\n",
       "      <td>1</td>\n",
       "      <td>0</td>\n",
       "    </tr>\n",
       "    <tr>\n",
       "      <th>...</th>\n",
       "      <td>...</td>\n",
       "      <td>...</td>\n",
       "    </tr>\n",
       "    <tr>\n",
       "      <th>1986</th>\n",
       "      <td>1</td>\n",
       "      <td>0</td>\n",
       "    </tr>\n",
       "    <tr>\n",
       "      <th>1987</th>\n",
       "      <td>1</td>\n",
       "      <td>0</td>\n",
       "    </tr>\n",
       "    <tr>\n",
       "      <th>1988</th>\n",
       "      <td>1</td>\n",
       "      <td>0</td>\n",
       "    </tr>\n",
       "    <tr>\n",
       "      <th>1997</th>\n",
       "      <td>1</td>\n",
       "      <td>0</td>\n",
       "    </tr>\n",
       "    <tr>\n",
       "      <th>1998</th>\n",
       "      <td>1</td>\n",
       "      <td>0</td>\n",
       "    </tr>\n",
       "  </tbody>\n",
       "</table>\n",
       "<p>1770 rows × 2 columns</p>\n",
       "</div>"
      ],
      "text/plain": [
       "      CON  SIN\n",
       "0       0    1\n",
       "1       1    0\n",
       "2       0    1\n",
       "3       0    1\n",
       "4       1    0\n",
       "...   ...  ...\n",
       "1986    1    0\n",
       "1987    1    0\n",
       "1988    1    0\n",
       "1997    1    0\n",
       "1998    1    0\n",
       "\n",
       "[1770 rows x 2 columns]"
      ]
     },
     "execution_count": 30,
     "metadata": {},
     "output_type": "execute_result"
    }
   ],
   "source": [
    "dummies_iluminacion = pd.get_dummies(via_data[\"ILUMINACION_A\"],dtype=int)\n",
    "dummies_iluminacion"
   ]
  },
  {
   "cell_type": "code",
   "execution_count": 31,
   "metadata": {},
   "outputs": [],
   "source": [
    "via_data = via_data.join(dummies_iluminacion)\n",
    "via_data.drop(\"ILUMINACION_A\", axis=1, inplace=True)"
   ]
  },
  {
   "cell_type": "code",
   "execution_count": 32,
   "metadata": {},
   "outputs": [],
   "source": [
    "via_data.drop(\"SIN\", axis=1, inplace=True)\n",
    "via_data.rename(columns={\"CON\": \"ILUMINACION\"}, inplace=True)"
   ]
  },
  {
   "cell_type": "code",
   "execution_count": 33,
   "metadata": {},
   "outputs": [
    {
     "data": {
      "text/html": [
       "<div>\n",
       "<style scoped>\n",
       "    .dataframe tbody tr th:only-of-type {\n",
       "        vertical-align: middle;\n",
       "    }\n",
       "\n",
       "    .dataframe tbody tr th {\n",
       "        vertical-align: top;\n",
       "    }\n",
       "\n",
       "    .dataframe thead th {\n",
       "        text-align: right;\n",
       "    }\n",
       "</style>\n",
       "<table border=\"1\" class=\"dataframe\">\n",
       "  <thead>\n",
       "    <tr style=\"text-align: right;\">\n",
       "      <th></th>\n",
       "      <th>FORMULARIO</th>\n",
       "      <th>GEOMETRICA_A</th>\n",
       "      <th>GEOMETRICA_B</th>\n",
       "      <th>GEOMETRICA_C</th>\n",
       "      <th>UTILIZACION</th>\n",
       "      <th>CALZADAS</th>\n",
       "      <th>CARRILES</th>\n",
       "      <th>MATERIAL</th>\n",
       "      <th>ESTADO</th>\n",
       "      <th>CONDICIONES</th>\n",
       "      <th>AGENTE_TRANSITO</th>\n",
       "      <th>SEMAFORO</th>\n",
       "      <th>CODIGO_ACCIDENTE</th>\n",
       "      <th>ILUMINACION</th>\n",
       "    </tr>\n",
       "  </thead>\n",
       "  <tbody>\n",
       "    <tr>\n",
       "      <th>0</th>\n",
       "      <td>A000600237</td>\n",
       "      <td>RECTA</td>\n",
       "      <td>PLANO</td>\n",
       "      <td>CON BERMAS</td>\n",
       "      <td>UN SENTIDO</td>\n",
       "      <td>UNA</td>\n",
       "      <td>UNO</td>\n",
       "      <td>ASFALTO</td>\n",
       "      <td>BUENO</td>\n",
       "      <td>SECA</td>\n",
       "      <td>NO</td>\n",
       "      <td>OPERANDO</td>\n",
       "      <td>4476074.0</td>\n",
       "      <td>0</td>\n",
       "    </tr>\n",
       "    <tr>\n",
       "      <th>1</th>\n",
       "      <td>A000599427</td>\n",
       "      <td>RECTA</td>\n",
       "      <td>PLANO</td>\n",
       "      <td>CON BERMAS</td>\n",
       "      <td>UN SENTIDO</td>\n",
       "      <td>UNA</td>\n",
       "      <td>DOS</td>\n",
       "      <td>ASFALTO</td>\n",
       "      <td>BUENO</td>\n",
       "      <td>SECA</td>\n",
       "      <td>NO</td>\n",
       "      <td>OPERANDO</td>\n",
       "      <td>4476077.0</td>\n",
       "      <td>1</td>\n",
       "    </tr>\n",
       "    <tr>\n",
       "      <th>2</th>\n",
       "      <td>A000599774</td>\n",
       "      <td>RECTA</td>\n",
       "      <td>PLANO</td>\n",
       "      <td>CON BERMAS</td>\n",
       "      <td>UN SENTIDO</td>\n",
       "      <td>UNA</td>\n",
       "      <td>UNO</td>\n",
       "      <td>ASFALTO</td>\n",
       "      <td>BUENO</td>\n",
       "      <td>SECA</td>\n",
       "      <td>NO</td>\n",
       "      <td>OPERANDO</td>\n",
       "      <td>4476078.0</td>\n",
       "      <td>0</td>\n",
       "    </tr>\n",
       "    <tr>\n",
       "      <th>3</th>\n",
       "      <td>A000600115</td>\n",
       "      <td>RECTA</td>\n",
       "      <td>PLANO</td>\n",
       "      <td>CON ANDEN</td>\n",
       "      <td>DOBLE SENTIDO</td>\n",
       "      <td>UNA</td>\n",
       "      <td>TRES O MAS</td>\n",
       "      <td>ASFALTO</td>\n",
       "      <td>BUENO</td>\n",
       "      <td>SECA</td>\n",
       "      <td>NO</td>\n",
       "      <td>OPERANDO</td>\n",
       "      <td>4476084.0</td>\n",
       "      <td>0</td>\n",
       "    </tr>\n",
       "    <tr>\n",
       "      <th>4</th>\n",
       "      <td>A000600175</td>\n",
       "      <td>RECTA</td>\n",
       "      <td>PLANO</td>\n",
       "      <td>CON BERMAS</td>\n",
       "      <td>DOBLE SENTIDO</td>\n",
       "      <td>DOS</td>\n",
       "      <td>TRES O MAS</td>\n",
       "      <td>ASFALTO</td>\n",
       "      <td>BUENO</td>\n",
       "      <td>SECA</td>\n",
       "      <td>NO</td>\n",
       "      <td>OPERANDO</td>\n",
       "      <td>4476083.0</td>\n",
       "      <td>1</td>\n",
       "    </tr>\n",
       "  </tbody>\n",
       "</table>\n",
       "</div>"
      ],
      "text/plain": [
       "   FORMULARIO GEOMETRICA_A GEOMETRICA_B GEOMETRICA_C    UTILIZACION CALZADAS  \\\n",
       "0  A000600237        RECTA        PLANO   CON BERMAS     UN SENTIDO      UNA   \n",
       "1  A000599427        RECTA        PLANO   CON BERMAS     UN SENTIDO      UNA   \n",
       "2  A000599774        RECTA        PLANO   CON BERMAS     UN SENTIDO      UNA   \n",
       "3  A000600115        RECTA        PLANO    CON ANDEN  DOBLE SENTIDO      UNA   \n",
       "4  A000600175        RECTA        PLANO   CON BERMAS  DOBLE SENTIDO      DOS   \n",
       "\n",
       "     CARRILES MATERIAL ESTADO CONDICIONES AGENTE_TRANSITO  SEMAFORO  \\\n",
       "0         UNO  ASFALTO  BUENO        SECA              NO  OPERANDO   \n",
       "1         DOS  ASFALTO  BUENO        SECA              NO  OPERANDO   \n",
       "2         UNO  ASFALTO  BUENO        SECA              NO  OPERANDO   \n",
       "3  TRES O MAS  ASFALTO  BUENO        SECA              NO  OPERANDO   \n",
       "4  TRES O MAS  ASFALTO  BUENO        SECA              NO  OPERANDO   \n",
       "\n",
       "   CODIGO_ACCIDENTE  ILUMINACION  \n",
       "0         4476074.0            0  \n",
       "1         4476077.0            1  \n",
       "2         4476078.0            0  \n",
       "3         4476084.0            0  \n",
       "4         4476083.0            1  "
      ]
     },
     "execution_count": 33,
     "metadata": {},
     "output_type": "execute_result"
    }
   ],
   "source": [
    "via_data.head(5)"
   ]
  },
  {
   "cell_type": "code",
   "execution_count": 34,
   "metadata": {},
   "outputs": [
    {
     "data": {
      "text/html": [
       "<div>\n",
       "<style scoped>\n",
       "    .dataframe tbody tr th:only-of-type {\n",
       "        vertical-align: middle;\n",
       "    }\n",
       "\n",
       "    .dataframe tbody tr th {\n",
       "        vertical-align: top;\n",
       "    }\n",
       "\n",
       "    .dataframe thead th {\n",
       "        text-align: right;\n",
       "    }\n",
       "</style>\n",
       "<table border=\"1\" class=\"dataframe\">\n",
       "  <thead>\n",
       "    <tr style=\"text-align: right;\">\n",
       "      <th></th>\n",
       "      <th>NO</th>\n",
       "      <th>SI</th>\n",
       "    </tr>\n",
       "  </thead>\n",
       "  <tbody>\n",
       "    <tr>\n",
       "      <th>0</th>\n",
       "      <td>1</td>\n",
       "      <td>0</td>\n",
       "    </tr>\n",
       "    <tr>\n",
       "      <th>1</th>\n",
       "      <td>1</td>\n",
       "      <td>0</td>\n",
       "    </tr>\n",
       "    <tr>\n",
       "      <th>2</th>\n",
       "      <td>1</td>\n",
       "      <td>0</td>\n",
       "    </tr>\n",
       "    <tr>\n",
       "      <th>3</th>\n",
       "      <td>1</td>\n",
       "      <td>0</td>\n",
       "    </tr>\n",
       "    <tr>\n",
       "      <th>4</th>\n",
       "      <td>1</td>\n",
       "      <td>0</td>\n",
       "    </tr>\n",
       "    <tr>\n",
       "      <th>...</th>\n",
       "      <td>...</td>\n",
       "      <td>...</td>\n",
       "    </tr>\n",
       "    <tr>\n",
       "      <th>1986</th>\n",
       "      <td>1</td>\n",
       "      <td>0</td>\n",
       "    </tr>\n",
       "    <tr>\n",
       "      <th>1987</th>\n",
       "      <td>1</td>\n",
       "      <td>0</td>\n",
       "    </tr>\n",
       "    <tr>\n",
       "      <th>1988</th>\n",
       "      <td>0</td>\n",
       "      <td>1</td>\n",
       "    </tr>\n",
       "    <tr>\n",
       "      <th>1997</th>\n",
       "      <td>1</td>\n",
       "      <td>0</td>\n",
       "    </tr>\n",
       "    <tr>\n",
       "      <th>1998</th>\n",
       "      <td>1</td>\n",
       "      <td>0</td>\n",
       "    </tr>\n",
       "  </tbody>\n",
       "</table>\n",
       "<p>1770 rows × 2 columns</p>\n",
       "</div>"
      ],
      "text/plain": [
       "      NO  SI\n",
       "0      1   0\n",
       "1      1   0\n",
       "2      1   0\n",
       "3      1   0\n",
       "4      1   0\n",
       "...   ..  ..\n",
       "1986   1   0\n",
       "1987   1   0\n",
       "1988   0   1\n",
       "1997   1   0\n",
       "1998   1   0\n",
       "\n",
       "[1770 rows x 2 columns]"
      ]
     },
     "execution_count": 34,
     "metadata": {},
     "output_type": "execute_result"
    }
   ],
   "source": [
    "dummies_agentes = pd.get_dummies(via_data[\"AGENTE_TRANSITO\"],dtype=int)\n",
    "dummies_agentes"
   ]
  },
  {
   "cell_type": "code",
   "execution_count": 35,
   "metadata": {},
   "outputs": [],
   "source": [
    "via_data = via_data.join(dummies_agentes)\n",
    "via_data.drop(\"AGENTE_TRANSITO\", axis=1, inplace=True)\n",
    "\n",
    "via_data.drop(\"NO\", axis=1, inplace=True)\n",
    "via_data.rename(columns={\"SI\": \"AGENTE_TRANSITO\"}, inplace=True)"
   ]
  },
  {
   "cell_type": "code",
   "execution_count": 36,
   "metadata": {},
   "outputs": [
    {
     "data": {
      "text/html": [
       "<div>\n",
       "<style scoped>\n",
       "    .dataframe tbody tr th:only-of-type {\n",
       "        vertical-align: middle;\n",
       "    }\n",
       "\n",
       "    .dataframe tbody tr th {\n",
       "        vertical-align: top;\n",
       "    }\n",
       "\n",
       "    .dataframe thead th {\n",
       "        text-align: right;\n",
       "    }\n",
       "</style>\n",
       "<table border=\"1\" class=\"dataframe\">\n",
       "  <thead>\n",
       "    <tr style=\"text-align: right;\">\n",
       "      <th></th>\n",
       "      <th>FORMULARIO</th>\n",
       "      <th>GEOMETRICA_A</th>\n",
       "      <th>GEOMETRICA_B</th>\n",
       "      <th>GEOMETRICA_C</th>\n",
       "      <th>UTILIZACION</th>\n",
       "      <th>CALZADAS</th>\n",
       "      <th>CARRILES</th>\n",
       "      <th>MATERIAL</th>\n",
       "      <th>ESTADO</th>\n",
       "      <th>CONDICIONES</th>\n",
       "      <th>SEMAFORO</th>\n",
       "      <th>CODIGO_ACCIDENTE</th>\n",
       "      <th>ILUMINACION</th>\n",
       "      <th>AGENTE_TRANSITO</th>\n",
       "    </tr>\n",
       "  </thead>\n",
       "  <tbody>\n",
       "    <tr>\n",
       "      <th>0</th>\n",
       "      <td>A000600237</td>\n",
       "      <td>RECTA</td>\n",
       "      <td>PLANO</td>\n",
       "      <td>CON BERMAS</td>\n",
       "      <td>UN SENTIDO</td>\n",
       "      <td>UNA</td>\n",
       "      <td>UNO</td>\n",
       "      <td>ASFALTO</td>\n",
       "      <td>BUENO</td>\n",
       "      <td>SECA</td>\n",
       "      <td>OPERANDO</td>\n",
       "      <td>4476074.0</td>\n",
       "      <td>0</td>\n",
       "      <td>0</td>\n",
       "    </tr>\n",
       "    <tr>\n",
       "      <th>1</th>\n",
       "      <td>A000599427</td>\n",
       "      <td>RECTA</td>\n",
       "      <td>PLANO</td>\n",
       "      <td>CON BERMAS</td>\n",
       "      <td>UN SENTIDO</td>\n",
       "      <td>UNA</td>\n",
       "      <td>DOS</td>\n",
       "      <td>ASFALTO</td>\n",
       "      <td>BUENO</td>\n",
       "      <td>SECA</td>\n",
       "      <td>OPERANDO</td>\n",
       "      <td>4476077.0</td>\n",
       "      <td>1</td>\n",
       "      <td>0</td>\n",
       "    </tr>\n",
       "    <tr>\n",
       "      <th>2</th>\n",
       "      <td>A000599774</td>\n",
       "      <td>RECTA</td>\n",
       "      <td>PLANO</td>\n",
       "      <td>CON BERMAS</td>\n",
       "      <td>UN SENTIDO</td>\n",
       "      <td>UNA</td>\n",
       "      <td>UNO</td>\n",
       "      <td>ASFALTO</td>\n",
       "      <td>BUENO</td>\n",
       "      <td>SECA</td>\n",
       "      <td>OPERANDO</td>\n",
       "      <td>4476078.0</td>\n",
       "      <td>0</td>\n",
       "      <td>0</td>\n",
       "    </tr>\n",
       "    <tr>\n",
       "      <th>3</th>\n",
       "      <td>A000600115</td>\n",
       "      <td>RECTA</td>\n",
       "      <td>PLANO</td>\n",
       "      <td>CON ANDEN</td>\n",
       "      <td>DOBLE SENTIDO</td>\n",
       "      <td>UNA</td>\n",
       "      <td>TRES O MAS</td>\n",
       "      <td>ASFALTO</td>\n",
       "      <td>BUENO</td>\n",
       "      <td>SECA</td>\n",
       "      <td>OPERANDO</td>\n",
       "      <td>4476084.0</td>\n",
       "      <td>0</td>\n",
       "      <td>0</td>\n",
       "    </tr>\n",
       "    <tr>\n",
       "      <th>4</th>\n",
       "      <td>A000600175</td>\n",
       "      <td>RECTA</td>\n",
       "      <td>PLANO</td>\n",
       "      <td>CON BERMAS</td>\n",
       "      <td>DOBLE SENTIDO</td>\n",
       "      <td>DOS</td>\n",
       "      <td>TRES O MAS</td>\n",
       "      <td>ASFALTO</td>\n",
       "      <td>BUENO</td>\n",
       "      <td>SECA</td>\n",
       "      <td>OPERANDO</td>\n",
       "      <td>4476083.0</td>\n",
       "      <td>1</td>\n",
       "      <td>0</td>\n",
       "    </tr>\n",
       "  </tbody>\n",
       "</table>\n",
       "</div>"
      ],
      "text/plain": [
       "   FORMULARIO GEOMETRICA_A GEOMETRICA_B GEOMETRICA_C    UTILIZACION CALZADAS  \\\n",
       "0  A000600237        RECTA        PLANO   CON BERMAS     UN SENTIDO      UNA   \n",
       "1  A000599427        RECTA        PLANO   CON BERMAS     UN SENTIDO      UNA   \n",
       "2  A000599774        RECTA        PLANO   CON BERMAS     UN SENTIDO      UNA   \n",
       "3  A000600115        RECTA        PLANO    CON ANDEN  DOBLE SENTIDO      UNA   \n",
       "4  A000600175        RECTA        PLANO   CON BERMAS  DOBLE SENTIDO      DOS   \n",
       "\n",
       "     CARRILES MATERIAL ESTADO CONDICIONES  SEMAFORO  CODIGO_ACCIDENTE  \\\n",
       "0         UNO  ASFALTO  BUENO        SECA  OPERANDO         4476074.0   \n",
       "1         DOS  ASFALTO  BUENO        SECA  OPERANDO         4476077.0   \n",
       "2         UNO  ASFALTO  BUENO        SECA  OPERANDO         4476078.0   \n",
       "3  TRES O MAS  ASFALTO  BUENO        SECA  OPERANDO         4476084.0   \n",
       "4  TRES O MAS  ASFALTO  BUENO        SECA  OPERANDO         4476083.0   \n",
       "\n",
       "   ILUMINACION  AGENTE_TRANSITO  \n",
       "0            0                0  \n",
       "1            1                0  \n",
       "2            0                0  \n",
       "3            0                0  \n",
       "4            1                0  "
      ]
     },
     "execution_count": 36,
     "metadata": {},
     "output_type": "execute_result"
    }
   ],
   "source": [
    "via_data.head(5)"
   ]
  },
  {
   "cell_type": "markdown",
   "metadata": {},
   "source": [
    "<b>Traemos la información de las causas del accidente mediante un llamado de API</b>"
   ]
  },
  {
   "cell_type": "code",
   "execution_count": 37,
   "metadata": {},
   "outputs": [
    {
     "name": "stdout",
     "output_type": "stream",
     "text": [
      "Datos obtenidos exitosamente\n"
     ]
    }
   ],
   "source": [
    "# URL de la API\n",
    "url = \"https://sig.simur.gov.co/arcgis/rest/services/Accidentalidad/AccidentalidadAnalisis/FeatureServer/4/query?where=1%3D1&outFields=FORMULARIO,NOMBRE,TIPO_CAUSA,TIPO&outSR=4326&f=json\"\n",
    "\n",
    "# Hacer la solicitud GET\n",
    "response = requests.get(url)\n",
    "\n",
    "# Verificar si la solicitud fue exitosa\n",
    "if response.status_code == 200:\n",
    "    # Convertir la respuesta a JSON\n",
    "    data = response.json()\n",
    "    print(\"Datos obtenidos exitosamente\")"
   ]
  },
  {
   "cell_type": "code",
   "execution_count": 38,
   "metadata": {},
   "outputs": [],
   "source": [
    "features = data.get('features', [])  # Obtener la lista de features\n",
    "rows = []  # Lista para almacenar los datos\n",
    "\n",
    "# Recorrer cada feature y extraer los atributos\n",
    "for feature in features:\n",
    "    attributes = feature.get('attributes', {})  # Obtener el diccionario de atributos\n",
    "    rows.append(attributes)  # Agregar los atributos a la lista"
   ]
  },
  {
   "cell_type": "code",
   "execution_count": 39,
   "metadata": {},
   "outputs": [
    {
     "data": {
      "text/html": [
       "<div>\n",
       "<style scoped>\n",
       "    .dataframe tbody tr th:only-of-type {\n",
       "        vertical-align: middle;\n",
       "    }\n",
       "\n",
       "    .dataframe tbody tr th {\n",
       "        vertical-align: top;\n",
       "    }\n",
       "\n",
       "    .dataframe thead th {\n",
       "        text-align: right;\n",
       "    }\n",
       "</style>\n",
       "<table border=\"1\" class=\"dataframe\">\n",
       "  <thead>\n",
       "    <tr style=\"text-align: right;\">\n",
       "      <th></th>\n",
       "      <th>FORMULARIO</th>\n",
       "      <th>NOMBRE</th>\n",
       "      <th>TIPO_CAUSA</th>\n",
       "      <th>TIPO</th>\n",
       "    </tr>\n",
       "  </thead>\n",
       "  <tbody>\n",
       "    <tr>\n",
       "      <th>0</th>\n",
       "      <td>A001681472</td>\n",
       "      <td>TRANSITAR ENTRE VEHICULOS</td>\n",
       "      <td>CONDUCTOR</td>\n",
       "      <td>CE</td>\n",
       "    </tr>\n",
       "    <tr>\n",
       "      <th>1</th>\n",
       "      <td>A001682291</td>\n",
       "      <td>EMBRIAGUEZ APARENTE</td>\n",
       "      <td>CONDUCTOR</td>\n",
       "      <td>CG</td>\n",
       "    </tr>\n",
       "    <tr>\n",
       "      <th>2</th>\n",
       "      <td>A001682291</td>\n",
       "      <td>NO MANTENER DISTANCIA DE SEGURIDAD</td>\n",
       "      <td>CONDUCTOR</td>\n",
       "      <td>CG</td>\n",
       "    </tr>\n",
       "    <tr>\n",
       "      <th>3</th>\n",
       "      <td>A001682147</td>\n",
       "      <td>ADELANTAR CERRANDO</td>\n",
       "      <td>CONDUCTOR</td>\n",
       "      <td>CG</td>\n",
       "    </tr>\n",
       "    <tr>\n",
       "      <th>4</th>\n",
       "      <td>A001681770</td>\n",
       "      <td>EMBRIAGUEZ O DROGA</td>\n",
       "      <td>CONDUCTOR</td>\n",
       "      <td>CG</td>\n",
       "    </tr>\n",
       "  </tbody>\n",
       "</table>\n",
       "</div>"
      ],
      "text/plain": [
       "   FORMULARIO                              NOMBRE TIPO_CAUSA TIPO\n",
       "0  A001681472           TRANSITAR ENTRE VEHICULOS  CONDUCTOR   CE\n",
       "1  A001682291                 EMBRIAGUEZ APARENTE  CONDUCTOR   CG\n",
       "2  A001682291  NO MANTENER DISTANCIA DE SEGURIDAD  CONDUCTOR   CG\n",
       "3  A001682147                  ADELANTAR CERRANDO  CONDUCTOR   CG\n",
       "4  A001681770                  EMBRIAGUEZ O DROGA  CONDUCTOR   CG"
      ]
     },
     "execution_count": 39,
     "metadata": {},
     "output_type": "execute_result"
    }
   ],
   "source": [
    "causa_data = pd.DataFrame(rows)\n",
    "causa_data.head()"
   ]
  },
  {
   "cell_type": "code",
   "execution_count": 40,
   "metadata": {},
   "outputs": [
    {
     "name": "stdout",
     "output_type": "stream",
     "text": [
      "<class 'pandas.core.frame.DataFrame'>\n",
      "RangeIndex: 2000 entries, 0 to 1999\n",
      "Data columns (total 4 columns):\n",
      " #   Column      Non-Null Count  Dtype \n",
      "---  ------      --------------  ----- \n",
      " 0   FORMULARIO  2000 non-null   object\n",
      " 1   NOMBRE      2000 non-null   object\n",
      " 2   TIPO_CAUSA  2000 non-null   object\n",
      " 3   TIPO        2000 non-null   object\n",
      "dtypes: object(4)\n",
      "memory usage: 62.6+ KB\n"
     ]
    }
   ],
   "source": [
    "causa_data.info()"
   ]
  },
  {
   "cell_type": "code",
   "execution_count": 41,
   "metadata": {},
   "outputs": [
    {
     "data": {
      "text/plain": [
       "TIPO_CAUSA\n",
       "CONDUCTOR    1869\n",
       "PEATON         79\n",
       "VIA            23\n",
       "PASAJERO       19\n",
       "VEHICULO       10\n",
       "Name: count, dtype: int64"
      ]
     },
     "execution_count": 41,
     "metadata": {},
     "output_type": "execute_result"
    }
   ],
   "source": [
    "causa_data[\"TIPO_CAUSA\"].value_counts()"
   ]
  },
  {
   "cell_type": "code",
   "execution_count": 42,
   "metadata": {},
   "outputs": [
    {
     "data": {
      "text/plain": [
       "TIPO\n",
       "CG    1837\n",
       "PE      79\n",
       "CE      32\n",
       "VI      23\n",
       "PA      19\n",
       "VH      10\n",
       "Name: count, dtype: int64"
      ]
     },
     "execution_count": 42,
     "metadata": {},
     "output_type": "execute_result"
    }
   ],
   "source": [
    "causa_data[\"TIPO\"].value_counts()"
   ]
  },
  {
   "cell_type": "markdown",
   "metadata": {},
   "source": [
    "<b>Traemos la información del actor del accidente mediante un llamado de API</b>"
   ]
  },
  {
   "cell_type": "code",
   "execution_count": 43,
   "metadata": {},
   "outputs": [
    {
     "name": "stdout",
     "output_type": "stream",
     "text": [
      "Datos obtenidos exitosamente\n"
     ]
    }
   ],
   "source": [
    "# URL de la API\n",
    "url = \"https://sig.simur.gov.co/arcgis/rest/services/Accidentalidad/AccidentalidadAnalisis/FeatureServer/3/query?where=1%3D1&outFields=FORMULARIO,CONDICION,ESTADO,MUERTE_POSTERIOR,GENERO,EDAD&outSR=4326&f=json\"\n",
    "\n",
    "# Hacer la solicitud GET\n",
    "response = requests.get(url)\n",
    "\n",
    "# Verificar si la solicitud fue exitosa\n",
    "if response.status_code == 200:\n",
    "    # Convertir la respuesta a JSON\n",
    "    data = response.json()\n",
    "    print(\"Datos obtenidos exitosamente\")"
   ]
  },
  {
   "cell_type": "code",
   "execution_count": 44,
   "metadata": {},
   "outputs": [],
   "source": [
    "features = data.get('features', [])  # Obtener la lista de features\n",
    "rows = []  # Lista para almacenar los datos\n",
    "\n",
    "# Recorrer cada feature y extraer los atributos\n",
    "for feature in features:\n",
    "    attributes = feature.get('attributes', {})  # Obtener el diccionario de atributos\n",
    "    rows.append(attributes)  # Agregar los atributos a la lista"
   ]
  },
  {
   "cell_type": "code",
   "execution_count": 45,
   "metadata": {},
   "outputs": [
    {
     "data": {
      "text/html": [
       "<div>\n",
       "<style scoped>\n",
       "    .dataframe tbody tr th:only-of-type {\n",
       "        vertical-align: middle;\n",
       "    }\n",
       "\n",
       "    .dataframe tbody tr th {\n",
       "        vertical-align: top;\n",
       "    }\n",
       "\n",
       "    .dataframe thead th {\n",
       "        text-align: right;\n",
       "    }\n",
       "</style>\n",
       "<table border=\"1\" class=\"dataframe\">\n",
       "  <thead>\n",
       "    <tr style=\"text-align: right;\">\n",
       "      <th></th>\n",
       "      <th>FORMULARIO</th>\n",
       "      <th>CONDICION</th>\n",
       "      <th>ESTADO</th>\n",
       "      <th>MUERTE_POSTERIOR</th>\n",
       "      <th>GENERO</th>\n",
       "      <th>EDAD</th>\n",
       "    </tr>\n",
       "  </thead>\n",
       "  <tbody>\n",
       "    <tr>\n",
       "      <th>0</th>\n",
       "      <td>A001682285</td>\n",
       "      <td>MOTOCICLISTA</td>\n",
       "      <td>ILESO</td>\n",
       "      <td>N</td>\n",
       "      <td>FEMENINO</td>\n",
       "      <td>22.0</td>\n",
       "    </tr>\n",
       "    <tr>\n",
       "      <th>1</th>\n",
       "      <td>A001681999</td>\n",
       "      <td>CONDUCTOR</td>\n",
       "      <td>ILESO</td>\n",
       "      <td>N</td>\n",
       "      <td>FEMENINO</td>\n",
       "      <td>25.0</td>\n",
       "    </tr>\n",
       "    <tr>\n",
       "      <th>2</th>\n",
       "      <td>A001681999</td>\n",
       "      <td>MOTOCICLISTA</td>\n",
       "      <td>HERIDO</td>\n",
       "      <td>N</td>\n",
       "      <td>MASCULINO</td>\n",
       "      <td>27.0</td>\n",
       "    </tr>\n",
       "    <tr>\n",
       "      <th>3</th>\n",
       "      <td>A001681844</td>\n",
       "      <td>CONDUCTOR</td>\n",
       "      <td>ILESO</td>\n",
       "      <td>N</td>\n",
       "      <td>None</td>\n",
       "      <td>NaN</td>\n",
       "    </tr>\n",
       "    <tr>\n",
       "      <th>4</th>\n",
       "      <td>A001681844</td>\n",
       "      <td>MOTOCICLISTA</td>\n",
       "      <td>HERIDO</td>\n",
       "      <td>N</td>\n",
       "      <td>MASCULINO</td>\n",
       "      <td>30.0</td>\n",
       "    </tr>\n",
       "  </tbody>\n",
       "</table>\n",
       "</div>"
      ],
      "text/plain": [
       "   FORMULARIO     CONDICION  ESTADO MUERTE_POSTERIOR     GENERO  EDAD\n",
       "0  A001682285  MOTOCICLISTA   ILESO                N   FEMENINO  22.0\n",
       "1  A001681999     CONDUCTOR   ILESO                N   FEMENINO  25.0\n",
       "2  A001681999  MOTOCICLISTA  HERIDO                N  MASCULINO  27.0\n",
       "3  A001681844     CONDUCTOR   ILESO                N       None   NaN\n",
       "4  A001681844  MOTOCICLISTA  HERIDO                N  MASCULINO  30.0"
      ]
     },
     "execution_count": 45,
     "metadata": {},
     "output_type": "execute_result"
    }
   ],
   "source": [
    "actor_data = pd.DataFrame(rows)\n",
    "actor_data.head(5)"
   ]
  },
  {
   "cell_type": "code",
   "execution_count": 46,
   "metadata": {},
   "outputs": [
    {
     "name": "stdout",
     "output_type": "stream",
     "text": [
      "<class 'pandas.core.frame.DataFrame'>\n",
      "RangeIndex: 2000 entries, 0 to 1999\n",
      "Data columns (total 6 columns):\n",
      " #   Column            Non-Null Count  Dtype  \n",
      "---  ------            --------------  -----  \n",
      " 0   FORMULARIO        2000 non-null   object \n",
      " 1   CONDICION         1999 non-null   object \n",
      " 2   ESTADO            1999 non-null   object \n",
      " 3   MUERTE_POSTERIOR  2000 non-null   object \n",
      " 4   GENERO            1931 non-null   object \n",
      " 5   EDAD              1932 non-null   float64\n",
      "dtypes: float64(1), object(5)\n",
      "memory usage: 93.9+ KB\n"
     ]
    }
   ],
   "source": [
    "actor_data.info()"
   ]
  },
  {
   "cell_type": "code",
   "execution_count": 47,
   "metadata": {},
   "outputs": [
    {
     "data": {
      "text/plain": [
       "FORMULARIO           0\n",
       "CONDICION            1\n",
       "ESTADO               1\n",
       "MUERTE_POSTERIOR     0\n",
       "GENERO              69\n",
       "EDAD                68\n",
       "dtype: int64"
      ]
     },
     "execution_count": 47,
     "metadata": {},
     "output_type": "execute_result"
    }
   ],
   "source": [
    "actor_data.isna().sum()"
   ]
  },
  {
   "cell_type": "code",
   "execution_count": 48,
   "metadata": {},
   "outputs": [],
   "source": [
    "# Reemplazar cadenas vacías o espacios con NaN\n",
    "actor_data.replace([\"\", \"SIN INFORMACION\",\" \", \"NaN\", \"null\"], np.nan, inplace=True)\n",
    "\n",
    "# Ahora aplicar dropna()\n",
    "actor_data.dropna(inplace=True)"
   ]
  },
  {
   "cell_type": "code",
   "execution_count": 49,
   "metadata": {},
   "outputs": [
    {
     "name": "stdout",
     "output_type": "stream",
     "text": [
      "<class 'pandas.core.frame.DataFrame'>\n",
      "Index: 1930 entries, 0 to 1999\n",
      "Data columns (total 6 columns):\n",
      " #   Column            Non-Null Count  Dtype  \n",
      "---  ------            --------------  -----  \n",
      " 0   FORMULARIO        1930 non-null   object \n",
      " 1   CONDICION         1930 non-null   object \n",
      " 2   ESTADO            1930 non-null   object \n",
      " 3   MUERTE_POSTERIOR  1930 non-null   object \n",
      " 4   GENERO            1930 non-null   object \n",
      " 5   EDAD              1930 non-null   float64\n",
      "dtypes: float64(1), object(5)\n",
      "memory usage: 105.5+ KB\n"
     ]
    }
   ],
   "source": [
    "actor_data.info()"
   ]
  },
  {
   "cell_type": "code",
   "execution_count": 50,
   "metadata": {},
   "outputs": [
    {
     "data": {
      "text/plain": [
       "ESTADO\n",
       "HERIDO    1253\n",
       "ILESO      640\n",
       "MUERTO      37\n",
       "Name: count, dtype: int64"
      ]
     },
     "execution_count": 50,
     "metadata": {},
     "output_type": "execute_result"
    }
   ],
   "source": [
    "actor_data[\"ESTADO\"].value_counts()"
   ]
  },
  {
   "cell_type": "code",
   "execution_count": 51,
   "metadata": {},
   "outputs": [
    {
     "data": {
      "text/plain": [
       "GENERO\n",
       "MASCULINO    1442\n",
       "FEMENINO      488\n",
       "Name: count, dtype: int64"
      ]
     },
     "execution_count": 51,
     "metadata": {},
     "output_type": "execute_result"
    }
   ],
   "source": [
    "actor_data[\"GENERO\"].value_counts()"
   ]
  },
  {
   "cell_type": "code",
   "execution_count": 52,
   "metadata": {},
   "outputs": [
    {
     "data": {
      "text/plain": [
       "MUERTE_POSTERIOR\n",
       "N    1913\n",
       "S      17\n",
       "Name: count, dtype: int64"
      ]
     },
     "execution_count": 52,
     "metadata": {},
     "output_type": "execute_result"
    }
   ],
   "source": [
    "actor_data[\"MUERTE_POSTERIOR\"].value_counts()   "
   ]
  },
  {
   "cell_type": "code",
   "execution_count": 53,
   "metadata": {},
   "outputs": [
    {
     "data": {
      "text/html": [
       "<div>\n",
       "<style scoped>\n",
       "    .dataframe tbody tr th:only-of-type {\n",
       "        vertical-align: middle;\n",
       "    }\n",
       "\n",
       "    .dataframe tbody tr th {\n",
       "        vertical-align: top;\n",
       "    }\n",
       "\n",
       "    .dataframe thead th {\n",
       "        text-align: right;\n",
       "    }\n",
       "</style>\n",
       "<table border=\"1\" class=\"dataframe\">\n",
       "  <thead>\n",
       "    <tr style=\"text-align: right;\">\n",
       "      <th></th>\n",
       "      <th>FEMENINO</th>\n",
       "      <th>MASCULINO</th>\n",
       "    </tr>\n",
       "  </thead>\n",
       "  <tbody>\n",
       "    <tr>\n",
       "      <th>0</th>\n",
       "      <td>1</td>\n",
       "      <td>0</td>\n",
       "    </tr>\n",
       "    <tr>\n",
       "      <th>1</th>\n",
       "      <td>1</td>\n",
       "      <td>0</td>\n",
       "    </tr>\n",
       "    <tr>\n",
       "      <th>2</th>\n",
       "      <td>0</td>\n",
       "      <td>1</td>\n",
       "    </tr>\n",
       "    <tr>\n",
       "      <th>4</th>\n",
       "      <td>0</td>\n",
       "      <td>1</td>\n",
       "    </tr>\n",
       "    <tr>\n",
       "      <th>5</th>\n",
       "      <td>0</td>\n",
       "      <td>1</td>\n",
       "    </tr>\n",
       "    <tr>\n",
       "      <th>...</th>\n",
       "      <td>...</td>\n",
       "      <td>...</td>\n",
       "    </tr>\n",
       "    <tr>\n",
       "      <th>1995</th>\n",
       "      <td>0</td>\n",
       "      <td>1</td>\n",
       "    </tr>\n",
       "    <tr>\n",
       "      <th>1996</th>\n",
       "      <td>0</td>\n",
       "      <td>1</td>\n",
       "    </tr>\n",
       "    <tr>\n",
       "      <th>1997</th>\n",
       "      <td>0</td>\n",
       "      <td>1</td>\n",
       "    </tr>\n",
       "    <tr>\n",
       "      <th>1998</th>\n",
       "      <td>1</td>\n",
       "      <td>0</td>\n",
       "    </tr>\n",
       "    <tr>\n",
       "      <th>1999</th>\n",
       "      <td>0</td>\n",
       "      <td>1</td>\n",
       "    </tr>\n",
       "  </tbody>\n",
       "</table>\n",
       "<p>1930 rows × 2 columns</p>\n",
       "</div>"
      ],
      "text/plain": [
       "      FEMENINO  MASCULINO\n",
       "0            1          0\n",
       "1            1          0\n",
       "2            0          1\n",
       "4            0          1\n",
       "5            0          1\n",
       "...        ...        ...\n",
       "1995         0          1\n",
       "1996         0          1\n",
       "1997         0          1\n",
       "1998         1          0\n",
       "1999         0          1\n",
       "\n",
       "[1930 rows x 2 columns]"
      ]
     },
     "execution_count": 53,
     "metadata": {},
     "output_type": "execute_result"
    }
   ],
   "source": [
    "# Para la variable MUERTE_POSTERIOR y GENERO, podemos crear dummies. \n",
    "# tal que el 1 indique si y el 0 indique no en el caso de Muerte Posterior y\n",
    "# y el 1 indique Femenino y el 0 indique masculino en el caso de Género\n",
    "dummies_genero = pd.get_dummies(actor_data[\"GENERO\"],dtype=int)\n",
    "dummies_genero"
   ]
  },
  {
   "cell_type": "code",
   "execution_count": 54,
   "metadata": {},
   "outputs": [],
   "source": [
    "actor_data = actor_data.join(dummies_genero)\n",
    "actor_data.drop(\"GENERO\", axis=1, inplace=True)\n",
    "\n",
    "actor_data.drop(\"MASCULINO\", axis=1, inplace=True)\n",
    "actor_data.rename(columns={\"FEMENINO\": \"GENERO\"}, inplace=True)"
   ]
  },
  {
   "cell_type": "code",
   "execution_count": 55,
   "metadata": {},
   "outputs": [
    {
     "data": {
      "text/html": [
       "<div>\n",
       "<style scoped>\n",
       "    .dataframe tbody tr th:only-of-type {\n",
       "        vertical-align: middle;\n",
       "    }\n",
       "\n",
       "    .dataframe tbody tr th {\n",
       "        vertical-align: top;\n",
       "    }\n",
       "\n",
       "    .dataframe thead th {\n",
       "        text-align: right;\n",
       "    }\n",
       "</style>\n",
       "<table border=\"1\" class=\"dataframe\">\n",
       "  <thead>\n",
       "    <tr style=\"text-align: right;\">\n",
       "      <th></th>\n",
       "      <th>FORMULARIO</th>\n",
       "      <th>CONDICION</th>\n",
       "      <th>ESTADO</th>\n",
       "      <th>MUERTE_POSTERIOR</th>\n",
       "      <th>EDAD</th>\n",
       "      <th>GENERO</th>\n",
       "    </tr>\n",
       "  </thead>\n",
       "  <tbody>\n",
       "    <tr>\n",
       "      <th>0</th>\n",
       "      <td>A001682285</td>\n",
       "      <td>MOTOCICLISTA</td>\n",
       "      <td>ILESO</td>\n",
       "      <td>N</td>\n",
       "      <td>22.0</td>\n",
       "      <td>1</td>\n",
       "    </tr>\n",
       "    <tr>\n",
       "      <th>1</th>\n",
       "      <td>A001681999</td>\n",
       "      <td>CONDUCTOR</td>\n",
       "      <td>ILESO</td>\n",
       "      <td>N</td>\n",
       "      <td>25.0</td>\n",
       "      <td>1</td>\n",
       "    </tr>\n",
       "    <tr>\n",
       "      <th>2</th>\n",
       "      <td>A001681999</td>\n",
       "      <td>MOTOCICLISTA</td>\n",
       "      <td>HERIDO</td>\n",
       "      <td>N</td>\n",
       "      <td>27.0</td>\n",
       "      <td>0</td>\n",
       "    </tr>\n",
       "    <tr>\n",
       "      <th>4</th>\n",
       "      <td>A001681844</td>\n",
       "      <td>MOTOCICLISTA</td>\n",
       "      <td>HERIDO</td>\n",
       "      <td>N</td>\n",
       "      <td>30.0</td>\n",
       "      <td>0</td>\n",
       "    </tr>\n",
       "    <tr>\n",
       "      <th>5</th>\n",
       "      <td>A001681835</td>\n",
       "      <td>MOTOCICLISTA</td>\n",
       "      <td>HERIDO</td>\n",
       "      <td>N</td>\n",
       "      <td>17.0</td>\n",
       "      <td>0</td>\n",
       "    </tr>\n",
       "  </tbody>\n",
       "</table>\n",
       "</div>"
      ],
      "text/plain": [
       "   FORMULARIO     CONDICION  ESTADO MUERTE_POSTERIOR  EDAD  GENERO\n",
       "0  A001682285  MOTOCICLISTA   ILESO                N  22.0       1\n",
       "1  A001681999     CONDUCTOR   ILESO                N  25.0       1\n",
       "2  A001681999  MOTOCICLISTA  HERIDO                N  27.0       0\n",
       "4  A001681844  MOTOCICLISTA  HERIDO                N  30.0       0\n",
       "5  A001681835  MOTOCICLISTA  HERIDO                N  17.0       0"
      ]
     },
     "execution_count": 55,
     "metadata": {},
     "output_type": "execute_result"
    }
   ],
   "source": [
    "actor_data.head()"
   ]
  },
  {
   "cell_type": "code",
   "execution_count": 56,
   "metadata": {},
   "outputs": [
    {
     "data": {
      "text/html": [
       "<div>\n",
       "<style scoped>\n",
       "    .dataframe tbody tr th:only-of-type {\n",
       "        vertical-align: middle;\n",
       "    }\n",
       "\n",
       "    .dataframe tbody tr th {\n",
       "        vertical-align: top;\n",
       "    }\n",
       "\n",
       "    .dataframe thead th {\n",
       "        text-align: right;\n",
       "    }\n",
       "</style>\n",
       "<table border=\"1\" class=\"dataframe\">\n",
       "  <thead>\n",
       "    <tr style=\"text-align: right;\">\n",
       "      <th></th>\n",
       "      <th>N</th>\n",
       "      <th>S</th>\n",
       "    </tr>\n",
       "  </thead>\n",
       "  <tbody>\n",
       "    <tr>\n",
       "      <th>0</th>\n",
       "      <td>1</td>\n",
       "      <td>0</td>\n",
       "    </tr>\n",
       "    <tr>\n",
       "      <th>1</th>\n",
       "      <td>1</td>\n",
       "      <td>0</td>\n",
       "    </tr>\n",
       "    <tr>\n",
       "      <th>2</th>\n",
       "      <td>1</td>\n",
       "      <td>0</td>\n",
       "    </tr>\n",
       "    <tr>\n",
       "      <th>4</th>\n",
       "      <td>1</td>\n",
       "      <td>0</td>\n",
       "    </tr>\n",
       "    <tr>\n",
       "      <th>5</th>\n",
       "      <td>1</td>\n",
       "      <td>0</td>\n",
       "    </tr>\n",
       "    <tr>\n",
       "      <th>...</th>\n",
       "      <td>...</td>\n",
       "      <td>...</td>\n",
       "    </tr>\n",
       "    <tr>\n",
       "      <th>1995</th>\n",
       "      <td>1</td>\n",
       "      <td>0</td>\n",
       "    </tr>\n",
       "    <tr>\n",
       "      <th>1996</th>\n",
       "      <td>1</td>\n",
       "      <td>0</td>\n",
       "    </tr>\n",
       "    <tr>\n",
       "      <th>1997</th>\n",
       "      <td>1</td>\n",
       "      <td>0</td>\n",
       "    </tr>\n",
       "    <tr>\n",
       "      <th>1998</th>\n",
       "      <td>1</td>\n",
       "      <td>0</td>\n",
       "    </tr>\n",
       "    <tr>\n",
       "      <th>1999</th>\n",
       "      <td>1</td>\n",
       "      <td>0</td>\n",
       "    </tr>\n",
       "  </tbody>\n",
       "</table>\n",
       "<p>1930 rows × 2 columns</p>\n",
       "</div>"
      ],
      "text/plain": [
       "      N  S\n",
       "0     1  0\n",
       "1     1  0\n",
       "2     1  0\n",
       "4     1  0\n",
       "5     1  0\n",
       "...  .. ..\n",
       "1995  1  0\n",
       "1996  1  0\n",
       "1997  1  0\n",
       "1998  1  0\n",
       "1999  1  0\n",
       "\n",
       "[1930 rows x 2 columns]"
      ]
     },
     "execution_count": 56,
     "metadata": {},
     "output_type": "execute_result"
    }
   ],
   "source": [
    "dummies_muertePosterior = pd.get_dummies(actor_data[\"MUERTE_POSTERIOR\"],dtype=int)\n",
    "dummies_muertePosterior"
   ]
  },
  {
   "cell_type": "code",
   "execution_count": 57,
   "metadata": {},
   "outputs": [],
   "source": [
    "actor_data = actor_data.join(dummies_muertePosterior)\n",
    "actor_data.drop(\"MUERTE_POSTERIOR\", axis=1, inplace=True)\n",
    "\n",
    "actor_data.drop(\"N\", axis=1, inplace=True)\n",
    "actor_data.rename(columns={\"S\": \"MUERTE_POSTERIOR\"}, inplace=True)"
   ]
  },
  {
   "cell_type": "code",
   "execution_count": 58,
   "metadata": {},
   "outputs": [
    {
     "data": {
      "text/html": [
       "<div>\n",
       "<style scoped>\n",
       "    .dataframe tbody tr th:only-of-type {\n",
       "        vertical-align: middle;\n",
       "    }\n",
       "\n",
       "    .dataframe tbody tr th {\n",
       "        vertical-align: top;\n",
       "    }\n",
       "\n",
       "    .dataframe thead th {\n",
       "        text-align: right;\n",
       "    }\n",
       "</style>\n",
       "<table border=\"1\" class=\"dataframe\">\n",
       "  <thead>\n",
       "    <tr style=\"text-align: right;\">\n",
       "      <th></th>\n",
       "      <th>FORMULARIO</th>\n",
       "      <th>CONDICION</th>\n",
       "      <th>ESTADO</th>\n",
       "      <th>EDAD</th>\n",
       "      <th>GENERO</th>\n",
       "      <th>MUERTE_POSTERIOR</th>\n",
       "    </tr>\n",
       "  </thead>\n",
       "  <tbody>\n",
       "    <tr>\n",
       "      <th>0</th>\n",
       "      <td>A001682285</td>\n",
       "      <td>MOTOCICLISTA</td>\n",
       "      <td>ILESO</td>\n",
       "      <td>22.0</td>\n",
       "      <td>1</td>\n",
       "      <td>0</td>\n",
       "    </tr>\n",
       "    <tr>\n",
       "      <th>1</th>\n",
       "      <td>A001681999</td>\n",
       "      <td>CONDUCTOR</td>\n",
       "      <td>ILESO</td>\n",
       "      <td>25.0</td>\n",
       "      <td>1</td>\n",
       "      <td>0</td>\n",
       "    </tr>\n",
       "    <tr>\n",
       "      <th>2</th>\n",
       "      <td>A001681999</td>\n",
       "      <td>MOTOCICLISTA</td>\n",
       "      <td>HERIDO</td>\n",
       "      <td>27.0</td>\n",
       "      <td>0</td>\n",
       "      <td>0</td>\n",
       "    </tr>\n",
       "    <tr>\n",
       "      <th>4</th>\n",
       "      <td>A001681844</td>\n",
       "      <td>MOTOCICLISTA</td>\n",
       "      <td>HERIDO</td>\n",
       "      <td>30.0</td>\n",
       "      <td>0</td>\n",
       "      <td>0</td>\n",
       "    </tr>\n",
       "    <tr>\n",
       "      <th>5</th>\n",
       "      <td>A001681835</td>\n",
       "      <td>MOTOCICLISTA</td>\n",
       "      <td>HERIDO</td>\n",
       "      <td>17.0</td>\n",
       "      <td>0</td>\n",
       "      <td>0</td>\n",
       "    </tr>\n",
       "  </tbody>\n",
       "</table>\n",
       "</div>"
      ],
      "text/plain": [
       "   FORMULARIO     CONDICION  ESTADO  EDAD  GENERO  MUERTE_POSTERIOR\n",
       "0  A001682285  MOTOCICLISTA   ILESO  22.0       1                 0\n",
       "1  A001681999     CONDUCTOR   ILESO  25.0       1                 0\n",
       "2  A001681999  MOTOCICLISTA  HERIDO  27.0       0                 0\n",
       "4  A001681844  MOTOCICLISTA  HERIDO  30.0       0                 0\n",
       "5  A001681835  MOTOCICLISTA  HERIDO  17.0       0                 0"
      ]
     },
     "execution_count": 58,
     "metadata": {},
     "output_type": "execute_result"
    }
   ],
   "source": [
    "actor_data.head()"
   ]
  }
 ],
 "metadata": {
  "kernelspec": {
   "display_name": ".venv",
   "language": "python",
   "name": "python3"
  },
  "language_info": {
   "codemirror_mode": {
    "name": "ipython",
    "version": 3
   },
   "file_extension": ".py",
   "mimetype": "text/x-python",
   "name": "python",
   "nbconvert_exporter": "python",
   "pygments_lexer": "ipython3",
   "version": "3.12.9"
  }
 },
 "nbformat": 4,
 "nbformat_minor": 2
}
